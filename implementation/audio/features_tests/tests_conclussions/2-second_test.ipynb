{
 "cells": [
  {
   "cell_type": "code",
   "execution_count": null,
   "metadata": {},
   "outputs": [],
   "source": []
  },
  {
   "cell_type": "code",
   "execution_count": null,
   "metadata": {},
   "outputs": [],
   "source": []
  },
  {
   "cell_type": "code",
   "execution_count": 1,
   "metadata": {},
   "outputs": [],
   "source": [
    "import os\n",
    "import librosa\n",
    "import librosa.display\n",
    "import IPython.display as ipd\n",
    "import numpy as np\n",
    "import matplotlib.pyplot as plt\n",
    "from scipy.signal import butter, filtfilt\n",
    "from scipy.spatial.distance import pdist, cdist\n",
    "from mpl_toolkits.mplot3d import Axes3D\n",
    "import soundfile as sf\n",
    "from prettytable import PrettyTable\n",
    "from scipy.signal import hilbert\n",
    "import numpy as np\n",
    "from sklearn.decomposition import PCA\n",
    "from sklearn.model_selection import train_test_split\n",
    "from sklearn.neighbors import KNeighborsClassifier\n",
    "from sklearn.metrics import accuracy_score\n",
    "from scipy.signal import hilbert, butter, filtfilt"
   ]
  },
  {
   "attachments": {},
   "cell_type": "markdown",
   "metadata": {},
   "source": [
    "**DICCIONARIOS CON LAS RUTAS**"
   ]
  },
  {
   "cell_type": "code",
   "execution_count": 2,
   "metadata": {},
   "outputs": [],
   "source": [
    "fruit_types = ['pera', 'banana', 'manzana', 'naranja']\n",
    "fruits = {fruit: [] for fruit in fruit_types}\n",
    "root_dir = '../../dataset'\n",
    "\n",
    "for dirname, _, filenames in os.walk(root_dir):\n",
    "    fruit_type = os.path.basename(dirname)\n",
    "    if fruit_type in fruit_types:\n",
    "        fruits[fruit_type].extend([os.path.join(dirname, filename) for filename in filenames if filename.endswith('.wav')])"
   ]
  },
  {
   "cell_type": "code",
   "execution_count": 290,
   "metadata": {},
   "outputs": [],
   "source": [
    "trimed_audio = {fruit: [] for fruit in fruit_types}\n",
    "for dirname, _, filenames in os.walk(root_dir):\n",
    "    trimpath = os.path.basename(dirname)\n",
    "\n",
    "    if trimpath in 'trimed':\n",
    "        fruit_type = os.path.basename(os.path.dirname(dirname))\n",
    "        if fruit_type in fruit_types:\n",
    "            trimed_audio[fruit_type].extend([os.path.join(dirname, filename) for filename in filenames if filename.endswith('.wav')])"
   ]
  },
  {
   "cell_type": "code",
   "execution_count": 289,
   "metadata": {},
   "outputs": [],
   "source": [
    "adjusted_audio = {fruit: [] for fruit in fruit_types}\n",
    "for dirname, _, filenames in os.walk(root_dir):\n",
    "    adjustedpath = os.path.basename(dirname)\n",
    "\n",
    "    if adjustedpath in 'adjusted':\n",
    "        fruit_type = os.path.basename(os.path.dirname(dirname))\n",
    "        if fruit_type in fruit_types:\n",
    "            adjusted_audio[fruit_type].extend([os.path.join(dirname, filename) for filename in filenames if filename.endswith('.wav')])"
   ]
  },
  {
   "cell_type": "code",
   "execution_count": 3,
   "metadata": {},
   "outputs": [],
   "source": [
    "processed = {fruit: [] for fruit in fruit_types}\n",
    "\n",
    "for dirname, _, filenames in os.walk(root_dir):\n",
    "    path = os.path.basename(dirname)\n",
    "    if path == 'processed':\n",
    "        fruit_type = os.path.basename(os.path.dirname(dirname))\n",
    "        if fruit_type in fruit_types:\n",
    "            processed[fruit_type].extend([os.path.join(dirname, filename) for filename in filenames if filename.endswith('.wav')])"
   ]
  },
  {
   "attachments": {},
   "cell_type": "markdown",
   "metadata": {},
   "source": [
    "**CARACTERISTICAS DEL AUDIO**"
   ]
  },
  {
   "cell_type": "code",
   "execution_count": 5,
   "metadata": {},
   "outputs": [],
   "source": [
    "FRAME_SIZE = 512 # In the documentation says it's convenient for speech.C\n",
    "HOP_SIZE   = int(FRAME_SIZE/2)"
   ]
  },
  {
   "attachments": {},
   "cell_type": "markdown",
   "metadata": {},
   "source": [
    "**FUNCIONES**"
   ]
  },
  {
   "cell_type": "code",
   "execution_count": 6,
   "metadata": {},
   "outputs": [],
   "source": [
    "def load_audio(audiofile):\n",
    "    test_audio, sr = librosa.load(audiofile, sr = None)\n",
    "    duration = librosa.get_duration(filename=audiofile, sr=sr)\n",
    "    return test_audio, sr, duration"
   ]
  },
  {
   "cell_type": "code",
   "execution_count": 7,
   "metadata": {},
   "outputs": [],
   "source": [
    "def calculate_smoothed_envelope(signal, sr, cutoff_frequency = 10.0):\n",
    "    analytic_signal = hilbert(signal)\n",
    "\n",
    "    # Calcular la envolvente de amplitud\n",
    "    amplitude_envelope = np.abs(analytic_signal)\n",
    "\n",
    "    # Aplicar filtro pasa bajos para suavizar la envolvente\n",
    "    nyquist = 0.5 * sr\n",
    "    cutoff = cutoff_frequency / nyquist\n",
    "    b, a = butter(N=6, Wn=cutoff, btype='low', analog=False, output='ba')\n",
    "    \n",
    "    smoothed_envelope = filtfilt(b, a, amplitude_envelope)\n",
    "\n",
    "    return amplitude_envelope, smoothed_envelope"
   ]
  },
  {
   "cell_type": "code",
   "execution_count": 42,
   "metadata": {},
   "outputs": [],
   "source": [
    "def get_features(n_mfcc, fruits):\n",
    "    fruit_vectors = dict.fromkeys(fruits.keys())\n",
    "    \n",
    "    for fruit_name, group in fruits.items():\n",
    "        vectors = list()\n",
    "        for fruit in group:\n",
    "            signal, sr, _ = load_audio(fruit)\n",
    "\n",
    "            mfccs = librosa.feature.mfcc(y=signal, n_mfcc=n_mfcc, sr=sr)\n",
    "            delta_mfccs = librosa.feature.delta(mfccs)\n",
    "            delta2_mfccs = librosa.feature.delta(mfccs, order = 2)\n",
    "            \n",
    "            _, smoothed_envelope = calculate_smoothed_envelope(signal, sr, 65)\n",
    "\n",
    "            selected_indices = np.linspace(0, len(smoothed_envelope) - 1, n_mfcc, dtype=int)\n",
    "            smoothed_envelope = smoothed_envelope[selected_indices]\n",
    "            smoothed_envelope = smoothed_envelope.reshape(-1,1)\n",
    "\n",
    "            smoothed_envelope = smoothed_envelope /np.max(np.linalg.norm(smoothed_envelope , axis=0))\n",
    "            mfccs = mfccs/np.max(np.linalg.norm(mfccs, axis=0))\n",
    "            delta_mfccs  = delta_mfccs/np.max(np.linalg.norm(delta_mfccs, axis=0))\n",
    "            delta2_mfccs = delta2_mfccs/np.max(np.linalg.norm(delta2_mfccs, axis=0))\n",
    "\n",
    "            #features =  np.concatenate((delta_mfccs), axis = 1)\n",
    "            features = delta2_mfccs\n",
    "            features = np.mean(features.T, axis = 0)\n",
    "            vectors.append(features.reshape(1,-1))\n",
    "            \n",
    "        fruit_vectors[fruit_name] = np.vstack(vectors)\n",
    "    return fruit_vectors"
   ]
  },
  {
   "attachments": {},
   "cell_type": "markdown",
   "metadata": {},
   "source": [
    "los que mas producen diferencia de forma individual son:\n",
    "- el delta\n",
    "- el smoothed(las componentes 4 y 5 cuando son 13 nmfccs)\n",
    "- el cmoothed separa muy bien las manzanas, agrupa ien las bananas y en general anda bien\n",
    "- el deltamfccs separa bien a las peras de lo demas\n",
    "- Se vio que la envolvente es la que mejor resultados da, el problema es que solamente cuando el audio esta trimeado"
   ]
  },
  {
   "cell_type": "code",
   "execution_count": 10,
   "metadata": {},
   "outputs": [],
   "source": [
    "def get_sphere(vectors):\n",
    "    center = np.mean(vectors, axis = 0)\n",
    "    center = center.reshape(1, -1)\n",
    "    radius = cdist(center, vectors).max()     # Pairwise distance\n",
    "    return radius, center"
   ]
  },
  {
   "cell_type": "code",
   "execution_count": 11,
   "metadata": {},
   "outputs": [],
   "source": [
    "def get_centers(features):\n",
    "    centers = dict.fromkeys(features.keys())\n",
    "    for fruit, group in features.items():\n",
    "        _, center = get_sphere(group)\n",
    "        centers[fruit] = center\n",
    "    return centers"
   ]
  },
  {
   "cell_type": "code",
   "execution_count": 12,
   "metadata": {},
   "outputs": [],
   "source": [
    "def get_radiuses(features):\n",
    "    radiuses = dict.fromkeys(features.keys())\n",
    "    for fruit, group in features.items():\n",
    "        radius, _ = get_sphere(group)\n",
    "        radiuses[fruit] = radius\n",
    "    return radiuses"
   ]
  },
  {
   "cell_type": "code",
   "execution_count": 13,
   "metadata": {},
   "outputs": [],
   "source": [
    "def get_overlaps(fruit_features):\n",
    "    centers = get_centers(fruit_features)\n",
    "    radiuses = get_radiuses(fruit_features)\n",
    "    overlaps = dict.fromkeys(fruit_features.keys())\n",
    "    \n",
    "    # A dictionary of dictionarys. Keys, the fruit types\n",
    "    for key in overlaps:\n",
    "        # Each dictionary in the dictionary\n",
    "        overlaps[key] = dict.fromkeys(fruit_types)\n",
    "    \n",
    "    for i in range(len(fruit_types)):\n",
    "        for j in range(i + 1, len(fruit_types)):\n",
    "            distancesAB = cdist(centers[fruit_types[i]], fruit_features[fruit_types[j]])\n",
    "            distancesBA = cdist(centers[fruit_types[j]], fruit_features[fruit_types[i]])\n",
    "\n",
    "            mask_distancesAB = distancesAB < radiuses[fruit_types[i]]\n",
    "            mask_distancesBA = distancesBA < radiuses[fruit_types[j]]\n",
    "\n",
    "            numberBinA = np.count_nonzero(mask_distancesAB)\n",
    "            numberAinB = np.count_nonzero(mask_distancesBA)\n",
    "\n",
    "            overlaps[fruit_types[i]][fruit_types[j]] = numberBinA\n",
    "            overlaps[fruit_types[j]][fruit_types[i]] = numberAinB\n",
    "    return overlaps # Each element is the number of vectors of one group in the sphere of another"
   ]
  },
  {
   "cell_type": "code",
   "execution_count": 14,
   "metadata": {},
   "outputs": [],
   "source": [
    "def get_components(centers, nc):\n",
    "    pacum = np.zeros((1, centers[fruit_types[0]].shape[1]))\n",
    "    pair_components = dict()\n",
    "    for i in range(len(fruit_types)):\n",
    "        for j in range(i + 1, len(fruit_types)):\n",
    "            dif = centers[fruit_types[i]] - centers[fruit_types[j]]\n",
    "            dist = cdist(centers[fruit_types[i]], centers[fruit_types[j]])\n",
    "            difp = (dif**2)*100/(dist**2)\n",
    "            pair_components[f\"{fruit_types[i]}-{fruit_types[j]}\"]= np.argsort(difp[0])[-nc:]\n",
    "            pacum += difp\n",
    "    index_max = np.argsort(pacum[0])[-nc:]\n",
    "    #return np.sort(index_max)\n",
    "    return index_max, pair_components"
   ]
  },
  {
   "attachments": {},
   "cell_type": "markdown",
   "metadata": {},
   "source": [
    "**PRINCIPAL**"
   ]
  },
  {
   "cell_type": "code",
   "execution_count": 43,
   "metadata": {},
   "outputs": [
    {
     "name": "stderr",
     "output_type": "stream",
     "text": [
      "C:\\Users\\Juan\\AppData\\Local\\Temp\\ipykernel_4056\\1587896153.py:3: FutureWarning: get_duration() keyword argument 'filename' has been renamed to 'path' in version 0.10.0.\n",
      "\tThis alias will be removed in version 1.0.\n",
      "  duration = librosa.get_duration(filename=audiofile, sr=sr)\n"
     ]
    },
    {
     "name": "stdout",
     "output_type": "stream",
     "text": [
      "componentes: [1 0]\n",
      "pera: {'pera': None, 'banana': 6, 'manzana': 10, 'naranja': 8}\n",
      "banana: {'pera': 3, 'banana': None, 'manzana': 10, 'naranja': 10}\n",
      "manzana: {'pera': 2, 'banana': 1, 'manzana': None, 'naranja': 6}\n",
      "naranja: {'pera': 2, 'banana': 2, 'manzana': 10, 'naranja': None}\n",
      "radius: 0.08714614399393013\n"
     ]
    }
   ],
   "source": [
    "features = get_features(30, processed)\n",
    "overlaps = get_overlaps(features)\n",
    "centers = get_centers(features)\n",
    "components, _ = get_components(centers, 2) \n",
    "radius, _ = get_sphere(np.squeeze(list(centers.values()), axis=1))\n",
    "\n",
    "print(f\"componentes: {components}\")\n",
    "\n",
    "for pair, overlap in overlaps.items():\n",
    "    print(f\"{pair}: {overlap}\")\n",
    "\n",
    "print(f\"radius: {radius}\")"
   ]
  },
  {
   "cell_type": "code",
   "execution_count": 44,
   "metadata": {},
   "outputs": [],
   "source": [
    "for name, group in features.items():\n",
    "    features[name] = group[:, np.sort(components)]"
   ]
  },
  {
   "cell_type": "code",
   "execution_count": 584,
   "metadata": {},
   "outputs": [],
   "source": [
    "whole = np.concatenate(list(features.values()), axis=0)\n",
    "\n",
    "#Paso 2: Aplicar PCA para obtener dos componentes principales\n",
    "pca = PCA(n_components = 2)\n",
    "reduced_features = pca.fit_transform(whole)\n",
    "\n",
    "#Paso 3: Crear un diccionario con las matrices reducidas\n",
    "reduced = {}\n",
    "start_idx = 0\n",
    "\n",
    "for fruit, matrix in features.items():\n",
    "    num_rows = matrix.shape[0]\n",
    "    reduced[fruit] = reduced_features[start_idx:start_idx + num_rows, :]\n",
    "    start_idx += num_rows\n",
    "features = reduced"
   ]
  },
  {
   "attachments": {},
   "cell_type": "markdown",
   "metadata": {},
   "source": [
    "**KNN**"
   ]
  },
  {
   "cell_type": "code",
   "execution_count": 320,
   "metadata": {},
   "outputs": [],
   "source": [
    "def knn(training, test, k_n):\n",
    "    X = np.concatenate([v for v in training.values()], axis=0)\n",
    "    y = np.concatenate([[k] * v.shape[0] for k, v in training.items()])\n",
    "\n",
    "    #X_train, X_test, y_train, y_test = train_test_split(X, y, test_size=0.2, random_state=42)\n",
    "\n",
    "    # Crear clasificador KNN\n",
    "    knn_classifier = KNeighborsClassifier(n_neighbors = k_n)\n",
    "\n",
    "    # Entrenar el clasificador\n",
    "    knn_classifier.fit(X, y)\n",
    "\n",
    "    # Predecir las etiquetas para los datos de prueba\n",
    "    predicted_fruit = knn_classifier.predict(test)\n",
    "\n",
    "    print(f'La fruta predicha para el nuevo audio es: {predicted_fruit[0]}')"
   ]
  },
  {
   "attachments": {},
   "cell_type": "markdown",
   "metadata": {},
   "source": [
    "**PLOTEO**"
   ]
  },
  {
   "cell_type": "code",
   "execution_count": 45,
   "metadata": {},
   "outputs": [
    {
     "data": {
      "image/png": "iVBORw0KGgoAAAANSUhEUgAAAlQAAAGwCAYAAABvpfsgAAAAOXRFWHRTb2Z0d2FyZQBNYXRwbG90bGliIHZlcnNpb24zLjguMSwgaHR0cHM6Ly9tYXRwbG90bGliLm9yZy/SrBM8AAAACXBIWXMAAA9hAAAPYQGoP6dpAABJjUlEQVR4nO3dfXRU1aH+8WeSkADCJAKBBDIIVIVgrSBIjJdoMKmkeJfYkFowXoUfgq2gRLAt2Fat9goKrUHvbZGrYr2CL8RYrdpoFFIjpICpoNLALRZKiJmAxGSIQEgm5/fHJCND3iaZ9+T7WWtWnH32OWefU5fzdJ999jYZhmEIAAAA3RYW6AYAAACEOgIVAACAhwhUAAAAHiJQAQAAeIhABQAA4CECFQAAgIcIVAAAAB6KCHQDeoOmpiZ98cUXGjhwoEwmU6CbAwAA3GAYhk6cOKHhw4crLKzjPigClR988cUXslgsgW4GAADohvLyciUkJHRYh0DlBwMHDpTk+B/EbDYHuDUAAMAdNptNFovF+TveEQKVH7Q85jObzQQqAABCjDvDdRiUDgAA4CECFQAAgIcIVAAAAB4iUAEAAHiIQAUAAOAhAhUAAICHCFQAAAAeIlABAAB4iEAFAADgIWZKBwAAPmKXVCypUlK8pBRJ4QFtka8QqAAAgA/kS1oi6chZZQmS1krKDEiLfIlHfgAAwMvyJWXJNUxJUkVzeb7fW+RrBCoAAOBFdjl6pow2trWU5TTX6zkIVAAAwIuK1bpn6myGpPLmej0HgQoAAHhRpZfrhQYCFQAA8KJ4L9cLDQQqAADgRSlyvM1name7SZKluV7PQaACAABeFC7H1AhS61DV8j1XPW0+KgIVAADwskxJeZJGnFOe0Fze8+ahYmJPAADgA5mSZoqZ0gEAADwSLik10I3wCx75AQAAeIhABQAA4KGQC1T//d//rVGjRqlv375KSkrSzp07O6y/efNmjRs3Tn379tWll16qt99+22W7YRi6//77FR8fr379+ik9PV3/+Mc/XOpUV1crOztbZrNZMTExmj9/vurq6rx+bQAAIDSFVKB6+eWXtXTpUj3wwAP629/+pssuu0zTp0/X0aNH26y/fft2zZkzR/Pnz9fHH3+sG2+8UTfeeKM+++wzZ53HHntMTzzxhNatW6cdO3bovPPO0/Tp03X69GlnnezsbO3du1eFhYV688039cEHH2jhwoU+v14AABAaTIZhtLV6YVBKSkrSFVdcof/6r/+SJDU1Ncliseiuu+7S8uXLW9X/4Q9/qK+//lpvvvmms+zKK6/UhAkTtG7dOhmGoeHDh2vZsmW69957JUm1tbUaNmyYnnvuOc2ePVtlZWUaP368du3apcmTJ0uSCgoKNGPGDB05ckTDhw/vtN02m03R0dGqra2V2Wz2xq0AAAA+1pXf75DpoTpz5oxKS0uVnp7uLAsLC1N6erpKSkra3KekpMSlviRNnz7dWf/gwYOyWq0udaKjo5WUlOSsU1JSopiYGGeYkqT09HSFhYVpx44dbZ63vr5eNpvN5QMAAHqukAlUX375pex2u4YNG+ZSPmzYMFmt1jb3sVqtHdZv+dtZnaFDh7psj4iI0KBBg9o978qVKxUdHe38WCwWN68SAACEopAJVKFkxYoVqq2tdX7Ky8sD3SQAAOBDIROohgwZovDwcFVVVbmUV1VVKS4urs194uLiOqzf8rezOucOem9sbFR1dXW7542KipLZbHb5AACAnitkAlVkZKQmTZqk999/31nW1NSk999/X8nJyW3uk5yc7FJfkgoLC531R48erbi4OJc6NptNO3bscNZJTk5WTU2NSktLnXW2bNmipqYmJSUlee36AABA6AqppWeWLl2q2267TZMnT9aUKVOUm5urr7/+WvPmzZMk3XrrrRoxYoRWrlwpSVqyZImuueYa/eY3v9H111+vl156SR999JHWr18vSTKZTMrJydGvf/1rXXTRRRo9erR++ctfavjw4brxxhslSYmJicrIyNCCBQu0bt06NTQ0aPHixZo9e7Zbb/gBAICeL6QC1Q9/+EMdO3ZM999/v6xWqyZMmKCCggLnoPLDhw8rLOybTrerrrpKmzZt0i9+8Qvdd999uuiii/THP/5R3/72t511fvrTn+rrr7/WwoULVVNTo6lTp6qgoEB9+/Z11tm4caMWL16stLQ0hYWFadasWXriiSf8d+EAACCohdQ8VKGKeagAAAg9PXIeKgAAgGBFoAIAAPAQgQoAAMBDBCoAAAAPhdRbfgCA3sneZFfx4WJVnqhU/MB4pYxMUXhYeKCbBTgRqAAAQS2/LF9LCpboiO2IsyzBnKC1GWuVmZgZwJYB3+CRHwAgaOWX5SvrlSyXMCVJFbYKZb2Spfyy/AC1DHBFoAIABCV7k11LCpbIUOvpElvKcgpyZG+y+7tpQCsEKgBAUCo+XNyqZ+pshgyV28pVfLjYj60C2sYYKgBAUKo8UenVer1Gk106ViydqpT6xUuxKRID+H2OQAUACErxA+O9Wq9XKM+XSpdIJ8/q2eufIE1aK1m6O4DfLqlYUqWkeEkpkoIpoAVH+3jkBwAISikjU5RgTpBJpja3m2SSxWxRysgUP7csSJXnS8VZrmFKkk5WOMrLuzOAP1/SKEnTJN3c/HdUc3kwCJ72EagAAEEpPCxcazPWSlKrUNXyPTcjl/moJMdjvtIlUhsD+J1lpTmOem7Ll5Ql6dxxbBXN5YEOVcHVPgIVACBoZSZmKu+mPI0wj3ApTzAnKO+mPOahanGsuHXPlAtDOlnuqOcWu6ROAppymusFQvC1jzFUAICglpmYqZljZ/aumdK7OrD8lJsD892tp2K17vk5myGpvLleqpvH9Kbgax+BCgAQ9MLDwpU6KjXQzfCP7gws7+fmwHx368nd4BWoNyyDr3088gMAIFh0d2B5bIojdLUzgF8ySf0tjnpucTd4BeoNy+BrH4EKAIBg4MnA8rBwRw+WpNahqvn7pNwuzEeVIqmTgCZLc71ACL72EagAAAgGng4st2RKKXlSf9cB/Oqf4Cjv0jxU4ZI6CWjKVeDmowq+9jGGCgCAYOCNgeWWTGnETC/NlJ4pKU+Ot+nODnoJcoSVQL9hGVztI1ABABAMvDWwPCxcGpbqcXMcMiXNVDDMRN624GkfgQoAgGDQMrD8ZIXaHkdlcmx3e2C5t4QrMFMjuCs42scYKgAAmuxSVZF06EXH3y7NKO4lXh9YDn+ihwoA0Lv5ZEHhbmoZWN5me3L93x64zWQYRlv9ivAim82m6Oho1dbWymw2B7o5AIAWLfM+tXrE1twj1OW347ykqzOlwye68vtNDxUAoHfqdN4nk2PepxEz/R9mvDqwHP5AoAIA+I8vel7sdqm4WKqslOLjpZQUKdyNY3Zl3ifCDTpBoAIA+Icvxirl50tLlkhHzjpmQoK0dq2U2ckxvb6gMHoz3vIDAPhed9eo60h+vpSV5RqmJKmiwlGe38kxvb6gMHozAhUAwLc8WaOuPXa7o2eqrfeqWspychz12uP1BYXRmxGoAAC+5ekadW0pLm7dM+VySEMqL3fUaw/zPvmYXVKRpBeb/wZgbi8/IlABAHzLF2OVKt2s21k9ry4ojG/kSxolaZqkm5v/jmou75kYlA4A8C1fjFWKd7OuO/W8uqAwHKGprbm9KprL8xT4hZW9j4k9/YCJPQH0ak126Y1Rna9Rd8NB90OM3S6NGuUYgN7Wz5jJ5Hjb7+BB96ZQgJfY5eiJau9xrElSgqSDCp4FltvXld9vHvkBAHzLF2OVwsMdUyO01ydgGFJuLmHK74rVfpiSHIG6vLlezxIygaq6ulrZ2dkym82KiYnR/PnzVVdX1+E+p0+f1qJFizR48GANGDBAs2bNUlVVlXP7nj17NGfOHFksFvXr10+JiYlau3atyzGKiopkMplafaxWq0+uEwB6JMYq9RLujoPreXN7hcwYquzsbFVWVqqwsFANDQ2aN2+eFi5cqE2bNrW7zz333KO33npLmzdvVnR0tBYvXqzMzExt27ZNklRaWqqhQ4fqhRdekMVi0fbt27Vw4UKFh4dr8eLFLsfav3+/S3ff0KFDfXOhANBTeXOsUsu0Ce0xmRzTJsycSS+VX7k7Dq7nze0VEmOoysrKNH78eO3atUuTJ0+WJBUUFGjGjBk6cuSIhg8f3mqf2tpaxcbGatOmTcrKypIk7du3T4mJiSopKdGVV17Z5rkWLVqksrIybdmyRZKjh2ratGn66quvFBMT41Z76+vrVV9f7/xus9lksVgYQwUA3lJUJE2b1nm9rVul1FRftwZOLWOoOhgvxxiqwCkpKVFMTIwzTElSenq6wsLCtGPHjjb3KS0tVUNDg9LT051l48aN08iRI1VSUtLuuWprazVo0KBW5RMmTFB8fLy++93vOnu42rNy5UpFR0c7PxaLpbNLBAB0hbemTYCXhUvqZLycchUKYaqrQiJQWa3WVo/YIiIiNGjQoHbHMlmtVkVGRrbqVRo2bFi7+2zfvl0vv/yyFi5c6CyLj4/XunXr9Oqrr+rVV1+VxWJRamqq/va3v7Xb3hUrVqi2ttb5KS8vd/NKASCE2e2OnqMXX3T87WiWck95c9oEeFmmHFMjnDNeTgnqqVMmSAEeQ7V8+XI9+uijHdYpKyvzS1s+++wzzZw5Uw888ICuu+46Z/nYsWM1duxY5/errrpKn3/+uR5//HH97//+b5vHioqKUlRUlM/bDABBw5NFirsjJcVx/M6mTUhh2ZjAyJQ0U463+SrlGDOVop7YM9UioIFq2bJlmjt3bod1xowZo7i4OB09etSlvLGxUdXV1YqLi2tzv7i4OJ05c0Y1NTUuvVRVVVWt9vn73/+utLQ0LVy4UL/4xS86bfeUKVP04YcfdloPAHqFlkWKzw02LYsU5+V5P1S1TJuQleUIT2ef29T8aIlpEwIsXFJqoBvhNwENVLGxsYqNje20XnJysmpqalRaWqpJkyZJkrZs2aKmpiYlJSW1uc+kSZPUp08fvf/++5o1a5Ykx5t6hw8fVnJysrPe3r17de211+q2227Tf/7nf7rV7t27dyuebmQA6HyRYl++bZeZ6QhrbfWM5eb6pmcMaEdIvOUnSd/73vdUVVWldevWOadNmDx5snPahIqKCqWlpen555/XlClTJEk//vGP9fbbb+u5556T2WzWXXfdJckxVkpyPOa79tprNX36dK1evdp5rvDwcGfQy83N1ejRo3XJJZfo9OnTevrpp/Xkk0/q3XffVVpamlttZ6Z0AD1WMLxtZ7c7FkGurHSMmUpJoWcKXtGV3++QmYdq48aNWrx4sdLS0hQWFqZZs2bpiSeecG5vaGjQ/v37dfLkSWfZ448/7qxbX1+v6dOn63e/+51ze15eno4dO6YXXnhBL7zwgrP8ggsu0KFDhyRJZ86c0bJly1RRUaH+/fvrO9/5jt577z1Nc+c/IADQ0wXD23bh4UyNgIALmR6qUEYPFYAeKxh6qAAf6XHzUAEAglTL23amc+ccamYySRYLb9uhxyNQAQC6r+VtO6l1qOJtO/QiBCoAgGda3rYbcc5EjgkJvpkyAQhCITMoHQAQxDIzHVMj8LYdeikCFQDAO3jbDr0Yj/wAAAA8RA8VAKBN9ia7ig8Xq/JEpeIHxisl4SqFH98unaqU+sVLsSlSmJce6TE5J0IcgQoA0Ep+Wb6WFCzREZtjSZfvnyddPCxcw8Pt31TqnyBNWitZPBx07u+FlbuhVbgcmaJwb4VJ9AhM7OkHTOwJIJTkl+Ur65UsGXL8PHz/PCmvefnSMJeZEZq/pOR1P1Tl50tZs6Rzf4lazpP3asBD1bnhUpISzAlam7FWmYnBEfjgG135/SZQ+QGBCkCosDfZNWrtKGd4CJN0aJQ0IuLcMNXC5OipuuFg1x//2e3SqGHSkeNtbzdJShgsHawK2OO/c8PlN01z3Iy8m/IIVT0YM6UDALql+HCxS09MSj/J0qe9MCVJhnSyXDpW3I2TFbUfppoPrfLjjnoBYG+ya0nBklZhSpKzLKcgR/Yme6vt6H0IVAAAp8oTrosYx7vbMXSqG4sfVxZ5t56XnRsuz2XIULmtXMWHuxEm0eMQqAAATvED412+V7rb+dIvvvM6rU7m5Xpedm649LQeejYCFQD0VHa7VFQkvfii46+983SUMjJFCeYE5xih4lNSeYPU1O5oW5PU3+KYQqGrUlKlBH0zAL2NQ8vSXC8Azg2XntZDz0agAoCeKD9fGjVKmjZNuvlmx99RoxzlHQgPC9faDMdixyaZ1CRpyTHHttahqjkJTcrt3nxU4anS2sEuhzr30Mod7KgXAOeGy3OZZJLFbFHKyG6ESfQ4BCoA6Gny86WsLNd5nSSposJR3kmoykzMVN5NeRphdix2/NrX0k1fSNVnzvnJ6J/g2ZQJCpcy10t5ks5ZV1lDJL0ix3YF5g2/c8Pl2Vq+52bkMh8VJDFtgl8wbQIAv7HbHT1R54apFiaTY9LMgwc7nYqgZTLL8Nde1xWPbVTfqmPSOEkxkvoMke7+nTTrB15odL60eYF0Z7X05VnFCYOlteuDch4qi9mi3Ixcpkzo4ZiHKsgQqAD4TVGR4/FeZ7ZudW8h45bernN/KkzNPTZ5eZ4HHn+cw0PMlN47deX3m6VnAKAnqXTzjTN36tntjiVh2vr/3YbhCDw5OdLMmd2feNMf5/CC8LBwpY5KDdj5EfwYQwUAPUm8m2+cuVOvuLj9R4eSI/CUlzvqdZc/zgH4AT1UANCTpKQ4xkhVVLTd69MyhuqqqxyPBysrHeEqJaV1D5A3e7s83deTcwB+QA8VAPQk4eHSWsebac4xSC1avs+eLX3rW51PqeDN3i5P9/XkHIAfEKgAoKfJzHQM5B5xzlwECQnSvfdKa9a4N6VCS2/XucGshckkWSyOet3lj3MAfkCgAoCeKDNTOnTI8Tbfpk2OvwcOOGZNb28AuOQYAN4yo7o7vV25uZ4NFvfHOQA/IFABQE8VHu6YGmHOHMff7du7PgC8o94ub01n4I9zAD7GoHQA6C26OwA8M9MxbUFxcceD2LuryS792yDpL6ukfxyTjsdKw0d49xyAjxGoAKC38GQAeEtvl7eV50ulS6STZ/Wc9U+QvrWWMIWQwiM/AOgtgm0AeHm+VJzlGqYk6WSFo7y84zUHgWBCoAKA3qI7A8Cb7FJVkXToRcffJrt32tJkd/RMqa3Vz5rLSnO8dz7AxwhUAOBVdklFkl5s/htkgaArA8DL86U3RknvT5O23+z4+8Yo7/QcHStu3TPlwpBOljvqASGAMVQA4DX5kpZIOjsoJEhaKymI3lRzZ5B5y+O4c3uQWh7HpeRJFg+u6ZSbA+TdrQcEGIEKALwiX1IbAUQVzeV5CqpQ1dEg804fx5kcj+NGzJTCujlwvJ+bA+TdrQcEGI/8AMBjdjl6pjoYD6QcBd3jv/b443FcbIrjbT61M0BeJqm/xVEPCAEEKgDwWLFcH/Ody5BU3lwvBPjjcVxYuDSpeYB8q1DV/H1Sbvd7wAA/C5lAVV1drezsbJnNZsXExGj+/Pmqq6vrcJ/Tp09r0aJFGjx4sAYMGKBZs2apqqrKpY7JZGr1eemll1zqFBUV6fLLL1dUVJQuvPBCPffcc96+PAAhzd1gESLjgfz1OM6S6RiL1f+cAfL9EzwfowX4WcgEquzsbO3du1eFhYV688039cEHH2jhwoUd7nPPPffoT3/6kzZv3qy//OUv+uKLL5TZxhIGGzZsUGVlpfNz4403OrcdPHhQ119/vaZNm6bdu3crJydHt99+u9555x1vXyKAkOVusAiR8UD+fBxnyZRuOCSlbZWu2uT4e8NBwhRCjskw2lolM7iUlZVp/Pjx2rVrlyZPnixJKigo0IwZM3TkyBENHz681T61tbWKjY3Vpk2blJWVJUnat2+fEhMTVVJSoiuvvFKSo4fqtddecwlRZ/vZz36mt956S5999pmzbPbs2aqpqVFBQYFb7bfZbIqOjlZtba3MZnNXLh1ASLBLGiXHAPS2/pNqkuNtv4OSQuQRlvMtP8n1mppDFj1I6AW68vsdEj1UJSUliomJcYYpSUpPT1dYWJh27NjR5j6lpaVqaGhQenq6s2zcuHEaOXKkSkpKXOouWrRIQ4YM0ZQpU/Tss8/q7IxZUlLicgxJmj59eqtjnK2+vl42m83lA6AnC5djagSp3fFAylXIhCmJx3FAF4XEtAlWq1VDhw51KYuIiNCgQYNktVrb3ScyMlIxMTEu5cOGDXPZ56GHHtK1116r/v37691339Wdd96puro63X333c7jDBs2rNUxbDabTp06pX79+rU698qVK/WrX/2qO5cKIGRlyjE1QlvzUOUqqKZMcJcl0zE1wrFixwD0fvGOx3wMFAdaCWigWr58uR599NEO65SVlfm0Db/85S+d/zxx4kR9/fXXWr16tTNQdceKFSu0dOlS53ebzSaLxeJROwGEgkxJM+V4m69SjjFTKQqpnqlzhYVLw1ID3Qog6AU0UC1btkxz587tsM6YMWMUFxeno0ePupQ3NjaqurpacXFxbe4XFxenM2fOqKamxqWXqqqqqt19JCkpKUkPP/yw6uvrFRUVpbi4uFZvBlZVVclsNrfZOyVJUVFRioqK6vC6APRU4VJTylm9OsV+7NWxq0eFOSCEBDRQxcbGKjY2ttN6ycnJqqmpUWlpqSZNmiRJ2rJli5qampSUlNTmPpMmTVKfPn30/vvva9asWZKk/fv36/Dhw0pOTm73XLt379b555/vDETJycl6++23XeoUFhZ2eAwAvVh5vmOW8bMnxuyf4JhzyafjjkJk2RughwqJt/wk6Xvf+56qqqq0bt06NTQ0aN68eZo8ebI2bdokSaqoqFBaWpqef/55TZkyRZL04x//WG+//baee+45mc1m3XXXXZKk7du3S5L+9Kc/qaqqSldeeaX69u2rwsJC3Xvvvbr33nudY6AOHjyob3/721q0aJH+3//7f9qyZYvuvvtuvfXWW5o+fbpbbectP6CXaG/9O5+/GdfesjctA+K7ueyN3d7xen9AD9el328jRBw/ftyYM2eOMWDAAMNsNhvz5s0zTpw44dx+8OBBQ5KxdetWZ9mpU6eMO++80zj//PON/v37G9///veNyspK5/Y///nPxoQJE4wBAwYY5513nnHZZZcZ69atM+x2u8u5t27dakyYMMGIjIw0xowZY2zYsKFLba+trTUkGbW1td26dgAhwN5oGK8lGMZGtfMxGcZrFkc9r2o0DCPBMAy5fhplGFtlGJtkGFtjDaOxvmuHffVVw0hIMAzpm09CgqMc6CW68vsdMj1UoYweKqAXqCqS3p/Web20rV4e5F0k6Zzztvn0L1Zau05qY3LjVvLzpawsR4w6m6m5xysvz73jACGux81DBQBBzx/r37XpnOO1PP07d2nBimOOkJSf3/Hh7HZpyZLWYUr6piwnx1EPgBOBCgC8wV/r37Vy1vHscvRMtfXcoaWsszBUXCwd6WChZ8OQyssd9QA4EagAwBv8uf6dixQ53uYzOWZM6CALuRWGKt3sQXO3HtBLEKgAwBvCwh1TI0hqd/mZSbk+mI/qrGVv3M04HYWheDd70NytB/QSBCoA8JaArX/XvOxN/BD3qncUhlJSpISEbwagn8tkkiwWRz0ATrzl5we85Qf0Mk32wKx/Zz8jjUpwDEBv67/sJpMjLB082PF8Ui1v+Umug9N5yw+9DG/5AUAgtax/N2qO46+/FhMOj3RMjSBT6x6mlu+5uZ1PzpmZ6QhNI87paUtIIEwB7aCHyg/ooQLgV/n5jqkPzn5bz2JxhKmuhCFmSkcv15XfbwKVHxCoAPgdYQjwWFd+vwO6ODIAwEfCw6XU1EC3Aug1CFQAgMANpAd6CAIVAPR25flS6RLp5FljrvonOObV8tlUD0DPwlt+ANCbledLxVmuYUqSTlY4yss7WfsPgCQCFQD0Xk12R89UR4v/leY46gHoEIEKAHqrY8Wte6ZcGNLJckc9AB0iUAFAb3XKzcX/3K0H9GIEKgDorfq5ucCxu/WAXoxABQC9VWyK420+tbMQskxSf4ujHoAOEagAoLcKC3dMjSCpdahq/j4pl/moADcQqACgN7NkSil5Uv9zFkLun+AoZx4qwC1M7AkAvZ0lUxoxk5nSAQ8QqAAAjvA0LDXQrQBCFo/8AAAAPESgAgAA8BCBCgAAwEMEKgAAAA8RqAAAADzEW34AEChNdqYqaJddUrGkSknxklIkcW8QvAhUABAI5flS6RLp5JFvyvonOGYu7/WTaeZLWiLprHujBElrJfX2e4NgxSM/APC38nypOMs1TEnSyQpHeXl+YNoVFPIlZck1TElSRXN5b743CGYEKgDwpya7o2dKRhsbm8tKcxz1eh27HD1THdwb5TTXA4ILgQoA/OlYceueKReGdLLcUa/XKVbrnqmzGZLKm+sBwYVABQD+dKrSu/V6FHevuTfeGwQ7AhUA+FO/eO/W61HcvebeeG8Q7AhUAOBPsSmOt/lkaqeCSepvcdTrdVLkeJuvg3sjS3M9ILiETKCqrq5Wdna2zGazYmJiNH/+fNXV1XW4z+nTp7Vo0SINHjxYAwYM0KxZs1RVVeXc/txzz8lkMrX5OXr0qCSpqKioze1Wq9Wn1wughwoLd0yNIKl1cGj+Pim3l85HFS7H1AhSu/dGuWI+KgSjkAlU2dnZ2rt3rwoLC/Xmm2/qgw8+0MKFCzvc55577tGf/vQnbd68WX/5y1/0xRdfKDPzmzlMfvjDH6qystLlM336dF1zzTUaOnSoy7H279/vUu/c7YA77E12FR0q0oufvqiiQ0Wy98o3uSBLppSSJ/Uf4VreP8FR3qvnocqUlCfpnHujhOby3nxvEMxMhmG09X5qUCkrK9P48eO1a9cuTZ48WZJUUFCgGTNm6MiRIxo+fHirfWpraxUbG6tNmzYpKytLkrRv3z4lJiaqpKREV155Zat9jh07phEjRuiZZ57Rf/zHf0hy9FBNmzZNX331lWJiYtxqb319verr653fbTabLBaLamtrZTabu3r56CHyy/K1pGCJjti+eYspwZygtRlrlZnIj0SvxEzpHWCmdASezWZTdHS0W7/fIdFDVVJSopiYGGeYkqT09HSFhYVpx44dbe5TWlqqhoYGpaenO8vGjRunkSNHqqSkpM19nn/+efXv398ZwM42YcIExcfH67vf/a62bdvWYXtXrlyp6Oho58disbhzmejB8svylfVKlkuYkqQKW4WyXslSfhmTFfZKYeHSsFRp1BzHX8LUWcIlpUqa0/yXe4PgFhKBymq1tnrEFhERoUGDBrU7lslqtSoyMrJVr9KwYcPa3eeZZ57RzTffrH79+jnL4uPjtW7dOr366qt69dVXZbFYlJqaqr/97W/ttnfFihWqra11fsrLy928UvRE9ia7lhQskdHGZIUtZTkFOTz+A4AQFtC1/JYvX65HH320wzplZWV+aUtJSYnKysr0v//7vy7lY8eO1dixY53fr7rqKn3++ed6/PHHW9VtERUVpaioKJ+2F6Gj+HBxq56psxkyVG4rV/HhYqWOSvVfwwAAXhPQQLVs2TLNnTu3wzpjxoxRXFyc8627Fo2NjaqurlZcXFyb+8XFxenMmTOqqalx6aWqqqpqc5+nn35aEyZM0KRJkzpt95QpU/Thhx92Wg+QpMoT7k1C6G49AEDwcTtQ3XTTTXrqqad0/vnne+3ksbGxio2N7bRecnKyampqVFpa6gw8W7ZsUVNTk5KSktrcZ9KkSerTp4/ef/99zZo1S5LjTb3Dhw8rOTnZpW5dXZ1eeeUVrVy50q127969W/HxTCwH98QPdO/fFXfrAQCCj9tjqI4cOaJLLrlEb731li/b06bExERlZGRowYIF2rlzp7Zt26bFixdr9uzZzjf8KioqNG7cOO3cuVOSFB0drfnz52vp0qXaunWrSktLNW/ePCUnJ7d6w+/ll19WY2Ojbrnlllbnzs3N1euvv64DBw7os88+U05OjrZs2aJFixb5/sLRI6SMTFGCOUGmdiYrNMkki9milJFMVggAocrtQLVt2zbdc889+sEPfqDbb7+900k1vW3jxo0aN26c0tLSNGPGDE2dOlXr1693bm9oaND+/ft18uRJZ9njjz+uf//3f9esWbN09dVXKy4uTvn5rd+meuaZZ5SZmdnmtAhnzpzRsmXLdOmll+qaa67Rnj179N577yktLc0n14meJzwsXGszHJMVnhuqWr7nZuQqnDe8ACBkdXkeqn379mnevHmyWq266667FBHh+tTw7rvv9moDe4KuzGOBnquteagsZotyM3KZhwoAglBXfr+7NbHn008/rR/96EeKj493CVQmk0n//Oc/u97iHo5AhRb2JruKDxer8kSl4gfGK2VkCj1TABCkuvL73aW3/KqqqnT77bfrww8/1DPPPKPbbrvNo4YCvU14WLhXpkYgmAFAcHE7UL300ktavHixJkyYoD179mjkyJG+bBeAdrCEDQAEH7cf+Z133nlatWqV7rrrLl+3qcfhkR+8pWUJm3NnXW8Z3J53Ux6hCgC8xCeP/Hbv3q2LLrrI48YB6J7OlrAxyaScghzNHDuTx38A4GduT5tAmAICqytL2AAA/CskFkcGwBI2ABDMCFRAiGAJGwAIXgQqIESwhA0ABK9uBaqamho9/fTTWrFihaqrqyVJf/vb31RRUeHVxgH4BkvYAEDw6nKg+uSTT3TxxRfr0Ucf1Zo1a1RTUyNJys/P14oVK7zdPgBnyUzMVN5NeRphHuFSnmBOYMoEAAigLi89k56erssvv1yPPfaYBg4cqD179mjMmDHavn27br75Zh06dMhHTQ1dzEMFb2OmdADwPZ8tPSNJu3bt0lNPPdWqfMSIEbJarV09HIBu8NYSNgAA7+jyI7+oqCjZbLZW5f/3f/+n2NhYrzQKAAAglHQ5UN1www166KGH1NDQIEkymUw6fPiwfvazn2nWrFlebyAAAECw63Kg+s1vfqO6ujoNHTpUp06d0jXXXKMLL7xQAwcO1H/+53/6oo0AAABBrctjqKKjo1VYWKgPP/xQn3zyierq6nT55ZcrPT3dF+0DAAAIel1+yw9dx1t+AACEHq+/5ffEE09o4cKF6tu3r5544okO6w4YMECXXHKJkpKS3G8xAABACHOrh2r06NH66KOPNHjwYI0ePbrDuvX19Tp69KjuuecerV692msNDWX0UAGhyC6pWFKlpHhJKZKY6wvoTbry++2TR36FhYW6+eabdezYMW8fOiQRqICzhUJQyZe0RNKRs8oSJK2VxGz0QG/Rld9vnyyOPHXqVP3iF7/wxaEBhLR8SaMkTZN0c/PfUc3lwSJfUpZcw5QkVTSXB1NbAQQLtwPVjBkzVFtb6/y+atUq5zp+knT8+HGNHz9ektSvXz8tWbLEe60E0AOEQlCxy9Ez1VbHfUtZTnM9APiG24HqnXfeUX19vfP7I488ourqauf3xsZG7d+/37utA9BDhEpQKVbrwHc2Q1J5cz0A+IbbgercoVbMtgDAfaESVCq9XA9Ab+GTMVQA4CpUgkq8l+sB6C3cDlQmk0kmk6lVGQB0LlSCSoocb/O19982kyRLcz0A+IbbS88YhqG5c+cqKipKknT69Gn96Ec/0nnnnSdJLuOrAMBVS1CpUNvjqEzN2wMdVMLlmBohS442nd3WlpCVq+Cb5gFAoLkdqG677TaX77fcckurOrfeeqvnLQLQA4VSUMmUlKe256HKFfNQAWgLa/n5ARN7Ai3amjDTouAMKqEwASkAX/L6Wn4A4B2ZkmYqNIJKuKTUQDcCQIggUAHwM4IKgJ6HaRMAAAA8RKACAADwUMgEqurqamVnZ8tsNismJkbz589XXV1dh/usX79eqampMpvNMplMLmsPduW4n3zyiVJSUtS3b19ZLBY99thj3rw0AAAQ4kImUGVnZ2vv3r0qLCzUm2++qQ8++EALFy7scJ+TJ08qIyND9913X7ePa7PZdN111+mCCy5QaWmpVq9erQcffFDr16/32rUBAIDQFhLTJpSVlWn8+PHatWuXJk+eLEkqKCjQjBkzdOTIEQ0fPrzD/YuKijRt2jR99dVXiomJ6dJxf//73+vnP/+5rFarIiMjJUnLly/XH//4R+3bt8+t9jNtAgAAoacrv98h0UNVUlKimJgYZ+iRpPT0dIWFhWnHjh0+PW5JSYmuvvpqZ5iSpOnTp2v//v366quv2jxufX29bDabywcAAPRcIRGorFarhg4d6lIWERGhQYMGyWq1+vS4VqtVw4YNc6nT8r29c69cuVLR0dHOj8Vi6XYbAQBA8AtooFq+fLlz0eX2Pu4+VgsmK1asUG1trfNTXl4e6CYBAAAfCujEnsuWLdPcuXM7rDNmzBjFxcXp6NGjLuWNjY2qrq5WXFxct8/vznHj4uJUVVXlUqfle3vnjoqKci4iDQAAer6ABqrY2FjFxsZ2Wi85OVk1NTUqLS3VpEmTJElbtmxRU1OTkpKSun1+d46bnJysn//852poaFCfPn0kSYWFhRo7dqzOP//8bp8bAAD0HCExhioxMVEZGRlasGCBdu7cqW3btmnx4sWaPXu28w2/iooKjRs3Tjt37nTuZ7VatXv3bh04cECS9Omnn2r37t2qrq52+7g333yzIiMjNX/+fO3du1cvv/yy1q5dq6VLl/r5LgAAgGAVEoFKkjZu3Khx48YpLS1NM2bM0NSpU13mgmpoaND+/ft18uRJZ9m6des0ceJELViwQJJ09dVXa+LEiXrjjTfcPm50dLTeffddHTx4UJMmTdKyZct0//33dzoHFgAA6D1CYh6qUMc8VAAAhJ4eNw8VAABAMCNQAQAAeIhABQAA4CECFQAAgIcIVAAAAB4iUAEAAHiIQAUAAOAhAhUAAICHCFQAAAAeIlABAAB4iEAFAADgIQIVAACAhwhUAAAAHooIdAMAdJ+9ya7iw8WqPFGp+IHxShmZovCw8EA3CwB6HQIVEKLyy/K1pGCJjtiOOMsSzAlam7FWmYmZAWwZAPQ+PPIDQlB+Wb6yXslyCVOSVGGrUNYrWcovyw9QywCgdyJQASHG3mTXkoIlMmS02tZSllOQI3uT3d9NA4Bei0AFhJjiw8WteqbOZshQua1cxYeL/dgqAOjdCFRAiKk8UenVegAAzxGogBATPzDeq/UAAJ4jUAEhJmVkihLMCZ3W+/LrL/3QGgCARKACQk54WLh+e91vO6239N2lDEwHAD8hUAEhKPa82E7rMDAdAPyHQAWEIAamA0BwYaZ0BBWWUnEPA9MBILgQqBA0WErFfS0D0ytsFW1O8GmSSQnmBKWMTAlA6wCg9+GRH4ICS6l0TXhYuNZmrJXkCE9na/mem5FL7x4A+AmBCgHHUirdk5mYqbyb8jTCPMKlPMGcoLyb8ujVAwA/4pEfAq4rS6mkjkr1X8NCQGZipmaOncm4MwAIMAIVAo431jwTHhZO0ASAAOORHwKON9YAAKGOQIWAa3lj7dzB1S1MMslitvDGGgAgaBGoEHC8sQYACHUEKgQF3lgDAIQyk2EYrd9Vh1fZbDZFR0ertrZWZrM50M0JasyUDgAIFl35/Q6ZHqrq6mplZ2fLbDYrJiZG8+fPV11dXYf7rF+/XqmpqTKbzTKZTKqpqXHZfujQIc2fP1+jR49Wv3799K1vfUsPPPCAzpw541LHZDK1+vz1r3/1xWX2ei1vrM25dI5SR6USpgAAISFkpk3Izs5WZWWlCgsL1dDQoHnz5mnhwoXatGlTu/ucPHlSGRkZysjI0IoVK1pt37dvn5qamvTUU0/pwgsv1GeffaYFCxbo66+/1po1a1zqvvfee7rkkkuc3wcPHuy9iwMAACEtJB75lZWVafz48dq1a5cmT54sSSooKNCMGTN05MgRDR8+vMP9i4qKNG3aNH311VeKiYnpsO7q1av1+9//Xv/85z8lOXqoRo8erY8//lgTJkzoVvt55AcAQOjpcY/8SkpKFBMT4wxTkpSenq6wsDDt2LHDq+eqra3VoEGDWpXfcMMNGjp0qKZOnao33nijw2PU19fLZrO5fAAAQM8VEoHKarVq6NChLmUREREaNGiQrFar185z4MABPfnkk7rjjjucZQMGDNBvfvMbbd68WW+99ZamTp2qG2+8scNQtXLlSkVHRzs/FovFa20EAADBJ6CBavny5W0O+D77s2/fPr+0paKiQhkZGfrBD36gBQsWOMuHDBmipUuXKikpSVdccYVWrVqlW265RatXr273WCtWrFBtba3zU15e7o9LAAAAARLQQenLli3T3LlzO6wzZswYxcXF6ejRoy7ljY2Nqq6uVlxcnMft+OKLLzRt2jRdddVVWr9+faf1k5KSVFhY2O72qKgoRUVFedwuAAAQGgIaqGJjYxUbG9tpveTkZNXU1Ki0tFSTJk2SJG3ZskVNTU1KSkryqA0VFRWaNm2aJk2apA0bNigsrPNOu927dys+nnXlAACAQ0hMm5CYmKiMjAwtWLBA69atU0NDgxYvXqzZs2c73/CrqKhQWlqann/+eU2ZMkWSY+yV1WrVgQMHJEmffvqpBg4cqJEjR2rQoEGqqKhQamqqLrjgAq1Zs0bHjh1znrOl5+sPf/iDIiMjNXHiRElSfn6+nn32WT399NP+vAUAACCIhUSgkqSNGzdq8eLFSktLU1hYmGbNmqUnnnjCub2hoUH79+/XyZMnnWXr1q3Tr371K+f3q6++WpK0YcMGzZ07V4WFhTpw4IAOHDighIQEl/OdPZvEww8/rH/961+KiIjQuHHj9PLLLysrK8tXlwoAAEJMSMxDFeqYhwoAgNDT4+ahAgAACGYEKgAAAA8RqAAAADxEoAIAAPAQgQoAAMBDBCoAAAAPEagAAAA8RKACAADwEIEKAADAQwQqAAAADxGoAAAAPESgAgAA8BCBCgAAwEMEKgAAAA8RqAAAADxEoAIAAPAQgQoAAMBDBCoAAAAPEagAAAA8RKACAADwEIEKAADAQwQqAAAADxGoAAAAPESgAgAA8BCBCgAAwEMEKgAAAA8RqAAAADxEoAIAAPAQgQoAAMBDBCoAAAAPEagAAAA8RKACAADwEIEKAADAQwQqAAAADxGoAAAAPBQygaq6ulrZ2dkym82KiYnR/PnzVVdX1+E+69evV2pqqsxms0wmk2pqalrVGTVqlEwmk8tn1apVLnU++eQTpaSkqG/fvrJYLHrssce8eWkAACDEhUygys7O1t69e1VYWKg333xTH3zwgRYuXNjhPidPnlRGRobuu+++Dus99NBDqqysdH7uuusu5zabzabrrrtOF1xwgUpLS7V69Wo9+OCDWr9+vVeuCwAAhL6IQDfAHWVlZSooKNCuXbs0efJkSdKTTz6pGTNmaM2aNRo+fHib++Xk5EiSioqKOjz+wIEDFRcX1+a2jRs36syZM3r22WcVGRmpSy65RLt379Zvf/vbdgNdfX296uvrnd9tNlsnVwgAAEJZSPRQlZSUKCYmxhmmJCk9PV1hYWHasWOHx8dftWqVBg8erIkTJ2r16tVqbGx0OffVV1+tyMhIZ9n06dO1f/9+ffXVV20eb+XKlYqOjnZ+LBaLx20EAADBKyQCldVq1dChQ13KIiIiNGjQIFmtVo+Offfdd+ull17S1q1bdccdd+iRRx7RT3/6U5dzDxs2zGWflu/tnXvFihWqra11fsrLyz1qIwAACG4BfeS3fPlyPfroox3WKSsr82kbli5d6vzn73znO4qMjNQdd9yhlStXKioqqlvHjIqK6va+AAAg9AQ0UC1btkxz587tsM6YMWMUFxeno0ePupQ3Njaqurq63bFP3ZWUlKTGxkYdOnRIY8eOVVxcnKqqqlzqtHz39rkBAEBoCmigio2NVWxsbKf1kpOTVVNTo9LSUk2aNEmStGXLFjU1NSkpKcmrbdq9e7fCwsKcjxiTk5P185//XA0NDerTp48kqbCwUGPHjtX555/v1XMDAIDQFBJjqBITE5WRkaEFCxZo586d2rZtmxYvXqzZs2c73/CrqKjQuHHjtHPnTud+VqtVu3fv1oEDByRJn376qXbv3q3q6mpJjgHnubm52rNnj/75z39q48aNuueee3TLLbc4w9LNN9+syMhIzZ8/X3v37tXLL7+stWvXujwqBAAAvZwRIo4fP27MmTPHGDBggGE2m4158+YZJ06ccG4/ePCgIcnYunWrs+yBBx4wJLX6bNiwwTAMwygtLTWSkpKM6Ohoo2/fvkZiYqLxyCOPGKdPn3Y59549e4ypU6caUVFRxogRI4xVq1Z1qe21tbWGJKO2trbb1w8AAPyrK7/fJsMwjMDFud7BZrMpOjpatbW1MpvNgW4OAABwQ1d+v0PikR8AAEAwI1ABAAB4iEAFAADgIQIVAACAhwhUAAAAHiJQAQAAeIhABQAA4CECFQAAgIcIVAAAAB4iUAEAAHiIQAUAAOAhAhUAAICHCFQAAAAeIlABAAB4iEAFAADgIQIVAACAhwhUAAAAHiJQAQAAeIhABQAA4CECFQAAgIciAt0AdJ+9ya7iw8WqPFGp+IHxShmZovCw8EA3CwCAXodAFaLyy/K1pGCJjtiOOMsSzAlam7FWmYmZAWwZAAC9D4/8QlB+Wb6yXslyCVOSVGGrUNYrWcovyw9QywAA6J0IVCHG3mTXkoIlMmS02tZSllOQI3uT3d9NAwCg1yJQhZjiw8WteqbOZshQua1cxYeL/dgqAAB6NwJViKk8UenVegAAwHMEqhATPzDeq/UAAIDnCFQhJmVkihLMCTLJ1OZ2k0yymC1KGZni55YBANB7EahCTHhYuNZmrJWkVqGq5XtuRi7zUQEA4EcEqhCUmZipvJvyNMI8wqU8wZygvJvymIcKAAA/MxmG0fr9e3iVzWZTdHS0amtrZTabvXZcZkoHAMB3uvL7zUzpISw8LFypo1ID3QwAAHo9HvkBAAB4iEAFAADgoZAJVNXV1crOzpbZbFZMTIzmz5+vurq6DvdZv369UlNTZTabZTKZVFNT47K9qKhIJpOpzc+uXbskSYcOHWpz+1//+ldfXSoAAAgxIROosrOztXfvXhUWFurNN9/UBx98oIULF3a4z8mTJ5WRkaH77ruvze1XXXWVKisrXT633367Ro8ercmTJ7vUfe+991zqTZo0yWvXBgAAQltIDEovKytTQUGBdu3a5Qw6Tz75pGbMmKE1a9Zo+PDhbe6Xk5MjydET1ZbIyEjFxcU5vzc0NOj111/XXXfdJZPJdY6nwYMHu9QFAABoERI9VCUlJYqJiXHpNUpPT1dYWJh27NjhtfO88cYbOn78uObNm9dq2w033KChQ4dq6tSpeuONNzo8Tn19vWw2m8snmNmb7Co6VKQXP31RRYeKZG+yB7pJAACElJDoobJarRo6dKhLWUREhAYNGiSr1eq18zzzzDOaPn26EhISnGUDBgzQb37zG/3bv/2bwsLC9Oqrr+rGG2/UH//4R91www1tHmflypX61a9+5bV2+VJ+Wb6WFCzREdsRZ1mCOUFrM9YyQSgAAG4KaA/V8uXL2x0U3vLZt2+fX9py5MgRvfPOO5o/f75L+ZAhQ7R06VIlJSXpiiuu0KpVq3TLLbdo9erV7R5rxYoVqq2tdX7Ky8t93fxuyS/LV9YrWS5hSpIqbBXKeiVL+WX5AWoZAAChJaA9VMuWLdPcuXM7rDNmzBjFxcXp6NGjLuWNjY2qrq722rimDRs2aPDgwe32Op0tKSlJhYWF7W6PiopSVFSUV9rlK/Ymu5YULJGh1hPlGzJkkkk5BTmaOXYms68DANCJgAaq2NhYxcbGdlovOTlZNTU1Ki0tdb5dt2XLFjU1NSkpKcnjdhiGoQ0bNujWW29Vnz59Oq2/e/duxcfHe3zeQCo+XNyqZ+pshgyV28pVfLiY2dgBAOhESIyhSkxMVEZGhhYsWKB169apoaFBixcv1uzZs51v+FVUVCgtLU3PP/+8pkyZIskx9spqterAgQOSpE8//VQDBw7UyJEjNWjQIOfxt2zZooMHD+r2229vde4//OEPioyM1MSJEyVJ+fn5evbZZ/X000/7+rJ9qvJEpVfrAQDQm4VEoJKkjRs3avHixUpLS1NYWJhmzZqlJ554wrm9oaFB+/fv18mTJ51l69atcxkcfvXVV0tyPN47+1HjM888o6uuukrjxo1r89wPP/yw/vWvfykiIkLjxo3Tyy+/rKysLC9foX/FD3Svh83degAA9GYmwzBaD6KBV3VltWp/sTfZNWrtKFXYKtocR2WSSQnmBB1ccpAxVACAXqkrv98hMQ8VvC88LFxrM9ZKcoSns7V8z83IJUwBAOAGAlUvlpmYqbyb8jTCPMKlPMGcoLyb8piHCgAAN/HIzw+C8ZHf2exNdhUfLlbliUrFD4xXysgUeqYAAL1eV36/Q2ZQOnwnPCycqREAAPAAj/wAAAA8RKACAADwEIEKAADAQwQqAAAADxGoAAAAPESgAgAA8BCBCgAAwEMEKgAAAA8RqAAAADzETOl+0LK6j81mC3BLAACAu1p+t91ZpY9A5QcnTpyQJFkslgC3BAAAdNWJEycUHR3dYR0WR/aDpqYmffHFFxo4cKBMJlOgmxNSbDabLBaLysvLg3Jh6WDH/fMM989z3EPPcP884+n9MwxDJ06c0PDhwxUW1vEoKXqo/CAsLEwJCQmBbkZIM5vN/MfEA9w/z3D/PMc99Az3zzOe3L/OeqZaMCgdAADAQwQqAAAADxGoENSioqL0wAMPKCoqKtBNCUncP89w/zzHPfQM988z/rx/DEoHAADwED1UAAAAHiJQAQAAeIhABQAA4CECFQAAgIcIVAio6upqZWdny2w2KyYmRvPnz1ddXV2H9e+66y6NHTtW/fr108iRI3X33XertrbWpd7hw4d1/fXXq3///ho6dKh+8pOfqLGx0deX43ddvX+StH79eqWmpspsNstkMqmmpqZVnVGjRslkMrl8Vq1a5aOrCCxf3cPuHDcUdec6T58+rUWLFmnw4MEaMGCAZs2apaqqKpc65/77ZzKZ9NJLL/nyUvziv//7vzVq1Cj17dtXSUlJ2rlzZ4f1N2/erHHjxqlv37669NJL9fbbb7tsNwxD999/v+Lj49WvXz+lp6frH//4hy8vIaC8ff/mzp3b6t+zjIyM7jXOAAIoIyPDuOyyy4y//vWvRnFxsXHhhRcac+bMabf+p59+amRmZhpvvPGGceDAAeP99983LrroImPWrFnOOo2Njca3v/1tIz093fj444+Nt99+2xgyZIixYsUKf1ySX3X1/hmGYTz++OPGypUrjZUrVxqSjK+++qpVnQsuuMB46KGHjMrKSuenrq7OR1cRWL66h905bijqznX+6Ec/MiwWi/H+++8bH330kXHllVcaV111lUsdScaGDRtc/h08deqULy/F51566SUjMjLSePbZZ429e/caCxYsMGJiYoyqqqo262/bts0IDw83HnvsMePvf/+78Ytf/MLo06eP8emnnzrrrFq1yoiOjjb++Mc/Gnv27DFuuOEGY/To0SF/r9rii/t32223GRkZGS7/nlVXV3erfQQqBMzf//53Q5Kxa9cuZ9mf//xnw2QyGRUVFW4f55VXXjEiIyONhoYGwzAM4+233zbCwsIMq9XqrPP73//eMJvNRn19vfcuIMA8vX9bt27tMFA9/vjjXmxtcPLVPfTWv9vBrjvXWVNTY/Tp08fYvHmzs6ysrMyQZJSUlDjLJBmvvfaaz9oeCFOmTDEWLVrk/G63243hw4cbK1eubLP+TTfdZFx//fUuZUlJScYdd9xhGIZhNDU1GXFxccbq1aud22tqaoyoqCjjxRdf9MEVBJa3759hOALVzJkzvdI+HvkhYEpKShQTE6PJkyc7y9LT0xUWFqYdO3a4fZza2lqZzWZFREQ4j3vppZdq2LBhzjrTp0+XzWbT3r17vXcBAeat+9eeVatWafDgwZo4caJWr17dIx+Z+uoe+vp/m2DRnessLS1VQ0OD0tPTnWXjxo3TyJEjVVJS4lJ30aJFGjJkiKZMmaJnn31WRghPm3jmzBmVlpa6XHdYWJjS09NbXXeLkpISl/qS479lLfUPHjwoq9XqUic6OlpJSUntHjNU+eL+tSgqKtLQoUM1duxY/fjHP9bx48e71UYWR0bAWK1WDR061KUsIiJCgwYNktVqdesYX375pR5++GEtXLjQ5bhnhylJzu/uHjcUeOP+tefuu+/W5ZdfrkGDBmn79u1asWKFKisr9dvf/taj4wYbX91DX/5vE0y6c51Wq1WRkZGKiYlxKR82bJjLPg899JCuvfZa9e/fX++++67uvPNO1dXV6e677/b6dfjDl19+Kbvd3uZ/m/bt29fmPu39t6zlPrX87ahOT+GL+ydJGRkZyszM1OjRo/X555/rvvvu0/e+9z2VlJQoPDy8S20kUMHrli9frkcffbTDOmVlZR6fx2az6frrr9f48eP14IMPeny8YOGv+9eRpUuXOv/5O9/5jiIjI3XHHXdo5cqVIbEERjDcw1AWDPfvl7/8pfOfJ06cqK+//lqrV68O2UCF4DR79mznP1966aX6zne+o29961sqKipSWlpal45FoILXLVu2THPnzu2wzpgxYxQXF6ejR4+6lDc2Nqq6ulpxcXEd7n/ixAllZGRo4MCBeu2119SnTx/ntri4uFZvfrS8QdTZcYOBP+5fVyUlJamxsVGHDh3S2LFjvXpsXwj0PfTn/za+4Mv7FxcXpzNnzqimpsall6qqqqrDe5OUlKSHH35Y9fX1IRHqzzVkyBCFh4e3epuxo+uOi4vrsH7L36qqKsXHx7vUmTBhghdbH3i+uH9tGTNmjIYMGaIDBw50OVAxKB0B0zKg9aOPPnKWvfPOO50O3K2trTWuvPJK45prrjG+/vrrVttbBqWf/ebHU089ZZjNZuP06dPevYgA6u79a9HRoPRzvfDCC0ZYWFi3334JVr66h54eN1R05zpbBqXn5eU5y/bt29dqUPq5fv3rXxvnn3++9xofAFOmTDEWL17s/G63240RI0Z0OKj63//9313KkpOTWw1KX7NmjXN7bW1tjx6U7s3715by8nLDZDIZr7/+epfbR6BCQGVkZBgTJ040duzYYXz44YfGRRdd5PLK9ZEjR4yxY8caO3bsMAzD8R+LpKQk49JLLzUOHDjg8qprY2OjYRjfTJtw3XXXGbt37zYKCgqM2NjYHjttQlfun2EYRmVlpfHxxx8b//M//2NIMj744APj448/No4fP24YhmFs377dePzxx43du3cbn3/+ufHCCy8YsbGxxq233ur36/MHX9xDd47bU3Tn/v3oRz8yRo4caWzZssX46KOPjOTkZCM5Odm5/Y033jD+53/+x/j000+Nf/zjH8bvfvc7o3///sb999/v12vztpdeesmIiooynnvuOePvf/+7sXDhQiMmJsb5RvJ//Md/GMuXL3fW37ZtmxEREWGsWbPGKCsrMx544IE2p02IiYkxXn/9deOTTz4xZs6c2aOnTfDm/Ttx4oRx7733GiUlJcbBgweN9957z7j88suNiy66qFv/55tAhYA6fvy4MWfOHGPAgAGG2Ww25s2bZ5w4ccK5/eDBg4YkY+vWrYZhfNMj0Nbn4MGDzv0OHTpkfO973zP69etnDBkyxFi2bJlzWoWepKv3zzAM44EHHmjz/m3YsMEwDMMoLS01kpKSjOjoaKNv375GYmKi8cgjj/So3r2z+eIeunPcnqI79+/UqVPGnXfeaZx//vlG//79je9///tGZWWlc/uf//xnY8KECcaAAQOM8847z7jsssuMdevWGXa73Z+X5hNPPvmkMXLkSCMyMtKYMmWK8de//tW57ZprrjFuu+02l/qvvPKKcfHFFxuRkZHGJZdcYrz11lsu25uamoxf/vKXxrBhw4yoqCgjLS3N2L9/vz8uJSC8ef9OnjxpXHfddUZsbKzRp08f44ILLjAWLFjgMuVOV5gMI4TfQwUAAAgCzEMFAADgIQIVAACAhwhUAAAAHiJQAQAAeIhABQAA4CECFQAAgIcIVAAAAB4iUAEAAHiIQAUAbhg1apRyc3MD3QwAQYpABaDXmzt3rkwmU6tPRkaGs86uXbu0cOHCbp9jz549ioyM1BtvvOFS/uqrr6pv37767LPPun1sAIHH0jMAer25c+eqqqpKGzZscCmPiorS+eef77Xz/PrXv9Z//dd/ae/evRo8eLCOHj2qSy65RPfee69+9rOfee08APyPHioAkCM8xcXFuXzODlPnPvKrqanR7bffrtjYWJnNZl177bXas2dPh+dYsWKFRo4cqUWLFkmS7rjjDl100UW69957fXJNAPwnItANAIBQ9IMf/ED9+vXTn//8Z0VHR+upp55SWlqa/u///k+DBg1qc5/w8HD94Q9/0OWXX66bb75Z77zzjnbv3q3w8HA/tx6At9FDBQCS3nzzTQ0YMMDl88gjj7RZ98MPP9TOnTu1efNmTZ48WRdddJHWrFmjmJgY5eXldXiexMRE5eTk6MUXX9SDDz6oiy++2BeXA8DP6KECAEnTpk3T73//e5ey9nqa9uzZo7q6Og0ePNil/NSpU/r88887PE9dXZ1efvll9e/fX8XFxfrpT3/qWcMBBAUCFQBIOu+883ThhRe6Vbeurk7x8fEqKipqtS0mJqbDfX/yk5+ob9++2r59u6688ko9//zzuvXWW7vRYgDBhEAFAF10+eWXy2q1KiIiQqNGjXJ7v8LCQj399NPavn27LrvsMv36179WTk6Ovvvd7yo+Pt53DQbgc4yhAgBJ9fX1slqtLp8vv/yyzbrp6elKTk7WjTfeqHfffVeHDh3S9u3b9fOf/1wfffRRm/vYbDbNnz9fP/nJT3TFFVdIku655x6NHz/eo/mtAAQHAhUASCooKFB8fLzLZ+rUqW3WNZlMevvtt3X11Vdr3rx5uvjiizV79mz961//0rBhw9rcJycnR9HR0XrwwQedZWFhYdqwYYO2bNmi559/3heXBcBPmNgTANwQHx+vhx9+WLfffnugmwIgCDGGCgA6cPLkSW3btk1VVVW65JJLAt0cAEGKR34A0IH169dr9uzZysnJUXJycqCbAyBI8cgPAADAQ/RQAQAAeIhABQAA4CECFQAAgIcIVAAAAB4iUAEAAHiIQAUAAOAhAhUAAICHCFQAAAAe+v84iBybb7ToPAAAAABJRU5ErkJggg==",
      "text/plain": [
       "<Figure size 640x480 with 1 Axes>"
      ]
     },
     "metadata": {},
     "output_type": "display_data"
    }
   ],
   "source": [
    "#2d\n",
    "fig = plt.figure()\n",
    "\n",
    "colors = dict(zip(fruit_types,['green','yellow','red','orange']))\n",
    "center_colors  = dict(zip(fruit_types,['blue','brown','black','cyan']))\n",
    "\n",
    "for fruit, points in features.items():\n",
    "    plt.scatter(points[:, 0], points[:, 1], c = colors[fruit], label=fruit)\n",
    "\n",
    "plt.xlabel('Eje X')\n",
    "plt.ylabel('Eje Y')\n",
    "\n",
    "plt.show()"
   ]
  },
  {
   "cell_type": "code",
   "execution_count": null,
   "metadata": {},
   "outputs": [],
   "source": [
    "#3d\n",
    "fig = plt.figure()\n",
    "ax = fig.add_subplot(111, projection='3d')\n",
    "for fruit, points in features.items():\n",
    "    ax.scatter(points[:, 0], points[:, 1], points[:, 2], c=colors[fruit], marker='o', label=fruit)\n",
    "    #ax.scatter(centers[fruit][:, 0], centers[fruit][:, 1], centers[fruit][:, 2], c=center_colors[fruit], marker='o', label=f\"{fruit}-center\")\n",
    "\n",
    "# configure labels\n",
    "ax.set_xlabel('Eje X')\n",
    "ax.set_ylabel('Eje Y')\n",
    "ax.set_zlabel('Eje Z')\n",
    "plt.show()"
   ]
  },
  {
   "attachments": {},
   "cell_type": "markdown",
   "metadata": {},
   "source": [
    "**PRUEBA ENVOLVENTES**"
   ]
  },
  {
   "cell_type": "code",
   "execution_count": null,
   "metadata": {},
   "outputs": [],
   "source": [
    "fruit = 'pera'\n",
    "indice = 6\n",
    "\n",
    "\n",
    "# Función para cargar la señal de audio y calcular la envolvente\n",
    "def calculate_amplitude_envelope(file_path):\n",
    "    # Cargar la señal de audio\n",
    "    signal, sr = librosa.load(file_path, sr=None)\n",
    "\n",
    "    # Calcular la transformada de Hilbert\n",
    "    analytic_signal = hilbert(signal)\n",
    "\n",
    "    # Calcular la envolvente de amplitud\n",
    "    amplitude_envelope = np.abs(analytic_signal)\n",
    "\n",
    "    return signal, sr, amplitude_envelope\n",
    "\n",
    "# Ruta de tu archivo de audio\n",
    "file_path = fruits[fruit][indice]\n",
    "\n",
    "# Calcular la señal y la envolvente de amplitud\n",
    "original_signal, sr, amplitude_envelope = calculate_amplitude_envelope(file_path)\n",
    "\n",
    "# Crear el gráfico\n",
    "plt.figure(figsize=(12, 6))\n",
    "\n",
    "# Visualizar la señal original\n",
    "plt.subplot(2, 1, 1)\n",
    "plt.plot(np.arange(len(original_signal)) / sr, original_signal)\n",
    "plt.title('Señal Original')\n",
    "plt.xlabel('Tiempo (s)')\n",
    "plt.ylabel('Amplitud')\n",
    "\n",
    "# Visualizar la envolvente de amplitud\n",
    "plt.subplot(2, 1, 2)\n",
    "plt.plot(np.arange(len(amplitude_envelope)) / sr, amplitude_envelope, alpha=0.5)\n",
    "plt.title('Envolvente de Amplitud')\n",
    "plt.xlabel('Tiempo (s)')\n",
    "plt.ylabel('Amplitud')\n",
    "\n",
    "# Ajustar el diseño del gráfico\n",
    "plt.tight_layout()\n",
    "plt.show()\n"
   ]
  },
  {
   "cell_type": "code",
   "execution_count": null,
   "metadata": {},
   "outputs": [],
   "source": [
    "from scipy.signal import hilbert, butter, filtfilt\n",
    "\n",
    "fruit = 'pera'\n",
    "indice = 6\n",
    "\n",
    "# Función para cargar la señal de audio y calcular la envolvente suavizada\n",
    "def calculate_smoothed_envelope(file_path, cutoff_frequency=10.0):\n",
    "    # Cargar la señal de audio\n",
    "    signal, sr = librosa.load(file_path, sr=None)\n",
    "\n",
    "    # Calcular la transformada de Hilbert\n",
    "    analytic_signal = hilbert(signal)\n",
    "\n",
    "    # Calcular la envolvente de amplitud\n",
    "    amplitude_envelope = np.abs(analytic_signal)\n",
    "\n",
    "    # Aplicar filtro pasa bajos para suavizar la envolvente\n",
    "    nyquist = 0.5 * sr\n",
    "    cutoff = cutoff_frequency / nyquist\n",
    "    b, a = butter(N=6, Wn=cutoff, btype='low', analog=False, output='ba')\n",
    "    print(f\"(b, a): ({b},{a})\")\n",
    "    smoothed_envelope = filtfilt(b, a, amplitude_envelope)\n",
    "\n",
    "    return signal, sr, amplitude_envelope, smoothed_envelope\n",
    "\n",
    "# Ruta de tu archivo de audio\n",
    "file_path = fruits[fruit][indice]\n",
    "\n",
    "# Calcular la señal y las envolventes\n",
    "original_signal, sr, amplitude_envelope, smoothed_envelope = calculate_smoothed_envelope(file_path, 50)\n",
    "\n",
    "# Crear el gráfico\n",
    "plt.figure(figsize=(12, 8))\n",
    "\n",
    "# Visualizar la señal original\n",
    "plt.subplot(3, 1, 1)\n",
    "plt.plot(np.arange(len(original_signal)) / sr, original_signal)\n",
    "plt.title('Señal Original')\n",
    "plt.xlabel('Tiempo (s)')\n",
    "plt.ylabel('Amplitud')\n",
    "\n",
    "# Visualizar la envolvente de amplitud\n",
    "plt.subplot(3, 1, 2)\n",
    "plt.plot(np.arange(len(amplitude_envelope)) / sr, amplitude_envelope, alpha=0.5, label='Envolvente Original')\n",
    "plt.title('Envolvente de Amplitud Original')\n",
    "plt.xlabel('Tiempo (s)')\n",
    "plt.ylabel('Amplitud')\n",
    "plt.legend()\n",
    "\n",
    "# Visualizar la envolvente suavizada\n",
    "print(len(smoothed_envelope))\n",
    "plt.subplot(3, 1, 3)\n",
    "plt.plot(np.arange(len(smoothed_envelope)) / sr, smoothed_envelope, label='Envolvente Suavizada', color='orange')\n",
    "plt.title('Envolvente de Amplitud Suavizada')\n",
    "plt.xlabel('Tiempo (s)')\n",
    "plt.ylabel('Amplitud')\n",
    "plt.legend()\n",
    "\n",
    "# Ajustar el diseño del gráfico\n",
    "plt.tight_layout()\n",
    "plt.show()\n",
    "\n",
    "# Mostrar el gráfico\n",
    "plt.show()"
   ]
  },
  {
   "attachments": {},
   "cell_type": "markdown",
   "metadata": {},
   "source": [
    "**PRUEBA MFCCS**\n",
    "\n",
    "Se hizo la graficación en función del número de vector de las componentes de mel (13)\n",
    "\n",
    "Se hizo sobre el audio 6 de todos los grupos tanto para el caso original, recortado (35) y ajustado (todos los audios de todos los grupos con la misma duración).\n",
    "\n",
    "Se normalizaron los vectores respecto de la norma euclidea del mas grande de todos a lo largo del audio.\n",
    "\n",
    "Algunas conclusiones que se sacaron de este análisis es que:\n",
    "- Solamente el 1 y 2 coeficientes de mel se separan del resto de los coeficientes para todas las frutas\n",
    "- El resto de los coeficientes se encuentran agrupados cera del cero\n",
    "- Aunque el resto de las componentes se presenten agrupadas se pueden identificar variaciones carácteristicas para cada fruta\n",
    "- Cuando se aplica el ajuste de tiempo por compresión se puede notar que se suaviza la variación de los mfccs (todos) y por lo tanto se pierden las variaciones características de los coeficientes de mel para cada fruta\n"
   ]
  },
  {
   "cell_type": "code",
   "execution_count": null,
   "metadata": {},
   "outputs": [],
   "source": [
    "# Cargar la señal de audio\n",
    "fruit = 'naranja'\n",
    "indice = 6\n",
    "audio_path = adjusted_audio[fruit][indice]\n",
    "\n",
    "audio_signal, sr = librosa.load(audio_path, sr=None)\n",
    "\n",
    "# Calcular los MFCCs\n",
    "mfccs = librosa.feature.mfcc(y=audio_signal, sr=sr, n_mfcc=13)\n",
    "\n",
    "# Normalizar cada vector de MFCC según la norma euclidiana\n",
    "mfccs_normalized = mfccs / np.max(np.linalg.norm(mfccs, axis=0))\n",
    "mfccs_normalized = mfccs_normalized.T\n",
    "for i in range(mfccs_normalized.shape[1]):  # Recorrer cada componente\n",
    "    plt.plot(mfccs_normalized[:, i], label=f'{i + 1}')\n",
    "\n",
    "plt.legend()\n",
    "plt.title(f\"Evolución de los MFCCs Normalizados {fruit}\")\n",
    "plt.xlabel('Tiempo (s)')\n",
    "plt.ylabel('Número de Componente MFCC')\n",
    "plt.show()"
   ]
  },
  {
   "attachments": {},
   "cell_type": "markdown",
   "metadata": {},
   "source": [
    "**PRUEBA CON LAS MEDIAS DE LOS COEFICIENTES DE MEL**\n",
    "Se hizo ahora la comparción de las medias de los mfccs a lo largo de las columnas para un mismo audio (6) para cada grupo de frutas. Tanto para los audios originales, los recortados y los ajustados.\n",
    "\n",
    "Se observo qué:\n",
    "\n",
    "- Las medias no se diferencian notablemente entre las frutas"
   ]
  },
  {
   "cell_type": "code",
   "execution_count": null,
   "metadata": {},
   "outputs": [],
   "source": [
    "# Cargar la señal de audio\n",
    "fruit = 'naranja'\n",
    "indice = 6\n",
    "audio_path = fruits[fruit][indice]\n",
    "\n",
    "audio_signal, sr = librosa.load(audio_path, sr=None)\n",
    "\n",
    "# Calcular los MFCCs\n",
    "mfccs = librosa.feature.mfcc(y=audio_signal, sr=sr, n_mfcc=13)\n",
    "mfccs = np.mean(mfccs.T, axis = 0)\n",
    "mfccs = mfccs.reshape(-1, 1)\n",
    "mfccs = mfccs/np.linalg.norm(mfccs, axis = 0)\n",
    "\n",
    "plt.plot(mfccs, label=f'{i + 1}')\n",
    "\n",
    "plt.legend()\n",
    "plt.title(f\"Evolución de los MFCCs Normalizados {fruit}\")\n",
    "plt.xlabel('Tiempo (s)')\n",
    "plt.ylabel('Número de Componente MFCC')\n",
    "plt.show()"
   ]
  },
  {
   "attachments": {},
   "cell_type": "markdown",
   "metadata": {},
   "source": [
    "**COMPARACIÓN DE CON LOS DELTAS Y LOS DELTASDELTAS**\n",
    "Se hizo lo mismo que al inicio para los mfccs, es decir, la representación de la variación del delta mfccs en funcón del número de componente para todos los grupos de audios para todos los grupos de frutas\n",
    "\n",
    "Se concluyo qué:\n",
    "\n",
    "- Existen diferencias mas notables entre grupos de frutas."
   ]
  },
  {
   "cell_type": "code",
   "execution_count": null,
   "metadata": {},
   "outputs": [],
   "source": [
    "# Cargar la señal de audio\n",
    "fruit = 'manzana'\n",
    "indice = 6\n",
    "audio_path = fruits[fruit][indice]\n",
    "\n",
    "audio_signal, sr = librosa.load(audio_path, sr=None)\n",
    "\n",
    "# Calcular los MFCCs\n",
    "mfccs = librosa.feature.mfcc(y=audio_signal, sr=sr, n_mfcc=13)\n",
    "delta_mfccs = librosa.feature.delta(mfccs, order = 2)\n",
    "\n",
    "# Normalizar cada vector de MFCC según la norma euclidiana\n",
    "delta_mfccs_normalized = delta_mfccs / np.max(np.linalg.norm(delta_mfccs, axis=0))\n",
    "delta_mfccs_normalized = delta_mfccs_normalized.T\n",
    "\n",
    "for i in range(delta_mfccs_normalized.shape[1]):  # Recorrer cada componente\n",
    "    plt.plot(delta_mfccs_normalized[:, i], label=f'{i + 1}')\n",
    "\n",
    "plt.legend()\n",
    "plt.title(f\"Evolución de los MFCCs Normalizados {fruit}\")\n",
    "plt.xlabel('Tiempo (s)')\n",
    "plt.ylabel('Número de Componente MFCC')\n",
    "plt.show()"
   ]
  },
  {
   "attachments": {},
   "cell_type": "markdown",
   "metadata": {},
   "source": [
    "**FFT DE LOS DELTAMFFCS**"
   ]
  },
  {
   "cell_type": "code",
   "execution_count": null,
   "metadata": {},
   "outputs": [],
   "source": [
    "# Cargar la señal de audio\n",
    "fruit = 'banana'\n",
    "indice = 6\n",
    "audio_path = adjusted_audio[fruit][indice]\n",
    "\n",
    "audio_signal, sr = librosa.load(audio_path, sr=None)\n",
    "\n",
    "# Calcular los MFCCs\n",
    "mfccs = librosa.feature.mfcc(y=audio_signal, sr=sr, n_mfcc=13)\n",
    "delta_mfccs = librosa.feature.delta(mfccs)\n",
    "\n",
    "# Normalizar cada vector de MFCC según la norma euclidiana\n",
    "delta_mfccs_normalized = delta_mfccs / np.max(np.linalg.norm(delta_mfccs, axis=0))\n",
    "\n",
    "t = np.linspace(0, 1, delta_mfccs_normalized.shape[1])\n",
    "ts = 1/(len(t)-1)\n",
    "fs = 1/ts\n",
    "\n",
    "fft_result = np.fft.fft(delta_mfccs_normalized, axis=1)\n",
    "fft_freqs = np.fft.fftfreq(len(t), 1/fs)\n",
    "\n",
    "# Graficar los resultados\n",
    "plt.figure(figsize=(10, 6))\n",
    "\n",
    "for i in range(len(delta_mfccs_normalized)):\n",
    "    plt.subplot(len(delta_mfccs_normalized), 2, 2 * i + 2)\n",
    "    plt.bar(fft_freqs, np.abs(fft_result[i, :]), width=fs/len(t), align='center')\n",
    "\n",
    "#plt.tight_layout()\n",
    "plt.show()"
   ]
  },
  {
   "attachments": {},
   "cell_type": "markdown",
   "metadata": {},
   "source": [
    "**MEDIA DE LOS DELTA MFCCS**"
   ]
  },
  {
   "cell_type": "code",
   "execution_count": null,
   "metadata": {},
   "outputs": [],
   "source": [
    "# Cargar la señal de audio\n",
    "fruit = 'naranja'\n",
    "indice = 6\n",
    "audio_path = fruits[fruit][indice]\n",
    "\n",
    "audio_signal, sr = librosa.load(audio_path, sr=None)\n",
    "\n",
    "# Calcular los MFCCs\n",
    "mfccs = librosa.feature.mfcc(y=audio_signal, sr=sr, n_mfcc=13)\n",
    "mfccs = librosa.feature.delta(mfccs, order = 2)\n",
    "mfccs = np.mean(mfccs.T, axis = 0)\n",
    "mfccs = mfccs.reshape(-1, 1)\n",
    "mfccs = mfccs/np.linalg.norm(mfccs, axis = 0)\n",
    "\n",
    "plt.plot(mfccs, label=f'{i + 1}')\n",
    "\n",
    "plt.legend()\n",
    "plt.title(f\"Evolución de los MFCCs Normalizados {fruit}\")\n",
    "plt.xlabel('Tiempo (s)')\n",
    "plt.ylabel('Número de Componente MFCC')\n",
    "plt.show()"
   ]
  }
 ],
 "metadata": {
  "kernelspec": {
   "display_name": "Python 3",
   "language": "python",
   "name": "python3"
  },
  "language_info": {
   "codemirror_mode": {
    "name": "ipython",
    "version": 3
   },
   "file_extension": ".py",
   "mimetype": "text/x-python",
   "name": "python",
   "nbconvert_exporter": "python",
   "pygments_lexer": "ipython3",
   "version": "3.11.5"
  },
  "orig_nbformat": 4
 },
 "nbformat": 4,
 "nbformat_minor": 2
}
{
 "cells": [
  {
   "cell_type": "code",
   "execution_count": null,
   "metadata": {},
   "outputs": [],
   "source": []
  },
  {
   "cell_type": "code",
   "execution_count": null,
   "metadata": {},
   "outputs": [],
   "source": []
  },
  {
   "cell_type": "code",
   "execution_count": 1,
   "metadata": {},
   "outputs": [],
   "source": [
    "import os\n",
    "import librosa\n",
    "import librosa.display\n",
    "import IPython.display as ipd\n",
    "import numpy as np\n",
    "import matplotlib.pyplot as plt\n",
    "from scipy.signal import butter, filtfilt\n",
    "from scipy.spatial.distance import pdist, cdist\n",
    "from mpl_toolkits.mplot3d import Axes3D\n",
    "import soundfile as sf\n",
    "from prettytable import PrettyTable\n",
    "from scipy.signal import hilbert\n",
    "import numpy as np\n",
    "from sklearn.decomposition import PCA\n",
    "from sklearn.model_selection import train_test_split\n",
    "from sklearn.neighbors import KNeighborsClassifier\n",
    "from sklearn.metrics import accuracy_score\n",
    "from scipy.signal import hilbert, butter, filtfilt"
   ]
  },
  {
   "attachments": {},
   "cell_type": "markdown",
   "metadata": {},
   "source": [
    "**DICCIONARIOS CON LAS RUTAS**"
   ]
  },
  {
   "cell_type": "code",
   "execution_count": 2,
   "metadata": {},
   "outputs": [],
   "source": [
    "fruit_types = ['pera', 'banana', 'manzana', 'naranja']\n",
    "fruits = {fruit: [] for fruit in fruit_types}\n",
    "root_dir = '../../dataset'\n",
    "\n",
    "for dirname, _, filenames in os.walk(root_dir):\n",
    "    fruit_type = os.path.basename(dirname)\n",
    "    if fruit_type in fruit_types:\n",
    "        fruits[fruit_type].extend([os.path.join(dirname, filename) for filename in filenames if filename.endswith('.wav')])"
   ]
  },
  {
   "cell_type": "code",
   "execution_count": 290,
   "metadata": {},
   "outputs": [],
   "source": [
    "trimed_audio = {fruit: [] for fruit in fruit_types}\n",
    "for dirname, _, filenames in os.walk(root_dir):\n",
    "    trimpath = os.path.basename(dirname)\n",
    "\n",
    "    if trimpath in 'trimed':\n",
    "        fruit_type = os.path.basename(os.path.dirname(dirname))\n",
    "        if fruit_type in fruit_types:\n",
    "            trimed_audio[fruit_type].extend([os.path.join(dirname, filename) for filename in filenames if filename.endswith('.wav')])"
   ]
  },
  {
   "cell_type": "code",
   "execution_count": 289,
   "metadata": {},
   "outputs": [],
   "source": [
    "adjusted_audio = {fruit: [] for fruit in fruit_types}\n",
    "for dirname, _, filenames in os.walk(root_dir):\n",
    "    adjustedpath = os.path.basename(dirname)\n",
    "\n",
    "    if adjustedpath in 'adjusted':\n",
    "        fruit_type = os.path.basename(os.path.dirname(dirname))\n",
    "        if fruit_type in fruit_types:\n",
    "            adjusted_audio[fruit_type].extend([os.path.join(dirname, filename) for filename in filenames if filename.endswith('.wav')])"
   ]
  },
  {
   "cell_type": "code",
   "execution_count": 3,
   "metadata": {},
   "outputs": [],
   "source": [
    "processed = {fruit: [] for fruit in fruit_types}\n",
    "\n",
    "for dirname, _, filenames in os.walk(root_dir):\n",
    "    path = os.path.basename(dirname)\n",
    "    if path == 'processed':\n",
    "        fruit_type = os.path.basename(os.path.dirname(dirname))\n",
    "        if fruit_type in fruit_types:\n",
    "            processed[fruit_type].extend([os.path.join(dirname, filename) for filename in filenames if filename.endswith('.wav')])"
   ]
  },
  {
   "attachments": {},
   "cell_type": "markdown",
   "metadata": {},
   "source": [
    "**CARACTERISTICAS DEL AUDIO**"
   ]
  },
  {
   "cell_type": "code",
   "execution_count": 5,
   "metadata": {},
   "outputs": [],
   "source": [
    "FRAME_SIZE = 512 # In the documentation says it's convenient for speech.C\n",
    "HOP_SIZE   = int(FRAME_SIZE/2)"
   ]
  },
  {
   "attachments": {},
   "cell_type": "markdown",
   "metadata": {},
   "source": [
    "**FUNCIONES**"
   ]
  },
  {
   "cell_type": "code",
   "execution_count": 6,
   "metadata": {},
   "outputs": [],
   "source": [
    "def load_audio(audiofile):\n",
    "    test_audio, sr = librosa.load(audiofile, sr = None)\n",
    "    duration = librosa.get_duration(filename=audiofile, sr=sr)\n",
    "    return test_audio, sr, duration"
   ]
  },
  {
   "cell_type": "code",
   "execution_count": 7,
   "metadata": {},
   "outputs": [],
   "source": [
    "def calculate_smoothed_envelope(signal, sr, cutoff_frequency = 10.0):\n",
    "    analytic_signal = hilbert(signal)\n",
    "\n",
    "    # Calcular la envolvente de amplitud\n",
    "    amplitude_envelope = np.abs(analytic_signal)\n",
    "\n",
    "    # Aplicar filtro pasa bajos para suavizar la envolvente\n",
    "    nyquist = 0.5 * sr\n",
    "    cutoff = cutoff_frequency / nyquist\n",
    "    b, a = butter(N=6, Wn=cutoff, btype='low', analog=False, output='ba')\n",
    "    \n",
    "    smoothed_envelope = filtfilt(b, a, amplitude_envelope)\n",
    "\n",
    "    return amplitude_envelope, smoothed_envelope"
   ]
  },
  {
   "cell_type": "code",
   "execution_count": 42,
   "metadata": {},
   "outputs": [],
   "source": [
    "def get_features(n_mfcc, fruits):\n",
    "    fruit_vectors = dict.fromkeys(fruits.keys())\n",
    "    \n",
    "    for fruit_name, group in fruits.items():\n",
    "        vectors = list()\n",
    "        for fruit in group:\n",
    "            signal, sr, _ = load_audio(fruit)\n",
    "\n",
    "            mfccs = librosa.feature.mfcc(y=signal, n_mfcc=n_mfcc, sr=sr)\n",
    "            delta_mfccs = librosa.feature.delta(mfccs)\n",
    "            delta2_mfccs = librosa.feature.delta(mfccs, order = 2)\n",
    "            \n",
    "            _, smoothed_envelope = calculate_smoothed_envelope(signal, sr, 65)\n",
    "\n",
    "            selected_indices = np.linspace(0, len(smoothed_envelope) - 1, n_mfcc, dtype=int)\n",
    "            smoothed_envelope = smoothed_envelope[selected_indices]\n",
    "            smoothed_envelope = smoothed_envelope.reshape(-1,1)\n",
    "\n",
    "            smoothed_envelope = smoothed_envelope /np.max(np.linalg.norm(smoothed_envelope , axis=0))\n",
    "            mfccs = mfccs/np.max(np.linalg.norm(mfccs, axis=0))\n",
    "            delta_mfccs  = delta_mfccs/np.max(np.linalg.norm(delta_mfccs, axis=0))\n",
    "            delta2_mfccs = delta2_mfccs/np.max(np.linalg.norm(delta2_mfccs, axis=0))\n",
    "\n",
    "            #features =  np.concatenate((delta_mfccs), axis = 1)\n",
    "            features = delta2_mfccs\n",
    "            features = np.mean(features.T, axis = 0)\n",
    "            vectors.append(features.reshape(1,-1))\n",
    "            \n",
    "        fruit_vectors[fruit_name] = np.vstack(vectors)\n",
    "    return fruit_vectors"
   ]
  },
  {
   "attachments": {},
   "cell_type": "markdown",
   "metadata": {},
   "source": [
    "los que mas producen diferencia de forma individual son:\n",
    "- el delta\n",
    "- el smoothed(las componentes 4 y 5 cuando son 13 nmfccs)\n",
    "- el cmoothed separa muy bien las manzanas, agrupa ien las bananas y en general anda bien\n",
    "- el deltamfccs separa bien a las peras de lo demas\n",
    "- Se vio que la envolvente es la que mejor resultados da, el problema es que solamente cuando el audio esta trimeado"
   ]
  },
  {
   "cell_type": "code",
   "execution_count": 10,
   "metadata": {},
   "outputs": [],
   "source": [
    "def get_sphere(vectors):\n",
    "    center = np.mean(vectors, axis = 0)\n",
    "    center = center.reshape(1, -1)\n",
    "    radius = cdist(center, vectors).max()     # Pairwise distance\n",
    "    return radius, center"
   ]
  },
  {
   "cell_type": "code",
   "execution_count": 11,
   "metadata": {},
   "outputs": [],
   "source": [
    "def get_centers(features):\n",
    "    centers = dict.fromkeys(features.keys())\n",
    "    for fruit, group in features.items():\n",
    "        _, center = get_sphere(group)\n",
    "        centers[fruit] = center\n",
    "    return centers"
   ]
  },
  {
   "cell_type": "code",
   "execution_count": 12,
   "metadata": {},
   "outputs": [],
   "source": [
    "def get_radiuses(features):\n",
    "    radiuses = dict.fromkeys(features.keys())\n",
    "    for fruit, group in features.items():\n",
    "        radius, _ = get_sphere(group)\n",
    "        radiuses[fruit] = radius\n",
    "    return radiuses"
   ]
  },
  {
   "cell_type": "code",
   "execution_count": 13,
   "metadata": {},
   "outputs": [],
   "source": [
    "def get_overlaps(fruit_features):\n",
    "    centers = get_centers(fruit_features)\n",
    "    radiuses = get_radiuses(fruit_features)\n",
    "    overlaps = dict.fromkeys(fruit_features.keys())\n",
    "    \n",
    "    # A dictionary of dictionarys. Keys, the fruit types\n",
    "    for key in overlaps:\n",
    "        # Each dictionary in the dictionary\n",
    "        overlaps[key] = dict.fromkeys(fruit_types)\n",
    "    \n",
    "    for i in range(len(fruit_types)):\n",
    "        for j in range(i + 1, len(fruit_types)):\n",
    "            distancesAB = cdist(centers[fruit_types[i]], fruit_features[fruit_types[j]])\n",
    "            distancesBA = cdist(centers[fruit_types[j]], fruit_features[fruit_types[i]])\n",
    "\n",
    "            mask_distancesAB = distancesAB < radiuses[fruit_types[i]]\n",
    "            mask_distancesBA = distancesBA < radiuses[fruit_types[j]]\n",
    "\n",
    "            numberBinA = np.count_nonzero(mask_distancesAB)\n",
    "            numberAinB = np.count_nonzero(mask_distancesBA)\n",
    "\n",
    "            overlaps[fruit_types[i]][fruit_types[j]] = numberBinA\n",
    "            overlaps[fruit_types[j]][fruit_types[i]] = numberAinB\n",
    "    return overlaps # Each element is the number of vectors of one group in the sphere of another"
   ]
  },
  {
   "cell_type": "code",
   "execution_count": 14,
   "metadata": {},
   "outputs": [],
   "source": [
    "def get_components(centers, nc):\n",
    "    pacum = np.zeros((1, centers[fruit_types[0]].shape[1]))\n",
    "    pair_components = dict()\n",
    "    for i in range(len(fruit_types)):\n",
    "        for j in range(i + 1, len(fruit_types)):\n",
    "            dif = centers[fruit_types[i]] - centers[fruit_types[j]]\n",
    "            dist = cdist(centers[fruit_types[i]], centers[fruit_types[j]])\n",
    "            difp = (dif**2)*100/(dist**2)\n",
    "            pair_components[f\"{fruit_types[i]}-{fruit_types[j]}\"]= np.argsort(difp[0])[-nc:]\n",
    "            pacum += difp\n",
    "    index_max = np.argsort(pacum[0])[-nc:]\n",
    "    #return np.sort(index_max)\n",
    "    return index_max, pair_components"
   ]
  },
  {
   "attachments": {},
   "cell_type": "markdown",
   "metadata": {},
   "source": [
    "**PRINCIPAL**"
   ]
  },
  {
   "cell_type": "code",
   "execution_count": 43,
   "metadata": {},
   "outputs": [
    {
     "name": "stderr",
     "output_type": "stream",
     "text": [
      "C:\\Users\\Juan\\AppData\\Local\\Temp\\ipykernel_4056\\1587896153.py:3: FutureWarning: get_duration() keyword argument 'filename' has been renamed to 'path' in version 0.10.0.\n",
      "\tThis alias will be removed in version 1.0.\n",
      "  duration = librosa.get_duration(filename=audiofile, sr=sr)\n"
     ]
    },
    {
     "name": "stdout",
     "output_type": "stream",
     "text": [
      "componentes: [1 0]\n",
      "pera: {'pera': None, 'banana': 6, 'manzana': 10, 'naranja': 8}\n",
      "banana: {'pera': 3, 'banana': None, 'manzana': 10, 'naranja': 10}\n",
      "manzana: {'pera': 2, 'banana': 1, 'manzana': None, 'naranja': 6}\n",
      "naranja: {'pera': 2, 'banana': 2, 'manzana': 10, 'naranja': None}\n",
      "radius: 0.08714614399393013\n"
     ]
    }
   ],
   "source": [
    "features = get_features(30, processed)\n",
    "overlaps = get_overlaps(features)\n",
    "centers = get_centers(features)\n",
    "components, _ = get_components(centers, 2) \n",
    "radius, _ = get_sphere(np.squeeze(list(centers.values()), axis=1))\n",
    "\n",
    "print(f\"componentes: {components}\")\n",
    "\n",
    "for pair, overlap in overlaps.items():\n",
    "    print(f\"{pair}: {overlap}\")\n",
    "\n",
    "print(f\"radius: {radius}\")"
   ]
  },
  {
   "cell_type": "code",
   "execution_count": 44,
   "metadata": {},
   "outputs": [],
   "source": [
    "for name, group in features.items():\n",
    "    features[name] = group[:, np.sort(components)]"
   ]
  },
  {
   "cell_type": "code",
   "execution_count": 584,
   "metadata": {},
   "outputs": [],
   "source": [
    "whole = np.concatenate(list(features.values()), axis=0)\n",
    "\n",
    "#Paso 2: Aplicar PCA para obtener dos componentes principales\n",
    "pca = PCA(n_components = 2)\n",
    "reduced_features = pca.fit_transform(whole)\n",
    "\n",
    "#Paso 3: Crear un diccionario con las matrices reducidas\n",
    "reduced = {}\n",
    "start_idx = 0\n",
    "\n",
    "for fruit, matrix in features.items():\n",
    "    num_rows = matrix.shape[0]\n",
    "    reduced[fruit] = reduced_features[start_idx:start_idx + num_rows, :]\n",
    "    start_idx += num_rows\n",
    "features = reduced"
   ]
  },
  {
   "attachments": {},
   "cell_type": "markdown",
   "metadata": {},
   "source": [
    "**KNN**"
   ]
  },
  {
   "cell_type": "code",
   "execution_count": 320,
   "metadata": {},
   "outputs": [],
   "source": [
    "def knn(training, test, k_n):\n",
    "    X = np.concatenate([v for v in training.values()], axis=0)\n",
    "    y = np.concatenate([[k] * v.shape[0] for k, v in training.items()])\n",
    "\n",
    "    #X_train, X_test, y_train, y_test = train_test_split(X, y, test_size=0.2, random_state=42)\n",
    "\n",
    "    # Crear clasificador KNN\n",
    "    knn_classifier = KNeighborsClassifier(n_neighbors = k_n)\n",
    "\n",
    "    # Entrenar el clasificador\n",
    "    knn_classifier.fit(X, y)\n",
    "\n",
    "    # Predecir las etiquetas para los datos de prueba\n",
    "    predicted_fruit = knn_classifier.predict(test)\n",
    "\n",
    "    print(f'La fruta predicha para el nuevo audio es: {predicted_fruit[0]}')"
   ]
  },
  {
   "attachments": {},
   "cell_type": "markdown",
   "metadata": {},
   "source": [
    "**PLOTEO**"
   ]
  },
  {
   "cell_type": "code",
   "execution_count": 45,
   "metadata": {},
   "outputs": [
    {
     "data": {
      "image/png": "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",
      "text/plain": [
       "<Figure size 640x480 with 1 Axes>"
      ]
     },
     "metadata": {},
     "output_type": "display_data"
    }
   ],
   "source": [
    "#2d\n",
    "fig = plt.figure()\n",
    "\n",
    "colors = dict(zip(fruit_types,['green','yellow','red','orange']))\n",
    "center_colors  = dict(zip(fruit_types,['blue','brown','black','cyan']))\n",
    "\n",
    "for fruit, points in features.items():\n",
    "    plt.scatter(points[:, 0], points[:, 1], c = colors[fruit], label=fruit)\n",
    "\n",
    "plt.xlabel('Eje X')\n",
    "plt.ylabel('Eje Y')\n",
    "\n",
    "plt.show()"
   ]
  },
  {
   "cell_type": "code",
   "execution_count": null,
   "metadata": {},
   "outputs": [],
   "source": [
    "#3d\n",
    "fig = plt.figure()\n",
    "ax = fig.add_subplot(111, projection='3d')\n",
    "for fruit, points in features.items():\n",
    "    ax.scatter(points[:, 0], points[:, 1], points[:, 2], c=colors[fruit], marker='o', label=fruit)\n",
    "    #ax.scatter(centers[fruit][:, 0], centers[fruit][:, 1], centers[fruit][:, 2], c=center_colors[fruit], marker='o', label=f\"{fruit}-center\")\n",
    "\n",
    "# configure labels\n",
    "ax.set_xlabel('Eje X')\n",
    "ax.set_ylabel('Eje Y')\n",
    "ax.set_zlabel('Eje Z')\n",
    "plt.show()"
   ]
  },
  {
   "attachments": {},
   "cell_type": "markdown",
   "metadata": {},
   "source": [
    "**PRUEBA ENVOLVENTES**"
   ]
  },
  {
   "cell_type": "code",
   "execution_count": null,
   "metadata": {},
   "outputs": [],
   "source": [
    "fruit = 'pera'\n",
    "indice = 6\n",
    "\n",
    "\n",
    "# Función para cargar la señal de audio y calcular la envolvente\n",
    "def calculate_amplitude_envelope(file_path):\n",
    "    # Cargar la señal de audio\n",
    "    signal, sr = librosa.load(file_path, sr=None)\n",
    "\n",
    "    # Calcular la transformada de Hilbert\n",
    "    analytic_signal = hilbert(signal)\n",
    "\n",
    "    # Calcular la envolvente de amplitud\n",
    "    amplitude_envelope = np.abs(analytic_signal)\n",
    "\n",
    "    return signal, sr, amplitude_envelope\n",
    "\n",
    "# Ruta de tu archivo de audio\n",
    "file_path = fruits[fruit][indice]\n",
    "\n",
    "# Calcular la señal y la envolvente de amplitud\n",
    "original_signal, sr, amplitude_envelope = calculate_amplitude_envelope(file_path)\n",
    "\n",
    "# Crear el gráfico\n",
    "plt.figure(figsize=(12, 6))\n",
    "\n",
    "# Visualizar la señal original\n",
    "plt.subplot(2, 1, 1)\n",
    "plt.plot(np.arange(len(original_signal)) / sr, original_signal)\n",
    "plt.title('Señal Original')\n",
    "plt.xlabel('Tiempo (s)')\n",
    "plt.ylabel('Amplitud')\n",
    "\n",
    "# Visualizar la envolvente de amplitud\n",
    "plt.subplot(2, 1, 2)\n",
    "plt.plot(np.arange(len(amplitude_envelope)) / sr, amplitude_envelope, alpha=0.5)\n",
    "plt.title('Envolvente de Amplitud')\n",
    "plt.xlabel('Tiempo (s)')\n",
    "plt.ylabel('Amplitud')\n",
    "\n",
    "# Ajustar el diseño del gráfico\n",
    "plt.tight_layout()\n",
    "plt.show()\n"
   ]
  },
  {
   "cell_type": "code",
   "execution_count": null,
   "metadata": {},
   "outputs": [],
   "source": [
    "from scipy.signal import hilbert, butter, filtfilt\n",
    "\n",
    "fruit = 'pera'\n",
    "indice = 6\n",
    "\n",
    "# Función para cargar la señal de audio y calcular la envolvente suavizada\n",
    "def calculate_smoothed_envelope(file_path, cutoff_frequency=10.0):\n",
    "    # Cargar la señal de audio\n",
    "    signal, sr = librosa.load(file_path, sr=None)\n",
    "\n",
    "    # Calcular la transformada de Hilbert\n",
    "    analytic_signal = hilbert(signal)\n",
    "\n",
    "    # Calcular la envolvente de amplitud\n",
    "    amplitude_envelope = np.abs(analytic_signal)\n",
    "\n",
    "    # Aplicar filtro pasa bajos para suavizar la envolvente\n",
    "    nyquist = 0.5 * sr\n",
    "    cutoff = cutoff_frequency / nyquist\n",
    "    b, a = butter(N=6, Wn=cutoff, btype='low', analog=False, output='ba')\n",
    "    print(f\"(b, a): ({b},{a})\")\n",
    "    smoothed_envelope = filtfilt(b, a, amplitude_envelope)\n",
    "\n",
    "    return signal, sr, amplitude_envelope, smoothed_envelope\n",
    "\n",
    "# Ruta de tu archivo de audio\n",
    "file_path = fruits[fruit][indice]\n",
    "\n",
    "# Calcular la señal y las envolventes\n",
    "original_signal, sr, amplitude_envelope, smoothed_envelope = calculate_smoothed_envelope(file_path, 50)\n",
    "\n",
    "# Crear el gráfico\n",
    "plt.figure(figsize=(12, 8))\n",
    "\n",
    "# Visualizar la señal original\n",
    "plt.subplot(3, 1, 1)\n",
    "plt.plot(np.arange(len(original_signal)) / sr, original_signal)\n",
    "plt.title('Señal Original')\n",
    "plt.xlabel('Tiempo (s)')\n",
    "plt.ylabel('Amplitud')\n",
    "\n",
    "# Visualizar la envolvente de amplitud\n",
    "plt.subplot(3, 1, 2)\n",
    "plt.plot(np.arange(len(amplitude_envelope)) / sr, amplitude_envelope, alpha=0.5, label='Envolvente Original')\n",
    "plt.title('Envolvente de Amplitud Original')\n",
    "plt.xlabel('Tiempo (s)')\n",
    "plt.ylabel('Amplitud')\n",
    "plt.legend()\n",
    "\n",
    "# Visualizar la envolvente suavizada\n",
    "print(len(smoothed_envelope))\n",
    "plt.subplot(3, 1, 3)\n",
    "plt.plot(np.arange(len(smoothed_envelope)) / sr, smoothed_envelope, label='Envolvente Suavizada', color='orange')\n",
    "plt.title('Envolvente de Amplitud Suavizada')\n",
    "plt.xlabel('Tiempo (s)')\n",
    "plt.ylabel('Amplitud')\n",
    "plt.legend()\n",
    "\n",
    "# Ajustar el diseño del gráfico\n",
    "plt.tight_layout()\n",
    "plt.show()\n",
    "\n",
    "# Mostrar el gráfico\n",
    "plt.show()"
   ]
  },
  {
   "attachments": {},
   "cell_type": "markdown",
   "metadata": {},
   "source": [
    "**PRUEBA MFCCS**\n",
    "\n",
    "Se hizo la graficación en función del número de vector de las componentes de mel (13)\n",
    "\n",
    "Se hizo sobre el audio 6 de todos los grupos tanto para el caso original, recortado (35) y ajustado (todos los audios de todos los grupos con la misma duración).\n",
    "\n",
    "Se normalizaron los vectores respecto de la norma euclidea del mas grande de todos a lo largo del audio.\n",
    "\n",
    "Algunas conclusiones que se sacaron de este análisis es que:\n",
    "- Solamente el 1 y 2 coeficientes de mel se separan del resto de los coeficientes para todas las frutas\n",
    "- El resto de los coeficientes se encuentran agrupados cera del cero\n",
    "- Aunque el resto de las componentes se presenten agrupadas se pueden identificar variaciones carácteristicas para cada fruta\n",
    "- Cuando se aplica el ajuste de tiempo por compresión se puede notar que se suaviza la variación de los mfccs (todos) y por lo tanto se pierden las variaciones características de los coeficientes de mel para cada fruta\n"
   ]
  },
  {
   "cell_type": "code",
   "execution_count": null,
   "metadata": {},
   "outputs": [],
   "source": [
    "# Cargar la señal de audio\n",
    "fruit = 'naranja'\n",
    "indice = 6\n",
    "audio_path = adjusted_audio[fruit][indice]\n",
    "\n",
    "audio_signal, sr = librosa.load(audio_path, sr=None)\n",
    "\n",
    "# Calcular los MFCCs\n",
    "mfccs = librosa.feature.mfcc(y=audio_signal, sr=sr, n_mfcc=13)\n",
    "\n",
    "# Normalizar cada vector de MFCC según la norma euclidiana\n",
    "mfccs_normalized = mfccs / np.max(np.linalg.norm(mfccs, axis=0))\n",
    "mfccs_normalized = mfccs_normalized.T\n",
    "for i in range(mfccs_normalized.shape[1]):  # Recorrer cada componente\n",
    "    plt.plot(mfccs_normalized[:, i], label=f'{i + 1}')\n",
    "\n",
    "plt.legend()\n",
    "plt.title(f\"Evolución de los MFCCs Normalizados {fruit}\")\n",
    "plt.xlabel('Tiempo (s)')\n",
    "plt.ylabel('Número de Componente MFCC')\n",
    "plt.show()"
   ]
  },
  {
   "attachments": {},
   "cell_type": "markdown",
   "metadata": {},
   "source": [
    "**PRUEBA CON LAS MEDIAS DE LOS COEFICIENTES DE MEL**\n",
    "Se hizo ahora la comparción de las medias de los mfccs a lo largo de las columnas para un mismo audio (6) para cada grupo de frutas. Tanto para los audios originales, los recortados y los ajustados.\n",
    "\n",
    "Se observo qué:\n",
    "\n",
    "- Las medias no se diferencian notablemente entre las frutas"
   ]
  },
  {
   "cell_type": "code",
   "execution_count": null,
   "metadata": {},
   "outputs": [],
   "source": [
    "# Cargar la señal de audio\n",
    "fruit = 'naranja'\n",
    "indice = 6\n",
    "audio_path = fruits[fruit][indice]\n",
    "\n",
    "audio_signal, sr = librosa.load(audio_path, sr=None)\n",
    "\n",
    "# Calcular los MFCCs\n",
    "mfccs = librosa.feature.mfcc(y=audio_signal, sr=sr, n_mfcc=13)\n",
    "mfccs = np.mean(mfccs.T, axis = 0)\n",
    "mfccs = mfccs.reshape(-1, 1)\n",
    "mfccs = mfccs/np.linalg.norm(mfccs, axis = 0)\n",
    "\n",
    "plt.plot(mfccs, label=f'{i + 1}')\n",
    "\n",
    "plt.legend()\n",
    "plt.title(f\"Evolución de los MFCCs Normalizados {fruit}\")\n",
    "plt.xlabel('Tiempo (s)')\n",
    "plt.ylabel('Número de Componente MFCC')\n",
    "plt.show()"
   ]
  },
  {
   "attachments": {},
   "cell_type": "markdown",
   "metadata": {},
   "source": [
    "**COMPARACIÓN DE CON LOS DELTAS Y LOS DELTASDELTAS**\n",
    "Se hizo lo mismo que al inicio para los mfccs, es decir, la representación de la variación del delta mfccs en funcón del número de componente para todos los grupos de audios para todos los grupos de frutas\n",
    "\n",
    "Se concluyo qué:\n",
    "\n",
    "- Existen diferencias mas notables entre grupos de frutas."
   ]
  },
  {
   "cell_type": "code",
   "execution_count": null,
   "metadata": {},
   "outputs": [],
   "source": [
    "# Cargar la señal de audio\n",
    "fruit = 'manzana'\n",
    "indice = 6\n",
    "audio_path = fruits[fruit][indice]\n",
    "\n",
    "audio_signal, sr = librosa.load(audio_path, sr=None)\n",
    "\n",
    "# Calcular los MFCCs\n",
    "mfccs = librosa.feature.mfcc(y=audio_signal, sr=sr, n_mfcc=13)\n",
    "delta_mfccs = librosa.feature.delta(mfccs, order = 2)\n",
    "\n",
    "# Normalizar cada vector de MFCC según la norma euclidiana\n",
    "delta_mfccs_normalized = delta_mfccs / np.max(np.linalg.norm(delta_mfccs, axis=0))\n",
    "delta_mfccs_normalized = delta_mfccs_normalized.T\n",
    "\n",
    "for i in range(delta_mfccs_normalized.shape[1]):  # Recorrer cada componente\n",
    "    plt.plot(delta_mfccs_normalized[:, i], label=f'{i + 1}')\n",
    "\n",
    "plt.legend()\n",
    "plt.title(f\"Evolución de los MFCCs Normalizados {fruit}\")\n",
    "plt.xlabel('Tiempo (s)')\n",
    "plt.ylabel('Número de Componente MFCC')\n",
    "plt.show()"
   ]
  },
  {
   "attachments": {},
   "cell_type": "markdown",
   "metadata": {},
   "source": [
    "**FFT DE LOS DELTAMFFCS**"
   ]
  },
  {
   "cell_type": "code",
   "execution_count": null,
   "metadata": {},
   "outputs": [],
   "source": [
    "# Cargar la señal de audio\n",
    "fruit = 'banana'\n",
    "indice = 6\n",
    "audio_path = adjusted_audio[fruit][indice]\n",
    "\n",
    "audio_signal, sr = librosa.load(audio_path, sr=None)\n",
    "\n",
    "# Calcular los MFCCs\n",
    "mfccs = librosa.feature.mfcc(y=audio_signal, sr=sr, n_mfcc=13)\n",
    "delta_mfccs = librosa.feature.delta(mfccs)\n",
    "\n",
    "# Normalizar cada vector de MFCC según la norma euclidiana\n",
    "delta_mfccs_normalized = delta_mfccs / np.max(np.linalg.norm(delta_mfccs, axis=0))\n",
    "\n",
    "t = np.linspace(0, 1, delta_mfccs_normalized.shape[1])\n",
    "ts = 1/(len(t)-1)\n",
    "fs = 1/ts\n",
    "\n",
    "fft_result = np.fft.fft(delta_mfccs_normalized, axis=1)\n",
    "fft_freqs = np.fft.fftfreq(len(t), 1/fs)\n",
    "\n",
    "# Graficar los resultados\n",
    "plt.figure(figsize=(10, 6))\n",
    "\n",
    "for i in range(len(delta_mfccs_normalized)):\n",
    "    plt.subplot(len(delta_mfccs_normalized), 2, 2 * i + 2)\n",
    "    plt.bar(fft_freqs, np.abs(fft_result[i, :]), width=fs/len(t), align='center')\n",
    "\n",
    "#plt.tight_layout()\n",
    "plt.show()"
   ]
  },
  {
   "attachments": {},
   "cell_type": "markdown",
   "metadata": {},
   "source": [
    "**MEDIA DE LOS DELTA MFCCS**"
   ]
  },
  {
   "cell_type": "code",
   "execution_count": null,
   "metadata": {},
   "outputs": [],
   "source": [
    "# Cargar la señal de audio\n",
    "fruit = 'naranja'\n",
    "indice = 6\n",
    "audio_path = fruits[fruit][indice]\n",
    "\n",
    "audio_signal, sr = librosa.load(audio_path, sr=None)\n",
    "\n",
    "# Calcular los MFCCs\n",
    "mfccs = librosa.feature.mfcc(y=audio_signal, sr=sr, n_mfcc=13)\n",
    "mfccs = librosa.feature.delta(mfccs, order = 2)\n",
    "mfccs = np.mean(mfccs.T, axis = 0)\n",
    "mfccs = mfccs.reshape(-1, 1)\n",
    "mfccs = mfccs/np.linalg.norm(mfccs, axis = 0)\n",
    "\n",
    "plt.plot(mfccs, label=f'{i + 1}')\n",
    "\n",
    "plt.legend()\n",
    "plt.title(f\"Evolución de los MFCCs Normalizados {fruit}\")\n",
    "plt.xlabel('Tiempo (s)')\n",
    "plt.ylabel('Número de Componente MFCC')\n",
    "plt.show()"
   ]
  }
 ],
 "metadata": {
  "kernelspec": {
   "display_name": "Python 3",
   "language": "python",
   "name": "python3"
  },
  "language_info": {
   "codemirror_mode": {
    "name": "ipython",
    "version": 3
   },
   "file_extension": ".py",
   "mimetype": "text/x-python",
   "name": "python",
   "nbconvert_exporter": "python",
   "pygments_lexer": "ipython3",
   "version": "3.11.5"
  },
  "orig_nbformat": 4
 },
 "nbformat": 4,
 "nbformat_minor": 2
}
