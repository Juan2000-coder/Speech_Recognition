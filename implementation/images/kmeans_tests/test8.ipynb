{
 "cells": [
  {
   "cell_type": "code",
   "execution_count": 5,
   "metadata": {},
   "outputs": [],
   "source": [
    "import os\n",
    "import numpy as np\n",
    "import cv2\n",
    "import matplotlib.pylab as plt\n",
    "from sklearn.cluster import KMeans\n",
    "import joblib\n",
    "import json\n",
    "import random\n",
    "from skimage.feature import hog\n",
    "from skimage import exposure"
   ]
  },
  {
   "attachments": {},
   "cell_type": "markdown",
   "metadata": {},
   "source": [
    "**PATHS**"
   ]
  },
  {
   "cell_type": "code",
   "execution_count": 17,
   "metadata": {},
   "outputs": [],
   "source": [
    "image_path      = '../../../dataset/images'\n",
    "training_path   = os.path.join(image_path, 'training')\n",
    "original_path   = os.path.join(training_path, 'original')\n",
    "processed_path  = os.path.join(training_path, 'processed')"
   ]
  },
  {
   "attachments": {},
   "cell_type": "markdown",
   "metadata": {},
   "source": [
    "**LISTAS DE IMAGENES**"
   ]
  },
  {
   "cell_type": "code",
   "execution_count": 3,
   "metadata": {},
   "outputs": [],
   "source": [
    "original  = [os.path.join(original_path, image) for image in os.listdir(original_path)]\n",
    "processed  = [os.path.join(processed_path, image) for image in os.listdir(processed_path)]"
   ]
  },
  {
   "attachments": {},
   "cell_type": "markdown",
   "metadata": {},
   "source": [
    "**RANGOS DE COLOR**"
   ]
  },
  {
   "attachments": {},
   "cell_type": "markdown",
   "metadata": {},
   "source": [
    "- Los siguientes rangos de colores son lo mejorcito"
   ]
  },
  {
   "cell_type": "code",
   "execution_count": 6,
   "metadata": {},
   "outputs": [],
   "source": [
    "lower_red_2 = np.array([170, 60, 60])\n",
    "upper_red_2 = np.array([179, 255, 255])\n",
    "\n",
    "lower_red_1 = np.array([0, 60, 60])\n",
    "upper_red_1 = np.array([8, 255, 255])\n",
    "\n",
    "lower_orange = np.array([8, 120, 80])\n",
    "upper_orange = np.array([21, 255, 255])\n",
    "\n",
    "lower_yellow = np.array([21, 50, 80])\n",
    "upper_yellow = np.array([25, 255, 255])\n",
    "\n",
    "lower_green = np.array([25, 40, 40])\n",
    "upper_green = np.array([100, 255, 255])"
   ]
  },
  {
   "cell_type": "code",
   "execution_count": 7,
   "metadata": {},
   "outputs": [],
   "source": [
    "labels  = []\n",
    "\n",
    "for image_file, mask_file in zip(original, processed):\n",
    "    # Leer la imagen y la máscara\n",
    "    image = cv2.imread(image_file)\n",
    "    mask  = cv2.imread(mask_file, cv2.IMREAD_GRAYSCALE)\n",
    "\n",
    "    # Convertir la imagen de BGR a HSV\n",
    "    hsv_image = cv2.cvtColor(image, cv2.COLOR_BGR2HSV)\n",
    "\n",
    "    # Aplicar la máscara\n",
    "    fruit = cv2.bitwise_and(hsv_image, hsv_image, mask=mask)\n",
    "\n",
    "    # Contar el número de píxeles en cada rango\n",
    "    conteo = {\n",
    "        'V' : np.sum(np.all(np.logical_and(lower_green  <= fruit, fruit <= upper_green), axis=-1)),\n",
    "        'R1': np.sum(np.all(np.logical_and(lower_red_1  <= fruit, fruit <= upper_red_1), axis=-1)),\n",
    "        'R2': np.sum(np.all(np.logical_and(lower_red_2  <= fruit, fruit <= upper_red_2), axis=-1)),\n",
    "        'A' : np.sum(np.all(np.logical_and(lower_yellow <= fruit, fruit <= upper_yellow), axis=-1)),\n",
    "        'N' : np.sum(np.all(np.logical_and(lower_orange <= fruit, fruit <= upper_orange), axis=-1))\n",
    "    }\n",
    "    conteo_por_rango = {\n",
    "        'V': conteo['V'],\n",
    "        'R': conteo['R1'] + conteo['R2'],\n",
    "        'A': conteo['A'],\n",
    "        'N': conteo['N']\n",
    "    }\n",
    "\n",
    "    sorted_conteo = sorted(conteo_por_rango.items(), key=lambda x: x[1], reverse=True)\n",
    "\n",
    "    # Obtener el segundo elemento más grande\n",
    "    segundo_mas_grande = sorted_conteo[1]\n",
    "\n",
    "    # Obtener la etiqueta y el valor del segundo elemento más grande\n",
    "    etiqueta_segundo_mas_grande = segundo_mas_grande[0]\n",
    "    valor_segundo_mas_grande    = segundo_mas_grande[1]\n",
    "\n",
    "    # Obtener la etiqueta basándose en el rango con el mayor conteo\n",
    "    etiqueta = max(conteo_por_rango, key = conteo_por_rango.get)\n",
    "    if (etiqueta_segundo_mas_grande == 'R')and(valor_segundo_mas_grande > 0.35*conteo_por_rango[etiqueta]):\n",
    "        etiqueta = 'R'\n",
    "        \n",
    "    labels.append(etiqueta)"
   ]
  },
  {
   "attachments": {},
   "cell_type": "markdown",
   "metadata": {},
   "source": [
    "**Pasamos la lista de labels a una lìsta de coordenadas para las frutas**"
   ]
  },
  {
   "cell_type": "code",
   "execution_count": 8,
   "metadata": {},
   "outputs": [],
   "source": [
    "conversions = {'V' :-20, 'R' : -10, 'A' : 10, 'N' : 20}\n",
    "coordinates = []\n",
    "for label in labels:\n",
    "    coordinates.append(conversions[label])"
   ]
  },
  {
   "attachments": {},
   "cell_type": "markdown",
   "metadata": {},
   "source": [
    "**Pasamos las coordenadas a un diccionario primero para combinarlo con las circularidades**"
   ]
  },
  {
   "cell_type": "code",
   "execution_count": 9,
   "metadata": {},
   "outputs": [],
   "source": [
    "names   = [os.path.basename(file) for file in original]\n",
    "colores = dict.fromkeys(names)\n",
    "for coordinate, key in zip(coordinates, colores.keys()):\n",
    "    colores[key] = coordinate"
   ]
  },
  {
   "attachments": {},
   "cell_type": "markdown",
   "metadata": {},
   "source": [
    "**Ahora probamos con los momentos de Hu**"
   ]
  },
  {
   "cell_type": "code",
   "execution_count": 10,
   "metadata": {},
   "outputs": [],
   "source": [
    "roi = dict.fromkeys(names)\n",
    "for file, mask_file in zip(roi.keys(), processed):\n",
    "    mask = cv2.imread(mask_file, cv2.IMREAD_GRAYSCALE)\n",
    "    mask = mask.astype(bool)\n",
    "\n",
    "    # Encontrar coordenadas (índices) de píxeles verdaderos en la máscara\n",
    "    coords_true = np.argwhere(mask)\n",
    "\n",
    "    # Calcular la matriz de covarianza\n",
    "    covariance_matrix = np.cov(coords_true, rowvar=False)\n",
    "\n",
    "    # Calcular los eigenvectores y eigenvalores de la matriz de covarianza\n",
    "    eigenvalues, eigenvectors = np.linalg.eigh(covariance_matrix)\n",
    "\n",
    "    # Ordenar los eigenvectores por los eigenvalores descendentes\n",
    "    sorted_indices = np.argsort(eigenvalues)[::-1]\n",
    "    eigenvectors = eigenvectors[:, sorted_indices]\n",
    "\n",
    "    # Tomar el eigenvector correspondiente al eigenvalor más grande\n",
    "    principal_axis = eigenvectors[:, 0]\n",
    "\n",
    "    # Calcular la relación de aspecto\n",
    "    relacion_aspecto_roi = np.linalg.norm(principal_axis)\n",
    "\n",
    "    roi[file] = relacion_aspecto_roi\n"
   ]
  },
  {
   "attachments": {},
   "cell_type": "markdown",
   "metadata": {},
   "source": [
    "**Unimos las medidas**"
   ]
  },
  {
   "cell_type": "code",
   "execution_count": 11,
   "metadata": {},
   "outputs": [],
   "source": [
    "combinacion = dict.fromkeys(names)\n",
    "for key, ROI in roi.items():\n",
    "    combinacion[key] = np.array([ROI, colores[key]])"
   ]
  },
  {
   "cell_type": "code",
   "execution_count": 12,
   "metadata": {},
   "outputs": [
    {
     "name": "stderr",
     "output_type": "stream",
     "text": [
      "c:\\Users\\Juan\\AppData\\Local\\Programs\\Python\\Python311\\Lib\\site-packages\\sklearn\\cluster\\_kmeans.py:1416: FutureWarning: The default value of `n_init` will change from 10 to 'auto' in 1.4. Set the value of `n_init` explicitly to suppress the warning\n",
      "  super()._check_params_vs_input(X, default_n_init=10)\n"
     ]
    }
   ],
   "source": [
    "# Obtener los valores de circularidad como un array de NumPy\n",
    "features = np.vstack(list(combinacion.values()))\n",
    "\n",
    "# Especificar el número de clusters (k)\n",
    "num_clusters = 4\n",
    "\n",
    "# Aplicar KMeans\n",
    "kmeans = KMeans(n_clusters = num_clusters)\n",
    "kmeans.fit(features)\n",
    "\n",
    "# Obtener las etiquetas de cluster para cada imagen\n",
    "labels = kmeans.labels_"
   ]
  },
  {
   "cell_type": "code",
   "execution_count": 13,
   "metadata": {},
   "outputs": [],
   "source": [
    "clusters = dict.fromkeys(set(labels))\n",
    "for file, label in zip(combinacion.keys(), labels):\n",
    "    if clusters[label] is None:\n",
    "        clusters[label] = []\n",
    "    clusters[label].append(file)"
   ]
  },
  {
   "cell_type": "code",
   "execution_count": null,
   "metadata": {},
   "outputs": [],
   "source": [
    "for key, cluster in clusters.items():\n",
    "    print(key)\n",
    "    cols = 4\n",
    "    rows = len(cluster)//cols\n",
    "\n",
    "    if len(cluster)%cols != 0:\n",
    "        rows += 1\n",
    "\n",
    "    plt.figure(figsize = (10, 10))\n",
    "    for i, element in enumerate(cluster):\n",
    "        element = os.path.join(original_path, element)\n",
    "        plt.subplot(rows, cols, i + 1)\n",
    "        plt.imshow(cv2.cvtColor(cv2.imread(element), cv2.COLOR_BGR2RGB))\n",
    "        plt.title(os.path.basename(element))\n",
    "    plt.show()"
   ]
  }
 ],
 "metadata": {
  "kernelspec": {
   "display_name": "Python 3",
   "language": "python",
   "name": "python3"
  },
  "language_info": {
   "codemirror_mode": {
    "name": "ipython",
    "version": 3
   },
   "file_extension": ".py",
   "mimetype": "text/x-python",
   "name": "python",
   "nbconvert_exporter": "python",
   "pygments_lexer": "ipython3",
   "version": "3.11.5"
  },
  "orig_nbformat": 4
 },
 "nbformat": 4,
 "nbformat_minor": 2
}
