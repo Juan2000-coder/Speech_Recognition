{
 "cells": [
  {
   "cell_type": "code",
   "execution_count": 1,
   "metadata": {},
   "outputs": [],
   "source": [
    "import os\n",
    "import numpy as np\n",
    "import cv2\n",
    "import matplotlib.pylab as plt\n",
    "from sklearn.cluster import KMeans\n",
    "import json\n",
    "import random"
   ]
  },
  {
   "attachments": {},
   "cell_type": "markdown",
   "metadata": {},
   "source": [
    "**PATHS**"
   ]
  },
  {
   "cell_type": "code",
   "execution_count": 2,
   "metadata": {},
   "outputs": [],
   "source": [
    "image_path      = '../../../dataset/images'\n",
    "training_path   = os.path.join(image_path, 'training')\n",
    "original_path   = os.path.join(training_path, 'original')\n",
    "processed_path  = os.path.join(training_path, 'processed')"
   ]
  },
  {
   "attachments": {},
   "cell_type": "markdown",
   "metadata": {},
   "source": [
    "**LISTAS DE IMAGENES**"
   ]
  },
  {
   "cell_type": "code",
   "execution_count": 3,
   "metadata": {},
   "outputs": [],
   "source": [
    "original  = [os.path.join(original_path, image) for image in os.listdir(original_path)]\n",
    "processed  = [os.path.join(processed_path, image) for image in os.listdir(processed_path)]"
   ]
  },
  {
   "attachments": {},
   "cell_type": "markdown",
   "metadata": {},
   "source": [
    "**RANGOS DE COLOR**"
   ]
  },
  {
   "cell_type": "code",
   "execution_count": 104,
   "metadata": {},
   "outputs": [],
   "source": [
    "lower_red_2 = np.array([170, 50, 80])\n",
    "upper_red_2 = np.array([179, 255, 255])\n",
    "\n",
    "lower_red_1 = np.array([0, 50, 80])\n",
    "upper_red_1 = np.array([7, 255, 255])\n",
    "\n",
    "lower_orange = np.array([7, 150, 100])\n",
    "upper_orange = np.array([21, 255, 255])\n",
    "\n",
    "lower_yellow = np.array([21, 50, 80])\n",
    "upper_yellow = np.array([25, 255, 255])\n",
    "\n",
    "lower_green = np.array([25, 40, 40])\n",
    "upper_green = np.array([100, 255, 255])"
   ]
  },
  {
   "attachments": {},
   "cell_type": "markdown",
   "metadata": {},
   "source": [
    "**PRUEBA CON LOS VALORES HSV**\n",
    "- Utilizando directamente los valores medios de HSV a largo de la imagen en donde la mascara es verdara no funciona\n",
    "- Probamos utilizar los rangos de color utilizando tambièn los valores medios de h, s, v por imagen pero no funciona"
   ]
  },
  {
   "cell_type": "code",
   "execution_count": 105,
   "metadata": {},
   "outputs": [],
   "source": [
    "labels  = []\n",
    "conteos = []\n",
    "\n",
    "for image_file, mask_file in zip(original, processed):\n",
    "    # Leer la imagen y la máscara\n",
    "    image = cv2.imread(image_file)\n",
    "    mask  = cv2.imread(mask_file, cv2.IMREAD_GRAYSCALE)\n",
    "\n",
    "    # Convertir la imagen de BGR a HSV\n",
    "    hsv_image = cv2.cvtColor(image, cv2.COLOR_BGR2HSV)\n",
    "\n",
    "    # Aplicar la máscara\n",
    "    fruit = cv2.bitwise_and(hsv_image, hsv_image, mask=mask)\n",
    "\n",
    "    # Contar el número de píxeles en cada rango\n",
    "    conteo= {\n",
    "        'V' : np.sum(np.all(np.logical_and(lower_green  <= fruit, fruit <= upper_green), axis=-1)),\n",
    "        'R1': np.sum(np.all(np.logical_and(lower_red_1  <= fruit, fruit <= upper_red_1), axis=-1)),\n",
    "        'R2': np.sum(np.all(np.logical_and(lower_red_2  <= fruit, fruit <= upper_red_2), axis=-1)),\n",
    "        'A' : np.sum(np.all(np.logical_and(lower_yellow <= fruit, fruit <= upper_yellow), axis=-1)),\n",
    "        'N' : np.sum(np.all(np.logical_and(lower_orange <= fruit, fruit <= upper_orange), axis=-1))\n",
    "    }\n",
    "    conteo_por_rango = {\n",
    "        'V': conteo['V'],\n",
    "        'R': conteo['R1'] + conteo['R2'],\n",
    "        'A': conteo['A'],\n",
    "        'N': conteo['N']\n",
    "    }\n",
    "\n",
    "    sorted_conteo = sorted(conteo_por_rango.items(), key=lambda x: x[1], reverse=True)\n",
    "\n",
    "    # Obtener el segundo elemento más grande\n",
    "    segundo_mas_grande = sorted_conteo[1]\n",
    "\n",
    "    # Obtener la etiqueta y el valor del segundo elemento más grande\n",
    "    etiqueta_segundo_mas_grande = segundo_mas_grande[0]\n",
    "    valor_segundo_mas_grande    = segundo_mas_grande[1]\n",
    "\n",
    "    # Obtener la etiqueta basándose en el rango con el mayor conteo\n",
    "    etiqueta = max(conteo_por_rango, key = conteo_por_rango.get)\n",
    "    if (etiqueta_segundo_mas_grande == 'R')and(valor_segundo_mas_grande > 0.5*conteo_por_rango[etiqueta]):\n",
    "        etiqueta = 'R'\n",
    "\n",
    "    conteos.append(conteo_por_rango)\n",
    "    labels.append(etiqueta)"
   ]
  },
  {
   "cell_type": "code",
   "execution_count": 106,
   "metadata": {},
   "outputs": [],
   "source": [
    "clusters = dict.fromkeys(set(labels))\n",
    "for file, label in zip(original, labels):\n",
    "    if clusters[label] is None:\n",
    "        clusters[label] = []\n",
    "    clusters[label].append(file)"
   ]
  },
  {
   "cell_type": "code",
   "execution_count": 107,
   "metadata": {},
   "outputs": [],
   "source": [
    "cnts = dict.fromkeys(set(labels))\n",
    "for conteo, label in zip(conteos, labels):\n",
    "    if cnts[label] is None:\n",
    "        cnts[label] = []\n",
    "    cnts[label].append(conteo)"
   ]
  },
  {
   "cell_type": "code",
   "execution_count": null,
   "metadata": {},
   "outputs": [],
   "source": [
    "for key, cluster in clusters.items():\n",
    "    print(key)\n",
    "    cols = 4\n",
    "    rows = len(cluster)//cols\n",
    "\n",
    "    if len(cluster)%cols != 0:\n",
    "        rows += 1\n",
    "\n",
    "    plt.figure(figsize = (10, 10))\n",
    "    for i, element in enumerate(cluster):\n",
    "        plt.subplot(rows, cols, i + 1)\n",
    "        plt.imshow(cv2.cvtColor(cv2.imread(element), cv2.COLOR_BGR2RGB))\n",
    "        plt.title(os.path.basename(element))\n",
    "    plt.show()"
   ]
  }
 ],
 "metadata": {
  "kernelspec": {
   "display_name": "Python 3",
   "language": "python",
   "name": "python3"
  },
  "language_info": {
   "codemirror_mode": {
    "name": "ipython",
    "version": 3
   },
   "file_extension": ".py",
   "mimetype": "text/x-python",
   "name": "python",
   "nbconvert_exporter": "python",
   "pygments_lexer": "ipython3",
   "version": "3.11.4"
  },
  "orig_nbformat": 4
 },
 "nbformat": 4,
 "nbformat_minor": 2
}
