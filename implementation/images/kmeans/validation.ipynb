{
 "cells": [
  {
   "attachments": {},
   "cell_type": "markdown",
   "metadata": {},
   "source": [
    "**VALIDACION DEL MODELO**\n",
    "- Basicament utilizando el algoritmo de neirest neighbors (k neirest neighbors con k = 1), en donde los puntos dados son los centroides calculados durante el entrenamiento, se busca clasificar una nueva fruta en el cluster de uno de loos centroides."
   ]
  },
  {
   "attachments": {},
   "cell_type": "markdown",
   "metadata": {},
   "source": [
    "**LIBRERIAS**"
   ]
  },
  {
   "cell_type": "code",
   "execution_count": 1,
   "metadata": {},
   "outputs": [],
   "source": [
    "import os\n",
    "import numpy as np\n",
    "import cv2\n",
    "import matplotlib.pylab as plt\n",
    "from sklearn.cluster import KMeans\n",
    "import joblib\n",
    "from scipy.spatial.distance import cdist"
   ]
  },
  {
   "attachments": {},
   "cell_type": "markdown",
   "metadata": {},
   "source": [
    "**PATHS**"
   ]
  },
  {
   "cell_type": "code",
   "execution_count": 2,
   "metadata": {},
   "outputs": [],
   "source": [
    "image_path        = '../../../dataset/images'\n",
    "validation_path   = os.path.join(image_path, 'validation')\n",
    "original_path     = os.path.join(validation_path, 'original')\n",
    "processed_path    = os.path.join(validation_path, 'processed')\n",
    "training_data     = 'training_data.pkl'"
   ]
  },
  {
   "attachments": {},
   "cell_type": "markdown",
   "metadata": {},
   "source": [
    "**LISTAS DE IMAGENES**"
   ]
  },
  {
   "cell_type": "code",
   "execution_count": 3,
   "metadata": {},
   "outputs": [],
   "source": [
    "original   = [os.path.join(original_path, image) for image in os.listdir(original_path)]\n",
    "processed  = [os.path.join(processed_path, image) for image in os.listdir(processed_path)]"
   ]
  },
  {
   "attachments": {},
   "cell_type": "markdown",
   "metadata": {},
   "source": [
    "**PROCESAMIENTO DE LAS IMÁGENES**"
   ]
  },
  {
   "cell_type": "code",
   "execution_count": null,
   "metadata": {},
   "outputs": [],
   "source": [
    "def get_light_background(mask, f = 20, p = 0.75):\n",
    "    height, width = mask.shape\n",
    "    cluster_size  = min([height, width])//f\n",
    "    cluster       = np.ones((cluster_size, cluster_size), np.uint8)\n",
    "\n",
    "    # Corners\n",
    "    corner1 = np.bitwise_and(cluster, mask[:cluster_size,  :cluster_size])\n",
    "    corner2 = np.bitwise_and(cluster, mask[:cluster_size:, -cluster_size:])\n",
    "    corner3 = np.bitwise_and(cluster, mask[-cluster_size:, :cluster_size])\n",
    "    corner4 = np.bitwise_and(cluster, mask[-cluster_size:, -cluster_size:])\n",
    "    corners = [corner1, corner2, corner3, corner4]\n",
    "\n",
    "    # Sides\n",
    "    limitw1 = (width - cluster_size)//2\n",
    "    limitw2 = (width + cluster_size)//2\n",
    "    limith1 = (height - cluster_size)//2\n",
    "    limith2 = (height + cluster_size)//2\n",
    "    \n",
    "    side1   = np.bitwise_and(cluster, mask[:cluster_size, limitw1:limitw2])\n",
    "    side2   = np.bitwise_and(cluster, mask[limith1:limith2, :cluster_size])\n",
    "    side3   = np.bitwise_and(cluster, mask[limith1:limith2, -cluster_size:])\n",
    "    side4   = np.bitwise_and(cluster, mask[-cluster_size:, limitw1:limitw2])\n",
    "    sides   = [side1, side2, side3, side4] \n",
    "    \n",
    "    # Determining the type of background\n",
    "    edges            = corners + sides\n",
    "    light_background = sum(np.count_nonzero(edge) for edge in edges) > p*8*(cluster_size**2)\n",
    "\n",
    "    # Inverting if dark background\n",
    "    if light_background:\n",
    "        return np.bitwise_not(mask)\n",
    "    return mask    "
   ]
  },
  {
   "cell_type": "code",
   "execution_count": null,
   "metadata": {},
   "outputs": [],
   "source": [
    "for file in original:\n",
    "    # BGR image\n",
    "    image = cv2.imread(file)\n",
    "\n",
    "    # Dimenssions\n",
    "    height, width, _ = image.shape\n",
    " \n",
    "    # Pixel data vector\n",
    "    data_vector = np.zeros((height * width, 4))\n",
    "\n",
    "    # Obtener matrices del espacio de colores\n",
    "    rgb_matrix = image.reshape((-1, 3))\n",
    "    hsv_matrix = cv2.cvtColor(image, cv2.COLOR_BGR2HSV).reshape((-1, 3))\n",
    "    lab_matrix = cv2.cvtColor(image, cv2.COLOR_BGR2LAB).reshape((-1, 3))\n",
    "\n",
    "    # Asignar a la matriz de datos\n",
    "    # Conservamos el canal G, S, A y B\n",
    "    data_vector[:, 0]  = rgb_matrix[:, 2]\n",
    "    data_vector[:, 1]  = hsv_matrix[:, 1]\n",
    "    data_vector[:, 2:] = lab_matrix[:, 1:]\n",
    "\n",
    "    # Segmentamos la imagen con los vectores obtenidos pos cada pixel\n",
    "    kmeans = KMeans(n_clusters = 2, n_init = 10)  # 2 Clusters. Background and fruit\n",
    "    kmeans.fit(data_vector)\n",
    "\n",
    "    # Get clusters labels\n",
    "    labels = kmeans.labels_\n",
    "\n",
    "    # kmeans_mask\n",
    "    kmeans_mask = labels.reshape(height, width)\n",
    "    kmeans_mask = kmeans_mask.astype(np.uint8) * 255\n",
    "\n",
    "    # Determinación del tipo de fondo de la máscara\n",
    "    kmeans_mask = get_light_background(kmeans_mask)\n",
    "\n",
    "    # Erosion y dilataciòn sobre la màscara\n",
    "    erosion_size      = min([height, width])//200\n",
    "    dilatacion_size   = min([height, width])//80\n",
    "    kernel_erosion    = np.ones((erosion_size,erosion_size), np.uint8)\n",
    "    eroded            = cv2.erode(kmeans_mask, kernel_erosion, iterations = 1)\n",
    "    kernel_dilatacion = np.ones((dilatacion_size,dilatacion_size), np.uint8)\n",
    "    kmeans_mask       = cv2.dilate(eroded, kernel_dilatacion, iterations  = 2)\n",
    "\n",
    "    # Encontrar contornos\n",
    "    kmeans_cnt, _ = cv2.findContours(kmeans_mask, cv2.RETR_EXTERNAL, cv2.CHAIN_APPROX_SIMPLE)\n",
    "    kmeans_cnt    = max(kmeans_cnt, key = cv2.contourArea)\n",
    "\n",
    "    # Contorno aproximado\n",
    "    epsilon       = 0.001 * cv2.arcLength(kmeans_cnt, True)\n",
    "    kmeans_cnt    = cv2.approxPolyDP(kmeans_cnt, epsilon, True)\n",
    "    kmeans_cnt    = (kmeans_cnt,)\n",
    "\n",
    "    # Template\n",
    "    tkmeans       = np.zeros((height, width), dtype=np.uint8)\n",
    "\n",
    "    # Dibujar\n",
    "    cv2.drawContours(tkmeans, kmeans_cnt, -1, 255, thickness = cv2.FILLED)\n",
    "\n",
    "    # Guardar mascara\n",
    "    cv2.imwrite(os.path.join(processed_path, os.path.basename(file)), tkmeans)"
   ]
  },
  {
   "attachments": {},
   "cell_type": "markdown",
   "metadata": {},
   "source": [
    "**RANGOS DE COLOR**"
   ]
  },
  {
   "cell_type": "code",
   "execution_count": 5,
   "metadata": {},
   "outputs": [],
   "source": [
    "lower_red_2 = np.array([170, 60, 60])\n",
    "upper_red_2 = np.array([179, 255, 255])\n",
    "\n",
    "lower_red_1 = np.array([0, 60, 60])\n",
    "upper_red_1 = np.array([8, 255, 255])\n",
    "\n",
    "lower_orange = np.array([8, 120, 80])\n",
    "upper_orange = np.array([21, 255, 255])\n",
    "\n",
    "lower_yellow = np.array([21, 50, 80])\n",
    "upper_yellow = np.array([25, 255, 255])\n",
    "\n",
    "lower_green = np.array([25, 40, 40])\n",
    "upper_green = np.array([100, 255, 255])"
   ]
  },
  {
   "attachments": {},
   "cell_type": "markdown",
   "metadata": {},
   "source": [
    "**EXTRACCIÓN DE CARACTERÍSTICAS**"
   ]
  },
  {
   "cell_type": "code",
   "execution_count": 7,
   "metadata": {},
   "outputs": [],
   "source": [
    "conversion_color = {'V' :-20, 'R' : -10, 'A' : 10, 'N' : 20}\n",
    "names            = [os.path.basename(file) for file in original]\n",
    "image_features   = dict.fromkeys(names)\n",
    "\n",
    "for image_file, mask_file in zip(original, processed):\n",
    "    # Leer la imagen y la máscara\n",
    "    image = cv2.imread(image_file)\n",
    "    mask  = cv2.imread(mask_file, cv2.IMREAD_GRAYSCALE)\n",
    "\n",
    "    # Convertir la imagen de BGR a HSV\n",
    "    hsv_image = cv2.cvtColor(image, cv2.COLOR_BGR2HSV)\n",
    "\n",
    "    # Aplicar la máscara\n",
    "    fruit = cv2.bitwise_and(hsv_image, hsv_image, mask=mask)\n",
    "\n",
    "    #---------------Extracción de los momentos de Hu----------------------\n",
    "\n",
    "    # Encontrar el rectángulo delimitador de la fruta\n",
    "    (x, y, w, h) = cv2.boundingRect(mask)\n",
    "\n",
    "    # Recortar la imagen original para obtener solo la región de la fruta\n",
    "    trimed  = fruit[y:y + h, x:x + w]\n",
    "\n",
    "    # Convertir la imagen a escala de grises si es necesario\n",
    "    trimed_gray = cv2.cvtColor(trimed, cv2.COLOR_BGR2GRAY)\n",
    "\n",
    "    # Calcular los momentos de la imagen\n",
    "    momentos = cv2.moments(trimed_gray)\n",
    "\n",
    "    # Calcular los momentos de Hu\n",
    "    momentos_hu = cv2.HuMoments(momentos)\n",
    "\n",
    "    # Aplicar logaritmo a los momentos de Hu para mejorar la escala\n",
    "    log_moments_hu = -np.sign(momentos_hu) * np.log10(np.abs(momentos_hu))\n",
    "    moments = log_moments_hu.reshape(-1)\n",
    "\n",
    "    #-----------------------Extracción de color-------------------------\n",
    "    conteo = {\n",
    "        'V' : np.sum(np.all(np.logical_and(lower_green  <= fruit, fruit <= upper_green), axis=-1)),\n",
    "        'R1': np.sum(np.all(np.logical_and(lower_red_1  <= fruit, fruit <= upper_red_1), axis=-1)),\n",
    "        'R2': np.sum(np.all(np.logical_and(lower_red_2  <= fruit, fruit <= upper_red_2), axis=-1)),\n",
    "        'A' : np.sum(np.all(np.logical_and(lower_yellow <= fruit, fruit <= upper_yellow), axis=-1)),\n",
    "        'N' : np.sum(np.all(np.logical_and(lower_orange <= fruit, fruit <= upper_orange), axis=-1))\n",
    "    }\n",
    "    conteo_por_rango = {\n",
    "        'V': conteo['V'],\n",
    "        'R': conteo['R1'] + conteo['R2'],\n",
    "        'A': conteo['A'],\n",
    "        'N': conteo['N']\n",
    "    }\n",
    "\n",
    "    sorted_conteo = sorted(conteo_por_rango.items(), key=lambda x: x[1], reverse=True)\n",
    "\n",
    "    # Obtener el segundo elemento más grande\n",
    "    segundo_mas_grande = sorted_conteo[1]\n",
    "\n",
    "    # Obtener la etiqueta y el valor del segundo elemento más grande\n",
    "    etiqueta_segundo_mas_grande = segundo_mas_grande[0]\n",
    "    valor_segundo_mas_grande    = segundo_mas_grande[1]\n",
    "\n",
    "    # Obtener la etiqueta basándose en el rango con el mayor conteo\n",
    "    etiqueta = max(conteo_por_rango, key = conteo_por_rango.get)\n",
    "\n",
    "    # Se usa el hecho de que a excepción de las manzanas, el resto de las frutas tienen poco rojo\n",
    "    if (etiqueta_segundo_mas_grande == 'R')and(valor_segundo_mas_grande > 0.35*conteo_por_rango[etiqueta]):\n",
    "        etiqueta = 'R'\n",
    "\n",
    "    color = conversion_color[etiqueta]\n",
    "\n",
    "    #-----------------Vector de características----------------------\n",
    "    image_features[os.path.basename(image_file)] = np.append(moments[2:4], color)\n",
    "    "
   ]
  },
  {
   "attachments": {},
   "cell_type": "markdown",
   "metadata": {},
   "source": [
    "**RECUPERAMOS LOS CENTROIDES Y APLICACIÓN DE KNN**"
   ]
  },
  {
   "cell_type": "code",
   "execution_count": null,
   "metadata": {},
   "outputs": [],
   "source": [
    "def knn(training, test, k_n):\n",
    "    X           = np.concatenate([v for v in training.values()], axis = 0)\n",
    "    y           = np.concatenate([[k] * v.shape[0] for k, v in training.items()])\n",
    "    dist        = cdist(test, X)\n",
    "    sorted_ind  = np.argsort(dist, axis = 1)\n",
    "    sorted_k    = sorted_ind[:, 0:k_n]\n",
    "    predicted   = []\n",
    "    \n",
    "    for row in sorted_k:\n",
    "        labels     = list(y[row])\n",
    "        prediction = max(set(labels), key = labels.count)\n",
    "        predicted.append(prediction)\n",
    "    return predicted"
   ]
  },
  {
   "cell_type": "code",
   "execution_count": null,
   "metadata": {},
   "outputs": [],
   "source": [
    "data                                         = joblib.load(training_data)\n",
    "training_features,training_labels,centroids  = data['centroids']\n",
    "prediction                                   = knn(centroids, np.vstack(list(image_features.values())), 1)"
   ]
  },
  {
   "attachments": {},
   "cell_type": "markdown",
   "metadata": {},
   "source": [
    "**REPRESENTACIÓN DE LAS IMÁGENES CON SUS ETIQUETAS**"
   ]
  },
  {
   "cell_type": "code",
   "execution_count": null,
   "metadata": {},
   "outputs": [],
   "source": [
    "prediction = dict(zip(image_features.keys(), prediction))\n",
    "total      = len(image_features.keys())\n",
    "cols       = 4\n",
    "rows       = total//cols\n",
    "if len(total)%cols != 0:\n",
    "    rows += 1\n",
    "\n",
    "i = 0\n",
    "for basename, label in prediction.items():\n",
    "\n",
    "    file = os.path.join(original_path, basename)\n",
    "\n",
    "    plt.figure(figsize = (10, 10))\n",
    "    plt.subplot(rows, cols, i + 1)\n",
    "    plt.imshow(cv2.cvtColor(cv2.imread(file), cv2.COLOR_BGR2RGB))\n",
    "    plt.title(basename)\n",
    "    i += 1\n",
    "plt.show()"
   ]
  },
  {
   "attachments": {},
   "cell_type": "markdown",
   "metadata": {},
   "source": [
    "**REPRESENTACIÓN DE LOS PUNTOS EN EL ESPACIO**"
   ]
  },
  {
   "attachments": {},
   "cell_type": "markdown",
   "metadata": {},
   "source": [
    "*Armamos los clusters del entrenamiento*"
   ]
  },
  {
   "cell_type": "code",
   "execution_count": null,
   "metadata": {},
   "outputs": [],
   "source": [
    "points_matrix   = np.vstack(list(training_features.values()))\n",
    "training_points = dict.fromkeys(set(training_labels))\n",
    "\n",
    "for point, label in zip(points_matrix, training_labels):\n",
    "    if training_points[label] is None:\n",
    "        training_points[label] = []\n",
    "    training_points[label].append(point)\n",
    "    \n",
    "points = dict()\n",
    "for fruit, cluster in training_points.items():\n",
    "    points[fruit] = np.vstack(cluster)"
   ]
  },
  {
   "attachments": {},
   "cell_type": "markdown",
   "metadata": {},
   "source": [
    "*Incorporamos los puntos de las frutas de validación al diccionario*"
   ]
  },
  {
   "cell_type": "code",
   "execution_count": null,
   "metadata": {},
   "outputs": [],
   "source": [
    "points['validation'] = np.vstack(list(image_features.values()))"
   ]
  },
  {
   "cell_type": "code",
   "execution_count": 16,
   "metadata": {},
   "outputs": [
    {
     "data": {
      "image/png": "[encoded data removed]",
      "text/plain": [
       "<Figure size 640x480 with 1 Axes>"
      ]
     },
     "metadata": {},
     "output_type": "display_data"
    }
   ],
   "source": [
    "#3d\n",
    "fig = plt.figure()\n",
    "ax = fig.add_subplot(111, projection ='3d')\n",
    "\n",
    "color_values = []\n",
    "for key in points:\n",
    "    if key == 'naranja':\n",
    "        color_values.append('orange')\n",
    "    elif key == 'banana':\n",
    "        color_values.append('yellow')\n",
    "    elif key == 'pera':\n",
    "        color_values.append('green')\n",
    "    elif key == 'manzana':\n",
    "        color_values.append('red')\n",
    "\n",
    "colors = dict(zip(points.keys(), color_values))\n",
    "\n",
    "for key, cluster in points.items():\n",
    "    ax.scatter(cluster[:, 0], cluster[:, 1], cluster[:, 2], c=colors[key], marker='o', label=key)\n",
    "        \n",
    "ax.set_xlabel('Eje X')\n",
    "ax.set_ylabel('Eje Y')\n",
    "ax.set_zlabel('Eje Z')\n",
    "plt.show()"
   ]
  }
 ],
 "metadata": {
  "kernelspec": {
   "display_name": "Python 3",
   "language": "python",
   "name": "python3"
  },
  "language_info": {
   "codemirror_mode": {
    "name": "ipython",
    "version": 3
   },
   "file_extension": ".py",
   "mimetype": "text/x-python",
   "name": "python",
   "nbconvert_exporter": "python",
   "pygments_lexer": "ipython3",
   "version": "3.11.5"
  },
  "orig_nbformat": 4
 },
 "nbformat": 4,
 "nbformat_minor": 2
}
