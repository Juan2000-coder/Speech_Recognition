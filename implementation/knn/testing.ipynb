{
 "cells": [
  {
   "attachments": {},
   "cell_type": "markdown",
   "metadata": {},
   "source": [
    "**IMPORTS**"
   ]
  },
  {
   "cell_type": "code",
   "execution_count": 467,
   "metadata": {},
   "outputs": [],
   "source": [
    "import os\n",
    "import math\n",
    "import librosa\n",
    "import librosa.display\n",
    "import numpy as np\n",
    "import matplotlib.pyplot as plt\n",
    "import numpy as np\n",
    "from sklearn.decomposition import PCA\n",
    "from sklearn.preprocessing import StandardScaler\n",
    "from scipy.spatial.distance import cdist\n",
    "import joblib\n",
    "import sounddevice as sd\n",
    "from scipy.signal import butter, lfilter\n",
    "import soundfile as sf"
   ]
  },
  {
   "attachments": {},
   "cell_type": "markdown",
   "metadata": {},
   "source": [
    "**RUTAS Y TIPOS DE FRUTAS**"
   ]
  },
  {
   "cell_type": "code",
   "execution_count": 468,
   "metadata": {},
   "outputs": [],
   "source": [
    "fruit_types      = ['pera', 'banana', 'manzana', 'naranja']\n",
    "dataset_path     = '../../dataset/audios/test'\n",
    "original_path    = os.path.join(dataset_path, 'original')\n",
    "processed_path   = os.path.join(dataset_path, 'processed')\n",
    "model_file       = 'model.pkl'\n",
    "model            = dict.fromkeys(['pca', 'features', 'scaler'])"
   ]
  },
  {
   "attachments": {},
   "cell_type": "markdown",
   "metadata": {},
   "source": [
    "**ORIGINAL TESTS**"
   ]
  },
  {
   "cell_type": "code",
   "execution_count": 469,
   "metadata": {},
   "outputs": [],
   "source": [
    "original = []\n",
    "original.extend([os.path.join(original_path, filename) for filename in os.listdir(original_path) if filename.endswith('.wav')])"
   ]
  },
  {
   "attachments": {},
   "cell_type": "markdown",
   "metadata": {},
   "source": [
    "**PROCESSED TESTS DICT**"
   ]
  },
  {
   "cell_type": "code",
   "execution_count": 470,
   "metadata": {},
   "outputs": [],
   "source": [
    "processed = []\n",
    "processed.extend([os.path.join(processed_path, filename) for filename in os.listdir(processed_path) if filename.endswith('.wav')])"
   ]
  },
  {
   "attachments": {},
   "cell_type": "markdown",
   "metadata": {},
   "source": [
    "**PARAMETROS DEL AUDIO**"
   ]
  },
  {
   "cell_type": "code",
   "execution_count": 471,
   "metadata": {},
   "outputs": [],
   "source": [
    "FRAME_SIZE = 512# In the documentation says it's convenient for speech.C\n",
    "HOP_SIZE   = int(FRAME_SIZE/2)"
   ]
  },
  {
   "attachments": {},
   "cell_type": "markdown",
   "metadata": {},
   "source": [
    "**FUNCIONES GENERALES DE AUDIO**"
   ]
  },
  {
   "cell_type": "code",
   "execution_count": 472,
   "metadata": {},
   "outputs": [],
   "source": [
    "def load_audio(audiofile):\n",
    "    test_audio, sr = librosa.load(audiofile, sr = None)\n",
    "    duration = librosa.get_duration(filename=audiofile, sr=sr)\n",
    "    return test_audio, sr, duration"
   ]
  },
  {
   "attachments": {},
   "cell_type": "markdown",
   "metadata": {},
   "source": [
    "**FILTERS**"
   ]
  },
  {
   "cell_type": "code",
   "execution_count": 473,
   "metadata": {},
   "outputs": [],
   "source": [
    "def band_pass_filter(signal, sr, low_cutoff, high_cutoff):\n",
    "    b, a = butter(N=3, Wn = [low_cutoff, high_cutoff], btype='band', fs=sr)\n",
    "    return lfilter(b, a, signal)"
   ]
  },
  {
   "attachments": {},
   "cell_type": "markdown",
   "metadata": {},
   "source": [
    "**PROCCESSING OF THE AUDIO FILES FUNCTIONS**"
   ]
  },
  {
   "attachments": {},
   "cell_type": "markdown",
   "metadata": {},
   "source": [
    "*File naming*"
   ]
  },
  {
   "cell_type": "code",
   "execution_count": 474,
   "metadata": {},
   "outputs": [],
   "source": [
    "def get_name(original:list):\n",
    "    return os.path.join(original_path,\"test\" + f\"{len(original) + 1}\" + \".wav\")"
   ]
  },
  {
   "attachments": {},
   "cell_type": "markdown",
   "metadata": {},
   "source": [
    "*Processing*"
   ]
  },
  {
   "cell_type": "code",
   "execution_count": 475,
   "metadata": {},
   "outputs": [],
   "source": [
    "def spectral_flux(signal):\n",
    "\n",
    "    # Calcular el espectrograma de magnitudes\n",
    "    spectrogram = np.abs(librosa.stft(signal, n_fft = FRAME_SIZE, hop_length = HOP_SIZE))\n",
    "\n",
    "    # Calcular el flujo espectral\n",
    "    spectral_flux_values = np.sum(np.diff(spectrogram, axis=1)**2, axis=0)\n",
    "\n",
    "    return spectral_flux_values"
   ]
  },
  {
   "cell_type": "code",
   "execution_count": 476,
   "metadata": {},
   "outputs": [],
   "source": [
    "def process(audio_in, audio_out, rms_umbral = 0.043, flux_umbral = 0.096):\n",
    "    signal, sr, _ = load_audio(audio_in)\n",
    "\n",
    "    rms = librosa.feature.rms(y = signal, frame_length = FRAME_SIZE, hop_length = HOP_SIZE)\n",
    "    rms /= np.max(np.abs(rms))\n",
    "    trms = librosa.times_like(rms, sr = sr, hop_length = HOP_SIZE, n_fft = FRAME_SIZE)\n",
    "    trms /= trms[-1]\n",
    "\n",
    "    flux = spectral_flux(signal)\n",
    "    flux /= np.max(np.abs(flux))\n",
    "    fluxframes = range(len(flux))\n",
    "    tflux = librosa.frames_to_time(fluxframes, hop_length=HOP_SIZE, n_fft = FRAME_SIZE)\n",
    "    tflux /= tflux[-1]\n",
    "                \n",
    "    left_index = np.argmax(np.abs(flux) > flux_umbral)\n",
    "    rigth_index = len(flux) - 1 - np.argmax(np.abs(np.flip(flux)) > flux_umbral)\n",
    "\n",
    "    tsignal = librosa.times_like(signal, sr = sr, hop_length=HOP_SIZE, n_fft=FRAME_SIZE)\n",
    "    tsignal /= tsignal[-1]\n",
    "\n",
    "    flag      = False\n",
    "    pad_left  = 0\n",
    "    pad_rigth = 0\n",
    "    flag_left  =  False\n",
    "    flag_rigth =  False\n",
    "                \n",
    "    while not flag:\n",
    "        if rms[0, left_index] > rms_umbral:\n",
    "            if left_index > pad_left + 15:\n",
    "                rms_left = left_index - np.argmax(np.flip(np.abs(rms[0, :left_index]) < rms_umbral))\n",
    "                if rms_left <= 0:\n",
    "                    rms_left = left_index\n",
    "                flag_left = True\n",
    "            else:\n",
    "                pad_left += 15\n",
    "                left_index = pad_left + np.argmax(np.abs(flux[pad_left:]) > flux_umbral)\n",
    "        else:\n",
    "                rms_left = left_index\n",
    "                flag_left = True\n",
    "\n",
    "        if rms[0, rigth_index] > rms_umbral:\n",
    "            if rigth_index < (len(flux) - 1 - pad_rigth-15):\n",
    "                rms_rigth = rigth_index + np.argmax(np.abs(rms[0, rigth_index:]) < rms_umbral)\n",
    "                if rms_rigth >= len(flux):\n",
    "                    rms_rigth = rigth_index\n",
    "                flag_rigth = True\n",
    "            else:\n",
    "                pad_rigth += 15\n",
    "                rigth_index = len(flux[:-pad_rigth]) - 1 - np.argmax(np.flip(np.abs(flux[:-pad_rigth]) > flux_umbral))                               \n",
    "        else:\n",
    "            rms_rigth = rigth_index\n",
    "            flag_rigth = True\n",
    "\n",
    "        flag = flag_left and flag_rigth\n",
    "\n",
    "    left_index  = min(left_index, rms_left)\n",
    "    rigth_index = max(rigth_index, rms_rigth)\n",
    "    mask = tsignal >= tflux[left_index]\n",
    "    ttrimed = tsignal[mask]\n",
    "    trimed = signal[mask]\n",
    "    mask = ttrimed <= tflux[rigth_index]\n",
    "    ttrimed = ttrimed[mask]\n",
    "    trimed = trimed[mask]\n",
    "    sf.write(audio_out, trimed, sr)"
   ]
  },
  {
   "attachments": {},
   "cell_type": "markdown",
   "metadata": {},
   "source": [
    "**KNN**"
   ]
  },
  {
   "cell_type": "code",
   "execution_count": 477,
   "metadata": {},
   "outputs": [],
   "source": [
    "def knn(training, test, k_n):\n",
    "    X           = np.concatenate([v for v in training.values()], axis = 0)\n",
    "    y           = np.concatenate([[k] * v.shape[0] for k, v in training.items()])\n",
    "    dist        = cdist(test, X)\n",
    "    sorted      = np.argsort(dist, axis = 1)\n",
    "    sorted_k    = sorted[:, 0:k_n]\n",
    "    predicted   = []\n",
    "    \n",
    "    for row in sorted_k:\n",
    "        labels     = list(y[row])\n",
    "        prediction = max(set(labels), key = labels.count)\n",
    "        predicted.append(prediction)\n",
    "    return predicted"
   ]
  },
  {
   "attachments": {},
   "cell_type": "markdown",
   "metadata": {},
   "source": [
    "**PLOTTING**"
   ]
  },
  {
   "cell_type": "code",
   "execution_count": 478,
   "metadata": {},
   "outputs": [],
   "source": [
    "#3d\n",
    "def plot_features3d(features):\n",
    "    fig = plt.figure()\n",
    "    ax = fig.add_subplot(111, projection='3d')\n",
    "    colors = dict(zip(fruit_types,['green','yellow','red','orange']))\n",
    "\n",
    "    for fruit, points in features.items():\n",
    "        ax.scatter(points[:, 0], points[:, 1], points[:, 2], c=colors[fruit], marker='o', label=fruit)\n",
    "        \n",
    "    ax.set_xlabel('Eje X')\n",
    "    ax.set_ylabel('Eje Y')\n",
    "    ax.set_zlabel('Eje Z')\n",
    "    plt.show()"
   ]
  },
  {
   "cell_type": "code",
   "execution_count": 479,
   "metadata": {},
   "outputs": [],
   "source": [
    "#3d\n",
    "def plot_features3d_extra(features):\n",
    "    fig = plt.figure()\n",
    "    ax = fig.add_subplot(111, projection='3d')\n",
    "    colors = dict(zip(features.keys(),['green','yellow','red','orange','cyan']))\n",
    "\n",
    "    for fruit, points in features.items():\n",
    "        ax.scatter(points[:, 0], points[:, 1], points[:, 2], c=colors[fruit], marker='o', label=fruit)\n",
    "        if fruit == 'testing':\n",
    "            for i, point in enumerate(points):\n",
    "                ax.text(point[0], point[1], point[2], f\"{i}\", color='red', fontsize=10) \n",
    "    ax.set_xlabel('Eje X')\n",
    "    ax.set_ylabel('Eje Y')\n",
    "    ax.set_zlabel('Eje Z')\n",
    "    plt.show()"
   ]
  },
  {
   "attachments": {},
   "cell_type": "markdown",
   "metadata": {},
   "source": [
    "**FEATURES EXTRACTION**"
   ]
  },
  {
   "attachments": {},
   "cell_type": "markdown",
   "metadata": {},
   "source": [
    "*Features extraction functions*"
   ]
  },
  {
   "cell_type": "code",
   "execution_count": 480,
   "metadata": {},
   "outputs": [],
   "source": [
    "def calculate_split_frequency_bin(split_frequency, sample_rate, num_frequency_bins):\n",
    "    \"\"\"Infer the frequency bin associated to a given split frequency.\"\"\"\n",
    "    \n",
    "    frequency_range = sample_rate / 2\n",
    "    frequency_delta_per_bin = frequency_range / num_frequency_bins\n",
    "    split_frequency_bin = math.floor(split_frequency / frequency_delta_per_bin)\n",
    "    return int(split_frequency_bin)"
   ]
  },
  {
   "cell_type": "code",
   "execution_count": 481,
   "metadata": {},
   "outputs": [],
   "source": [
    "def band_energy_ratio(spectrogram, split_frequency, sample_rate):\n",
    "    \"\"\"Calculate band energy ratio with a given split frequency.\"\"\"\n",
    "    \n",
    "    split_frequency_bin = calculate_split_frequency_bin(split_frequency, sample_rate, len(spectrogram[0]))\n",
    "    band_energy_ratio = []\n",
    "    \n",
    "    # calculate power spectrogram\n",
    "    power_spectrogram = np.abs(spectrogram) ** 2\n",
    "    power_spectrogram = power_spectrogram.T\n",
    "    \n",
    "    # calculate BER value for each frame\n",
    "    for frame in power_spectrogram:\n",
    "        sum_power_low_frequencies = frame[:split_frequency_bin].sum()\n",
    "        sum_power_high_frequencies = frame[split_frequency_bin:].sum()\n",
    "        band_energy_ratio_current_frame = sum_power_low_frequencies / (sum_power_high_frequencies + sum_power_low_frequencies)\n",
    "        band_energy_ratio.append(band_energy_ratio_current_frame)\n",
    "    \n",
    "    return np.array(band_energy_ratio)"
   ]
  },
  {
   "cell_type": "code",
   "execution_count": 482,
   "metadata": {},
   "outputs": [],
   "source": [
    "def rms(signal, frames, hop):\n",
    "    return librosa.feature.rms(y=signal, frame_length = frames, hop_length = hop)"
   ]
  },
  {
   "attachments": {},
   "cell_type": "markdown",
   "metadata": {},
   "source": [
    "*function to get the features*"
   ]
  },
  {
   "cell_type": "code",
   "execution_count": 483,
   "metadata": {},
   "outputs": [],
   "source": [
    "def get_features(signal, sr):\n",
    "    feature = np.empty((1, 0))\n",
    "\n",
    "    # BER\n",
    "    spec = librosa.stft(signal, n_fft = FRAME_SIZE, hop_length = HOP_SIZE)\n",
    "    # max\n",
    "    split_frequency = 600\n",
    "    BER  = band_energy_ratio(spec, split_frequency, sr)\n",
    "    feat = np.max(np.abs(BER))\n",
    "    feature = np.append(feature, feat)\n",
    "    # min\n",
    "    # 1\n",
    "    split_frequency = 1900\n",
    "    BER  = band_energy_ratio(spec, split_frequency, sr)\n",
    "    feat = np.min(np.abs(BER))\n",
    "    feature = np.append(feature, feat)\n",
    "    # 2\n",
    "    split_frequency = 5000\n",
    "    BER  = band_energy_ratio(spec, split_frequency, sr)\n",
    "    feat = np.min(np.abs(BER))\n",
    "    feature = np.append(feature, feat)\n",
    "    # 3\n",
    "    split_frequency = 9000\n",
    "    BER  = band_energy_ratio(spec, split_frequency, sr)\n",
    "    feat = np.min(np.abs(BER))\n",
    "    feature = np.append(feature, feat)\n",
    "    # std\n",
    "    # 1\n",
    "    split_frequency = 8000\n",
    "    BER  = band_energy_ratio(spec, split_frequency, sr)\n",
    "    BER /= np.max(np.abs(BER))\n",
    "    feat = np.std(BER)/np.mean(np.abs(BER))\n",
    "    feature = np.append(feature, feat)\n",
    "    # 2\n",
    "    split_frequency = 1000\n",
    "    BER  = band_energy_ratio(spec, split_frequency, sr)\n",
    "    BER /= np.max(np.abs(BER))\n",
    "    feat = np.std(BER)/np.mean(np.abs(BER))\n",
    "    feature = np.append(feature, feat)\n",
    "\n",
    "    #ZCR\n",
    "    cutoff = 5000\n",
    "    cuton = 1000\n",
    "    filtered = band_pass_filter(signal, sr, cuton, cutoff)\n",
    "    zcr = librosa.feature.zero_crossing_rate(filtered, frame_length=FRAME_SIZE, hop_length=HOP_SIZE)[0]\n",
    "    zcr /= np.max(np.abs(zcr))\n",
    "    # mean\n",
    "    feat = np.mean(zcr)\n",
    "    feature = np.append(feature, feat)\n",
    "    # maximum\n",
    "    cutoff = 10000\n",
    "    cuton = 10\n",
    "    filtered = band_pass_filter(signal, sr, cuton, cutoff)\n",
    "    zcr = librosa.feature.zero_crossing_rate(filtered, frame_length=FRAME_SIZE, hop_length=HOP_SIZE)[0]\n",
    "    feat = np.max(np.abs(zcr))\n",
    "    feature = np.append(feature, feat)\n",
    "    # std\n",
    "    cutoff = 10000\n",
    "    cuton  = 20\n",
    "    filtered = band_pass_filter(signal, sr, cuton, cutoff)\n",
    "    zcr = librosa.feature.zero_crossing_rate(filtered, frame_length=FRAME_SIZE, hop_length=HOP_SIZE)[0]\n",
    "    feat = np.std(zcr)/np.mean(np.abs(zcr))\n",
    "    feature = np.append(feature, feat)\n",
    "    # mean local\n",
    "    cutoff = 5000\n",
    "    cuton = 1000\n",
    "    filtered = band_pass_filter(signal, sr, cuton, cutoff)\n",
    "    zcr = librosa.feature.zero_crossing_rate(filtered, frame_length=FRAME_SIZE, hop_length=HOP_SIZE)[0]\n",
    "    zcr /= np.max(np.abs(zcr))\n",
    "    feat = np.mean(zcr[((len(zcr)*3)//14 - 5) : ((len(zcr)*3)//14 + 5)])\n",
    "    feature = np.append(feature, feat)\n",
    "    # local max\n",
    "    cutoff = 10000\n",
    "    cuton = 10\n",
    "    filtered = band_pass_filter(signal, sr, cuton, cutoff)\n",
    "    zcr = librosa.feature.zero_crossing_rate(filtered, frame_length=FRAME_SIZE, hop_length=HOP_SIZE)[0]\n",
    "    feat = np.max(zcr[((len(zcr)*3)//4 - 10) : ((len(zcr)*3)//4 + 10)])\n",
    "    feature = np.append(feature, feat)\n",
    "\n",
    "    # Roll off\n",
    "    cuton = 100\n",
    "    cutoff = 8500\n",
    "    filtered = band_pass_filter(signal, sr, cuton, cutoff)\n",
    "    roll_off = librosa.feature.spectral_rolloff(y=filtered, sr=sr, n_fft=FRAME_SIZE, hop_length=HOP_SIZE, roll_percent=0.28)[0]\n",
    "    roll_off /= np.max(np.abs(roll_off))\n",
    "    # mean\n",
    "    feat = np.mean(np.abs(roll_off))\n",
    "    feature = np.append(feature, feat)\n",
    "    # max\n",
    "    cuton = 100\n",
    "    cutoff = 8500\n",
    "    filtered = band_pass_filter(signal, sr, cuton, cutoff)\n",
    "    roll_off = librosa.feature.spectral_rolloff(y=filtered, sr=sr, n_fft=FRAME_SIZE, hop_length=HOP_SIZE, roll_percent=0.55)[0]\n",
    "    feat = np.max(np.abs(roll_off))\n",
    "    feature = np.append(feature, feat)\n",
    "    # std\n",
    "    cutoff = 8500\n",
    "    cuton = 50\n",
    "    filtered = band_pass_filter(signal, sr, cuton, cutoff)\n",
    "    roll_off = librosa.feature.spectral_rolloff(y=filtered, sr=sr, n_fft=FRAME_SIZE, hop_length=HOP_SIZE, roll_percent=0.28)[0]\n",
    "    roll_off /= np.max(np.abs(roll_off))\n",
    "    feat = np.std(np.abs(roll_off))/np.mean(np.abs(roll_off))\n",
    "    feature = np.append(feature, feat)\n",
    "\n",
    "    #MFCCS\n",
    "    n_mfcc = 4\n",
    "    # 1\n",
    "    cuton = 500\n",
    "    cutoff = 5000\n",
    "    filtered = band_pass_filter(signal, sr, cuton, cutoff)\n",
    "    mfccs = librosa.feature.mfcc(y = signal, sr=sr, n_mfcc = n_mfcc, n_fft = FRAME_SIZE, hop_length = HOP_SIZE)\n",
    "    feat = np.max(mfccs, axis = 1)\n",
    "    feature = np.append(feature, feat[3])\n",
    "    \n",
    "    # 2\n",
    "    cuton = 10\n",
    "    cutoff = 8000\n",
    "    filtered = band_pass_filter(signal, sr, cuton, cutoff)\n",
    "    mfccs = librosa.feature.mfcc(y = filtered, sr=sr, n_mfcc = n_mfcc, n_fft = FRAME_SIZE, hop_length = HOP_SIZE)\n",
    "    mfccs /= np.max(np.abs(mfccs), axis = 1, keepdims=True)\n",
    "    feat = np.std(np.abs(mfccs), axis = 1)/np.mean(np.abs(mfccs), axis = 1)\n",
    "    feature = np.append(feature, feat[3])\n",
    "\n",
    "    # 3\n",
    "    cuton = 10\n",
    "    cutoff = 8000\n",
    "    filtered = band_pass_filter(signal, sr, cuton, cutoff)\n",
    "    mfccs = librosa.feature.mfcc(y = filtered, sr=sr, n_mfcc = n_mfcc, n_fft = FRAME_SIZE, hop_length = HOP_SIZE)\n",
    "    mfccs /= np.max(np.abs(mfccs), axis = 1, keepdims=True)\n",
    "    mfccs = mfccs[:, ((mfccs.shape[1]*4) // 5 - 10):((mfccs.shape[1]*4) //5 + 10)]\n",
    "    feat = np.std(np.abs(mfccs), axis=1) / np.mean(np.abs(mfccs), axis=1)\n",
    "    feature = np.append(feature, feat[1])\n",
    "\n",
    "    #envelope\n",
    "    env = rms(signal, FRAME_SIZE, HOP_SIZE)\n",
    "    env = env.reshape(-1,)\n",
    "    selected = np.linspace(0, len(env) - 1, 30, dtype=int)\n",
    "    env = env[selected]\n",
    "    feat = env[11]\n",
    "    feature = np.append(feature, feat)\n",
    "    feat = env[12]\n",
    "    feature = np.append(feature, feat)\n",
    "\n",
    "    return feature"
   ]
  },
  {
   "attachments": {},
   "cell_type": "markdown",
   "metadata": {},
   "source": [
    "**AUFIO RECORGING**"
   ]
  },
  {
   "cell_type": "code",
   "execution_count": 505,
   "metadata": {},
   "outputs": [
    {
     "name": "stdout",
     "output_type": "stream",
     "text": [
      "Grabando...\n",
      "Grabación completa.\n"
     ]
    }
   ],
   "source": [
    "duration = 2.5      # Duración de la grabación en segundos\n",
    "fs       = 48000    # Frecuencia de muestreo en Hz\n",
    "\n",
    "print(\"Grabando...\")\n",
    "data = sd.rec(int(duration * fs), samplerate = fs, channels = 1, dtype = 'int16')\n",
    "sd.wait()\n",
    "print(\"Grabación completa.\")\n",
    "\n",
    "file = get_name(original)\n",
    "sf.write(file, data, fs)\n",
    "original.append(file)"
   ]
  },
  {
   "attachments": {},
   "cell_type": "markdown",
   "metadata": {},
   "source": [
    "**PROCESSING**"
   ]
  },
  {
   "cell_type": "code",
   "execution_count": 506,
   "metadata": {},
   "outputs": [
    {
     "name": "stderr",
     "output_type": "stream",
     "text": [
      "C:\\Users\\Juan\\AppData\\Local\\Temp\\ipykernel_4644\\1587896153.py:3: FutureWarning: get_duration() keyword argument 'filename' has been renamed to 'path' in version 0.10.0.\n",
      "\tThis alias will be removed in version 1.0.\n",
      "  duration = librosa.get_duration(filename=audiofile, sr=sr)\n"
     ]
    }
   ],
   "source": [
    "already_processed = [os.path.basename(audio) for audio in processed]\n",
    "for audio in original:\n",
    "    basename =  os.path.basename(audio)\n",
    "    if basename in already_processed:\n",
    "        pass\n",
    "    else:\n",
    "        audio_out = os.path.join(processed_path, basename)\n",
    "        process(audio, audio_out)\n",
    "        processed.append(audio_out)"
   ]
  },
  {
   "attachments": {},
   "cell_type": "markdown",
   "metadata": {},
   "source": [
    "**FEATURE EXTRACTION**"
   ]
  },
  {
   "cell_type": "code",
   "execution_count": 507,
   "metadata": {},
   "outputs": [
    {
     "name": "stderr",
     "output_type": "stream",
     "text": [
      "C:\\Users\\Juan\\AppData\\Local\\Temp\\ipykernel_4644\\1587896153.py:3: FutureWarning: get_duration() keyword argument 'filename' has been renamed to 'path' in version 0.10.0.\n",
      "\tThis alias will be removed in version 1.0.\n",
      "  duration = librosa.get_duration(filename=audiofile, sr=sr)\n",
      "c:\\Users\\Juan\\AppData\\Local\\Programs\\Python\\Python311\\Lib\\site-packages\\librosa\\feature\\spectral.py:2143: UserWarning: Empty filters detected in mel frequency basis. Some channels will produce empty responses. Try increasing your sampling rate (and fmax) or reducing n_mels.\n",
      "  mel_basis = filters.mel(sr=sr, n_fft=n_fft, **kwargs)\n"
     ]
    }
   ],
   "source": [
    "test_features = None\n",
    "for audio in processed:\n",
    "    signal, sr, _ = load_audio(audio)\n",
    "    feature = get_features(signal, sr)\n",
    "    \n",
    "    if test_features is not None:\n",
    "        test_features = np.vstack([test_features, feature])\n",
    "    else:\n",
    "        test_features = feature.reshape(1, -1)"
   ]
  },
  {
   "attachments": {},
   "cell_type": "markdown",
   "metadata": {},
   "source": [
    "**LOAD THE REDUCED MODEL**"
   ]
  },
  {
   "cell_type": "code",
   "execution_count": 508,
   "metadata": {},
   "outputs": [],
   "source": [
    "model        = joblib.load(model_file)\n",
    "reduced:dict = model['features']\n",
    "pca          = model['pca']\n",
    "scaler       = model['scaler']"
   ]
  },
  {
   "attachments": {},
   "cell_type": "markdown",
   "metadata": {},
   "source": [
    "**TRANSFORM**"
   ]
  },
  {
   "cell_type": "code",
   "execution_count": 509,
   "metadata": {},
   "outputs": [],
   "source": [
    "scaled_test_features   = scaler.transform(test_features)\n",
    "reduced_test           = pca.transform(scaled_test_features)"
   ]
  },
  {
   "attachments": {},
   "cell_type": "markdown",
   "metadata": {},
   "source": [
    "**EXTENSION OF THE FEATURES DICT**"
   ]
  },
  {
   "cell_type": "code",
   "execution_count": 510,
   "metadata": {},
   "outputs": [
    {
     "data": {
      "image/png": "[encoded data removed]",
      "text/plain": [
       "<Figure size 640x480 with 1 Axes>"
      ]
     },
     "metadata": {},
     "output_type": "display_data"
    }
   ],
   "source": [
    "extra               = reduced.copy()\n",
    "extra['testing']    = reduced_test\n",
    "plot_features3d_extra(extra)"
   ]
  },
  {
   "attachments": {},
   "cell_type": "markdown",
   "metadata": {},
   "source": [
    "**PREDICTION**"
   ]
  },
  {
   "cell_type": "code",
   "execution_count": 511,
   "metadata": {},
   "outputs": [
    {
     "name": "stdout",
     "output_type": "stream",
     "text": [
      "+------------+-----------+-----------+-----------+-----------+\n",
      "|   audios   | test1.wav | test2.wav | test3.wav | test4.wav |\n",
      "+------------+-----------+-----------+-----------+-----------+\n",
      "| prediction |    pera   |   banana  |  naranja  |  manzana  |\n",
      "+------------+-----------+-----------+-----------+-----------+\n"
     ]
    }
   ],
   "source": [
    "from prettytable import PrettyTable\n",
    "prediction  = knn(reduced, reduced_test, 3)\n",
    "audios      = []\n",
    "audios      = [os.path.basename(audio) for audio in processed]\n",
    "\n",
    "table = PrettyTable()\n",
    "table.field_names = ['audios'] + audios\n",
    "table.add_row(['prediction']  + prediction)\n",
    "\n",
    "print(table)"
   ]
  }
 ],
 "metadata": {
  "kernelspec": {
   "display_name": "Python 3",
   "language": "python",
   "name": "python3"
  },
  "language_info": {
   "codemirror_mode": {
    "name": "ipython",
    "version": 3
   },
   "file_extension": ".py",
   "mimetype": "text/x-python",
   "name": "python",
   "nbconvert_exporter": "python",
   "pygments_lexer": "ipython3",
   "version": "3.11.5"
  },
  "orig_nbformat": 4
 },
 "nbformat": 4,
 "nbformat_minor": 2
}
