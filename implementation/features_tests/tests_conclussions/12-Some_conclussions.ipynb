{
 "cells": [
  {
   "attachments": {},
   "cell_type": "markdown",
   "metadata": {},
   "source": [
    "En general los momentos de todos los features, con suma son buenos para la separaci�n de las peras\n",
    "si los mfcccs se evaluan 13 componentes y se toman solameente los 15 frames centrados en el tercio bajo, las manzanas se separan muy bien del resto de los grupos en la componente 1 cuando se toma la media\n",
    "En la componente 1 se separan las naranjas en a 3/4 de la duraci�n con la media\n",
    "Tal vez conviene evaluar a los 1/5, 2/5 y 3/%. SObre todo el croosing rate y las componentes de mel"
   ]
  }
 ],
 "metadata": {
  "language_info": {
   "name": "python"
  },
  "orig_nbformat": 4
 },
 "nbformat": 4,
 "nbformat_minor": 2
}
