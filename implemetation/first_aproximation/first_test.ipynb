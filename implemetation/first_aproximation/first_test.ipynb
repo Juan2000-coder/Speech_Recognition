{
 "cells": [
  {
   "cell_type": "code",
   "execution_count": 400,
   "id": "4b9a492b",
   "metadata": {
    "_cell_guid": "b1076dfc-b9ad-4769-8c92-a6c4dae69d19",
    "_uuid": "8f2839f25d086af736a60e9eeb907d3b93b6e0e5",
    "execution": {
     "iopub.execute_input": "2023-11-19T12:48:20.699837Z",
     "iopub.status.busy": "2023-11-19T12:48:20.699351Z",
     "iopub.status.idle": "2023-11-19T12:48:21.957755Z",
     "shell.execute_reply": "2023-11-19T12:48:21.956766Z"
    },
    "papermill": {
     "duration": 1.273258,
     "end_time": "2023-11-19T12:48:21.960693",
     "exception": false,
     "start_time": "2023-11-19T12:48:20.687435",
     "status": "completed"
    },
    "tags": []
   },
   "outputs": [],
   "source": [
    "# Imports\n",
    "import os\n",
    "import librosa\n",
    "import librosa.display\n",
    "import IPython.display as ipd\n",
    "import numpy as np\n",
    "import matplotlib.pyplot as plt\n",
    "from scipy.signal import butter, filtfilt\n",
    "from scipy.spatial.distance import pdist, cdist\n",
    "from mpl_toolkits.mplot3d import Axes3D\n",
    "import soundfile as sf\n",
    "from prettytable import PrettyTable"
   ]
  },
  {
   "cell_type": "code",
   "execution_count": 401,
   "id": "ef9431b5",
   "metadata": {
    "execution": {
     "iopub.execute_input": "2023-11-19T12:48:21.978847Z",
     "iopub.status.busy": "2023-11-19T12:48:21.978391Z",
     "iopub.status.idle": "2023-11-19T12:48:22.067344Z",
     "shell.execute_reply": "2023-11-19T12:48:22.066253Z"
    },
    "papermill": {
     "duration": 0.101449,
     "end_time": "2023-11-19T12:48:22.070347",
     "exception": false,
     "start_time": "2023-11-19T12:48:21.968898",
     "status": "completed"
    },
    "tags": []
   },
   "outputs": [],
   "source": [
    "fruit_types = ['pera', 'banana', 'manzana', 'naranja']\n",
    "fruit_dict = {fruit: [] for fruit in fruit_types}\n",
    "root_dir = '../../dataset'\n",
    "\n",
    "for dirname, _, filenames in os.walk(root_dir):\n",
    "    fruit_type = os.path.basename(dirname)\n",
    "    if fruit_type in fruit_types:\n",
    "        fruit_dict[fruit_type].extend([os.path.join(dirname, filename) for filename in filenames if filename.endswith('.wav')])"
   ]
  },
  {
   "cell_type": "code",
   "execution_count": 402,
   "id": "9843b772",
   "metadata": {},
   "outputs": [],
   "source": [
    "trimed_audio = {fruit: [] for fruit in fruit_types}\n",
    "for dirname, _, filenames in os.walk(root_dir):\n",
    "    trimpath = os.path.basename(dirname)\n",
    "\n",
    "    if trimpath in 'trimed':\n",
    "        fruit_type = os.path.basename(os.path.dirname(dirname))\n",
    "        if fruit_type in fruit_types:\n",
    "            trimed_audio[fruit_type].extend([os.path.join(dirname, filename) for filename in filenames if filename.endswith('.wav')])"
   ]
  },
  {
   "cell_type": "code",
   "execution_count": 403,
   "id": "784e7a03",
   "metadata": {},
   "outputs": [],
   "source": [
    "adjusted_audio = {fruit: [] for fruit in fruit_types}\n",
    "for dirname, _, filenames in os.walk(root_dir):\n",
    "    adjustedpath = os.path.basename(dirname)\n",
    "\n",
    "    if adjustedpath in 'adjusted':\n",
    "        fruit_type = os.path.basename(os.path.dirname(dirname))\n",
    "        if fruit_type in fruit_types:\n",
    "            adjusted_audio[fruit_type].extend([os.path.join(dirname, filename) for filename in filenames if filename.endswith('.wav')])"
   ]
  },
  {
   "cell_type": "code",
   "execution_count": 404,
   "id": "3597dee3",
   "metadata": {
    "execution": {
     "iopub.execute_input": "2023-11-19T12:48:22.172550Z",
     "iopub.status.busy": "2023-11-19T12:48:22.172086Z",
     "iopub.status.idle": "2023-11-19T12:48:22.177667Z",
     "shell.execute_reply": "2023-11-19T12:48:22.176431Z"
    },
    "papermill": {
     "duration": 0.025326,
     "end_time": "2023-11-19T12:48:22.180313",
     "exception": false,
     "start_time": "2023-11-19T12:48:22.154987",
     "status": "completed"
    },
    "tags": []
   },
   "outputs": [],
   "source": [
    "# Audio parameters\n",
    "FRAME_SIZE = 512 # In the documentation says it's convenient for speech.C\n",
    "HOP_SIZE   = 256"
   ]
  },
  {
   "cell_type": "code",
   "execution_count": 405,
   "id": "09172358",
   "metadata": {
    "execution": {
     "iopub.execute_input": "2023-11-19T12:48:22.214270Z",
     "iopub.status.busy": "2023-11-19T12:48:22.213843Z",
     "iopub.status.idle": "2023-11-19T12:48:35.122217Z",
     "shell.execute_reply": "2023-11-19T12:48:35.120959Z"
    },
    "papermill": {
     "duration": 12.929471,
     "end_time": "2023-11-19T12:48:35.125136",
     "exception": false,
     "start_time": "2023-11-19T12:48:22.195665",
     "status": "completed"
    },
    "tags": []
   },
   "outputs": [],
   "source": [
    "def load_audio(audiofile):\n",
    "    test_audio, sr = librosa.load(audiofile, sr = None)\n",
    "    duration = len(test_audio)/sr\n",
    "    return test_audio, sr, duration"
   ]
  },
  {
   "cell_type": "code",
   "execution_count": 406,
   "id": "b71d1a91",
   "metadata": {
    "execution": {
     "iopub.execute_input": "2023-11-19T12:48:35.158605Z",
     "iopub.status.busy": "2023-11-19T12:48:35.157987Z",
     "iopub.status.idle": "2023-11-19T12:48:35.165394Z",
     "shell.execute_reply": "2023-11-19T12:48:35.164563Z"
    },
    "papermill": {
     "duration": 0.026907,
     "end_time": "2023-11-19T12:48:35.167717",
     "exception": false,
     "start_time": "2023-11-19T12:48:35.140810",
     "status": "completed"
    },
    "tags": []
   },
   "outputs": [],
   "source": [
    "def plot_signal(signal, sample_rate):\n",
    "    # Duration and time vector\n",
    "    duration = len(signal)/sample_rate\n",
    "    \n",
    "    # Time_vector\n",
    "    time_vector = np.linspace(0, duration, len(signal))\n",
    "    \n",
    "    # Figure\n",
    "    plt.figure(figsize=(15, 5))\n",
    "    \n",
    "    #plot\n",
    "    #librosa.display.waveshow(signal, sr=sample_rate)\n",
    "    \n",
    "    plt.plot(time_vector, signal, linestyle='-')\n",
    "    \n",
    "    # extra\n",
    "    plt.title(f'Señal de Audio - Duración: {duration:.2f} segundos')\n",
    "    plt.xlabel('Tiempo (s)')\n",
    "    plt.ylabel('Amplitud')\n",
    "    plt.show()"
   ]
  },
  {
   "cell_type": "code",
   "execution_count": 407,
   "id": "3e0f2b66",
   "metadata": {
    "execution": {
     "iopub.execute_input": "2023-11-19T12:48:39.052889Z",
     "iopub.status.busy": "2023-11-19T12:48:39.052051Z",
     "iopub.status.idle": "2023-11-19T12:48:39.058321Z",
     "shell.execute_reply": "2023-11-19T12:48:39.057359Z"
    },
    "papermill": {
     "duration": 0.032218,
     "end_time": "2023-11-19T12:48:39.060831",
     "exception": false,
     "start_time": "2023-11-19T12:48:39.028613",
     "status": "completed"
    },
    "tags": []
   },
   "outputs": [],
   "source": [
    "# Función de ploteo del espectrograma\n",
    "def plot_spectrogram(stft_power, sr, hop_length, y_axis=\"linear\"):\n",
    "    plt.figure(figsize=(25, 10))\n",
    "    librosa.display.specshow(stft_power, \n",
    "                             sr=sr, \n",
    "                             hop_length=hop_length, \n",
    "                             x_axis=\"time\", \n",
    "                             y_axis=y_axis)\n",
    "    plt.colorbar(format=\"%+2.f\")\n",
    "    plt.show()"
   ]
  },
  {
   "cell_type": "code",
   "execution_count": 408,
   "id": "16ccbd05",
   "metadata": {
    "execution": {
     "iopub.execute_input": "2023-11-19T12:48:35.880683Z",
     "iopub.status.busy": "2023-11-19T12:48:35.879544Z",
     "iopub.status.idle": "2023-11-19T12:48:35.886817Z",
     "shell.execute_reply": "2023-11-19T12:48:35.885819Z"
    },
    "papermill": {
     "duration": 0.028121,
     "end_time": "2023-11-19T12:48:35.889484",
     "exception": false,
     "start_time": "2023-11-19T12:48:35.861363",
     "status": "completed"
    },
    "tags": []
   },
   "outputs": [],
   "source": [
    "# Low pass filter\n",
    "def low_pass_filter(signal, cutoff_frequency, sample_rate):\n",
    "    nyquist = 0.5 * sample_rate\n",
    "    normal_cutoff = cutoff_frequency / nyquist\n",
    "    b, a = butter(4, normal_cutoff, btype='low', analog=False)\n",
    "    filtered_signal = filtfilt(b, a, signal)\n",
    "    return filtered_signal"
   ]
  },
  {
   "cell_type": "code",
   "execution_count": 409,
   "id": "aa77fa26",
   "metadata": {
    "execution": {
     "iopub.execute_input": "2023-11-19T12:48:35.924530Z",
     "iopub.status.busy": "2023-11-19T12:48:35.923824Z",
     "iopub.status.idle": "2023-11-19T12:48:37.706397Z",
     "shell.execute_reply": "2023-11-19T12:48:37.705194Z"
    },
    "papermill": {
     "duration": 1.803503,
     "end_time": "2023-11-19T12:48:37.709415",
     "exception": false,
     "start_time": "2023-11-19T12:48:35.905912",
     "status": "completed"
    },
    "tags": []
   },
   "outputs": [],
   "source": [
    "def get_rms(signal):\n",
    "    return librosa.feature.rms(y=signal, frame_length = FRAME_SIZE, hop_length = HOP_SIZE)"
   ]
  },
  {
   "cell_type": "code",
   "execution_count": 410,
   "id": "3b6c3011",
   "metadata": {
    "execution": {
     "iopub.execute_input": "2023-11-19T12:48:37.745805Z",
     "iopub.status.busy": "2023-11-19T12:48:37.745338Z",
     "iopub.status.idle": "2023-11-19T12:48:37.753560Z",
     "shell.execute_reply": "2023-11-19T12:48:37.752174Z"
    },
    "papermill": {
     "duration": 0.02974,
     "end_time": "2023-11-19T12:48:37.756060",
     "exception": false,
     "start_time": "2023-11-19T12:48:37.726320",
     "status": "completed"
    },
    "tags": []
   },
   "outputs": [],
   "source": [
    "def trim(signal, perc):             # The audio signal and the percentaje umbral\n",
    "    signal_rms = get_rms(signal)    # RMS values for each fram\n",
    "    max_rms = signal_rms.max()      # Max RMS\n",
    "\n",
    "    umbral = perc*max_rms/100       # Umbral\n",
    "\n",
    "    mask_rms = signal_rms > umbral\n",
    "\n",
    "    rms_bottom_index = np.argmax(mask_rms)\n",
    "    rms_upper_index = mask_rms.shape[1] - np.argmax(np.flip(mask_rms))\n",
    "\n",
    "    bottom_index = HOP_SIZE*rms_bottom_index\n",
    "    upper_index  = HOP_SIZE*(rms_upper_index + 1)\n",
    "\n",
    "    return signal[bottom_index:upper_index]   # Trimmed signal"
   ]
  },
  {
   "cell_type": "code",
   "execution_count": 411,
   "id": "1a043956",
   "metadata": {},
   "outputs": [],
   "source": [
    "def trim_audio(perc, fruit_dict):\n",
    "    trimed_dict = dict()\n",
    "    for name, group in fruit_dict.items():\n",
    "        trimed_fruits = []\n",
    "        for fruit in group:\n",
    "            signal, sr, _ = load_audio(fruit)\n",
    "            trimed_signal = trim(signal, perc)\n",
    "            \n",
    "            output_file = os.path.join(os.path.dirname(fruit), \"trimed/\" + os.path.basename(fruit))\n",
    "            trimed_fruits.append(output_file)\n",
    "            sf.write(output_file, trimed_signal, sr)\n",
    "        trimed_dict[name] = trimed_fruits\n",
    "    return trimed_dict"
   ]
  },
  {
   "cell_type": "code",
   "execution_count": 412,
   "id": "40718793",
   "metadata": {},
   "outputs": [],
   "source": [
    "def adjust_audio(fruit_dict):\n",
    "    adjusted_dict = dict()\n",
    "    # Minimum duration among all the fruit audios\n",
    "    min_duration = min(min(librosa.get_duration(filename=fruit) for fruit in group) for group in fruit_dict.values())\n",
    "    \n",
    "    for name, group in fruit_dict.items():\n",
    "        adjusted = []\n",
    "        #min_duration = min(librosa.get_duration(filename=fruit) for fruit in group)\n",
    "        for fruit in group:\n",
    "            signal, sr, duration = load_audio(fruit)\n",
    "            print(f\"{fruit}-{duration}\")\n",
    "            time_stretch_factor = duration/min_duration\n",
    "\n",
    "            # Aplicar el estiramiento del tiempo\n",
    "            adjusted_audio = librosa.effects.time_stretch(signal, rate = time_stretch_factor)\n",
    "            parent = os.path.dirname(os.path.dirname(fruit))\n",
    "            output_file = os.path.join(parent, \"adjusted/\" + os.path.basename(fruit))\n",
    "\n",
    "            adjusted.append(output_file)\n",
    "            sf.write(output_file, adjusted_audio, sr)\n",
    "        adjusted_dict[name] = adjusted\n",
    "    return adjusted_dict"
   ]
  },
  {
   "cell_type": "code",
   "execution_count": 413,
   "id": "68d892b1",
   "metadata": {
    "execution": {
     "iopub.execute_input": "2023-11-19T12:48:22.089222Z",
     "iopub.status.busy": "2023-11-19T12:48:22.088294Z",
     "iopub.status.idle": "2023-11-19T12:48:22.128497Z",
     "shell.execute_reply": "2023-11-19T12:48:22.127547Z"
    },
    "papermill": {
     "duration": 0.060605,
     "end_time": "2023-11-19T12:48:22.139464",
     "exception": false,
     "start_time": "2023-11-19T12:48:22.078859",
     "status": "completed"
    },
    "tags": []
   },
   "outputs": [],
   "source": [
    "def get_features(n_mfcc, fruit_dict):\n",
    "    fruit_vectors = dict.fromkeys(fruit_types)\n",
    "    min_frames = None\n",
    "    \n",
    "    for fruit_name, fruits in fruit_dict.items():\n",
    "        vectors = list()\n",
    "        for fruit in fruits:\n",
    "            signal, sr, _ = load_audio(fruit)\n",
    "            #signal = trim(signal, 15)\n",
    "\n",
    "            #signal_stft  = librosa.stft(signal, n_fft = FRAME_SIZE, hop_length = HOP_SIZE) # STFT\n",
    "            #signal_power = np.abs(signal_stft) ** 2                                        # Power Spectrum\n",
    "            #signal_power_db = librosa.power_to_db(signal_power)                            # Simply gets the db values\n",
    "            #signal_mel_spectrogram = librosa.feature.melspectrogram(y = signal, sr=sr, n_fft=FRAME_SIZE, hop_length=HOP_SIZE, n_mels=20) # Mel spectrogram\n",
    "            #signal_mel_spectrogram_db = librosa.power_to_db(signal_mel_spectrogram)\n",
    "\n",
    "            mfccs = librosa.feature.mfcc(y=signal, n_mfcc=n_mfcc, sr=sr)                     # Gets the Mel coeeficients\n",
    "\n",
    "            #We keep only the minimum amount of frames from among all the groups\n",
    "            \n",
    "            n_frames = mfccs.shape[1]\n",
    "            if min_frames is not None:\n",
    "                min_frames = n_frames if n_frames < min_frames else min_frames\n",
    "            else:\n",
    "                min_frames = n_frames\n",
    "                \n",
    "\n",
    "            vectors.append(mfccs)                                                            # We keep the entire mfccs matrix\n",
    "        fruit_vectors[fruit_name] = vectors\n",
    "    # We go through the dictionary once again to trim the vectors to min_frames amomunt of columns\n",
    "    \n",
    "    for fruit_name, vectors in fruit_vectors.items():\n",
    "        for i, vector in enumerate(vectors):\n",
    "            columns = vector.shape[1]\n",
    "            if columns != min_frames:\n",
    "                dif = columns - min_frames\n",
    "                shift = dif/2 if dif%2 == 0 else (dif + 1)/2\n",
    "                shift = int(shift)\n",
    "                vector = vector[:, shift - 1: shift - 1 + min_frames]\n",
    "                fruit_vectors[fruit_name][i] = vector\n",
    "    return fruit_vectors"
   ]
  },
  {
   "cell_type": "code",
   "execution_count": 414,
   "id": "7d8979e9",
   "metadata": {},
   "outputs": [],
   "source": [
    "def get_sphere(vectors):\n",
    "    center = np.mean(vectors, axis = 0)\n",
    "    center = center.reshape(1, -1)\n",
    "    radius = cdist(center, vectors).max()     # Pairwise distance\n",
    "    return radius, center"
   ]
  },
  {
   "cell_type": "code",
   "execution_count": 415,
   "id": "0309e562",
   "metadata": {},
   "outputs": [],
   "source": [
    "def get_table(centers):\n",
    "    table = PrettyTable()\n",
    "    table.field_names = [\"par\"] + [f\"{i}\" for i in range(1, centers[fruit_types[0]].shape[1] + 1)]\n",
    "    difacum=0\n",
    "    for i in range(len(fruit_types)):\n",
    "        for j in range(i + 1, len(fruit_types)):\n",
    "\n",
    "            key = f\"{fruit_types[i]}-{fruit_types[j]}\"\n",
    "            centerdif = centers[fruit_types[i]] - centers[fruit_types[j]]\n",
    "            dist = cdist(centers[fruit_types[i]], centers[fruit_types[j]])\n",
    "            difperc = (centerdif**2)*100/(dist**2)\n",
    "\n",
    "            table.add_row([key] + centerdif[0].tolist())\n",
    "            table.add_row([f\"{key}-%\"] + difperc[0].tolist())\n",
    "        difacum += difperc\n",
    "    table.add_row([\"acum%\"] + difacum[0].tolist())\n",
    "    table.float_format = \"0.2\"\n",
    "    return table"
   ]
  },
  {
   "cell_type": "code",
   "execution_count": 416,
   "id": "54facbc0",
   "metadata": {},
   "outputs": [],
   "source": [
    "def get_centers(features):\n",
    "    centers = dict.fromkeys(fruit_types)\n",
    "    for fruit, group in features.items():\n",
    "        _, center = get_sphere(group)\n",
    "        centers[fruit] = center\n",
    "    return centers"
   ]
  },
  {
   "cell_type": "code",
   "execution_count": 418,
   "id": "75e9e5f3",
   "metadata": {},
   "outputs": [],
   "source": [
    "def get_radiuses(features):\n",
    "    radiuses = dict.fromkeys(fruit_types)\n",
    "    for fruit, group in features.items():\n",
    "        radius, _ = get_sphere(group)\n",
    "        radiuses[fruit] = radius\n",
    "    return radiuses"
   ]
  },
  {
   "cell_type": "code",
   "execution_count": 417,
   "id": "9ae526f5",
   "metadata": {},
   "outputs": [],
   "source": [
    "def get_overlaps(fruit_features):\n",
    "    centers = get_centers(fruit_features)\n",
    "    radiuses = get_radiuses(fruit_features)\n",
    "    overlaps = dict.fromkeys(fruit_types)\n",
    "    \n",
    "    # A dictionary of dictionarys. Keys, the fruit types\n",
    "    for key in overlaps:\n",
    "        # Each dictionary in the dictionary\n",
    "        overlaps[key] = dict.fromkeys(fruit_types)\n",
    "    \n",
    "    for i in range(len(fruit_types)):\n",
    "        for j in range(i + 1, len(fruit_types)):\n",
    "            distancesAB = cdist(centers[fruit_types[i]], fruit_features[fruit_types[j]])\n",
    "            distancesBA = cdist(centers[fruit_types[j]], fruit_features[fruit_types[i]])\n",
    "\n",
    "            mask_distancesAB = distancesAB < radiuses[fruit_types[i]]\n",
    "            mask_distancesBA = distancesBA < radiuses[fruit_types[j]]\n",
    "\n",
    "            numberBinA = np.count_nonzero(mask_distancesAB)\n",
    "            numberAinB = np.count_nonzero(mask_distancesBA)\n",
    "\n",
    "            overlaps[fruit_types[i]][fruit_types[j]] = numberBinA\n",
    "            overlaps[fruit_types[j]][fruit_types[i]] = numberAinB\n",
    "    return overlaps # Each element is the number of vectors of one group in the sphere of another"
   ]
  },
  {
   "cell_type": "code",
   "execution_count": 419,
   "id": "33bf210e",
   "metadata": {},
   "outputs": [],
   "source": [
    "def get_components(centers, nc):\n",
    "    pacum = np.zeros((1, centers[fruit_types[0]].shape[1]))\n",
    "    pair_components = dict()\n",
    "    for i in range(len(fruit_types)):\n",
    "        for j in range(i + 1, len(fruit_types)):\n",
    "            dif = centers[fruit_types[i]] - centers[fruit_types[j]]\n",
    "            dist = cdist(centers[fruit_types[i]], centers[fruit_types[j]])\n",
    "            difp = (dif**2)*100/(dist**2)\n",
    "            pair_components[f\"{fruit_types[i]}-{fruit_types[j]}\"]= np.argsort(difp[0])[-nc:]\n",
    "            pacum += difp\n",
    "    index_max = np.argsort(pacum[0])[-nc:]\n",
    "    #return np.sort(index_max)\n",
    "    return index_max, pair_components"
   ]
  },
  {
   "cell_type": "code",
   "execution_count": 420,
   "id": "f77cb848",
   "metadata": {},
   "outputs": [],
   "source": [
    "def keep_components(features:dict, indexes:list):\n",
    "    for name, group in features.items():\n",
    "        for i, fruit in enumerate(group):\n",
    "            features[name][i] = fruit[indexes, :]\n",
    "    return features"
   ]
  },
  {
   "cell_type": "code",
   "execution_count": 421,
   "id": "0a76ac48",
   "metadata": {},
   "outputs": [],
   "source": [
    "def to_vector(features):\n",
    "    for fruit_name, group in features.items():\n",
    "        for i, matrix in enumerate(group):\n",
    "            vector = matrix.flatten()\n",
    "            group[i] = vector.reshape(1, -1)\n",
    "        features[fruit_name] = np.vstack(group)\n",
    "    return features"
   ]
  },
  {
   "cell_type": "code",
   "execution_count": 422,
   "id": "a5de49c8",
   "metadata": {},
   "outputs": [],
   "source": [
    "def get_varianzs(features, nc):\n",
    "    varianzs = dict.fromkeys(fruit_types)\n",
    "    for fruit, group in features.items():\n",
    "        var = np.var(group, axis = 0)\n",
    "        varianzs[fruit] = np.argsort(var)[:nc]\n",
    "    return varianzs"
   ]
  },
  {
   "cell_type": "code",
   "execution_count": null,
   "id": "aa4918ef",
   "metadata": {},
   "outputs": [],
   "source": [
    "trimed_audio   = trim_audio(35, fruit_dict)\n",
    "adjusted_audio = adjust_audio(trimed_audio)"
   ]
  },
  {
   "cell_type": "code",
   "execution_count": null,
   "id": "9996e968",
   "metadata": {},
   "outputs": [],
   "source": [
    "from sklearn.decomposition import PCA\n",
    "from sklearn.preprocessing import StandardScaler\n",
    "fruit_features = get_features(3, trimed_audio)          # Would be a dictionary with list of mfcc matrixs\n",
    "#fruit_features = keep_components(fruit_features, [0, 1, 2, 3, 4])\n",
    "print(fruit_features['pera'][0].shape)\n",
    "fruit_features = to_vector(fruit_features)\n",
    "centers = get_centers(fruit_features)\n",
    "radiuses = get_radiuses(fruit_features)\n",
    "overlaps = get_overlaps(fruit_features)\n",
    "center_list = list(centers.values())\n",
    "center_matrix = np.squeeze(center_list, axis=1)\n",
    "\n",
    "radius, _ = get_sphere(center_matrix)\n",
    "print(radius)\n",
    "print(radiuses)\n",
    "print(overlaps)\n",
    "\n",
    "index, pair_index = get_components(centers, 3)\n",
    "var_index = get_varianzs(fruit_features, 3)\n",
    "vec_components = sorted(list(set(component for components in [pair_index, var_index] for lista in components.values() for component in lista)|set(index)))\n",
    "\n",
    "print(index)\n",
    "print(pair_index)\n",
    "print(var_index)\n",
    "print(vec_components)\n",
    "\n",
    "whole = None\n",
    "for fruit, group in fruit_features.items():\n",
    "    if whole is None:\n",
    "        whole = fruit_features[fruit]\n",
    "    else:\n",
    "        whole = np.concatenate((whole, fruit_features[fruit]), axis = 0)\n",
    "\n",
    "#whole = StandardScaler().fit_transform(whole)\n",
    "pca = PCA(n_components=5)\n",
    "reduced = pca.fit_transform(whole)\n",
    "\n",
    "shift = 0\n",
    "for fruit, group in fruit_features.items():\n",
    "    print(group.shape[0])\n",
    "    fruit_features[fruit] = whole[list(range(shift, shift + group.shape[0])),:]\n",
    "    shift += group.shape[0]\n",
    "#print(get_table(centers))\n",
    "\n",
    "#for name, group in fruit_features.items():\n",
    "#    fruit_features[name] = group[:, [1, 18]]\n",
    "\n",
    "centers = get_centers(fruit_features)\n",
    "radiuses = get_radiuses(fruit_features)\n",
    "overlaps = get_overlaps(fruit_features)\n",
    "\n",
    "center_list = list(centers.values())\n",
    "center_matrix = np.squeeze(center_list, axis=1)\n",
    "\n",
    "radius, _ = get_sphere(center_matrix)\n",
    "print(radius)\n",
    "print(radiuses)\n",
    "print(overlaps)"
   ]
  },
  {
   "cell_type": "code",
   "execution_count": 460,
   "id": "b1037eeb",
   "metadata": {},
   "outputs": [
    {
     "data": {
      "image/png": "[encoded data removed]",
      "text/plain": [
       "<Figure size 640x480 with 1 Axes>"
      ]
     },
     "metadata": {},
     "output_type": "display_data"
    }
   ],
   "source": [
    "fig = plt.figure()\n",
    "#ax = fig.add_subplot(111, projection='3d')\n",
    "\n",
    "# Configure colors\n",
    "colors = dict(zip(fruit_types,['green','yellow','red','orange']))\n",
    "centers = get_centers(fruit_features)\n",
    "center_colors  = dict(zip(fruit_types,['blue','brown','black','cyan']))\n",
    "\"\"\"\n",
    "# Plotear los puntos para cada grupo\n",
    "for fruit, points in fruit_features.items():\n",
    "    ax.scatter(points[:, 0], points[:, 1], points[:, 2], c=colors[fruit], marker='o', label=fruit)\n",
    "    ax.scatter(centers[fruit][:, 0], centers[fruit][:, 1], centers[fruit][:, 2], c=center_colors[fruit], marker='o', label=f\"{fruit}-center\")\n",
    "\n",
    "# configure labels\n",
    "ax.set_xlabel('Eje X')\n",
    "ax.set_ylabel('Eje Y')\n",
    "ax.set_zlabel('Eje Z')\n",
    "\n",
    "\"\"\"\n",
    "\n",
    "for fruit, points in fruit_features.items():\n",
    "    plt.scatter(points[:, 0], points[:, 1], c = colors[fruit], label=fruit)\n",
    "    #plt.scatter(centers[fruit][:, 0], centers[fruit][:, 1], c = center_colors[fruit], label = f\"{fruit}-center\")\n",
    "\n",
    "# Configurar etiquetas de ejes\n",
    "plt.xlabel('Eje X')\n",
    "plt.ylabel('Eje Y')\n",
    "\n",
    "# Mostrar leyenda\n",
    "# plt.legend()\n",
    "\n",
    "# Mostrar el gráfico\n",
    "plt.show()"
   ]
  },
  {
   "cell_type": "code",
   "execution_count": 395,
   "id": "6f6b261a",
   "metadata": {},
   "outputs": [
    {
     "data": {
      "image/png": "[encoded data removed]",
      "text/plain": [
       "<Figure size 1000x800 with 1 Axes>"
      ]
     },
     "metadata": {},
     "output_type": "display_data"
    }
   ],
   "source": [
    "import os\n",
    "import librosa\n",
    "import librosa.display\n",
    "import numpy as np\n",
    "import matplotlib.pyplot as plt\n",
    "from sklearn.decomposition import PCA\n",
    "from sklearn.preprocessing import StandardScaler\n",
    "\n",
    "# Directorios de los conjuntos de datos\n",
    "root_dir = '../../'\n",
    "\n",
    "dir = dict.fromkeys(fruit_types)\n",
    "for fruit in dir:\n",
    "    dir[fruit] = os.path.join(root_dir,f\"./dataset/{fruit}/adjusted\")\n",
    "\n",
    "# Función para extraer características (espectrograma) de un archivo de audio\n",
    "def get_feat(audio, n_mfcc):\n",
    "    y, sr = librosa.load(audio, sr=None)\n",
    "    #stft = np.abs(librosa.stft(y, n_fft = FRAME_SIZE, hop_length = HOP_SIZE))\n",
    "    #mfccs = librosa.feature.mfcc(S = librosa.power_to_db(stft**2), n_mfcc = n_mfcc, sr=sr, n_fft = FRAME_SIZE, hop_length = HOP_SIZE)\n",
    "    mfccs = librosa.feature.mfcc(y=y, n_mfcc=n_mfcc, sr=sr)\n",
    "    mfccs = StandardScaler().fit_transform(mfccs)\n",
    "    mfccspca = PCA(n_components = 1)\n",
    "    mfccsreduced = pca.fit_transform(mfccs)\n",
    "    return mfccsreduced.T\n",
    "\n",
    "# Leer y procesar los audios\n",
    "n_mfcc = 13\n",
    "features = dict.fromkeys(fruit_types)\n",
    "\n",
    "etiquetas = []\n",
    "\n",
    "for name in features:\n",
    "    features[name] = [get_feat(os.path.join(dir[name], archivo), n_mfcc) for archivo in os.listdir(dir[name])]\n",
    "    etiquetas += [name]*len(features[name])\n",
    "\n",
    "# Concatenar las características y etiquetas\n",
    "\n",
    "\n",
    "whole = None\n",
    "for fruit, group in features.items():\n",
    "    features[fruit] = np.vstack(group)\n",
    "    if whole is None:\n",
    "        whole = features[fruit]\n",
    "    else:\n",
    "        whole = np.concatenate((whole, features[fruit]), axis = 0)\n",
    "\n",
    "# Aplicar PCA para reducir la dimensionalidad\n",
    "whole = StandardScaler().fit_transform(whole)\n",
    "pca = PCA(n_components=3)\n",
    "reduced = pca.fit_transform(whole)\n",
    "\n",
    "\n",
    "plt.figure(figsize=(10, 8))\n",
    "colors = dict(zip(fruit_types,['green','yellow','red','orange']))\n",
    "\n",
    "for etiqueta in set(etiquetas):\n",
    "    indices = np.where(np.array(etiquetas) == etiqueta)\n",
    "    indices = sorted(indices[0])\n",
    "    plt.scatter(reduced[indices, 0], reduced[indices, 1], c = colors[etiqueta], label=etiqueta)\n",
    "\n",
    "\n",
    "# Graficar los puntos\n",
    "plt.xlabel('Eje X')\n",
    "plt.ylabel('Eje Y')\n",
    "plt.title('Visualización de Características con PCA')\n",
    "plt.show()\n",
    "#plt.legend()\n",
    "\n"
   ]
  },
  {
   "cell_type": "code",
   "execution_count": 319,
   "id": "7eb89db2",
   "metadata": {},
   "outputs": [
    {
     "data": {
      "text/plain": [
       "array([[1, 2, 5, 6],\n",
       "       [3, 4, 5, 6]])"
      ]
     },
     "execution_count": 319,
     "metadata": {},
     "output_type": "execute_result"
    }
   ],
   "source": [
    "arr =np.array([[1, 2,5, 6]])\n",
    "arr1 = np.array([[3, 4, 5, 6]])\n",
    "arrs = [arr, arr1]\n",
    "arr2 =np.array([[7, 8, 9, 10]])\n",
    "arr3 = np.array([[23, 24, 52, 26]])\n",
    "arrs1 = [arr2, arr3]\n",
    "re = np.vstack((arrs, arrs1))\n",
    "re.shape\n",
    "np.concatenate((arr, arr1), axis=0)"
   ]
  }
 ],
 "metadata": {
  "kaggle": {
   "accelerator": "none",
   "dataSources": [
    {
     "datasetId": 4021860,
     "sourceId": 6997492,
     "sourceType": "datasetVersion"
    }
   ],
   "dockerImageVersionId": 30587,
   "isGpuEnabled": false,
   "isInternetEnabled": true,
   "language": "python",
   "sourceType": "notebook"
  },
  "kernelspec": {
   "display_name": "Python 3",
   "language": "python",
   "name": "python3"
  },
  "language_info": {
   "codemirror_mode": {
    "name": "ipython",
    "version": 3
   },
   "file_extension": ".py",
   "mimetype": "text/x-python",
   "name": "python",
   "nbconvert_exporter": "python",
   "pygments_lexer": "ipython3",
   "version": "3.11.5"
  },
  "papermill": {
   "default_parameters": {},
   "duration": 24.97142,
   "end_time": "2023-11-19T12:48:42.061332",
   "environment_variables": {},
   "exception": null,
   "input_path": "__notebook__.ipynb",
   "output_path": "__notebook__.ipynb",
   "parameters": {},
   "start_time": "2023-11-19T12:48:17.089912",
   "version": "2.4.0"
  }
 },
 "nbformat": 4,
 "nbformat_minor": 5
}
