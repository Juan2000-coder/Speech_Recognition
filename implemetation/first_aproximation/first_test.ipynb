{
 "cells": [
  {
   "cell_type": "code",
   "execution_count": 622,
   "id": "4b9a492b",
   "metadata": {
    "_cell_guid": "b1076dfc-b9ad-4769-8c92-a6c4dae69d19",
    "_uuid": "8f2839f25d086af736a60e9eeb907d3b93b6e0e5",
    "execution": {
     "iopub.execute_input": "2023-11-19T12:48:20.699837Z",
     "iopub.status.busy": "2023-11-19T12:48:20.699351Z",
     "iopub.status.idle": "2023-11-19T12:48:21.957755Z",
     "shell.execute_reply": "2023-11-19T12:48:21.956766Z"
    },
    "papermill": {
     "duration": 1.273258,
     "end_time": "2023-11-19T12:48:21.960693",
     "exception": false,
     "start_time": "2023-11-19T12:48:20.687435",
     "status": "completed"
    },
    "tags": []
   },
   "outputs": [],
   "source": [
    "# Imports\n",
    "import os\n",
    "import librosa\n",
    "import librosa.display\n",
    "import IPython.display as ipd\n",
    "import numpy as np\n",
    "import matplotlib.pyplot as plt\n",
    "from scipy.signal import butter, filtfilt\n",
    "from scipy.spatial.distance import pdist, cdist\n",
    "from mpl_toolkits.mplot3d import Axes3D\n",
    "import soundfile as sf\n",
    "from prettytable import PrettyTable"
   ]
  },
  {
   "cell_type": "code",
   "execution_count": 587,
   "id": "ef9431b5",
   "metadata": {
    "execution": {
     "iopub.execute_input": "2023-11-19T12:48:21.978847Z",
     "iopub.status.busy": "2023-11-19T12:48:21.978391Z",
     "iopub.status.idle": "2023-11-19T12:48:22.067344Z",
     "shell.execute_reply": "2023-11-19T12:48:22.066253Z"
    },
    "papermill": {
     "duration": 0.101449,
     "end_time": "2023-11-19T12:48:22.070347",
     "exception": false,
     "start_time": "2023-11-19T12:48:21.968898",
     "status": "completed"
    },
    "tags": []
   },
   "outputs": [],
   "source": [
    "fruit_types = ['pera', 'banana', 'manzana', 'naranja']\n",
    "fruit_dict = {fruit: [] for fruit in fruit_types}\n",
    "root_dir = '../../dataset'\n",
    "\n",
    "for dirname, _, filenames in os.walk(root_dir):\n",
    "    fruit_type = os.path.basename(dirname)\n",
    "    if fruit_type in fruit_types:\n",
    "        fruit_dict[fruit_type].extend([os.path.join(dirname, filename) for filename in filenames if filename.endswith('.wav')])"
   ]
  },
  {
   "cell_type": "code",
   "execution_count": 588,
   "id": "9843b772",
   "metadata": {},
   "outputs": [],
   "source": [
    "trimed_audio = {fruit: [] for fruit in fruit_types}\n",
    "for dirname, _, filenames in os.walk(root_dir):\n",
    "    trimpath = os.path.basename(dirname)\n",
    "\n",
    "    if trimpath in 'trimed':\n",
    "        fruit_type = os.path.basename(os.path.dirname(dirname))\n",
    "        if fruit_type in fruit_types:\n",
    "            trimed_audio[fruit_type].extend([os.path.join(dirname, filename) for filename in filenames if filename.endswith('.wav')])"
   ]
  },
  {
   "cell_type": "code",
   "execution_count": 589,
   "id": "784e7a03",
   "metadata": {},
   "outputs": [],
   "source": [
    "adjusted_audio = {fruit: [] for fruit in fruit_types}\n",
    "for dirname, _, filenames in os.walk(root_dir):\n",
    "    adjustedpath = os.path.basename(dirname)\n",
    "\n",
    "    if adjustedpath in 'adjusted':\n",
    "        fruit_type = os.path.basename(os.path.dirname(dirname))\n",
    "        if fruit_type in fruit_types:\n",
    "            adjusted_audio[fruit_type].extend([os.path.join(dirname, filename) for filename in filenames if filename.endswith('.wav')])"
   ]
  },
  {
   "cell_type": "code",
   "execution_count": 590,
   "id": "3597dee3",
   "metadata": {
    "execution": {
     "iopub.execute_input": "2023-11-19T12:48:22.172550Z",
     "iopub.status.busy": "2023-11-19T12:48:22.172086Z",
     "iopub.status.idle": "2023-11-19T12:48:22.177667Z",
     "shell.execute_reply": "2023-11-19T12:48:22.176431Z"
    },
    "papermill": {
     "duration": 0.025326,
     "end_time": "2023-11-19T12:48:22.180313",
     "exception": false,
     "start_time": "2023-11-19T12:48:22.154987",
     "status": "completed"
    },
    "tags": []
   },
   "outputs": [],
   "source": [
    "# Audio parameters\n",
    "FRAME_SIZE = 512 # In the documentation says it's convenient for speech.C\n",
    "HOP_SIZE   = 256"
   ]
  },
  {
   "cell_type": "code",
   "execution_count": 591,
   "id": "09172358",
   "metadata": {
    "execution": {
     "iopub.execute_input": "2023-11-19T12:48:22.214270Z",
     "iopub.status.busy": "2023-11-19T12:48:22.213843Z",
     "iopub.status.idle": "2023-11-19T12:48:35.122217Z",
     "shell.execute_reply": "2023-11-19T12:48:35.120959Z"
    },
    "papermill": {
     "duration": 12.929471,
     "end_time": "2023-11-19T12:48:35.125136",
     "exception": false,
     "start_time": "2023-11-19T12:48:22.195665",
     "status": "completed"
    },
    "tags": []
   },
   "outputs": [],
   "source": [
    "def load_audio(audiofile):\n",
    "    test_audio, sr = librosa.load(audiofile, sr = None)\n",
    "    duration = len(test_audio)/sr\n",
    "    return test_audio, sr, duration"
   ]
  },
  {
   "cell_type": "code",
   "execution_count": 592,
   "id": "b71d1a91",
   "metadata": {
    "execution": {
     "iopub.execute_input": "2023-11-19T12:48:35.158605Z",
     "iopub.status.busy": "2023-11-19T12:48:35.157987Z",
     "iopub.status.idle": "2023-11-19T12:48:35.165394Z",
     "shell.execute_reply": "2023-11-19T12:48:35.164563Z"
    },
    "papermill": {
     "duration": 0.026907,
     "end_time": "2023-11-19T12:48:35.167717",
     "exception": false,
     "start_time": "2023-11-19T12:48:35.140810",
     "status": "completed"
    },
    "tags": []
   },
   "outputs": [],
   "source": [
    "# Function to plot the signal\n",
    "def plot_signal(signal, sample_rate):\n",
    "    # Duration and time vector\n",
    "    duration = len(signal)/sample_rate\n",
    "    \n",
    "    # Time_vector\n",
    "    time_vector = np.linspace(0, duration, len(signal))\n",
    "    \n",
    "    # Figure\n",
    "    plt.figure(figsize=(15, 5))\n",
    "    \n",
    "    #plot\n",
    "    librosa.display.waveshow(signal, sr=sample_rate, axis='time')\n",
    "    \n",
    "    #plt.plot(time_vector, signal, linestyle='-')\n",
    "    \n",
    "    # extra\n",
    "    plt.title(f'Señal de Audio - Duración: {duration:.2f} segundos')\n",
    "    plt.xlabel('Tiempo (s)')\n",
    "    plt.ylabel('Amplitud')\n",
    "    plt.show()"
   ]
  },
  {
   "cell_type": "code",
   "execution_count": 593,
   "id": "3e0f2b66",
   "metadata": {
    "execution": {
     "iopub.execute_input": "2023-11-19T12:48:39.052889Z",
     "iopub.status.busy": "2023-11-19T12:48:39.052051Z",
     "iopub.status.idle": "2023-11-19T12:48:39.058321Z",
     "shell.execute_reply": "2023-11-19T12:48:39.057359Z"
    },
    "papermill": {
     "duration": 0.032218,
     "end_time": "2023-11-19T12:48:39.060831",
     "exception": false,
     "start_time": "2023-11-19T12:48:39.028613",
     "status": "completed"
    },
    "tags": []
   },
   "outputs": [],
   "source": [
    "# Función de ploteo del espectrograma\n",
    "def plot_spectrogram(stft_power, sr, hop_length, y_axis=\"linear\"):\n",
    "    plt.figure(figsize=(25, 10))\n",
    "    librosa.display.specshow(stft_power, \n",
    "                             sr=sr, \n",
    "                             hop_length=hop_length, \n",
    "                             x_axis=\"time\", \n",
    "                             y_axis=y_axis)\n",
    "    plt.colorbar(format=\"%+2.f\")\n",
    "    plt.show()"
   ]
  },
  {
   "cell_type": "code",
   "execution_count": 594,
   "id": "16ccbd05",
   "metadata": {
    "execution": {
     "iopub.execute_input": "2023-11-19T12:48:35.880683Z",
     "iopub.status.busy": "2023-11-19T12:48:35.879544Z",
     "iopub.status.idle": "2023-11-19T12:48:35.886817Z",
     "shell.execute_reply": "2023-11-19T12:48:35.885819Z"
    },
    "papermill": {
     "duration": 0.028121,
     "end_time": "2023-11-19T12:48:35.889484",
     "exception": false,
     "start_time": "2023-11-19T12:48:35.861363",
     "status": "completed"
    },
    "tags": []
   },
   "outputs": [],
   "source": [
    "# Low pass filter\n",
    "def low_pass_filter(signal, cutoff_frequency, sample_rate):\n",
    "    nyquist = 0.5 * sample_rate\n",
    "    normal_cutoff = cutoff_frequency / nyquist\n",
    "    b, a = butter(4, normal_cutoff, btype='low', analog=False)\n",
    "    filtered_signal = filtfilt(b, a, signal)\n",
    "    return filtered_signal"
   ]
  },
  {
   "cell_type": "code",
   "execution_count": 595,
   "id": "aa77fa26",
   "metadata": {
    "execution": {
     "iopub.execute_input": "2023-11-19T12:48:35.924530Z",
     "iopub.status.busy": "2023-11-19T12:48:35.923824Z",
     "iopub.status.idle": "2023-11-19T12:48:37.706397Z",
     "shell.execute_reply": "2023-11-19T12:48:37.705194Z"
    },
    "papermill": {
     "duration": 1.803503,
     "end_time": "2023-11-19T12:48:37.709415",
     "exception": false,
     "start_time": "2023-11-19T12:48:35.905912",
     "status": "completed"
    },
    "tags": []
   },
   "outputs": [],
   "source": [
    "def get_rms(signal):\n",
    "    return librosa.feature.rms(y=signal, frame_length = FRAME_SIZE, hop_length = HOP_SIZE)"
   ]
  },
  {
   "cell_type": "code",
   "execution_count": 596,
   "id": "3b6c3011",
   "metadata": {
    "execution": {
     "iopub.execute_input": "2023-11-19T12:48:37.745805Z",
     "iopub.status.busy": "2023-11-19T12:48:37.745338Z",
     "iopub.status.idle": "2023-11-19T12:48:37.753560Z",
     "shell.execute_reply": "2023-11-19T12:48:37.752174Z"
    },
    "papermill": {
     "duration": 0.02974,
     "end_time": "2023-11-19T12:48:37.756060",
     "exception": false,
     "start_time": "2023-11-19T12:48:37.726320",
     "status": "completed"
    },
    "tags": []
   },
   "outputs": [],
   "source": [
    "def trim(signal, perc):             # The audio signal and the percentaje umbral\n",
    "    signal_rms = get_rms(signal)    # RMS values for each fram\n",
    "    max_rms = signal_rms.max()      # Max RMS\n",
    "\n",
    "    umbral = perc*max_rms/100       # Umbral\n",
    "\n",
    "    mask_rms = signal_rms > umbral\n",
    "\n",
    "    rms_bottom_index = np.argmax(mask_rms)\n",
    "    rms_upper_index = mask_rms.shape[1] - np.argmax(np.flip(mask_rms))\n",
    "\n",
    "    bottom_index = HOP_SIZE*rms_bottom_index\n",
    "    upper_index  = HOP_SIZE*(rms_upper_index + 1)\n",
    "\n",
    "    return signal[bottom_index:upper_index]   # Trimmed signal"
   ]
  },
  {
   "cell_type": "code",
   "execution_count": 597,
   "id": "1a043956",
   "metadata": {},
   "outputs": [],
   "source": [
    "def trim_audio(perc, fruit_dict):\n",
    "    trimed_dict = dict()\n",
    "    for name, group in fruit_dict.items():\n",
    "        trimed_fruits = []\n",
    "        for fruit in group:\n",
    "            signal, sr, _ = load_audio(fruit)\n",
    "            trimed_signal = trim(signal, perc)\n",
    "            \n",
    "            output_file = os.path.join(os.path.dirname(fruit), \"trimed/\" + os.path.basename(fruit))\n",
    "            trimed_fruits.append(output_file)\n",
    "            sf.write(output_file, trimed_signal, sr)\n",
    "        trimed_dict[name] = trimed_fruits\n",
    "    return trimed_dict"
   ]
  },
  {
   "cell_type": "code",
   "execution_count": 598,
   "id": "40718793",
   "metadata": {},
   "outputs": [],
   "source": [
    "def adjust_audio(fruit_dict):\n",
    "    adjusted_dict = dict()\n",
    "    for name, group in fruit_dict.items():\n",
    "        adjusted = []\n",
    "        min_duration = min(librosa.get_duration(filename=fruit) for fruit in group)\n",
    "\n",
    "        for fruit in group:\n",
    "            signal, sr, duration = load_audio(fruit)\n",
    "            time_stretch_factor = duration/min_duration\n",
    "\n",
    "            # Aplicar el estiramiento del tiempo\n",
    "            adjusted_audio = librosa.effects.time_stretch(signal, rate = time_stretch_factor)\n",
    "            parent = os.path.dirname(os.path.dirname(fruit))\n",
    "            output_file = os.path.join(parent, \"adjusted/\" + os.path.basename(fruit))\n",
    "\n",
    "            adjusted.append(output_file)\n",
    "            sf.write(output_file, adjusted_audio, sr)\n",
    "        adjusted_dict[name] = adjusted\n",
    "    return adjusted_dict\n",
    "        \n"
   ]
  },
  {
   "cell_type": "code",
   "execution_count": 599,
   "id": "68d892b1",
   "metadata": {
    "execution": {
     "iopub.execute_input": "2023-11-19T12:48:22.089222Z",
     "iopub.status.busy": "2023-11-19T12:48:22.088294Z",
     "iopub.status.idle": "2023-11-19T12:48:22.128497Z",
     "shell.execute_reply": "2023-11-19T12:48:22.127547Z"
    },
    "papermill": {
     "duration": 0.060605,
     "end_time": "2023-11-19T12:48:22.139464",
     "exception": false,
     "start_time": "2023-11-19T12:48:22.078859",
     "status": "completed"
    },
    "tags": []
   },
   "outputs": [],
   "source": [
    "def get_features(n_mfcc, fruit_dict):\n",
    "    fruit_vectors = dict.fromkeys(fruit_types)\n",
    "    min_frames = None\n",
    "    for fruit_name, fruits in fruit_dict.items():\n",
    "        vectors = list()\n",
    "        for fruit in fruits:\n",
    "            signal, sr, _ = load_audio(fruit)\n",
    "            #signal = trim(signal, 15)\n",
    "\n",
    "            #signal_stft  = librosa.stft(signal, n_fft = FRAME_SIZE, hop_length = HOP_SIZE) # STFT\n",
    "            #signal_power = np.abs(signal_stft) ** 2                                        # Power Spectrum\n",
    "            #signal_power_db = librosa.power_to_db(signal_power)                            # Simply gets the db values\n",
    "            #signal_mel_spectrogram = librosa.feature.melspectrogram(y = signal, sr=sr, n_fft=FRAME_SIZE, hop_length=HOP_SIZE, n_mels=20) # Mel spectrogram\n",
    "            #signal_mel_spectrogram_db = librosa.power_to_db(signal_mel_spectrogram)\n",
    "\n",
    "            mfccs = librosa.feature.mfcc(y=signal, n_mfcc=n_mfcc, sr=sr)                     # Gets the Mel coeeficients\n",
    "\n",
    "            #We keep only the minimum amount of frames from among all the groups\n",
    "            n_frames = mfccs.shape[1]\n",
    "            if min_frames is not None:\n",
    "                min_frames = n_frames if n_frames < min_frames else min_frames\n",
    "            else:\n",
    "                min_frames = n_frames\n",
    "\n",
    "            vectors.append(mfccs)                                                            # We keep the entire mfccs matrix\n",
    "        fruit_vectors[fruit_name] = vectors\n",
    "    # We go through the dictionary once again to trim the vectors to min_frames amomunt of columns\n",
    "    for fruit_name, vectors in fruit_vectors.items():\n",
    "        for i, vector in enumerate(vectors):\n",
    "            columns = vector.shape[1]\n",
    "            if columns != min_frames:\n",
    "                dif = columns - min_frames\n",
    "                shift = dif/2 if dif%2 == 0 else (dif + 1)/2\n",
    "                shift = int(shift)\n",
    "                vector = vector[:, shift - 1: shift - 1 + min_frames]\n",
    "                fruit_vectors[fruit_name][i] = vector\n",
    "    return fruit_vectors"
   ]
  },
  {
   "cell_type": "code",
   "execution_count": 600,
   "id": "7d8979e9",
   "metadata": {},
   "outputs": [],
   "source": [
    "def get_sphere(vectors):\n",
    "    center = np.mean(vectors, axis = 0)\n",
    "    center = center.reshape(1, -1)\n",
    "    radius = cdist(center, vectors).max()     # Pairwise distance\n",
    "    return radius, center"
   ]
  },
  {
   "cell_type": "code",
   "execution_count": 621,
   "id": "0309e562",
   "metadata": {},
   "outputs": [],
   "source": [
    "def get_table(centers):\n",
    "    table = PrettyTable()\n",
    "    table.field_names = [\"par\"] + [f\"{i}\" for i in range(1, centers[fruit_types[0]].shape[1] + 1)]\n",
    "    difacum=0\n",
    "    for i in range(len(fruit_types)):\n",
    "        for j in range(i + 1, len(fruit_types)):\n",
    "\n",
    "            key = f\"{fruit_types[i]}-{fruit_types[j]}\"\n",
    "            centerdif = centers[fruit_types[i]] - centers[fruit_types[j]]\n",
    "            dist = cdist(centers[fruit_types[i]], centers[fruit_types[j]])\n",
    "            difperc = (centerdif**2)*100/(dist**2)\n",
    "\n",
    "            table.add_row([key] + centerdif[0].tolist())\n",
    "            table.add_row([f\"{key}-%\"] + difperc[0].tolist())\n",
    "        difacum += difperc\n",
    "    table.add_row([\"acum%\"] + difacum[0].tolist())\n",
    "    table.float_format = \"0.2\"\n",
    "    return table"
   ]
  },
  {
   "cell_type": "code",
   "execution_count": 602,
   "id": "54facbc0",
   "metadata": {},
   "outputs": [],
   "source": [
    "def get_centers(features):\n",
    "    centers = dict.fromkeys(fruit_types)\n",
    "    for fruit, group in features.items():\n",
    "        _, center = get_sphere(group)\n",
    "        centers[fruit] = center\n",
    "    return centers"
   ]
  },
  {
   "cell_type": "code",
   "execution_count": 603,
   "id": "9ae526f5",
   "metadata": {},
   "outputs": [],
   "source": [
    "def get_overlaps(fruit_features):\n",
    "    centers = get_centers(fruit_features)\n",
    "    radiuses = get_radiuses(fruit_features)\n",
    "    overlaps = dict.fromkeys(fruit_types)\n",
    "    \n",
    "    # A dictionary of dictionarys. Keys, the fruit types\n",
    "    for key in overlaps:\n",
    "        # Each dictionary in the dictionary\n",
    "        overlaps[key] = dict.fromkeys(fruit_types)\n",
    "    \n",
    "    for i in range(len(fruit_types)):\n",
    "        for j in range(i + 1, len(fruit_types)):\n",
    "            distancesAB = cdist(centers[fruit_types[i]], fruit_features[fruit_types[j]])\n",
    "            distancesBA = cdist(centers[fruit_types[j]], fruit_features[fruit_types[i]])\n",
    "\n",
    "            mask_distancesAB = distancesAB < radiuses[fruit_types[i]]\n",
    "            mask_distancesBA = distancesBA < radiuses[fruit_types[j]]\n",
    "\n",
    "            numberBinA = np.count_nonzero(mask_distancesAB)\n",
    "            numberAinB = np.count_nonzero(mask_distancesBA)\n",
    "\n",
    "            overlaps[fruit_types[i]][fruit_types[j]] = numberBinA\n",
    "            overlaps[fruit_types[j]][fruit_types[i]] = numberAinB\n",
    "    return overlaps # Each element is the number of vectors of one group in the sphere of another"
   ]
  },
  {
   "cell_type": "code",
   "execution_count": 604,
   "id": "75e9e5f3",
   "metadata": {},
   "outputs": [],
   "source": [
    "def get_radiuses(features):\n",
    "    radiuses = dict.fromkeys(fruit_types)\n",
    "    for fruit, group in features.items():\n",
    "        radius, _ = get_sphere(group)\n",
    "        radiuses[fruit] = radius\n",
    "    return radiuses"
   ]
  },
  {
   "cell_type": "code",
   "execution_count": 632,
   "id": "33bf210e",
   "metadata": {},
   "outputs": [],
   "source": [
    "def get_components(centers, nc):\n",
    "    pacum = np.zeros((1, centers[fruit_types[0]].shape[1]))\n",
    "    for i in range(len(fruit_types)):\n",
    "        for j in range(i + 1, len(fruit_types)):\n",
    "            dif = centers[fruit_types[i]] - centers[fruit_types[j]]\n",
    "            dist = cdist(centers[fruit_types[i]], centers[fruit_types[j]])\n",
    "            difp = (dif**2)*100/(dist**2)\n",
    "            pacum += difp\n",
    "    index_max = np.argsort(pacum[0])[-nc:]\n",
    "    #return np.sort(index_max)\n",
    "    return index_max\n"
   ]
  },
  {
   "cell_type": "code",
   "execution_count": 606,
   "id": "f77cb848",
   "metadata": {},
   "outputs": [],
   "source": [
    "def keep_components(features:dict, indexes:list):\n",
    "    for name, group in features.items():\n",
    "        for i, fruit in enumerate(group):\n",
    "            features[name][i] = fruit[indexes, :]\n",
    "    return features"
   ]
  },
  {
   "cell_type": "code",
   "execution_count": 607,
   "id": "0a76ac48",
   "metadata": {},
   "outputs": [],
   "source": [
    "def to_vector(features):\n",
    "    for fruit_name, group in features.items():\n",
    "        for i, matrix in enumerate(group):\n",
    "            vector = matrix.flatten()\n",
    "            group[i] = vector.reshape(1, -1)\n",
    "        features[fruit_name] = np.vstack(group)\n",
    "    return features"
   ]
  },
  {
   "cell_type": "code",
   "execution_count": 608,
   "id": "a5de49c8",
   "metadata": {},
   "outputs": [],
   "source": [
    "def get_varianzs(features, nc):\n",
    "    varianzs = dict.fromkeys(fruit_types)\n",
    "    for fruit, group in features.items():\n",
    "        var = np.var(group, axis = 0)\n",
    "        varianzs[fruit] = np.argsort(var)[:nc]\n",
    "    return varianzs"
   ]
  },
  {
   "cell_type": "code",
   "execution_count": 609,
   "id": "aa4918ef",
   "metadata": {},
   "outputs": [],
   "source": [
    "#trimed_audio   = trim_audio(35, fruit_dict)\n",
    "#adjusted_audio = adjust_audio(trimed_audio)"
   ]
  },
  {
   "cell_type": "code",
   "execution_count": 635,
   "id": "9996e968",
   "metadata": {},
   "outputs": [
    {
     "name": "stdout",
     "output_type": "stream",
     "text": [
      "[25 27 26]\n",
      "{'pera': array([60, 79, 38, 37, 73, 36, 71, 78, 74, 35], dtype=int64), 'banana': array([27, 22, 21, 26, 23, 35, 28, 36, 29, 24], dtype=int64), 'manzana': array([60, 35, 61, 36, 66, 65, 37, 67, 64, 38], dtype=int64), 'naranja': array([27, 26, 25, 28, 24, 73, 72, 71, 29, 74], dtype=int64)}\n",
      "369.06331152287066\n",
      "{'pera': 364.127359416949, 'banana': 471.0248617026879, 'manzana': 489.28567967037407, 'naranja': 633.4533185549318}\n",
      "{'pera': {'pera': None, 'banana': 8, 'manzana': 1, 'naranja': 4}, 'banana': {'pera': 9, 'banana': None, 'manzana': 1, 'naranja': 8}, 'manzana': {'pera': 2, 'banana': 1, 'manzana': None, 'naranja': 0}, 'naranja': {'pera': 10, 'banana': 10, 'manzana': 4, 'naranja': None}}\n",
      "+-------------------+--------+--------+--------+--------+--------+--------+--------+--------+--------+--------+--------+--------+--------+--------+--------+--------+--------+--------+--------+--------+--------+--------+--------+---------+---------+---------+---------+---------+---------+---------+--------+--------+--------+-------+-------+-------+-------+--------+--------+--------+--------+--------+--------+--------+--------+--------+--------+-------+--------+--------+--------+--------+--------+--------+--------+-------+-------+-------+-------+-------+--------+--------+--------+--------+--------+--------+--------+--------+--------+--------+--------+--------+--------+--------+--------+--------+--------+--------+--------+--------+\n",
      "|        par        |   1    |   2    |   3    |   4    |   5    |   6    |   7    |   8    |   9    |   10   |   11   |   12   |   13   |   14   |   15   |   16   |   17   |   18   |   19   |   20   |   21   |   22   |   23   |    24   |    25   |    26   |    27   |    28   |    29   |    30   |   31   |   32   |   33   |   34  |   35  |   36  |   37  |   38   |   39   |   40   |   41   |   42   |   43   |   44   |   45   |   46   |   47   |   48  |   49   |   50   |   51   |   52   |   53   |   54   |   55   |   56  |   57  |   58  |   59  |   60  |   61   |   62   |   63   |   64   |   65   |   66   |   67   |   68   |   69   |   70   |   71   |   72   |   73   |   74   |   75   |   76   |   77   |   78   |   79   |   80   |\n",
      "+-------------------+--------+--------+--------+--------+--------+--------+--------+--------+--------+--------+--------+--------+--------+--------+--------+--------+--------+--------+--------+--------+--------+--------+--------+---------+---------+---------+---------+---------+---------+---------+--------+--------+--------+-------+-------+-------+-------+--------+--------+--------+--------+--------+--------+--------+--------+--------+--------+-------+--------+--------+--------+--------+--------+--------+--------+-------+-------+-------+-------+-------+--------+--------+--------+--------+--------+--------+--------+--------+--------+--------+--------+--------+--------+--------+--------+--------+--------+--------+--------+--------+\n",
      "|    pera-banana    | 27.78  | 52.57  | 57.64  | 66.40  | 60.96  | 38.69  |  3.36  | -15.24 | -20.74 | -28.81 | -39.47 | -46.63 | -38.13 | -21.74 | -10.96 | -4.99  |  1.27  | 11.71  | 28.32  | 22.35  | -42.91 | -18.01 | -0.32  |  -0.77  |  -2.67  |  -9.10  |  -19.59 |  -22.67 |  -18.85 |  -16.61 | -19.13 | -25.49 | -20.47 | -9.52 | -4.25 | -3.34 | -0.29 |  4.75  | -1.95  | -28.49 | 33.26  |  1.29  | -25.85 | -34.78 | -36.15 | -27.51 | -8.37  |  5.91 | 15.28  | 25.10  | 32.34  | 32.14  | 29.22  | 22.68  | 16.98  | 12.25 |  8.02 |  1.68 | -1.35 |  8.00 | 22.28  | 17.89  | 14.28  | 16.16  | 18.97  | 23.34  | 30.52  | 34.48  | 32.63  | 29.74  | 29.07  | 26.41  | 21.02  | 10.62  |  1.75  | -2.58  | -10.84 | -21.24 | -18.79 | -13.17 |\n",
      "|   pera-banana-%   |  1.52  |  5.43  |  6.53  |  8.66  |  7.30  |  2.94  |  0.02  |  0.46  |  0.85  |  1.63  |  3.06  |  4.27  |  2.86  |  0.93  |  0.24  |  0.05  |  0.00  |  0.27  |  1.58  |  0.98  |  3.62  |  0.64  |  0.00  |   0.00  |   0.01  |   0.16  |   0.75  |   1.01  |   0.70  |   0.54  |  0.72  |  1.28  |  0.82  |  0.18 |  0.04 |  0.02 |  0.00 |  0.04  |  0.01  |  1.59  |  2.17  |  0.00  |  1.31  |  2.38  |  2.57  |  1.49  |  0.14  |  0.07 |  0.46  |  1.24  |  2.06  |  2.03  |  1.68  |  1.01  |  0.57  |  0.29 |  0.13 |  0.01 |  0.00 |  0.13 |  0.97  |  0.63  |  0.40  |  0.51  |  0.71  |  1.07  |  1.83  |  2.34  |  2.09  |  1.74  |  1.66  |  1.37  |  0.87  |  0.22  |  0.01  |  0.01  |  0.23  |  0.89  |  0.69  |  0.34  |\n",
      "|    pera-manzana   | 121.35 | 137.38 | 115.90 | 96.62  | 78.31  | 62.69  | 48.86  | 40.26  | 30.28  | 13.52  | -12.75 | -33.62 | -31.38 | -19.16 | -14.33 | -16.66 | -18.67 | -19.10 | -10.01 | -15.20 | -0.55  | 40.95  | 75.06  |  94.91  |  111.72 |  117.96 |  118.34 |  115.18 |  102.49 |  78.57  | 45.15  | 15.12  |  3.74  |  2.42 | -1.65 | -8.11 | -7.24 | -6.56  | -16.77 | -43.91 | -7.84  | -38.40 | -56.47 | -49.11 | -37.61 | -27.16 | -14.02 | -2.64 |  3.06  |  7.73  | 17.93  | 22.13  | 20.60  | 16.36  | 12.51  | 12.88 | 16.06 | 17.73 | 19.41 | 27.50 | -19.03 | -33.72 | -48.64 | -56.65 | -60.91 | -65.72 | -63.86 | -62.98 | -63.92 | -60.09 | -44.88 | -31.46 | -23.94 | -19.45 | -15.99 | -13.33 | -16.78 | -20.24 | -12.86 | -5.82  |\n",
      "|   pera-manzana-%  |  6.81  |  8.73  |  6.21  |  4.32  |  2.84  |  1.82  |  1.10  |  0.75  |  0.42  |  0.08  |  0.08  |  0.52  |  0.46  |  0.17  |  0.10  |  0.13  |  0.16  |  0.17  |  0.05  |  0.11  |  0.00  |  0.78  |  2.61  |   4.17  |   5.77  |   6.43  |   6.48  |   6.13  |   4.86  |   2.85  |  0.94  |  0.11  |  0.01  |  0.00 |  0.00 |  0.03 |  0.02 |  0.02  |  0.13  |  0.89  |  0.03  |  0.68  |  1.47  |  1.12  |  0.65  |  0.34  |  0.09  |  0.00 |  0.00  |  0.03  |  0.15  |  0.23  |  0.20  |  0.12  |  0.07  |  0.08 |  0.12 |  0.15 |  0.17 |  0.35 |  0.17  |  0.53  |  1.09  |  1.48  |  1.72  |  2.00  |  1.89  |  1.83  |  1.89  |  1.67  |  0.93  |  0.46  |  0.26  |  0.17  |  0.12  |  0.08  |  0.13  |  0.19  |  0.08  |  0.02  |\n",
      "|    pera-naranja   | 49.39  | 58.10  | 40.30  | 33.12  | 27.82  | 21.74  |  7.29  | -1.17  |  3.20  |  6.96  |  4.86  |  6.68  | 23.28  | 48.07  | 61.67  | 58.00  | 42.71  | 25.15  | 23.47  |  4.37  | -39.51 | -22.42 | -14.98 |  -24.98 |  -32.40 |  -36.95 |  -41.83 |  -41.22 |  -36.93 |  -33.27 | -30.81 | -28.63 | -15.47 |  8.86 | 33.22 | 54.64 | 64.96 | 56.05  | 33.51  | -13.04 | 44.06  | 20.71  |  3.11  | -2.82  | -5.79  | -4.98  |  3.44  | 13.58 | 13.46  | 11.52  | 11.02  |  8.03  |  2.86  | -2.25  | -1.06  | 12.29 | 28.65 | 32.53 | 33.74 | 39.75 |  6.02  | 10.38  | 14.21  | 21.27  | 27.61  | 32.65  | 39.08  | 43.17  | 41.24  | 33.91  | 23.39  | 12.07  | -1.99  | -20.85 | -39.61 | -53.75 | -61.11 | -63.69 | -52.34 | -38.58 |\n",
      "|   pera-naranja-%  |  2.92  |  4.04  |  1.95  |  1.31  |  0.93  |  0.57  |  0.06  |  0.00  |  0.01  |  0.06  |  0.03  |  0.05  |  0.65  |  2.77  |  4.56  |  4.03  |  2.19  |  0.76  |  0.66  |  0.02  |  1.87  |  0.60  |  0.27  |   0.75  |   1.26  |   1.64  |   2.10  |   2.04  |   1.63  |   1.33  |  1.14  |  0.98  |  0.29  |  0.09 |  1.32 |  3.58 |  5.06 |  3.76  |  1.35  |  0.20  |  2.33  |  0.51  |  0.01  |  0.01  |  0.04  |  0.03  |  0.01  |  0.22 |  0.22  |  0.16  |  0.15  |  0.08  |  0.01  |  0.01  |  0.00  |  0.18 |  0.98 |  1.27 |  1.36 |  1.89 |  0.04  |  0.13  |  0.24  |  0.54  |  0.91  |  1.28  |  1.83  |  2.23  |  2.04  |  1.38  |  0.66  |  0.17  |  0.00  |  0.52  |  1.88  |  3.46  |  4.47  |  4.86  |  3.28  |  1.78  |\n",
      "|   banana-manzana  | 93.57  | 84.81  | 58.26  | 30.22  | 17.34  | 24.00  | 45.50  | 55.50  | 51.02  | 42.33  | 26.72  | 13.01  |  6.75  |  2.58  | -3.38  | -11.67 | -19.95 | -30.81 | -38.32 | -37.55 | 42.36  | 58.97  | 75.38  |  95.69  |  114.38 |  127.06 |  137.93 |  137.84 |  121.34 |  95.18  | 64.29  | 40.61  | 24.21  | 11.93 |  2.60 | -4.77 | -6.94 | -11.32 | -14.82 | -15.42 | -41.10 | -39.68 | -30.62 | -14.33 | -1.46  |  0.35  | -5.65  | -8.55 | -12.22 | -17.37 | -14.42 | -10.01 | -8.62  | -6.32  | -4.47  |  0.63 |  8.04 | 16.05 | 20.76 | 19.50 | -41.31 | -51.61 | -62.93 | -72.81 | -79.88 | -89.06 | -94.38 | -97.45 | -96.55 | -89.82 | -73.95 | -57.87 | -44.96 | -30.07 | -17.74 | -10.75 | -5.94  |  0.99  |  5.94  |  7.35  |\n",
      "|  banana-manzana-% |  3.70  |  3.04  |  1.43  |  0.39  |  0.13  |  0.24  |  0.87  |  1.30  |  1.10  |  0.76  |  0.30  |  0.07  |  0.02  |  0.00  |  0.00  |  0.06  |  0.17  |  0.40  |  0.62  |  0.60  |  0.76  |  1.47  |  2.40  |   3.87  |   5.52  |   6.82  |   8.03  |   8.02  |   6.22  |   3.82  |  1.74  |  0.70  |  0.25  |  0.06 |  0.00 |  0.01 |  0.02 |  0.05  |  0.09  |  0.10  |  0.71  |  0.66  |  0.40  |  0.09  |  0.00  |  0.00  |  0.01  |  0.03 |  0.06  |  0.13  |  0.09  |  0.04  |  0.03  |  0.02  |  0.01  |  0.00 |  0.03 |  0.11 |  0.18 |  0.16 |  0.72  |  1.12  |  1.67  |  2.24  |  2.69  |  3.35  |  3.76  |  4.01  |  3.94  |  3.41  |  2.31  |  1.41  |  0.85  |  0.38  |  0.13  |  0.05  |  0.01  |  0.00  |  0.01  |  0.02  |\n",
      "|   banana-naranja  | 21.61  |  5.53  | -17.34 | -33.28 | -33.15 | -16.95 |  3.93  | 14.07  | 23.94  | 35.77  | 44.33  | 53.31  | 61.41  | 69.81  | 72.63  | 62.98  | 41.44  | 13.44  | -4.84  | -17.98 |  3.40  | -4.40  | -14.66 |  -24.21 |  -29.73 |  -27.85 |  -22.24 |  -18.55 |  -18.08 |  -16.66 | -11.68 | -3.14  |  5.00  | 18.37 | 37.47 | 57.98 | 65.25 | 51.29  | 35.46  | 15.45  | 10.79  | 19.43  | 28.95  | 31.96  | 30.36  | 22.54  | 11.81  |  7.67 | -1.82  | -13.58 | -21.32 | -24.11 | -26.36 | -24.93 | -18.04 |  0.04 | 20.63 | 30.85 | 35.09 | 31.75 | -16.25 | -7.51  | -0.08  |  5.11  |  8.64  |  9.31  |  8.56  |  8.70  |  8.60  |  4.18  | -5.68  | -14.33 | -23.01 | -31.47 | -41.37 | -51.16 | -50.27 | -42.45 | -33.55 | -25.41 |\n",
      "|  banana-naranja-% |  0.66  |  0.04  |  0.42  |  1.55  |  1.54  |  0.40  |  0.02  |  0.28  |  0.80  |  1.79  |  2.76  |  3.99  |  5.29  |  6.84  |  7.40  |  5.56  |  2.41  |  0.25  |  0.03  |  0.45  |  0.02  |  0.03  |  0.30  |   0.82  |   1.24  |   1.09  |   0.69  |   0.48  |   0.46  |   0.39  |  0.19  |  0.01  |  0.04  |  0.47 |  1.97 |  4.72 |  5.97 |  3.69  |  1.76  |  0.33  |  0.16  |  0.53  |  1.18  |  1.43  |  1.29  |  0.71  |  0.20  |  0.08 |  0.00  |  0.26  |  0.64  |  0.82  |  0.97  |  0.87  |  0.46  |  0.00 |  0.60 |  1.34 |  1.73 |  1.41 |  0.37  |  0.08  |  0.00  |  0.04  |  0.10  |  0.12  |  0.10  |  0.11  |  0.10  |  0.02  |  0.05  |  0.29  |  0.74  |  1.39  |  2.40  |  3.67  |  3.54  |  2.53  |  1.58  |  0.91  |\n",
      "|  manzana-naranja  | -71.96 | -79.28 | -75.60 | -63.50 | -50.49 | -40.95 | -41.57 | -41.43 | -27.08 | -6.56  | 17.61  | 40.30  | 54.66  | 67.24  | 76.01  | 74.65  | 61.39  | 44.25  | 33.48  | 19.57  | -38.96 | -63.37 | -90.04 | -119.90 | -144.11 | -154.91 | -160.17 | -156.39 | -139.41 | -111.84 | -75.97 | -43.75 | -19.20 |  6.44 | 34.87 | 62.75 | 72.20 | 62.61  | 50.28  | 30.87  | 51.90  | 59.11  | 59.57  | 46.29  | 31.82  | 22.19  | 17.46  | 16.22 | 10.40  |  3.80  | -6.90  | -14.09 | -17.74 | -18.61 | -13.57 | -0.59 | 12.59 | 14.80 | 14.33 | 12.25 | 25.06  | 44.10  | 62.85  | 77.92  | 88.52  | 98.37  | 102.94 | 106.15 | 105.15 | 94.00  | 68.27  | 43.54  | 21.95  | -1.40  | -23.62 | -40.41 | -44.33 | -43.45 | -39.48 | -32.76 |\n",
      "| manzana-naranja-% |  1.51  |  1.84  |  1.67  |  1.18  |  0.75  |  0.49  |  0.51  |  0.50  |  0.21  |  0.01  |  0.09  |  0.48  |  0.87  |  1.32  |  1.69  |  1.63  |  1.10  |  0.57  |  0.33  |  0.11  |  0.44  |  1.17  |  2.37  |   4.21  |   6.08  |   7.02  |   7.50  |   7.15  |   5.69  |   3.66  |  1.69  |  0.56  |  0.11  |  0.01 |  0.36 |  1.15 |  1.52 |  1.15  |  0.74  |  0.28  |  0.79  |  1.02  |  1.04  |  0.63  |  0.30  |  0.14  |  0.09  |  0.08 |  0.03  |  0.00  |  0.01  |  0.06  |  0.09  |  0.10  |  0.05  |  0.00 |  0.05 |  0.06 |  0.06 |  0.04 |  0.18  |  0.57  |  1.16  |  1.78  |  2.29  |  2.83  |  3.10  |  3.30  |  3.23  |  2.58  |  1.36  |  0.55  |  0.14  |  0.00  |  0.16  |  0.48  |  0.57  |  0.55  |  0.46  |  0.31  |\n",
      "|       acum%       |  6.61  |  7.76  |  5.71  |  5.23  |  3.96  |  1.95  |  1.10  |  1.28  |  1.25  |  1.88  |  2.97  |  4.99  |  7.69  | 12.25  | 15.34  | 12.85  |  6.80  |  2.16  |  1.35  |  0.70  |  2.77  |  2.98  |  5.31  |   9.98  |  14.65  |  16.76  |  17.80  |  16.83  |  13.46  |   9.03  |  4.71  |  2.12  |  0.54  |  0.59 |  4.00 | 10.60 | 14.08 |  9.75  |  4.59  |  1.10  |  4.06  |  3.09  |  3.26  |  2.70  |  1.93  |  1.03  |  0.39  |  0.46 |  0.29  |  0.43  |  0.81  |  1.01  |  1.17  |  1.08  |  0.57  |  0.18 |  1.67 |  2.73 |  3.21 |  3.39 |  0.78  |  1.35  |  2.55  |  4.13  |  5.60  |  7.06  |  8.13  |  8.93  |  8.61  |  6.57  |  3.43  |  1.57  |  1.03  |  1.91  |  4.61  |  8.09  |  9.17  |  8.49  |  5.77  |  3.32  |\n",
      "+-------------------+--------+--------+--------+--------+--------+--------+--------+--------+--------+--------+--------+--------+--------+--------+--------+--------+--------+--------+--------+--------+--------+--------+--------+---------+---------+---------+---------+---------+---------+---------+--------+--------+--------+-------+-------+-------+-------+--------+--------+--------+--------+--------+--------+--------+--------+--------+--------+-------+--------+--------+--------+--------+--------+--------+--------+-------+-------+-------+-------+-------+--------+--------+--------+--------+--------+--------+--------+--------+--------+--------+--------+--------+--------+--------+--------+--------+--------+--------+--------+--------+\n"
     ]
    }
   ],
   "source": [
    "fruit_features = get_features(4, adjusted_audio)          # Would be a dictionary with list of mfcc matrixs\n",
    "fruit_features = keep_components(fruit_features, [0, 1, 2, 3])\n",
    "fruit_features = to_vector(fruit_features)\n",
    "centers = get_centers(fruit_features)\n",
    "radiuses = get_radiuses(fruit_features)\n",
    "overlaps = get_overlaps(fruit_features)\n",
    "index = get_components(centers,3)\n",
    "\n",
    "\n",
    "var = get_varianzs(fruit_features, 10)\n",
    "print(index)\n",
    "print(var)\n",
    "center_list = list(centers.values())\n",
    "center_matrix = np.squeeze(center_list, axis=1)\n",
    "\n",
    "radius, _ = get_sphere(center_matrix)\n",
    "print(radius)\n",
    "print(radiuses)\n",
    "print(overlaps)\n",
    "\n",
    "print(get_table(centers))\n",
    "\n",
    "for name, group in fruit_features.items():\n",
    "    fruit_features[name] = group[:, np.sort(index)]"
   ]
  },
  {
   "cell_type": "code",
   "execution_count": 636,
   "id": "b1037eeb",
   "metadata": {},
   "outputs": [
    {
     "data": {
      "image/png": "[encoded data removed]",
      "text/plain": [
       "<Figure size 640x480 with 1 Axes>"
      ]
     },
     "metadata": {},
     "output_type": "display_data"
    }
   ],
   "source": [
    "fig = plt.figure()\n",
    "ax = fig.add_subplot(111, projection='3d')\n",
    "\n",
    "# Configure colors\n",
    "colors = dict(zip(fruit_types,['green','yellow','red','orange']))\n",
    "centers = get_centers(fruit_features)\n",
    "center_colors  = dict(zip(fruit_types,['blue','brown','black','cyan']))\n",
    "\n",
    "# Plotear los puntos para cada grupo\n",
    "for fruit, points in fruit_features.items():\n",
    "    ax.scatter(points[:, 0], points[:, 1], points[:, 2], c=colors[fruit], marker='o', label=fruit)\n",
    "    ax.scatter(centers[fruit][:, 0], centers[fruit][:, 1], centers[fruit][:, 2], c=center_colors[fruit], marker='o', label=f\"{fruit}-center\")\n",
    "\n",
    "# configure labels\n",
    "ax.set_xlabel('Eje X')\n",
    "ax.set_ylabel('Eje Y')\n",
    "ax.set_zlabel('Eje Z')\n",
    "\n",
    "\"\"\"\n",
    "\n",
    "for fruit, points in fruit_features.items():\n",
    "    plt.scatter(points[:, 0], points[:, 1], c = colors[fruit], label=fruit)\n",
    "    plt.scatter(centers[fruit][:, 0], centers[fruit][:, 1], c = center_colors[fruit], label = f\"{fruit}-center\")\n",
    "\n",
    "# Configurar etiquetas de ejes\n",
    "plt.xlabel('Eje X')\n",
    "plt.ylabel('Eje Y')\n",
    "\n",
    "# Mostrar leyenda\n",
    "# plt.legend()\n",
    "\"\"\"\n",
    "# Mostrar el gráfico\n",
    "plt.show()"
   ]
  }
 ],
 "metadata": {
  "kaggle": {
   "accelerator": "none",
   "dataSources": [
    {
     "datasetId": 4021860,
     "sourceId": 6997492,
     "sourceType": "datasetVersion"
    }
   ],
   "dockerImageVersionId": 30587,
   "isGpuEnabled": false,
   "isInternetEnabled": true,
   "language": "python",
   "sourceType": "notebook"
  },
  "kernelspec": {
   "display_name": "Python 3",
   "language": "python",
   "name": "python3"
  },
  "language_info": {
   "codemirror_mode": {
    "name": "ipython",
    "version": 3
   },
   "file_extension": ".py",
   "mimetype": "text/x-python",
   "name": "python",
   "nbconvert_exporter": "python",
   "pygments_lexer": "ipython3",
   "version": "3.11.5"
  },
  "papermill": {
   "default_parameters": {},
   "duration": 24.97142,
   "end_time": "2023-11-19T12:48:42.061332",
   "environment_variables": {},
   "exception": null,
   "input_path": "__notebook__.ipynb",
   "output_path": "__notebook__.ipynb",
   "parameters": {},
   "start_time": "2023-11-19T12:48:17.089912",
   "version": "2.4.0"
  }
 },
 "nbformat": 4,
 "nbformat_minor": 5
}
