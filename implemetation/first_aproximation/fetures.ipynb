{
 "cells": [
  {
   "cell_type": "code",
   "execution_count": 5,
   "metadata": {},
   "outputs": [],
   "source": [
    "import os\n",
    "import librosa\n",
    "import librosa.display\n",
    "import IPython.display as ipd\n",
    "import numpy as np\n",
    "import matplotlib.pyplot as plt\n",
    "from scipy.spatial.distance import pdist, cdist\n",
    "from mpl_toolkits.mplot3d import Axes3D\n",
    "import soundfile as sf\n",
    "from prettytable import PrettyTable\n",
    "import numpy as np\n",
    "from sklearn.decomposition import PCA\n",
    "from sklearn.model_selection import train_test_split\n",
    "from sklearn.neighbors import KNeighborsClassifier\n",
    "from sklearn.metrics import accuracy_score\n",
    "from scipy.signal import hilbert, butter, filtfilt, medfilt, lfilter, wiener, convolve"
   ]
  },
  {
   "attachments": {},
   "cell_type": "markdown",
   "metadata": {},
   "source": [
    "**DICCIONARIOS CON LAS RUTAS**"
   ]
  },
  {
   "cell_type": "code",
   "execution_count": 6,
   "metadata": {},
   "outputs": [],
   "source": [
    "fruit_types = ['pera', 'banana', 'manzana', 'naranja']\n",
    "audios = {fruit: [] for fruit in fruit_types}\n",
    "root_dir = '../../dataset'\n",
    "\n",
    "for dirname, _, filenames in os.walk(root_dir):\n",
    "    fruit_type = os.path.basename(dirname)\n",
    "    if fruit_type in fruit_types:\n",
    "        audios[fruit_type].extend([os.path.join(dirname, filename) for filename in filenames if filename.endswith('.wav')])"
   ]
  },
  {
   "cell_type": "code",
   "execution_count": 7,
   "metadata": {},
   "outputs": [],
   "source": [
    "processed = {fruit: [] for fruit in fruit_types}\n",
    "\n",
    "for dirname, _, filenames in os.walk(root_dir):\n",
    "    path = os.path.basename(dirname)\n",
    "    if path == 'processed':\n",
    "        fruit_type = os.path.basename(os.path.dirname(dirname))\n",
    "        if fruit_type in fruit_types:\n",
    "            processed[fruit_type].extend([os.path.join(dirname, filename) for filename in filenames if filename.endswith('.wav')])"
   ]
  },
  {
   "attachments": {},
   "cell_type": "markdown",
   "metadata": {},
   "source": [
    "**CARACTERISTICAS DEL AUDIO**"
   ]
  },
  {
   "cell_type": "code",
   "execution_count": 238,
   "metadata": {},
   "outputs": [],
   "source": [
    "FRAME_SIZE = 4096 # In the documentation says it's convenient for speech.C\n",
    "HOP_SIZE   = int(FRAME_SIZE/2)"
   ]
  },
  {
   "attachments": {},
   "cell_type": "markdown",
   "metadata": {},
   "source": [
    "**FUNCIONES**"
   ]
  },
  {
   "cell_type": "code",
   "execution_count": 196,
   "metadata": {},
   "outputs": [],
   "source": [
    "def load_audio(audiofile):\n",
    "    test_audio, sr = librosa.load(audiofile, sr = None)\n",
    "    duration = librosa.get_duration(filename=audiofile, sr=sr)\n",
    "    return test_audio, sr, duration"
   ]
  },
  {
   "cell_type": "code",
   "execution_count": 197,
   "metadata": {},
   "outputs": [],
   "source": [
    "def time_vector(signal, duration):\n",
    "    return np.linspace(0, duration, len(signal))"
   ]
  },
  {
   "cell_type": "code",
   "execution_count": 198,
   "metadata": {},
   "outputs": [],
   "source": [
    "def rms(signal):\n",
    "    return librosa.feature.rms(y=signal, frame_length = FRAME_SIZE, hop_length = HOP_SIZE)"
   ]
  },
  {
   "cell_type": "code",
   "execution_count": 199,
   "metadata": {},
   "outputs": [],
   "source": [
    "def derivative(signal, duration):\n",
    "    signal = signal.reshape(-1,)\n",
    "    dy = np.gradient(signal, np.linspace(0, duration, len(signal)))\n",
    "    return dy"
   ]
  },
  {
   "cell_type": "code",
   "execution_count": 200,
   "metadata": {},
   "outputs": [],
   "source": [
    "def normalize(signal):\n",
    "    peak = np.max(signal)\n",
    "    signal/=peak\n",
    "    return signal"
   ]
  },
  {
   "cell_type": "code",
   "execution_count": null,
   "metadata": {},
   "outputs": [],
   "source": [
    "def mean(audio_in):\n",
    "    signal, sr, _ = load_audio(audio_in)\n",
    "    frames = librosa.util.frame(signal, frame_length=512, hop_length=256)\n",
    "    mean= np.mean(frames, axis=0)\n",
    "\n",
    "# Crear un arreglo de tiempo para la visualización\n",
    "    tiempo = librosa.times_like(mean, sr=sr, hop_length=256)\n",
    "    \n",
    "# Visualizar los valores medios en el tiempo\n",
    "    plt.figure(figsize=(15, 4))\n",
    "    #librosa.display.waveshow(signal, sr=sr, alpha=0.5)\n",
    "    plt.plot(tiempo, mean, color='r', linewidth=2)\n",
    "    plt.title('Señal de Audio y Valor Medio por Frame')\n",
    "    plt.show()"
   ]
  },
  {
   "cell_type": "code",
   "execution_count": null,
   "metadata": {},
   "outputs": [],
   "source": [
    "def med_filter(audio_in, audio_out, window = 3):\n",
    "    signal, sr, _ = load_audio(audio_in)\n",
    "    filtered = medfilt(signal, kernel_size=window)\n",
    "    sf.write(audio_out, filtered, sr)"
   ]
  },
  {
   "cell_type": "code",
   "execution_count": 252,
   "metadata": {},
   "outputs": [],
   "source": [
    "def low_pass_filter(signal, sr, cutoff_frequency = 5000):\n",
    "    nyquist = 0.5 * sr\n",
    "    cutoff = cutoff_frequency / nyquist\n",
    "    b, a = butter(N=6, Wn=cutoff, btype='low', analog=False, output='ba')\n",
    "    filtered = lfilter(b, a, signal)\n",
    "    return filtered"
   ]
  },
  {
   "cell_type": "code",
   "execution_count": null,
   "metadata": {},
   "outputs": [],
   "source": [
    "def exponential_filter(audio_in, audio_out, alpha = 0.1):\n",
    "    signal, sr, _ = load_audio(audio_in)\n",
    "    filtered  = lfilter([1 - alpha], [1, -alpha], signal)\n",
    "    sf.write(audio_out, filtered, sr)"
   ]
  },
  {
   "cell_type": "code",
   "execution_count": 347,
   "metadata": {},
   "outputs": [],
   "source": [
    "def wiener_filter(signal, noise = 0.9):\n",
    "    filtered = wiener(signal, noise = noise)\n",
    "    return filtered"
   ]
  },
  {
   "cell_type": "code",
   "execution_count": null,
   "metadata": {},
   "outputs": [],
   "source": [
    "def mean_movil_filter(audio_in, audio_out, ventana=3):\n",
    "    # Definir el kernel de promedio móvil\n",
    "    kernel = np.ones(ventana) / ventana\n",
    "\n",
    "    signal, sr, _ = load_audio(audio_in)\n",
    "    # Aplicar el filtro de promedio móvil\n",
    "    filtered = convolve(signal, kernel, mode='same')\n",
    "    \n",
    "    sf.write(audio_out, filtered, sr)"
   ]
  },
  {
   "cell_type": "code",
   "execution_count": 12,
   "metadata": {},
   "outputs": [],
   "source": [
    "def smooth_envelope(audio, cutoff_frequency = 10.0):\n",
    "    signal, sr, duration = load_audio(audio)\n",
    "    analytic_signal = hilbert(signal)\n",
    "\n",
    "    # Calcular la envolvente de amplitud\n",
    "    envelope = np.abs(analytic_signal)\n",
    "\n",
    "    # Aplicar filtro pasa bajos para suavizar la envolvente\n",
    "    nyquist = 0.5 * sr\n",
    "    cutoff = cutoff_frequency / nyquist\n",
    "    b, a = butter(N=6, Wn=cutoff, btype='low', analog=False, output='ba')\n",
    "    \n",
    "    smoothed = filtfilt(b, a, envelope)\n",
    "\n",
    "\n",
    "    plt.figure(figsize=(12, 8))\n",
    "\n",
    "    # Visualizar la envolvente de amplitud\n",
    "    plt.subplot(2, 1, 1)\n",
    "    plt.plot(np.arange(len(envelope)) / sr, envelope, alpha=0.5, label='Envolvente Original')\n",
    "    plt.title('Envolvente de Amplitud Original')\n",
    "    plt.xlabel('Tiempo (s)')\n",
    "    plt.ylabel('Amplitud')\n",
    "    plt.legend()\n",
    "\n",
    "    # Visualizar la envolvente suavizada\n",
    "    print(len(smoothed))\n",
    "    plt.subplot(2, 1, 2)\n",
    "    plt.plot(np.arange(len(smoothed)) / sr, smoothed, label='Envolvente Suavizada', color='orange')\n",
    "    plt.title('Envolvente de Amplitud Suavizada')\n",
    "    plt.xlabel('Tiempo (s)')\n",
    "    plt.ylabel('Amplitud')\n",
    "    plt.legend()\n",
    "    plt.tight_layout()\n",
    "    plt.show()"
   ]
  },
  {
   "cell_type": "code",
   "execution_count": 251,
   "metadata": {},
   "outputs": [],
   "source": [
    "def preemphasis(signal, coef=0.97):\n",
    "    return np.append(signal[0], signal[1:] - coef * signal[:-1])"
   ]
  },
  {
   "cell_type": "code",
   "execution_count": 392,
   "metadata": {},
   "outputs": [],
   "source": [
    "def band_pass_filter(signal, sr, low_cutoff, high_cutoff):\n",
    "    b, a = butter(N=3, Wn = [low_cutoff, high_cutoff], btype='band', fs=sr)\n",
    "    return lfilter(b, a, signal)"
   ]
  },
  {
   "attachments": {},
   "cell_type": "markdown",
   "metadata": {},
   "source": [
    "ESTE RECORTE CON LOS PARÁMETROS INDICADOR POR DEFECTO ANDA BASTANTE JJOYA. LO QUE SE PODRÍA AGREGAR DE ÚLTIMA ES UN FILTRO MAS DE WIENER QUE AL FRAN LE FUNCIONÓ Y PUEDE QUE A NOSOTROS TAMBIÉN NOS FUNCIONE"
   ]
  },
  {
   "cell_type": "code",
   "execution_count": 293,
   "metadata": {},
   "outputs": [],
   "source": [
    "def trim(audio_in, audio_out, umbral = 0.295):\n",
    "    signal, sr, duration = load_audio(audio_in)\n",
    "    \n",
    "    filtered = low_pass_filter(signal, sr, 1800)\n",
    "    filtered = preemphasis(filtered, 0.999)\n",
    "\n",
    "    rms_signal = rms(signal)\n",
    "\n",
    "    rms_signal = normalize(rms_signal)\n",
    "    drms = normalize(derivative(rms_signal, duration))\n",
    "\n",
    "    audio_vector = time_vector(signal, duration)\n",
    "    drms_vector = time_vector(drms, duration)\n",
    "\n",
    "    left_index = np.argmax(np.abs(drms) > umbral)\n",
    "    rigth_index = len(drms) - 1 - np.argmax(np.abs(np.flip(drms)) > umbral)\n",
    "\n",
    "    left_time = drms_vector[left_index]\n",
    "    rigth_time = drms_vector[rigth_index]\n",
    "\n",
    "    mask_vector = audio_vector >= left_time\n",
    "\n",
    "    audio_vector = audio_vector[mask_vector]\n",
    "    trimed_signal = signal[mask_vector]\n",
    "\n",
    "    mask_vector = audio_vector <= rigth_time\n",
    "\n",
    "    audio_vector = audio_vector[mask_vector]\n",
    "    trimed_signal = trimed_signal[mask_vector]\n",
    "\n",
    "    sf.write(audio_out, trimed_signal, sr)"
   ]
  },
  {
   "attachments": {},
   "cell_type": "markdown",
   "metadata": {},
   "source": [
    "**FUNCIONES DE EFECTIVIDAD**"
   ]
  },
  {
   "cell_type": "code",
   "execution_count": null,
   "metadata": {},
   "outputs": [],
   "source": [
    "def get_sphere(vectors):\n",
    "    center = np.mean(vectors, axis = 0)\n",
    "    center = center.reshape(1, -1)\n",
    "    radius = cdist(center, vectors).max()     # Pairwise distance\n",
    "    return radius, center"
   ]
  },
  {
   "cell_type": "code",
   "execution_count": null,
   "metadata": {},
   "outputs": [],
   "source": [
    "def get_centers(features):\n",
    "    centers = dict.fromkeys(features.keys())\n",
    "    for fruit, group in features.items():\n",
    "        _, center = get_sphere(group)\n",
    "        centers[fruit] = center\n",
    "    return centers"
   ]
  },
  {
   "cell_type": "code",
   "execution_count": null,
   "metadata": {},
   "outputs": [],
   "source": [
    "def get_radiuses(features):\n",
    "    radiuses = dict.fromkeys(features.keys())\n",
    "    for fruit, group in features.items():\n",
    "        radius, _ = get_sphere(group)\n",
    "        radiuses[fruit] = radius\n",
    "    return radiuses"
   ]
  },
  {
   "cell_type": "code",
   "execution_count": null,
   "metadata": {},
   "outputs": [],
   "source": [
    "def get_overlaps(fruit_features):\n",
    "    centers = get_centers(fruit_features)\n",
    "    radiuses = get_radiuses(fruit_features)\n",
    "    overlaps = dict.fromkeys(fruit_features.keys())\n",
    "    \n",
    "    # A dictionary of dictionarys. Keys, the fruit types\n",
    "    for key in overlaps:\n",
    "        # Each dictionary in the dictionary\n",
    "        overlaps[key] = dict.fromkeys(fruit_types)\n",
    "    \n",
    "    for i in range(len(fruit_types)):\n",
    "        for j in range(i + 1, len(fruit_types)):\n",
    "            distancesAB = cdist(centers[fruit_types[i]], fruit_features[fruit_types[j]])\n",
    "            distancesBA = cdist(centers[fruit_types[j]], fruit_features[fruit_types[i]])\n",
    "\n",
    "            mask_distancesAB = distancesAB < radiuses[fruit_types[i]]\n",
    "            mask_distancesBA = distancesBA < radiuses[fruit_types[j]]\n",
    "\n",
    "            numberBinA = np.count_nonzero(mask_distancesAB)\n",
    "            numberAinB = np.count_nonzero(mask_distancesBA)\n",
    "\n",
    "            overlaps[fruit_types[i]][fruit_types[j]] = numberBinA\n",
    "            overlaps[fruit_types[j]][fruit_types[i]] = numberAinB\n",
    "    return overlaps # Each element is the number of vectors of one group in the sphere of another"
   ]
  },
  {
   "cell_type": "code",
   "execution_count": null,
   "metadata": {},
   "outputs": [],
   "source": [
    "def get_components(centers, nc):\n",
    "    pacum = np.zeros((1, centers[fruit_types[0]].shape[1]))\n",
    "    pair_components = dict()\n",
    "    for i in range(len(fruit_types)):\n",
    "        for j in range(i + 1, len(fruit_types)):\n",
    "            dif = centers[fruit_types[i]] - centers[fruit_types[j]]\n",
    "            dist = cdist(centers[fruit_types[i]], centers[fruit_types[j]])\n",
    "            difp = (dif**2)*100/(dist**2)\n",
    "            pair_components[f\"{fruit_types[i]}-{fruit_types[j]}\"]= np.argsort(difp[0])[-nc:]\n",
    "            pacum += difp\n",
    "    index_max = np.argsort(pacum[0])[-nc:]\n",
    "    #return np.sort(index_max)\n",
    "    return index_max, pair_components"
   ]
  },
  {
   "attachments": {},
   "cell_type": "markdown",
   "metadata": {},
   "source": [
    "**PRINCIPAL**"
   ]
  },
  {
   "attachments": {},
   "cell_type": "markdown",
   "metadata": {},
   "source": [
    "**KNN**"
   ]
  },
  {
   "cell_type": "code",
   "execution_count": null,
   "metadata": {},
   "outputs": [],
   "source": [
    "def knn(training, test, k_n):\n",
    "    X = np.concatenate([v for v in training.values()], axis=0)\n",
    "    y = np.concatenate([[k] * v.shape[0] for k, v in training.items()])\n",
    "\n",
    "    #X_train, X_test, y_train, y_test = train_test_split(X, y, test_size=0.2, random_state=42)\n",
    "\n",
    "    # Crear clasificador KNN\n",
    "    knn_classifier = KNeighborsClassifier(n_neighbors = k_n)\n",
    "\n",
    "    # Entrenar el clasificador\n",
    "    knn_classifier.fit(X, y)\n",
    "\n",
    "    # Predecir las etiquetas para los datos de prueba\n",
    "    predicted_fruit = knn_classifier.predict(test)\n",
    "\n",
    "    print(f'La fruta predicha para el nuevo audio es: {predicted_fruit[0]}')"
   ]
  },
  {
   "attachments": {},
   "cell_type": "markdown",
   "metadata": {},
   "source": [
    "**PLOTEO**"
   ]
  },
  {
   "cell_type": "code",
   "execution_count": null,
   "metadata": {},
   "outputs": [],
   "source": [
    "#2d\n",
    "fig = plt.figure()\n",
    "\n",
    "colors = dict(zip(fruit_types,['green','yellow','red','orange']))\n",
    "center_colors  = dict(zip(fruit_types,['blue','brown','black','cyan']))\n",
    "\n",
    "for fruit, points in features.items():\n",
    "    plt.scatter(points[:, 0], points[:, 1], c = colors[fruit], label=fruit)\n",
    "\n",
    "plt.xlabel('Eje X')\n",
    "plt.ylabel('Eje Y')\n",
    "\n",
    "plt.show()"
   ]
  },
  {
   "cell_type": "code",
   "execution_count": null,
   "metadata": {},
   "outputs": [],
   "source": [
    "#3d\n",
    "fig = plt.figure()\n",
    "ax = fig.add_subplot(111, projection='3d')\n",
    "for fruit, points in features.items():\n",
    "    ax.scatter(points[:, 0], points[:, 1], points[:, 2], c=colors[fruit], marker='o', label=fruit)\n",
    "    #ax.scatter(centers[fruit][:, 0], centers[fruit][:, 1], centers[fruit][:, 2], c=center_colors[fruit], marker='o', label=f\"{fruit}-center\")\n",
    "\n",
    "# configure labels\n",
    "ax.set_xlabel('Eje X')\n",
    "ax.set_ylabel('Eje Y')\n",
    "ax.set_zlabel('Eje Z')\n",
    "plt.show()"
   ]
  },
  {
   "cell_type": "code",
   "execution_count": 60,
   "metadata": {},
   "outputs": [],
   "source": [
    "def plot_signal(signal, duration, name):\n",
    "    time_vector = np.linspace(0, duration, len(signal))\n",
    "    plt.figure(figsize=(15, 5))\n",
    "    \n",
    "    #plot\n",
    "    #librosa.display.waveshow(signal)\n",
    "    \n",
    "    plt.plot(time_vector, signal, linestyle='-')\n",
    "    \n",
    "    # extra\n",
    "    plt.title(f'Señal de Audio {name} - Duración: {duration:.2f} segundos')\n",
    "    plt.xlabel('Tiempo (s)')\n",
    "    plt.ylabel('Amplitud')\n",
    "    plt.show()"
   ]
  },
  {
   "cell_type": "code",
   "execution_count": 61,
   "metadata": {},
   "outputs": [],
   "source": [
    "#signal\n",
    "def plot_audio(audio):\n",
    "    signal, sr, duration = load_audio(audio)\n",
    "    plot_signal(signal, duration, os.path.basename(audio))"
   ]
  },
  {
   "attachments": {},
   "cell_type": "markdown",
   "metadata": {},
   "source": [
    "**REPRESENTACION**"
   ]
  },
  {
   "cell_type": "code",
   "execution_count": 415,
   "metadata": {},
   "outputs": [],
   "source": [
    "def print_dict(dic:dict):\n",
    "    table = PrettyTable()\n",
    "    for fruit, group in dic.items():\n",
    "        table.add_row([fruit] + group)\n",
    "        table.add_row([fruit] + [os.path.basename(audio) for audio in processed[fruit]])\n",
    "    table.float_format = \"0.2\"\n",
    "    print(table.get_string())"
   ]
  },
  {
   "attachments": {},
   "cell_type": "markdown",
   "metadata": {},
   "source": [
    "**Lo primero vamos a ver como funciona la función de recorte y los filtros**"
   ]
  },
  {
   "cell_type": "code",
   "execution_count": null,
   "metadata": {},
   "outputs": [],
   "source": [
    "#trim de los audios\n",
    "for type in audios:\n",
    "    for i, _ in enumerate(audios[type]):\n",
    "        wiener_filter(audios[type][i], processed[type][i], 10)"
   ]
  },
  {
   "attachments": {},
   "cell_type": "markdown",
   "metadata": {},
   "source": [
    "hemos visto que los filtros no funcionan muy bien.\n",
    "Al oido puede que algunos se escuche que funcionan bien, pero no hacen en realidad mucho por el ruido que queremos eliminar de unos audios, que es el ruido impulsivo al inicio y al final del audio o ruido constante al principio y al final del audio. El que quiesieramos aminorar o eliminar para luego hacer un recorte limpio del audio"
   ]
  },
  {
   "cell_type": "code",
   "execution_count": null,
   "metadata": {},
   "outputs": [],
   "source": [
    "#comparacion gráficas\n",
    "for type in audios:\n",
    "    for i, _ in enumerate(audios[type]):\n",
    "        plot_signal(audios[type][i])\n",
    "        plot_signal(processed[type][i])\n",
    "        \n",
    "        input()"
   ]
  },
  {
   "attachments": {},
   "cell_type": "markdown",
   "metadata": {},
   "source": [
    "problemas de ruido en pera6, banana6, banana7(un pico al final), banana8(ruido al inicio), manzana6(ruido al inicio), manzana7 (ruido al inicio), manzana8(ruido al final), naranja8(picos al final)"
   ]
  },
  {
   "cell_type": "code",
   "execution_count": null,
   "metadata": {},
   "outputs": [],
   "source": [
    "for fruit, group in audios.items():\n",
    "    for audio in group:\n",
    "        rms_signal, duration = rms(audio)\n",
    "\n",
    "        rms_signal = normalize(rms_signal)\n",
    "        drms = normalize(derivative(rms_signal, duration))\n",
    "        \n",
    "        plot_audio(audio)\n",
    "        \n",
    "        plot_signal(rms_signal.reshape(-1,1), duration, \"rms\")\n",
    "        plot_signal(drms, duration, 'drms/dt')\n",
    "        input()"
   ]
  },
  {
   "attachments": {},
   "cell_type": "markdown",
   "metadata": {},
   "source": [
    "Probamos que es lo que pasa con la media de la señal de audio calculada por frames.\n",
    "Como que queda medio feo con la función del librosas"
   ]
  },
  {
   "cell_type": "code",
   "execution_count": null,
   "metadata": {},
   "outputs": [],
   "source": [
    "audio = audios['naranja'][6]\n",
    "rms_signal, duration = rms(audio)\n",
    "\n",
    "rms_signal = normalize(rms_signal)\n",
    "drms = normalize(derivative(rms_signal, duration))\n",
    "\n",
    "plot_audio(audio)\n",
    "plot_signal(rms_signal.reshape(-1,1), duration, \"rms\")\n",
    "plot_signal(drms, duration, 'drms/dt')"
   ]
  },
  {
   "attachments": {},
   "cell_type": "markdown",
   "metadata": {},
   "source": [
    "Probamos corte con la envolvente entonces.\n",
    "Bueno, me di cuenta que también se podría llegar a hacer directamente con el rms el recorte porque da mas o menos la misma forma que da la envolvente sin tanta configuración. Con la RMS pareciera que hay unna buena descripción de la envolvente de la seña y además permite el recorte del ruido por identificación de un cambio importante en la derivada de la rms de la señal. El punto de corte se puede identificar cuando la derivada de la señal de rms deja de ser constante y pasa a tener un cambio importante. 44 es lo que le pusimos a la frecuencia de corte y anduvo copado. Osea dependia enrealidad del hopzise que quedo la mitad de un fram size de 4096"
   ]
  },
  {
   "cell_type": "code",
   "execution_count": null,
   "metadata": {},
   "outputs": [],
   "source": [
    "audio = audios['pera'][6]\n",
    "plot_audio(audio)\n",
    "smooth_envelope(audio, cutoff_frequency = 44)"
   ]
  },
  {
   "attachments": {},
   "cell_type": "markdown",
   "metadata": {},
   "source": [
    "PROBAMOS EL FILTRO DE PREEMPHASIS\n",
    "El filtro de prehempasis anda rejoya"
   ]
  },
  {
   "cell_type": "code",
   "execution_count": null,
   "metadata": {},
   "outputs": [],
   "source": [
    "audio = audios['naranja'][6]\n",
    "signal, sr, duration = load_audio(audio)\n",
    "filtered = preemphasis(signal, 0.975)\n",
    "#sf.write(processed['naranja'][6], filtered, sr)\n",
    "plot_signal(normalize(signal), duration, os.path.basename(audio))\n",
    "plot_signal(normalize(filtered), duration, 'filtered')"
   ]
  },
  {
   "attachments": {},
   "cell_type": "markdown",
   "metadata": {},
   "source": [
    "Ahora hay que probar el filtro de prehempasis con la derivada para tratar el corte"
   ]
  },
  {
   "cell_type": "code",
   "execution_count": null,
   "metadata": {},
   "outputs": [],
   "source": [
    "indice = 6\n",
    "fruit = 'naranja'\n",
    "umbral = 0.295\n",
    "\n",
    "audio_in = audios[fruit][indice]\n",
    "audio_out = processed[fruit][indice]\n",
    "signal,sr,_ = load_audio(audio_in)\n",
    "\n",
    "audio_vector = time_vector(signal, duration)\n",
    "\n",
    "filtered = low_pass_filter(signal, sr, 1800)\n",
    "filtered = preemphasis(filtered, 0.999)\n",
    "rms_signal = rms(filtered)\n",
    "\n",
    "rms_signal = normalize(rms_signal)\n",
    "drms = normalize(derivative(rms_signal, duration))\n",
    "\n",
    "drms_vector = np.linspace(0, duration, len(drms))\n",
    "\n",
    "\n",
    "left_index = np.argmax(np.abs(drms) > umbral)\n",
    "rigth_index = len(drms) - 1 - np.argmax(np.abs(np.flip(drms)) > umbral)\n",
    "print(left_index)\n",
    "print(rigth_index)\n",
    "left_time = drms_vector[left_index]\n",
    "rigth_time = drms_vector[rigth_index]\n",
    "\n",
    "\n",
    "mask_vector = audio_vector >= left_time\n",
    "audio_vector = audio_vector[mask_vector]\n",
    "\n",
    "trimed_signal = signal[mask_vector]\n",
    "\n",
    "mask_vector = audio_vector <= rigth_time\n",
    "audio_vector = audio_vector[mask_vector]\n",
    "trimed_signal = trimed_signal[mask_vector]\n",
    "\n",
    "# Seleccionar la porción de la señal entre los índices encontrados\n",
    "#trimed = drms[left_index:rigth_index + 1]\n",
    "\n",
    "\n",
    "plot_audio(audio_in)\n",
    "plot_signal(rms_signal.reshape(-1,1), duration, \"rms\")\n",
    "plot_signal(drms, duration, 'drms/dt')\n",
    "#plot_signal(trimed_signal, left_time-rigth_time, 'trimed')\n",
    "plot_signal(trimed_signal, rigth_time-left_time, f\"trimed - {os.path.basename(audio_in)}\")"
   ]
  },
  {
   "cell_type": "code",
   "execution_count": 378,
   "metadata": {},
   "outputs": [
    {
     "data": {
      "text/html": [
       "\n",
       "                <audio  controls=\"controls\" >\n",
       "                    <source src=\"data:audio/wav;base64,UklGRhoBAQBXQVZFZm10IBAAAAABAAEAgLsAAAB3AQACABAAZGF0YfYAAQAP+jv6PPoJ+qP5Fflq+Kb3yfbR9cH0n/N/8n3xuPBM8EbwqfBk8VHyOvPf8xj04vNf88ryTPLs8ZHxF/Fo8Ijvl+7M7VftVu3G7Y/uhe+F8GjxBfIz8tDx3fB97/Ttj+yM6wvrCets6wzswex07R/uxu5t7wzwlPDv8ATxxPAw8GHvhO7T7Yzt0O2m7vDvfvET8370l/VN9qP2sPaT9mj2QvYo9hf2GPZC9rH2hffJ+HH6X/xe/jAApAGPAukCxgJaAt0BfQFQAVoBjwHpAWQC/QKvA3YETAUoBvsGrQchCDcI4gcmBygGHgVFBNID1AM7BN8EnwVmBjoHIggiCSkKFgu8C/YLrwvzCuYJtwiUB6QG/QWtBbQFBQaFBhcHoQcTCGIIhQhqCAkIXgd0Bl8FNAQEA90BzwDz/1f/A//x/gz/PP9w/5j/qv+a/2L/A/+C/u39V/3Q/Gb8H/z3++X74fvm+/P7AvwM/AX85vux+2j7Efuz+lT6Bfrf+ff5Vfrt+qn7bfwt/eH9h/4b/5X/7P8SAAgA1/+O/0f/HP8h/1r/xv9ZAAYBxAGMAmEDPwQiBfsFtwZCB5AHoQeCB08HHwcMBx8HZQffB5EIdwmDCqkL2wwQDj4PWhBVERwSohLcEtQSlxI+EugRtBG+EQ4SoRJbEyIU4xSYFUkW/BazF2IY8RhKGVsZJRm8GD4YzBd4F1AXWBebFxUYuBhmGfsZXBqHGocabRpFGhca5Rm0GY0Zdxl3GY4Zuxn3GTcaZhpwGkYa5hliGdMYURjuF6oXfhdXFykX6hafFlAWChbUFa0VjBVfFRUVoxQDFDcTSRJKEUwQZQ+sDjEO/g0GDjoOhg7bDi8Pdw+qD7cPjw8iD2oOcQ1QDCgLHgpKCbgIaAhRCGYIkQi6CM8IzQi/CK0IjAg9CJoHhgYJBUgDgQHz/83+Lf4Q/lX+yf4q/1D/LP/Y/oL+U/5c/pD+xf7H/nH+t/2u/JD7lfrx+br56vlj+vT6avue+4H7Ifuq+lP6QfqG+hD7t/tI/Jj8mvxc/Ab8yPvD+wj8iPwc/Z796f3z/cn9jP1j/XH9xf1a/hf/1P9pAMEA3QDXANQA7QAoAW0BngGaAVQB3gBaAPT/zv/u/0IArAAFATkBOQENAcYAewBBACYAMABSAHoAlACTAG0AKwDa/43/Wv9O/2f/l/+8/7T/X/+w/rT9kfyB+7P6Qvoi+i36L/r/+Yj5yvjc99r23vX99EH0ovMU84by+/F68RPxy/CT8FfwAvCM7/buQe5w7YHsf+uB6qLp8+hy6BDowOd35zLn7+as5mTmEuaw5ULlx+RE5MDjQuPX4oniYeJk4o/i1+Iv44Xj0OMJ5DbkV+Rz5I7kruTX5BLlXeW25Q/mXuaW5rLmuea65sfm8uZA56/nN+jP6GzpC+qs6lLr+eue7DrtzO1U7uHuge9E8DPxT/KI88j0+PUI9/D3tPhi+Qn6tfps+yr89PzN/bj+rf+dAHMBIQKmAhQDgQMCBKgEcAVLBiIH4gd+CPgIXQm3CRcKfwrwCl4LwwsXDFsMkQzCDPMMJQ1XDYgNug3zDT8Opg4qD7wPQxCeELsQohB6EHcQvhBRERcS4xKVExoUbhSeFLgUzhTnFAYVHxUpFR4VAxXpFOYUChVbFdMVXhbjFlAXjhebF3UXLBfMFmoWERbJFY4VXBUnFe0UrBRpFC4UAxTpE9cTwxOcE1cT6hJXEqgR6hAzEI0P/A6BDhEOqg1JDewMkAwvDLcLGgtKCkgJIgj9Bv4FQQXQBJ4EkwSaBKEEoQSeBJ0EogSvBLMElgQ2BHgDWwL3AHf/Cv7b/P/7dfst+xH7CvsN+xT7Ivs4+1D7W/tB++n6RfpV+Sz44/aY9WP0XfOR8gjyv/Gt8b/x6PEY8kTyYvJp8lTyIvLX8XvxFvGt8EzwBfDt7x3wnvBl8VvyXvNP9BT1o/X79SX2M/Y69lH2kPYF97v3rfjP+QX7Pvxo/Xr+cP9EAPQAgQHoATMCZgKNArMC4QIhA3sD9AOMBEEFCAbTBpMHPQjNCEQJnQnRCeEJ0wm/CcMJ9wliCvoKqAtPDNcMMw1hDWkNVA0sDfMMrQxcDAUMogsxC6oKBgo+CVcIXQdeBnAFoQT3A3AD/wKSAhoCkgH6AFsAuP8G/zj+Q/0o/O/6rfl3+F/3c/a69S31vfRK9Lrz9vL78drwsu+f7rrt/+xa7Knr1ure6dbo5Ocs58Hmneag5pvmbOYA5mLlq+T742njCePh4ujiCOMg4xPj2uKA4iDi2eG+4dXhEuJi4rPi++I744Hj1uNC5MTkWeX+5bDmZ+cW6LboT+nz6cDqxOv97FTusO/08BPyCvPl87T0hvVj9kr3N/go+Rr6DPv1+9X8sP2R/ob/iQCJAXICPwMPBAgFRAbBB2UJBQt8DLYNow5GD6YP0A/YD9QP1Q/pDxUQXxC+ECoRnBENEnsS7RJnE+4TghQXFZwVAxZCFlsWWxZeFn4W1xZ0F1AYVBlbGj4b4hs7HFEcNxz/G7sbdRsyG/QauxqGGlsaPhoyGjkaShpeGmYaVxonGtUZYhnYGD8Ynxf/FmMWzBU6FbEUNRTHE2YTDBOwEkYSxhEtEXoQsQ/YDvQNEA00DGkLrAr0CTsJgQjRB0EH2AaWBmYGNwb0BZgFJAWiBB4EpAM6A+ICmgJXAhcC1gGXAVkBEgGwACIAXP9f/kH9HvwT+zr6m/k1+fz44fjT+Mr4xfjF+MX4vvib+EX4ofeh9kn1rfP28VTw9+4B7n3tWe1r7YTtge1a7RbtxOxv7Brsxut+60nrMOs662Trr+sW7JfsMu3e7ZbuUO/774/wAfFX8Zvx3fEl8n/y9vKN80/0N/U+9lf3dPiG+Yb6bvs//Pr8of0z/rX+Kv+a/wsAiQAZAbsBcAI0AwQE1wSlBWUGDwefBxoIfgjPCBAJTAmNCd8JQgqzCigLnQsXDJ4MNw3aDXoO/w5bD4IPcw84D94OcQ76DXwN9wxoDNMLPwu2CkEK4wmYCU8J7AhUCHcHUAbvBHMD/wG2AKL/u/7p/Qz9Dvzx+sP5nvia9772/fU79Vv0U/Mq8v/w9O8k75DuKO7N7WLt2uw37Ivr4eo36oHptOjW5/LmGeZX5bTkM+TQ44vjWuMz4wXjxOJn4uvhVeGy4BDgfd/63ojeK97s3dbd8t093qzeMN++30ngzuBF4bLhEuJr4sHiGeN149rjUOTi5JfleuaP59LoNOqe6/TsJu4t7xPw3/CX8UTy8fK286j00fUx97f4SfrR+z79jP6//90A6wHiAr8DfwQsBdYFkAZmB1gIWglWCjoL/wuvDFcNDA7RDqYPeBA3EdQRRRKMErESyhLxEjcTpxM+FOoUlxUwFqkWAhdFF4IXyRccGH4Y5hhNGakZ8RkeGikaGxoJGgoaMRqGGvwadRvJG9QbhxvtGiIaShmFGOAXXhf0FpUWNRbOFWUV+xSbFEMU8ROaEy0TpRL3ESoRRhBcD3sOrQ30DE8MtAshC40K+wlqCdoIRgimB/MGKwZRBXcEpgPrAkgCwgFdARcB4gCtAGgAGwDp//X/VAD6AL0BcALwAikDFAOzAgkCHwEIANv+tf2z/Or7bPs3+0X7fvvN+x78bfy7/An9Qf03/bv8sfso+kz4Zfa99Irz8/L78pDzhvSo9bz2k/cM+B741vdY9832U/b69b/1n/Wa9br1DPae9nj3ovgX+sb7hv0h/2IANAGeAcgB3gEEAlACzwKIA4EEuwUsB8UIbwoNDIgNyQ7FD3wQ9BA1EU4RShE4ESkRMxFtEe0RwRLhEzcVmxbcF9UYdRnFGeAZ6Rn3GRAaIxocGu0ZnhlVGUkZrBmUGvQblR0pH2QgGSFHIQ0hnCAeIKYfNR/AHjsenx30HE4cxRtnGzsbMhsxGxcbwxomGjsZDhi6FlQV9ROpEnQRVxBTD2gOlw3eDDYMlAvtCjMKWwleCDsH+wWmBEkD8AGoAHf/Y/5t/ZT81fst+5T6//lo+b/4Avgt90X2T/VX9GXzfvKl8d3wK/CX7ybv0+6I7izuqe3+7DTsYuub6vDpaOkB6bfohehl6FboW+h36Kvo8uhG6Z7p8uk76nrqq+rN6ujqBus/66vrVOw57UjuZu9+8H7xX/Il89TzevQd9cL1aPYG9573NPjf+LX5yPoT/Ir9EP+FANMB6QLJA34EFgWeBSEGpQYpB7AHOwjNCGwJGArRCpQLXAwlDegNlw4bD2EPYQ8iD78OVw4CDtQN1A38DUMOnA76DlEPng/aDwEQERANEPcPzA+IDykPuA5IDukNpQ1zDUIN/wymDDgMwQtMC94KdgoKCpcJEQl+CN8HQQerBiQGrwVMBfsEswRsBBsEvwNWA+QCbQL0AXcB9gBvAOX/XP/b/mX++P2Q/Rv9ifzF+8n6oflo+Dz3M/ZN9Xr0r/Ps8jjyl/EI8Xvw6e9Q777uRu4B7vjtJu5v7qjure5v7untJu027CXrBerl6NLn1ub25TPlkuQW5MXjnuOd46zjruN64+/i9+GW4ODe99wK2z3Zs9eI1srVddWA1dLVStbF1ifXXtdo11HXLNcS1xLXMtds17jXCNha2LfYLNnM2aXautv93FfeqN/Q4MHhduL74mvj4uOA5FLlXuak5xTpnuoy7MHtRO+08BHyUPNl9Eb19vWI9hb3t/d6+GH5ZfqD+7r8Af5Q/50A3QEGAxIE+gS6BUwGqAbEBp0GQQbPBW8FSwV7BQ8GBAdUCOwJrwt6DR8PeBBjEdARwxFYEbAQ8Q84D5UOEA6pDWENOA0xDUYNZg13DVgN8ww/DEULGArQCIEHPgYXBRcEQQOSAgECiAEiAcUAZQDu/1H/if6f/aj8tPvR+v/5Ovl++MX3FPdq9s/1Q/XF9E/03vNv8/ryevLi8S3xaPCt7x/v0O7B7tvuDe9G74Xvxu8G8DjwUfBE8AzwtO9a7xvvFO9Q78bvX/D+8Ijx6/Ef8jPyQfJo8sryevN99Lv1Cfct+P74d/m++RX6u/rJ+zr96f6lAFAC1gM+BZgG8AdGCY8KuAu/DKoNgw5YDzQQGxENEhATJxRiFcwWYxgbGtsbhR0GH1UgayFKIvkihyMRJKskYiUtJv8myiePKFgpLSoPK/sr3yyrLVQuzi4aL0EvUS9ZL2gvhy+4L/ovTTCuMBkxgDHOMesxyzFyMfEwXTDHLz0vxy5rLi0uFS4oLmcuxy4yL48vyy/gL84vkS8dL2guby1BLPwqvSmkKLwnCyeLJi8m6iWrJWclFSWwJDIkoiMDI1sirSH3IDIgXh97Ho4dnhynG6oarBmwGLsXxha8FYYUGhOBEdUPNA6zDGILTAp3CewIqAikCMUI5QjWCHQIrQeNBi0FrwMkAo0A5/4j/Ub7bfnP9532+vXe9SH2iPbe9vP2ovbM9WP0ePIz8Mntd+tr6bnnW+Y+5UvkfePl4pnineLa4iLjSOMr48TiJOJh4Zfg3t9E39Pend6y3iPf69/14B3iO+M35AXlpeUU5l7mjea55vbmTee+50To5Oiv6brqDOyW7TTvvfAI8gLzrfMf9HT0wfQQ9V/1rfX99Vb2xfZW9wz44/jX+dr63PvK/JP9Kv6K/rT+tf6f/oP+cf5t/nr+n/7s/mr/FgDaAJYBMAKhAuwCFAMaA/ACjwL3ATQBYQCc//7+k/5T/if+9/2t/UX9vvwf/G77sfro+Q/5Gvj/9rb1QvS78j7x6O/Q7v/tb+0M7b7sZOze6xvrFOrT6HTnFuba5NDj9+I24m/hh+B330veHN0E3BPbVdrF2VbZ7th22N7XKtds1sfVWtU41WHVvNUk1nHWjNZ41kHWB9bf1dPV69Ug1mjWvNYK10vXdteK14/Xlde11wjYq9is2QfboNxO3t7fMOE34gHjp+NM5Anl8OUH503ovelQ6wXt2O7E8LbymPRP9sL34/i6+Vj64/p7+zz8LP1B/mf/jQCtAckC7QMkBW8GygcpCXsKsQvBDKkNbw4bD74PYRAREdcRtxKuE7gUwhW1FncX9BcjGAYYrBctF6oWRhYiFlUW4ha3F7QYsRmOGjgbphvfG+0b4BvFG54bbhs1G/QasRp1Gk4aRxpmGqwaChtwG8Ub/BsLHPEbqhstG3kalBmXGKAXzBYsFsAVhxV6FYwVphWlFWwV8BQ8FGoTkRK3EdQQ4Q/XDr4NnwyJC4kKqAntCFYI2AdlB+QGQgZwBWgENwP0AcQAyv8h/9f+5f41/6f/EwBWAFkAEACG/8b+5v37/BH8Kfs7+jz5Mfgt90z2qfVU9Uz1g/Xp9V72u/bU9oH2sPVq9NbyKPGd71vucO3M7Ebsvusb62TqsOki6dvo5ug06abpFOpd6mjqL+q56RrpeugL6PfnWegs6VTqresT7Wnunu+k8HTxGPKe8hfzjfP/82r00fQ/9cP1ZvYl9/T3xfiM+UP68Pqa+0b89PyV/R7+jP7u/mH/+v/FAMEB3QIBBBgFEQbfBn4H8wdGCIUIvQj2CDQJeAm6CfQJKgpoCrgKKAu0C1QM+wyfDTcOuA4aD1cPcA9tD1gPOA8MD88Oew4VDqUNMw3CDFcM9wujC18LJgvsCpoKGgpRCTgI1gZIBbYDSAIZATMAkP8e/8b+c/4N/on94vwe/Eb7ZvqJ+bD42/cF9yX2M/Uq9A3z8/H48D7w0O+m76TvpO+N70/v3e4w7k3tSOxE62Hqtuk+6ebopOhw6FfoYeiN6NfoMumS6fbpYerW6lfr4eto7NvsLe1T7VbtU+1v7dDtkO6p7wLxaPKq86b0VvXQ9UL21/ao97v4Bfpt+978Qf6H/6wAugHEAt4DGgV6BvoHigkeC6MMAQ4eD/cPnhBGETASgRM8FUMXYBllGyodmx6qH14gyiAVIWch3yGJIl8jUiRLJTsmFifmJ7EogClVKicr6CuHLPosPS1ZLV0tXy12LbgtKC7ALm8vITDIMFkxwzHyMdwxfTHoMDowji/zLnEu/y2aLUMt/yzYLNgs+iwrLU0tQS3xLFgsgCt9KmcpTyg/JzUmMSUwJDgjVSKVIf8gjSAkIKcf+R4OHucckBsYGpMYGBfDFaUUvhP1EioSOxEYEMYOXw0BDMYKtgnFCN0H7wb/BSEFbwT9A88D3QMWBFgEhARtBAEEQQNIAjoBLQAh//r9o/wU+1r5m/cI9s/0E/Ti8zH05vTW9cX2bfeG99f2T/UU83rw6O3C60vqi+le6X3ppOml6XbpIenA6GvoPehI6I3o9OhN6WjpJumS6NTnNOf25k3nS+jQ6Z/rcu0B7ybw0PAL8ffwwvCe8K3w/fCC8Sjy3vKf83r0d/Wf9ur3Rvma+sz7w/xw/c796v3b/b/9u/3x/Xf+UP9pAKwB9gIoBDMFDQa7BkIHqgf+Bz4IbQiMCJ0IqAi6COIIMAmqCVMKIQsDDOUMrA1CDpEOjQ4vDnwNjQyFC4wKvwkxCeEIxQjUCAEJMwlPCTgJ4ghKCIIHnQakBZ8EkAN3AlMBJgD0/r79kPx4+4P6vPkm+bf4W/j393D3sfa79Zf0X/Mx8ijxUPCp7yjvuO5E7r7tJe1+7NrrRuvJ6mLqBeqi6S3pm+js5yfnXean5RflueSI5Hrkh+Sn5NbkAeUJ5dDkSOR+45niwuEc4bzgq+Dw4IXhWeJS41PkR+Ug5uHml+dT6CbpGuot61fshu2l7qjvifBR8RPy4fLM89r0BfY+93P4kPmR+nr7Ufwl/QX+/P4XAFsBuwIhBHAFkwaGB1YIFwneCb8KvAvUDPsNKg9eEJoR3BIeFFMVcBZuF04YFBm/GVca3xpcG9QbShy8HCMdch2XHYodVR0UHeoc8hwxHZId+R1HHmceVx4cHssdfB1AHSIdGx0cHRQd7hyiHDEcqRsVG4Ua8hlRGY0YnheHFl4VNRQcExcSHxEwEEUPWw54DaEM2wsmC4EK4Qk9CYkIvgfTBssFqAR3A0kCLwEyAFX/jv7N/fz8EfwM+/T51vi294/2VvX9837y4fBB78Htiey060zrRuuF6+HrLexJ7B3sqOv96jLqVulr6GHnJOae5MzivuCa3pzcAdsF2svZUtpw29fcI97r3uPe7t0s3OzZkddx1cjTrtIT0tLRudGY0VrRCtHH0MPQGtHP0cHSs9Nk1JrUP9Rg0zbSFtFc0E7QE9Gc0q7U7tb52Ifaedvq2xLcNtyI3Brd5N3I3qzfh+Bd4U7idePo5KnmpOiy6qjsUu6M70LwgvBv8ELwMfBk8O3w0PH98lv0yvUt92j4b/k++uL6ZfvU+zf8jvzV/An9Lf1R/Yr95/1u/hz/6v/SAM8B1ALMA50EKwVlBUkF4QRNBLADKAPIApIChAKYAskCBQM2A0sDPQMWA+ICpAJIArYB2QC3/2L+/Pyb+1P6L/k2+G/31/Zj9gj2s/VU9eL0T/SY87/y1PHs8B7wfu8Q78vunu507jvu6e1/7QTtgez/64TrD+ud6inqrekl6ZPoAOh55xLn1ubJ5ufmG+dS53bneudd5yjn8+bh5gnnfuc56CjpLeot6xbs2ex07fLtZO7b7m3vJPD/8PTx8PLe87P0evVR9lr3rPhF+gz84v2t/1oB2gImBEEFNwYlByoIXwnGClEM6A1qD8YQ8RHzEtoTvhSwFbwW4BcRGUIaYxtuHGIdSR4wHycgOyFrIrIj/yQ0Jj0nFijHKGcpDyrNKp8rdSw6LdYtOi5qLm4uWi5ELjguRi50LsguQC/PL2Yw7jBYMZgxrjGhMYExVjEoMfgwwTCBMDYw3y95Lwcvii4GLnwt9CxxLPIrcSvkKj0qdCmHKIQnfyaPJcckJCSUI/giNSI9IRUg0h6OHWMcYhuMGtUZLRl/GLwX2BbUFbQUiRNjElURXBBsD20OSQ33C30K8AhxByEGHwWCBE0EdATdBFoFugXNBXEFnwRpA/IBZQDn/oX9Nfzo+on5Gvi29o312PTB9Ez1WPaf97v4Q/nq+Ir3P/Vb8lLvmeyJ6kzp0+js6Evpoum+6Y/pL+na6MvoIenU6a/qYuup61nrb+oW6aLne+YI5ojm/ucp6p3s3e6M8IHx0/HM8cbxE/LQ8vPzSfWb9rz3m/hF+eL5ofqs+xT9x/6WAEgCogOEBOgE4QSXBDgE9wP4A1QECAX7BQ0HIQgmCR8KFgsPDAoNAQ7aDoEP6A8NEPwPzw+eD4gPnA/oD2kQFxHbEaMSXxMFFI0U6hQMFeEUZxSuE9AS6hETEVgQvA88D9gOlA5zDnUOjQ6fDoMOFw5GDRAMigrbCCoHmgU3BAYDCAI6AZoAGwCj/xH/VP5t/Wj8Ufsw+v74u/do9hP1z/Ox8svxIfGs8FvwHvDm76vvWu/m7kTud+2U7LrrBOuA6izq++nZ6bTpgulC6frotOh66E3oL+gZ6ALo1ueE5wLnYubO5XnlkOUn5i/nfuje6R3rEOyo7O/sBu0f7WXt9u3U7uzvHfFK8l7zSvQU9cn1jPaD98z4Zvow/Pf9jv/hAPkB7QLiA+8EHwZwB9MINAp+C6gMrw2aDnUPUxA/EUYSYROFFKAVpxabF4AYYxlCGhkb3xuKHBkdkR35HWQe5h6LH1kgQyEwIgIjpCMVJGIkoCTjJDIljyX0JVImpybtJicnWyeOJ8In+CcuKF8ohCiZKJYoeChCKPUnnCc/J+YmlCZEJvUloCVGJeYkgyQfJLYjRiPDIi0ihCHSIB8gdB/OHisefh2/HOcb+xr+GfMY2xeuFmYVBRScEkER/w/aDsENpgx6Cz0K9gizB4EGXgU7BAEDngETAHD+1Pxf+zT6Zfn6+Ob4DPk8+Ur5CPlc+Eb33fVI9LTyPfHk75DuJe2J673p5Oc25vbkWeRs5BLl+eW55u/mWubz5OfifOD+3avbpdn1147WUtUl1P3S7NEg0c7QH9ER0nnTBdVd1ijXLNdj1vXUP9O40dXQ5ND/0fjTaNbO2LPa1ts63CDc5dvh207cLt1e3qffy+Cl4TfioeIa49vjCOWk5pLom+qC7BDuHe+a75vvU+8F7/juXu9C8I3xFPOm9B/2aveD+Hj5W/o6+xz89fyu/Sz+V/4q/rj9MP3O/NX8af2O/iYA+QHEA0sFZgYFBykH5AZJBnYFfQR3A3cCkgHTAEYA7v/H/8X/1//n/+H/qf8w/2r+X/0j/ND6evkp+Nj2hfUw9ObyuvG98PjvZe/w7n3u8+1J7YTsrOvN6u/pE+k96G/nsOYH5nbl/uST5CzkyONy4znjKOM+42/jouPC48Djk+NE493icOIQ4svhq+Gv4dPhC+JH4nbij+KM4nbiWeJE4knieeLX4mTjFOTZ5KHlYeYW583npei76Sjr6eza7r7wVvJt8/jzFvQG9Bv0nfSz9Vv3cPm1++394/+BAckC1wPNBNMF/gZWCM0JRQuWDKYNeA4tD/cPCBF7ElEUZRaDGHQaCxw3HfkdcB6+HgMfXx/eH38gOyEAIsQigCM4JPgkxiWkJosnbig2KdgpRyqGKp0qoSqkKrgq6Co/K7YrRCzULFQtuS0BLjEuQy4yLu0tZy2dLJ0rhip9KacoESixJ2onGCejJgQmQiVpJIsjtyLwITghiSDbHyQfXh6AHYschxuGGpcZvhjuFxQXIBYTFfUT2hLKEcoQ1w/jDuMNzwyhC2EKFwnQB5MGZQVLBD8DNgIeAer/nv5U/Tj8bvsP+xT7Y/vV+zr8Yvwz/J/7vPqq+Y/4fPdv9kr19PNa8oLwhu6S7NrqlOns6O3ohel96oXrRux77P/r1uos6UvneuX249riKOLI4ZPhYeEO4ZLgC+C239DfcOB54Z7ii+P+49vjLOMb4uzg8t+A39bfCeEE44HlIOh+6lbsku1P7s/uW+8i8DTxePLG8/j0//Xt9uX3Cflq+gX8yf2j/34BRQPTBA8G5QZbB4gHkQelB+IHTwjeCHQJAwqaCk8LMQw+DV8Ofw+VEJwRghIpE3ETWhP/EqESexK+EnMTjRTgFTgXVBgDGScZwxj1F/AW6hUQFXgUIhT4E9cTnhM0E44StRG1EKIPjA5/DYYMrAv7CoMKSgpMCm0KgwpUCq0JcwivBoYENwIBABr+ovys+zD7Ffs1+2H7YvsP+036Ifmp9xb2lvRN81HytPGI8dvxqfLR8yb1bfZz9xT4Q/gI+Hz3yfYX9o31SfVb9cH1Y/Ye98b3N/ha+C34wvc29632TfYx9mj28Pa+97T4qflx+vD6KvtJ+4r7KfxB/cz+nwCEAjoEkAVsBs0GzwaYBlYGLQY6BoYGEwfXB8IIvQmpCnQLGAyeDBwNqA1KDgEPug9mEP8QkRE+EioTbhQDFskXjRkcG1AcFB1nHVsdDh2pHEocDRz/Gx8cXxyuHPUcIx0yHSAd9xy/HIIcTRwnHBUcFBwcHCMcJRweHBAcABzxG+Ab0RvGG8IbvhuyG5QbXBsHG54aIxqYGfwYThiTF9EWGBZ4FfwUrhSQFJUUqhSuFIoUMxSzExwTexLFEeYQ0A9+Dv8McAvpCYYIZAeRBhMGzAWEBfoE9gNfAkEAx/0s+7D4iPba9MHzV/O28/T0Fvf1+Ub9kgBPA/QEGAWMA20AKPxf98ryC++E7D7r8OoP6+/q++nZ53fkF+A323rWgNLGz43OyM4t0DXSTtTy1cPWndaY1fjTE9JA0MHOx81qzZ/NOc7xzovP8s9N0N/Q4dFo01bVb9d32UHbvdzz3QjfJ+B34RLj8OT95h7pQuty7cXvXfJP9Zf4HPyp//oCyQXdBxsJmwmWCWMJUQmXCUkKXgu7DDUOnA/CEIURzhGjERQRRhBmD5oO+w2KDUMNKQ1DDZwNJQ60DhAPCA+FDo8NQQy6ChQJYQemBeQDJAJ3APP+m/1q/E37P/pQ+Y34/PeB9/D2MfY99SH06vKb8SvwkO7Z7CHrm+l66N7nwef05y/oNujt51vnk+an5aXkpePF4hviq+Fa4QHhgeDS3wTfMN533fPcvdzq3H3dYd5j30DgveC34C7gQd8y3kXdvtzO3IXd4N7A4PfiTOV951DpoOph66LrietE6wLr7+ol67Trl+y+7QvvU/Br8THyn/LG8s3y2PL+8kzz2PO99BH21vfm+Q78Gv7s/34B4QIpBGgFqQbvBzYJcwqfC7EMpg1zDhoPnw8REIEQ/BCJESISwRJhE/wTmhQ+FewVphZjFxwYzBhzGRwa0BqRG2McTh1iHpwf4yD8IaQisiIiIhwh3x+rHrEdEB3UHPEcTR3CHSYeVB4yHrkd9xwNHCUbZRrgGZwZkRmtGd8ZFBo7GkYaKhrlGXkZ8xheGM4XUBfsFqMWcBZFFhQW0BVsFeIUNBRsE5cSyBEOEXoQDRDCD48PYw81D/8Ouw5sDhAOow0lDYwMzwvoCtYJnwhXBxQG7ATrAxQDZALPAT4BkACX/x/+E/x0+V/2BfOf74TsJeoI6aHpJuxw8Pj1+/uXAf4FjAjhCPEGCQPB/db3GPI+7cDpzOc354vnE+gT6OnmReQ34CrbvdWk0HnMqslqyKvIH8pIzJnOltDs0XXSM9JD0d/PXM4YzWfMbswhzVHO0c+H0XXTp9Uj2OXa3t364CfkWueU6tTtCPEP9ML2DPn1+qb8Tv4fAEQC1wTmB2gLMQ/3EmYWMRkqG0IcjRwyHGcbXho/GTEYVBfKFqcW5hZjF+oXVBiJGH8YJxhiFxEWOhQDErsPrQ0TDAMLggp/CtMKQguDC1cLnQpiCdEHGAZSBIkCxgAV/4X9FPzB+n/5YfiG9xf3IveU9zT4vvj2+Kr4yvdW9mP0GPKr71btYusT6pDpzOmG6l/rD+x37J7smexz7Cnsuess65Pq/elt6eHoVujJ50Xn1OaF5mvmkuYE57bnheg56Zvpkukl6YXo5+d652LntOeB6Mvpfutz7XLvTPHh8h709vRd9Vj1F/Xp9B/12/UF92n45fmJ+3r9x/9IAq8EqwYNCNsIMAk6CSkJKglsCRMKNwvoDCgP5REAFUkYfhtiHscgmSLgI8QkeSUuJgQn+SfuKLgpNCpZKjQq3CljKdkoVSjxJ78nvyfYJ+sn7yfyJxwohig0KRQqCiv9K+cswS2OLkMvzy8aMAcwgC99LhItayvKKWYoVCeEJtwlWCUYJUcl+CUDJxwo+ChmKVsp4ygWKA8n6yXOJNYjJiPRItgiGCNVI1Uj/SJiIrUhKyHZILIgkSBLIMsfFx9RHqcdOx0VHSUdSh1uHXsdYh0SHYMcuRvMGtUZ8xgwGIoX8xZUFpgVtBSlE3ESIxHJD2oOFA3NC50Kgwl2CGYHPgboBEgDPQGu/pP7D/h79FfxM++X7uHvNPNw+Bv/cQZ/DUcT+xYgGKkW7RKUDXQHcAFO/I/4W/aC9Yr1xvWK9U/00/Es7rTp4eQy4BncA9lL1yTXd9jg2sjdluDO4ivkk+Qb5PriieE64Hnfot/i4CXjEOYX6brrt+0w74bwJfJM9Aj3QfrR/YUBGAU0CJYKJQwIDY0NEQ7bDg0QqBGTE7EV6hcxGnwcuB67IEciFiPtIrAhbh9qHP8YgxU7ElcPAQ1eC3gKIgrxCWgJHwj3BQ0Dp/8T/J74m/VQ8+vxWvFX8XrxXvHE8Jfv8O3269rpx+fe5S/kueJ54WDgZN9+3rLdDN2k3I/c09xg3Q/ert4D3+jeUN5M3f7bhNr32GfX5NWL1ITT+dIK07bT2dQo1krX8tf512DXT9YD1bbToNLd0XHROtEI0arQC9A/z3jO6s26zfTNh85Zz0fQK9Hj0WTSx9JD0w/UOtWh1grYTNlu2ojbq9zB3Z3eIN9J30XfTt+c307gZOHA4jvkvuVL5+/orOpw7Bruie+z8Kvxm/K28x71yvaP+Dj6uvs0/d/+2QAMAzsFMAfYCE0KtAspDbgOWBD0EXATtBSxFV4Wtxa3Fm4WBxbFFeMVdRZRFy4YwxjwGMYYfxheGJcYNBkVGgUbzBtXHKcc0hziHNkcuxyHHEccAxy8G24bFRumGiMamRkqGQAZPhnyGRQbfhz4HUofRiDQIOQgkCDnHwsfIB5LHbEcYxxeHJQc7RxUHbkdFx5qHq4e3B7kHrweYx7rHXAdER3mHPUcOB2XHfgdQh5eHkQe9x17HdwcKhx3G80aJxp1GaMYsxe0Fr4VyhS1E1ASfxBRDvoLtAmpB+QFXQT9Ap4BDAAQ/n77V/jQ9EzxS+5T7Ovreu0/8Sz30f5fB78PxhZxGx8dvBvDFx8S+gtrBjoCu/+7/qz+xf5N/rj8w/l99TTwd+rr5C7gs9y22jXaBdvh3F7f/uEo5FLlIeWP4+/g591I29rZJ9pV3BPgueRp6WbtPfDm8cjyf/Ov9NH2Gvpm/lQDWgjoDJMQIhOYFDAVTRVjFc0VtRYRGLwZqRvrHakg4yNqJ9EqmC1NL6YvkS4rLMQozSS/IAsdCRrlF5sW+xWzFV4VnxQ6Ew4RMA7KCiUHkANWAK39s/tm+qj5P/np+GX4ifdI9q/02PLf8Nfu0uze6gnpV+fH5V3kJ+NC4sfhtuH14Vnix+I246vjIuSI5LPkduS142/iy+AM33rdQdxr293afdo82g7a5Nmc2RLZOdgr1xPWEtUq1EfTVtJP0TLQ/86kzR3MecrkyJ3Hz8aNxsTGWMcqyCDJIMoWy/HLtMxyzUPOMs810DrRNtIx0zPUL9UB1ofWw9bo1jPXvddo2PnYRdlg2ZnZYdoe3ADf3uJF55LrMu/L8VbzBvQz9D/0iPRR9bf2ofjK+uH8nP7X/5oAHQGtAYkCzANdBQ0HtAhCCr4LJQ1YDhsPIg80DkYMmgmmBgQEMgJvAbMBwgJEBOIFYQebCIIJCAoiCs8JKQlvCO0H5AdoCGwJxgpBDKINrw4vD/4OIQ7CDDgL6AkqCT8JLwrRC9oN6A+mEd4SdRN1E/4SNxJJEV8Qpg9JD2kPDRAbEV4SmhObFEAVdBUxFYwUtRP1EooSiBLKEg0TCROVErgRmxB3D4MO4Q2WDY8Nqg3IDdENuw2KDUIN4QxeDK0LvwqRCSgIjwbTBAkDTQG4/1j+LP0R/N/6cfmz96L1QvOY8K/tkups54nkYeKE4Yji6OXS6wL0rv2iB3wQABdnGoMaxhcUE48NRAj7AxYBgv/c/pH+Ef7p/Nz63PcM9K/vIevP5ijji+A530ffjOCl4gXlG+dr6KDoneeE5cziQuDk3pXfwOIp6Pbu8fXo+wEAAgJPAswBlwGwArMFpgoMEQoYtx5KJFQotiqgK30r5ip1KrEq5CsVLhwxtjSkOLA8oUAzRAxHvUjTSA1He0OZPio5BDTYLwsttiumK10sMS1WLSssXCkCJZwf5hmjFHAQpQ1GDAkMdAz4DB8NpQx9C80J1gfhBTMECwOaAvQC+gNdBbEGkQe9Bx0HywX+AwICKQDB/vf94f1p/l7/fQB/ASsCVALoAegAbf+e/a371PlG+C33n/ad9gb3ofci+EX43vfm9nr1xPPv8R7wbO7t7K3rouq26dDo8ucw56TmRebk5UvlZ+Ra43Di7+Hy4WfiF+PH40jkjuSu5N3kaOWS5nroCOvp7avw3fI29Kb0XfSv8wrz4vKN8zH1qvei+rT9oQBpAzMGHQkcDP8OgxF0E8UUgxXXFfoVMxbCFsYXKRmlGukbwBwrHVsdmx0qHiMfcSDRIe4iciMnIwciPyAgHgkcORrUGNkXQxcNFz4X2BfUGBQaYxuJHE4dlB1bHcYcFByFG0obdxv8G6ocQx2HHVwd1BwqHKUbYhtUG0UbAht8Gs4ZNRnuGB4ZwhmyGqkbVRx+HBgcVRuOGhUaERplGr8axxpGGj8Z6ReaFqIVPBVxFRcW2xZjF2cX1BbJFYYUWBNuEtsRihFaESMR1RBwEAUQqg9wD1APMA/oDlUOcA1JDAYLzwmzCKgHlwZoBQkEbAKUAJH+jfy0+hv5offv9aTzi/DL7OjoruX544Dkm+cw7a30Nf3EBVEN5xLMFaoVuxLBDcUH0gGj/I/4jfVY85Tx9u9L7mzsJeo052Hjs96F2XzURtB1zUvMtcxNznjQldIZ1KvUJ9Sm0ojQfM5dze/Ni9D81IraPuAz5dPo/er+63rsMO3I7qXx1PUT++IArQblCx4QIxP7FN8VOBZ7FhEXQhgnGrccxh8jI6MmIyp/LXUwjzIyM9kxYS4yKRwjGx0AGD4U2hF3EH4PPw4vDAQJ0AT3/wL7gvbl8lvw2+4l7uXtwu127dLsyOtk6rro6eYP5Vfj/uFL4XDhbOL646Xl7eZz5w3n0+UL5BbiVeAO32TeVd7D3oTfa+BS4RXil+LE4oji4eHc4JffR94e3Uzc8NsL3HrcAN1P3SndddxD28vZS9jy1tPV6tQk1GrTqNLW0fnQI9Bmz8/OUs7YzUHNgMyky9/KecrAyt3LxM010MfSEdXI1uDXjNgu2RnactsS3a/eCeAX4QjiIeOb5JLmAenL68LupfE29Ff2GPi1+X77pv0yAPcCqAX4B7gJ5QqlCzwM6gzXDQgPZRDKEQ0TBRSTFKwUWBS3E+4SIxJqEcoQPBC4DzQPrw4mDp8NHw2tDEkM5QtxC/EKggplCtQK8AuiDaYPnxE0EzUUrBTHFMMUsBR1FPUTSRPUEiYTqRRlF/Qaqx7NIcIjOCQ2IykhwB7JHN4bIxxGHakesh8KIK4f0B6wHXscPhvuGXcYwhbeFP4SehGwENgQ7BGREzwVUBZUFiYVDhOlEIYOCA0QDEULWApECUQIpAeKB/MHtAibCXgKJQuFC5YLYwsDC40KDwqDCdMIzQc/Bh4ElgER/xj9Jfxh/IL9xv4j/7H9Efqs9Ibu5Oju5HrjC+XC6V/xKfv9BXwQQBkkH3whOyD0G6wVhQ6GB3QB0PzQ+VT42PeC92j22/Oi7/npa+Or3GDWGNExzeDKJsrUyovMzc720GbSltJP0dLO4cumyU3Jn8uz0NrX199E5/PsRfBY8fjwZfDt8IrziviH/5EHgg9XFnsb2R7GIMMhPSJrIlIi+CGHIWQhECL9I2InEix6Maw2mjpZPGs74TdcMt0rgiU0IG0cHhrCGKUXJxbzE/EQNA3RCN8Dh/4N+drzd+9l7Obq3urB683sXu0l7Szst+oQ6Y/nmeaX5s/nIuoZ7QTwU/LF82z0ifRl9Cn02PNb85/yr/HB8CXwJfDX8BfyiPOz9DT14vTX82Ty7PDF7x7vCO907zrwFPGp8bPxEPHX70Xum+wJ65vpQejb5lvlyeNI4gjhLuC3333fN9+h3pPdGtx12gvZQ9hh2HLZR9uL3dnf2uFg42jkHuXH5ZnmrOfv6DTqVOs/7BLtAu5N7xvxdvM39iH54vs6/hAAjwEBA7gE4gZqCREMkQ7BELESpxT7FvAZhR1wITUlUihyKocruCtRK6gqASqGKTspAimqKBUoSSdnJpwl5yQVJNUi6yBSHkcbOBicFdQTFRNVE1gUwhU3F2YYFxkwGcoYNBjjFzsYVRn8GsAcRh5yH3QgqyF0I+clzSiZK6stiy4nLtUsOysHKq8pRyp/K8osoS26LRUt6yuKKi8p+SfmJtUloCQxI5Ah8R+eHtkdyR1bHkcfICBtIN8fch5tHDcaLRh4FgwVxxOUEncRjBD7D+EPRRAOEQwS/xK1ExAUChS4EzATghKsEaEQVA/KDRoMWAqWCNsGNwWsAx0CJAAt/bT4nvJh6+/jXN2e2HPWXtek2ynjS+3c+FQELQ4wFawYjBhMFd8PiQmNA97+zvsX+gH5yPfj9Rrza+/v6tPlbuAs23nWh9JLz6PMhMoKyV/Ig8gqycvJ2Mn2yDjHIsWVw4TDoMUPylHQVtfa3cXik+Vy5jrmG+Y550nqae8b9oX9sATeCrEPNBO4FaUXORmJGn4bCRxDHHUcAx1AHk4gByMAJqMoUSqSKkopvCaDI0sgnh2uG1caNxnfF/UVRRPID5ELvQZhAZ77pfXN74HqHubb4rrgkt8d3/rew94l3v7cfdsS2k/Zsdls21ne+uGp5cvoBetW7AHtZe3S7WnuIu/b73vwBvGe8WbyZfNm9Ab10/R98/jwi+3A6UHmqeNZ4lniVeO+5PblfuYi5vTkOeNC4WXf6N3+3Kjcl9xL3EvbfNkr19/U9dJu0fnPOs4RzKjJa8fZxVDF68V7x43Jj8sLzcrN7c3czQ/Oz84d0M7RvdPs1XnYa9uV3q/hduTT5tTok+ol7Jrt/+5v8Ajy7PMt9sb4ifsz/n0AQQJ+A2sEZAXJBswISQvWDQEQoRHzEmoUXhbJGEobWR2DHqQe6h3DHJ4buBoFGjQZ6RfwFVQTZRCMDSgLVAn0B80GzwUfBQgFsAX9BpoIKQpoC0wM7Qx7DREOrA4jD2kPrA9jEBES8RS/GNcceyAjI6ckOyVJJUMldSXqJXwm/CZRJ4InnSeuJ6oneScKJ1EmTiUOJKkiOSHYH5Uedx1/HLIbIBvYGuMaORu7GzccgxyGHDkcnxvAGqkZbBgiF+wV9BRhFEIUfhTcFCUVVRWpFWkWtxdZGdgatBucG4MakBgOFmUTERGFD/cOPA/ID8oPdQ43C+0FA/9Y9wzwM+qk5gzmEukz8Gb7tAkqGUMnvTE9N443dTNgLPAjsBvFFMEPnwzhCr8JcQhXBhMDjv7q+Ijy8+vJ5YTgPtzB2LbV8tKS0NXO0c1LzbvMiMtfyYbG+cM3w5/Fzcs41Wzgn+tN9Zj8UwHoAx4F4gUWB2wJWA0FE0oalSIHK6syxTgFPX4/hEB8QMw/zj7WPTo9Vz1vPo5AV0MXRuxHKUiJRkVD9T5TOgM2YDJ5LyAtHCs2KTYnzSR8IcAcPxb6DWIEV/rm8BDpeuNE4AvfId/F30/gSeCC3xLeXtwE25nah9vg3Vrhc+WS6TbtJfBo8ir0lvW49ob3AfhD+JH4QfmY+pv89/4GARkCtgHY/9j8Ovl29ejx1u577P3qVOpM6ovqqepW6mXp5OcM5ijkduIM4dnfr95j3d7bM9qR2BnXxdVa1JXSWtDgzZbL8slCyY7JrcpRzCbO4c9T0W7SPdPj04TUS9Va1s7Xvtk13Cvfd+Ld5RTp6+tN7kjw8PFX85T0xvUY97P4rPr4/HD/2wEJBN4FXQehCNMJHguYDEYOCRC8EUwT0BSGFqIYDhtnHSof/x/qHzgfOR4SHaobzRlRFzoUtBAXDcUJGgc+BSQEeAPLArQBDwD6/c375fmC+Lr3j/f099H49/ko+yr84fxc/d/9yv6BADQDuwaUCikOERFDE/cUXxaFFzwYURixF4UWJRUCFHwTwRO1FAAWLRfTF7UX0xZXFYkTtBEYENcO+A1xDTcNSg24DYMOmA+4EJoRARLXER4R3A8VDtELPgmtBoEEAgNIAjMCfwLiAjADdAPiA7AE4gUqBxAIJQhBB40FZAMoAUP/GP7z/b/+1f8UAFP+6PkF84TqguEI2QHSWs0KzO7OdtZb4nPxxQHhEGocuSJHI7UekRbRDFgDl/tM9oHzn/K78sby1vFQ7wjrR+Wr3vrX69H4zDnJYsbgwzvBVL55uw65J7dntUezmrDjrUWsDa06sRC59cOR0DXdWej+8OH2WPom/EH9nP4PAS8FQQshEzccdSWNLVkzTDakNjk1CjPhMD8vWi5SLi8v2jAVM3g1cjdxOPo36jVzMhwuhCk/Jaoh6h7tHH4bThoJGTsXVRTJDzYJtgDx9vvsBeQD3WzYM9bM1WPWJNd21xLXAdaE1AbTDtIo0qfTetY12j3eJeLQ5WLp++yP8N3znfab+NP5Y/qJ+on6pfoK+7r7iPwl/T79qPxm+6/5xffq9U/0E/NF8t7xuPGY8TbxV/Dh7t/skOpF6EzmzuS74+viNuKL4ezgT+CS34Pe89za2lnYtdVO03zRf9Bm0BbRVtLg03bV7tY12E7ZSNo12yrcPt2M3ifgF+JT5MTmUOnh617upPCT8iH0avW49mj4wvrm/bIBxQWiCd8MTA8NEXcS1xNVFf4W5Rg7Gzke6SESJk8qRy7DMas03TYkOFU4eDfSNcwzrjGGLzItjyqZJ3kkdCHNHrEcHBvXGZAYAxcMFa0S+A8JDQwKUwdNBWIEuwQwBlAIkwqQDBcOPw9VELURoxM0FkYZkhzLH60iDiXdJhUoqyiSKMsnfyYCJbkj9SLHIhgjtiN7JEklByadJu8m+ybHJmYm2yUZJRQkySJXIfAfyh4SHtcd/x1YHpkefx7cHZwczRqOGBgWqhODEdAPmg7NDTwNugwqDJcLOAtdC0IM2A3BD3QRihLtEskSWhK6EfMQIhB4DwYPcw74DMMJewSO/ez1l+5X6Nrj9uGz4+XpifSCAr8Ryx+AKnMwOjFdLS0mXB2eFEEN8we/BCwDewLtAc0Ah/6w+jj1i+5258fg3tqA1Q7Q9skSw7y7prSQrvupBadtpeKkUaULp5eqV7A4uKnBxMud1XDez+We6wXwU/Po9T/4+/ra/oUEVgwaFg0h9CtnNUE87z+aQPo+8DtHOJw0fTF4L/MuBjBSMig1vTdsOdc59jgAN080OTH5LaoqVCf8I6QgSR3UGRsW4xH6DFcHPwE6+9T1YfHI7ZvqYOfA46ffLtuL1gzSGM4gy4bJfcn9ysHNZtGA1azZod0u4UHk7+ZZ6aTr7O048Iby0fQU91P5jPuz/aH/CwGZAQQBSf+w/LP5v/YY9NbxCfDN7j7uT+7E7kHveu9L77Tuxe2P7Bfra+mW567lzOML4nngCd+e3Rfcedrz2LzX3tYr1lbVNtTg0orRQ9Dkzi/NGMvnyBjHFMb8xbnGI8gmyrzM1c8806jWz9l23ITe9d/i4IHhIOIX47LkFOc76vPt7/He9Yj51fzc/8EClwVQCNsKOg2XDy4SHhVRGJIbsR6ZIU0kxCbdKG4qYSvBK6grJCsmKpUocibmIzUhpB5fHG0auRgjF4UVxxPlEegP3w3fC/sJXQgzB6IGpgYNB5MHBAhdCMQIcQmNCigMNQ6bEDQT3hV3GOUaDR3eHkAgICF1IUchtyD5H0QfwB58Hm0ehB64HgYfbh/qH20g4yA3IVEhHyGYIMIfuR6pHbwcGRzOG8wb4xvbG3kblxozGWYXXxVQE2URww+DDqgNEQ2UDAMMVwuxClAKZgoJCxsMYg2TDmoPyQ+zD1AP1w5zDjQOBg6wDdcM/wq0B7gCVfxa9ezuMOoA6OnoRu069WIAoQ0QG4omWC6yMcgwdSzdJTEehRa+D20KsAY/BIwC+QAH/2z8D/kG9YLwuevN5sThbNyH1ufPoMgZwe25vrMQry2sMKsWrNyulbNXugfDOM0K2G/id+uR8qL35vrX/Af+H//LAK8DUAj7DqIXvyFkLGg2uT6TRK1HKEh2RkJDSz9MO+A3bDUaNOczrjQ4Nj04ajpaPLk9UD4XPhY9UzvEOF01MTFyLGknUCJCHT4YQxNhDr4JjAX0Af7+dPz0+Q33cPMT7ynqDuUe4LbbM9jx1SrV5NXl18jaId6g4RPlWuhf6xPucfCE8l30CPaQ9/z4W/q/+zX9s/4WACkBsgGCAY0A7P7V/JH6WvhT9o30FvP+8VPxBvHv8M/wgfD670jveO6J7WjsFuug6SDoqeY95cvjS+LC4EPf3d2e3Ifbjtqh2a/Ypdd41iTVstM20sTQas8uzhTNHMxVy9XKucogyx3Mtc3Oz0HS2NRa157Zi9sg3Xze0t9a4Uvju+Wp6PDrVu+Q8nT1//de+r/8Kv9tAUsDswTpBV0HYwkRDDoPphI0FtAZVR17IO4idSQEJb0k0CNnIqogvx7LHPQaUBnqF7wWsRWwFKITexJCEQMQxg5+DSMMxgqQCawIJgjdB54HXQc9B3QHGwgNCQIKwwpKC7oLMAyqDAYNFg23DNsLigreCAEHKAWMA2ICzAHbAYEClwPfBBcGCgedB8kHnwcxB5QG4QU3BbQEawRfBJAE+gSfBXgGcQdfCBMJZglRCeIIMAhXB2wGiAXEBDAE0AOYA3gDbAOCA9IDaQREBUkGXgdmCEgJ3Qn6CX8JbAjiBhcFPwNzAar/uv1w+6j4bfUJ8unugewy60vrG+3h8KL29f30BXgNbhMaFzEYwhYeE8ENWge0AI36afV/8bvu4uyo677qzemF6KLmFOT24GXdYNm61D/P7sgfwmK7ULVcsNCs2KqWqiqsqa8JtQy8OMTazDLVnNy74n3n/ep27TrvtPBm8tT0X/gx/UUDbQpfErAa0iIbKvMv/DMnNq826DUsNNMxQS/rLDwrbSqEKlkrvyyRLrUwCjNTNUg3jzjgOAo4BDbyMgQvaypKJc0fQhofFeEQ3A0aDFELEQvXCjEK0wiTBmkDc//Y+tP1pvCf6wvnL+NA4F3eh92l3YveBODZ4cjjheXB5jvn4ebP5Ufkh+K84PfeR92823Xaldk+2YDZT9qI2/fcb97T3xDhEuK74vLiuuI34qjhTOFQ4dDh3uKI5Mjmgel37GLv+/ER9JP1kPYt95T35fcq+G34xfhX+UX6jPv+/FX+XP///1AAcgBzAE8A7f8z/w3+jPza+jr57Pch9+n2Nvfi98L4rfmD+jD7pvvX+7f7RfuK+p75n/iw9/H2gvZ+9vb26fdF+ez6xvy6/rAAiQIbBD4F4gUTBvsF1wXiBU8GRQfaCBML3w0cEZEU+BcDG20d/x6eH1QfSR64HOkaDhlMF7oVcRSVE0MTgxM6FDEVMRYMF6kX/xcQGNsXUBdUFtwU/xL8ECIPqg2mDAUMuAvDCzEMAw0bDjwPIhCVEHsQ4Q/3Dv4NMQ22DJEMugwaDaMNVA4zD0EQbhGUEoUTJhR8FJwUnBR8FDQUwxM7E7wSbBJaEogS4hJKE6ETzBO4E2ETwRLVEZcQAg8eDf8KyQisBtgEggPLArcCLAPwA8QEcAXiBRcGDwbGBTEFTAQhA8kBbQAz/zP+fP0K/dP8yvzw/Ej9zf1z/h//t/8oAGwAiQCSAIwAbAASAFz/O/7F/CX7jfkh+On26vUf9YL0E/TJ85vzdPM389DyO/KQ8eLwMfBd7zPumeya6mfoOeZC5KviiOHu4Ofgc+GF4v7jt+WA5yvpoera6+Tsy+2W7kjv6O+B8C/xEPJG8+b0/PZ7+UP8H//PAR4E6AUlB+UHPwhQCCwI6AeWB1AHMwddB+QHzwgPCowLJQ2/DkYQphHRErUTRRRzFD8UtxPxEg4SKBFNEIYP0A4pDo8NAg1/DPsLYwuXCnoJ/QcrBh0E/QHs/wb+YvwN+w/6ZfkM+fr4Iflz+d75Tfqs+uH61/p++tP55fjP97P2rfXP9Bj0hfMK86jyZPJK8mXyrPIM82HzkfOQ82TzHvPR8onySvIQ8s/xgfEo8czwevBB8CzwQvCL8P/wl/E68tDyRfOQ87Pzt/Ol84jzYvM38wnz2PKt8o/ygfKF8qHy3fJF8+bzxfTT9fv2KfhP+Wb6bftb/Cn91P1c/tD+Pv+3/0wABQHfAdgC5gMEBS8GYgeYCMUJ3grXC6kMWg3zDYEOBQ93D8wPBhA1EHUQ3xB+EUoSMxMfFPgUtBVQFtAWMxd0F4UXXhcAF3MWvxXsFAcULBN/EiwSSBLREq4TsxS0FYwWLReZF9gX7hfUF4IXABdwFvcVtRWtFc0V/xU0FmkWnxbaFhQXQBdTFzsX/hajFj4W0RVVFbwU/xMtE14SrhEsEdMQmhBtEEEQCRDDD3APDw+fDiEOlA3+DGIMwwseC20KsQnzCD8IqQc4B/MGywatBoQGQgbrBYwFNAX2BNcE2AT4BDQFggXWBSQGYgaRBrcG1wb6BiUHZAe+BzsI0whzCQMKdArFCvsKIgs+C0gLNgv9CpsKFgp2CcoIHwh+B+UGVAbMBUwF0wRaBNoDSwOmAuwBHQFCAGX/jv7H/Rf9hfwV/Mr7pfuf+7H7xvvM+7T7f/s8+wP73/rN+rz6nvps+in63/mY+Vj5Hvni+J/4WPgQ+NH3pfeN94b3gfdw90r3Cve79mb2Hfbj9b31pfWX9ZD1hvV09Vf1NPUX9RD1I/VI9W/1gvV39Ur1BfW39HD0OvQM9OLzt/OY85HzqfPY8wr0MPRC9En0T/Rb9HD0iPSX9Jf0hfRv9GP0cfSi9PP0YfXm9YH2MPfv97r4gvk/+uL6aPvU+zH8iPzc/DH9gv3M/Q7+Tf6Q/t/+Pv+t/ygArAA6AcsBWALXAjoDegObA6gDrwO6A8wD3wPlA9cDtgOTA4QDlwPQAyIEdASwBMkEugSLBEgE/gO3A3IDKwPYAngCDQKlAVABEwHrAMkAngBeAAYAof83/9X+hf5D/gn+zf2K/T/97vyb/EX88Pui+1z7GvvR+nX6/Plj+bH49vdD96X2Hval9Sj1nvQJ9Hjz/vKo8nfyXvJI8hfyt/Ef8Vrwfe+o7vjteO0i7ebstOyI7GXsWext7KLs8uxJ7Zvt1+367QvuFu4v7mLuuO4v77jvRfDC8CXxafGW8bPxzfHo8QHyFvIh8iHyGPIR8hTyKPJK8nryr/Ls8jDzfvPW8zb0nfQP9Y31E/aY9hf3iPft9034s/gj+Z/5HPqR+vD6N/tu+6b76vs7/JX87fw4/Xj9tP34/VX+1P5x/yIA0ABkAcsB+QHyAcQBhQFNASwBJgE0AUgBWQFkAXMBjQG7AfsBSQKkAgUDawPSAzYEkwToBC8FYgV6BXMFWAU6BS0FQQVxBbcFAgZJBosG0QYpB50HLwjXCIUJKQq6CjQLmgvqCyoMYQyYDNsMKA13DboN6g0JDh4OLQ44DjwOMQ4VDukNrA1iDQoNpgw7DM0LYQv6Cp4KUQobCgEKAQoWCjcKXgqGCq8K2woKCz8LdAuiC78LwwuoC2wLCQt+CsoJ9ggPCCYHRAZkBX8EkgOeAq0BwgDU/9X+uP14/Br7pvkv+L/2YvUd9PvyD/Jv8TDxWPHY8YzyUfMR9L/0WPXh9Vj2u/YF9yr3H/fY9lT2m/XJ9PrzSfPG8mzyLPLs8ZHxBfE+8DvvBe6t7Enr8um+6MHnAed35hbmzOWS5WTlR+VH5W7lweVB5uzmtueW6ILpb+pT6yzs+uzG7Z7ujO+Y8MHx/vJC9IX1vPbl9//4Ffov+0z8Yf1R/gr/kP8CAJQAawGJAt0DRQWhBtoH3wipCS0Kbwp4CloKKAr3CdMJxQnJCdgJ6AnqCdsJtwl7CSkJvgg3CJQH1wYIBi0FSARWA0sCJQHm/5z+Wv0u/CP7Pvp7+dP4MfiD97/28fU+9cr0o/S79Oj0CfUW9RD1BvX29ND0fvTq8wzz7PGk8FjvLe477Y3sKOwF7BrsVOya7NDs4ezF7ITsMOzh66nrhutt603rKOsS6zDrsuuz7D3uO/CB8uH0N/d6+aH7lf0w/z4AtgC3AIIAVwBbAJkADAGwAYkCkgO+BPoFJAcdCMYIEAnzCH4IzwcJB1EGwgVrBVAFawWwBRMGkwY2BwQI9AjxCekK2wviDBsOew/OENERYRKUEqwS8RKME38UqRXgFgcYHBk3Gncb4xxiHsIf4yDCIXIi/CJOI1Ej/yJ5IgAiyyH3IXsiOSMJJMIkQyV5JWAlAiVyJMkjGyN3IuQhYyHtIHQg6x9JH4cesh3ZHBAcXxvCGikafxm1GMUXrRZ3FSoU0RJuEQoQuA6TDakM9AtMC3QKNgl2B0gF8gLiAJ//mv8kAWEEPwmBD6AW2x09JN8oHSvPKkcoNiR4H+AaDRdJFJESoxEcEZAQkA/DDQELWAcSA4r+/Plx9b7wq+sL5uffd9ko03nN5MjKxWTE0MQGx9nK7s+91ajbEOF95bTo2upQ7JftCO/C8MnyLPUo+BX8OgGeBwEP7hbcHkMmvCz8Md01QTgcOYo45TbSNBgzYzIaM0w1tjjlPFlBokVtSYRMuk7tTwhQCU8STWRKUEcrRCFBLj4jO883PzS2MJUtBCvYKJgmyiMfIHsb8RWbD5sIFgFB+V/x1OkT43ndNdkx1iTUx9Ln0WrRNdEc0eTQatCmz6POZs3myx/KOMiDxl/F/8RYxTLGZMfmyMjKCs16z9jR5dOS1ezWDtgB2cjZXtrI2h7bhdsq3Dbdyd7w4Jvjnua96cLsku8w8p/0wvZY+Bz59/gb+OX2rfWe9Lvz/fJo8gry8PEN8j7ySfL48SHxuu/e7b/rielS5xvl5+K64K7e3txl20/anNk92R3ZLNld2azZHNqs2lfbCtyr3Cvdmt0c3tze5N8c4Vbib+Nr5GflkOYB6Lrpmetr7QzvfvDt8ZfznfXs91D6lfys/qEAjwKCBHsGaghDCv4LpQ1RDxgR/hLpFLgWWRjVGUAbpRznHd4eYx9qHwIfMh4DHXUbnBmgF6oV0BMGEjoQYw6fDBgL6AkGCVAInwfeBgIG/QS6AywCZACR/vP8v/sQ+9/6EPt6+wL8mPw+/fH9nP4N/xT/m/7B/bf8rvu++uL5HPl++CP4KPiG+Cj55fmU+hz7bfuD+2j7M/sD++b6z/qU+ib6s/mo+W36Dvwh/vD/5gDWAPX/tP6J/eb8OP3i/jkCZAdFDlgWpx74JRsrYC3NLPUpriW4IJ8bxhZwEr8OqQv3CFEGVwPB/237fvY/8QzsEOc74jfdndcd0aLJXcHHuIawXakIpBeh0qAro9SnWK4stq2+JMfZzj3VKNre3ejgx+PP5iLqz+3w8dT27fyzBFoOhxlRJY0wQDryQZdHRUsBTdpMHkt3SNlFL0QXRMFF5kjtTCZRAVUwWKJaZVx3XbVd31yvWgFX/lEUTL5FQj+hOMExyio9JLsemRqiFycVWxKhDqgJcAMu/CL0heuH4lnZYdA0yGPBRrzJuJi2bbU0tQK23LeQurW928Cqw+7FlceoyE7Jx8luyqPLsc3I0OzU79mB30Hl0Oro72L0Nvho+wz+MgDrAUIDOwTUBBgFKwVEBZ4FTwZBB1gInwlPC6INjBCbEzcW7BetGLkYUxiNF2MW2BQeE3QRBhDIDoUNAwwiCt8HUQWdAt7/Kv2B+tj3HfVB8jvvC+yw6D7l2uG83jDci9oO2tXaytyk3wTjkOYQ6nrt6/CQ9I/46PxzAQEGdwrlDnMTNxgeHQMizyaSK2QwOjXTOdY9AUFQQ/ZEMEY0RxlI2UhiSahJs0miSYxJYkniSL1Hx0UTQ+4/qDx9OXw2ljOuMKotgyo/J+YjcCC8HKcYMxSMD/YKrAbCAiX/tfth+DD1RPLJ7+Ltk+y56xnrgurg6Tfpm+ge6Mvnsufv55nouulI6yXtNu9e8Y3zu/Xm9wj6Dvzi/W7/uQDiAQkDNgRGBQwGZgZYBg8GwgWkBb4F8QX6BZYFsQRlA+EBPQBp/kj84fl093P1U/RQ9D71cfbs9s313fK27nPqJedp5XnlhOfS637yD/tFBHAMAxIaFJsSIg6xB20AY/lK83ru4uos6NPlUuM34D3cTteR0VzLH8VLvxi6arXNsKmrlKWEntqWPY9uiC2DLoABgN+CgIgjkMGYbaGMqdWwM7ebvCfBIsUNyW3NmdKV2DXfQuas7X71yf2FBn8PURh1IG4n7SzhMHMz1TQyNbY0nTM9Mv8wQDA5MOwwLjKxMyg1dTacN6c4aDlxOTU4YzUGMXkrKyVuHnUXdRC0CXsDAv5T+UL1fvGb7ULpUuTj3kDZs9NuzorJIMVcwWO+Q7zluhu6zrkHuu26t7yLv23DMciBzfrSSNhA3c/h6eV+6YvsP+/+8TD1AvlD/YsBbAWoCDoLNg20DsoPiBD6EC4RLhH4EIgQyQ+sDiMNQwtCCVoHrAU0BNgCkgF+AMX/Z/86//r+hf7x/W39Cf2e/Nj7cfpW+J/1ePIM733r9uez5OLhmt/I3UTc8NrH2dXYMdjl1/zXg9iS2TnbZd3p34jiHuWw52LqXe2x8GX0c/jb/KUB2AZwDFUSWBg+Hs4j5iiBLboxrzVzOQQ9R0AVQ0dFvkZzR3ZH7EYJRgFFAEQbQ1tCsEH+QCBA7D46Pfc6NTgnNQ4yIC94LBIq4ifbJfIjGSI7ID4eHBzmGbMXkxWCE24RUQ8vDRAL8wi9BmEE/wHl/23+0/0K/t/+DQB0ARAD8QQlB6wJcwxYDzsSBRWtFzgaoBzRHr0gcSIVJOQlBih8Khotmi+uMR8z1TPgM2QzhjJaMe8vWi7ALE0rISpIKaYoACgWJ7Yl5iPbIdwfDR5RHHUaZxhVFp4UlRNbE9oT4RQ3FowXYBgUGCoWlRLjDRAJLQUdA2UDPQaIC7sSyhpJIs0nZyrxKecmKiKbHPcW0BGIDTMKhgfoBLQBlf2m+FrzPe6z6ejlz+Iv4LDd1doa1xzSv8tAxEC8prRvrm+qHal4qiOul7NJusTBnclt0drYnt+Z5cvqYe+b87/3+/teAP4ECArID34WFB4RJrktWDR5OQE9Ej/yP+k/Kz/WPQg89zn1N0Q28jS/M1UyhDBvLnEs2SrAKe8oACiDJhgklSAFHJQWexDpCQ0DKvyX9ajvkOo+5mziwN7y2trWgdINzrLJpsUHwue+UbxYuge5ZbhjuO248Lluu369ScD1w4rIz81Y05rYL93u4PLjhOby6HfrL+4M8erzl/bi+Kb6zvtQ/D78wvsf+5f6Tfo7+jH67/k1+eb3Afal8w3xfu407FPq2+iz56DmYuXA46DhE99W3LPZbNeW1RnUstIR0fLOR8w5yRHGGcN/wFK+krxDu1u6u7ktuYK4rLfXtle2hrait765w7yAwLLEGcl/zc7RC9ZR2sTee+N66LbtJvPN+Kr+rwSxCoUQCRY1GxQgmSSgKAMsry6/MFYyhDMoNBE0IDNkMRwvmCwfKuYn+yVWJN8ieCENIH4ekhz+GY4WYhLtDcUJSQZ2A/cAdf7C++P48PXz8vfvHe2a6qXoV+eW5iHmrOX75ADk3uLu4Yjh4OHs4onknuZC6ZnsrfBQ9Sb64v5dA5QHgQsJDxMSohTjFhUZYhvFHR8gXCKAJJsmrSiVKhssCi1OLess9iuIKsMo0ib0JFUjCiL/IP8f0R5KHVsbExmUFhEUvhHJD1EOZQ3+DBQNnA2IDq0PuBAsEYYQcQ7vCmEGfwE0/XP6HvrM/JIC5QqhFEYeWybAK+ot9SyGKZkkQB9ZGmMWYxP/EJwOoQusB7gCJv2b98LyAu9U7Drq3udn5DrfTNgm0L/HLsBVuqO2EbU6tXu2MLjguYq7qr0iwcfG6s4V2TbkCe+B+AQAcwUfCcELXw4eEtkX2B+gKSM0DD4tRs1L0E6wT0hPd07fTcVNC05bTkZOZk17S4ZI0kTdQDM9QzoqOLw2hTX8M5kxES5dKbgjgx0qF/8QKAulBVQAFfvX9Z3wguuo5iniHd6K2ljXXdRh0UDOBMv2x43FVsS/xPLGv8qgz+rU+dlk3hbiQuVM6JnrXe+R8wX4g/zrACgFGwmMDEoPVRHmEk0UuhUcFy4YoBhGGCkXgBWiE80RChApDtgL2wgwBRAB2Pzh+G/1rfKo8ETvO+4p7Z7rQOni5Z3hvdzA1yTTTs9rzF3Kx8gtxx3FY8IQv3G77LfTtFuyl7CFrwyvAa8zr3uv069csFuxHLPmteW5I7+LxeDMuNSP3PLjoeqb8A32Ivvz/48EHQneDRgT6hgpH3YlWSttMHM0XTc+OT46fjoROv04UzcvNbYyBDAhLQ8qzSZuIxQg6hwUGpsXWBUCE00QJg24CU0GHwMpAEP9Sfo/90n0hvH67pvsb+qP6CDnN+bH5aTlneWM5WzlV+WI5TLma+cX6RPrUO3t7x3z9PZM+9X/PwReCCEMgQ90EvQUDhfpGLgaqxzVHiYhaSNWJakmNicGJzsmACV4I7sh7h9DHt8cuRuVGhwZDhdpFF4ROg5FC7MIoQYXBf8DLwNrAogBegBh/4L+Pv7m/okA1gIRBVsG9wWhA6L/wvof9vTyafJF9bH7BQXcD2Ya7SI/KOIpGCiuI8sdsxd+ErgOOAwoCmwHNgNV/Tj2pO5g5/zgwduo10vU7tCxzOPGXr+ftrit9KVzoM2d951AoKKjJacwqsqsk6+Fs4e5AsKfzHXYUOQk7zj4Tf+UBLEImAxaEckXJiAAKlE0wT0WRYtJBUsaSs1HNEUZQ9VBUEEpQd1A4D/QPZM6YTa4MSctHynEJfQiVSCFHSoaGBZJEeELJAZmAOn60PUX8aLsVOgi5BXgN9yX2D/VPdKqz4fNtsv2yQvI5MW8wwPCP8HZwQ3E5McvzZHTetpJ4Wznkuy08BT0E/cM+jz9tgBlBBYIiAuCDt8QjhKbEyEUThRVFFgUWBQxFKwTmxL1EMgOJQwaCbYFFgJx/vv6z/ff9Bfyfe897YzrdOq+6f3o0ucJ5qTjveB83QjamdZs06/QZs5qzIDKfMhYxkLEisKOwYvBjsJgxKPG7sj1yp/MBM5fz/3QMdM81kTaSN8k5aLrlPLY+VQB5ghVEGwX/h0CJIQpnS5YM7432ju5P11Dt0aiSetLa00STuxNGk3CSwxKGUj+RcdDcEHyPkU8YTlFNv0ymS81LOgovyWxIrEftBy1GbsWzRPzEDAOigsRCdAGzQQMA4QBKADu/tD91/wa/Kn7gvuJ+637AvzG/Ez+vQAGBN8H9wsNEAMUyhdOG4YedCEpJMAmTinYK08uoTCxMms0zDXgNrk3ZzjnOC45KznXODM4OjfrNUQ0VTI4MAsu2yufKUkn1iRjIhEg/h0mHHQa0xg+F8kVkxS/E2wTuhO3FD8W5xf/GNAY7RZtE+UOMwpTBkEE8wQfCeIQYxvcJhoxQThcO3c6azZrMMQpqyP+HgIcRxrFGE0WExIBDKsEAf3q9QbwhOsh6Dnl6eFX3QjXGc9NxtK947ZfspuwXrEGtMW337vnv+TDTsjczSfVT97Q6LvzCv7/BkwODBSpGM0cQyHSJvEtjDYAQDpJE1GeVnRZyllWWA9W1FMtUjFRoVANUAVPMk1sSsVGhUIWPuQ5QzZMM9owfC6cK7EnfyIqHCoVGA53B40BZvzP92/z4e7T6SLk8N2a16PRhsyUyNnFFcTUwpzBJMB4vvW8MbzFvBy/VcMryRnQftfI3pDlpOv+8MH1Ivpe/p4C8wZGC2gPGhMmFnEYEBo3GxscxhwFHYocIBvUGOUVlxIUD3YL2gdvBE8BVf4b+zT3ffI97QfoaeOy39zcqNrE2NrWrNQY0hTPscsSyFnEo8AFvYK5E7afsiivzavfqMSmy6UWpoanzKl6rCOveLFUs820NLb7t4y6IL65wiLIGM5n1PPavOHL6CHwnvcF/xMGogy4EmcYpx0/IvElrii1Kmcs/S1oL2sw3zDVMHgwyy+LLmEsLykyJeQgtRzYGEIV2hGRDm8LegipBewCKwBV/Wj6c/eX9PPxj+9Q7Rrr4ejB5uXkYOMX4uLgr9+T3sHdUN0y3TndRd1j3cPdnt4r4Hnie+UI6eXs3fDM9J74P/ya/5sCXwUWCOwKzQ1lEEUSNxNjEy4T+hLsEvgSCRMcEzgTTBMpE5cSdxHeD/4NCgwhCkIIYQZvBG8CawB//rz8Kfux+Tr4vvZY9T70ofOb8y/0T/XX9n74s/m8+QP4d/S77wjr0+de53bqVvGT+woI+hRKICAoeCtrKg4m6x+HGQMUARCYDUoMDQueCPYD2Pzq83nq2+H32vzVeNKNzzzMqsddwXS5o7AMqOWgIpwumteac50boQyl36iwrPywbraGvWTGodBr28Tl0O4d9r77OQBYBPQIvw4VFtseZCikMXk5Cz8PQsVCzkHyP/M9azy3O+E7kzw5PS498jtgObk1kjGoLZQqjShUJ0omqyTfIZkd8xdVEVYKiwNo/Q/4XvP37mXqUOWc327ZJNMvzfzH1cPQwL6+QL3lu1S6jLjctt61NbZguIC8QsL9yPjPstYO3TfjWul672/1Gvt0AJQFbwraDpcShRWwF1AZnBqxG4Ic3Bx+HDQb8xjiFVESnw4TC8gHsQSkAWn+0/rR9oHyIu4T6prmyeN34U7f/NxX2ljXCtR80LbMwsirxIvAg7y5uE21SLKor2Othqszqp+p86k0q0Ot7a/zsiK2TrlpvIe/8cIVx1HMxNI22j7iduqi8rT6lgIfChwRcxcuHXIiVCfEK6EvzjJKNSw3ljieOVY6ujq9Okg6SDmvN3Y1kjL5LsYqTiYkIssedBzSGmMZwBfcFdcTuBE8DwwMDAiPAyX/QvsI+FD15fKt8LLuBe2s65bqoemn6JvnpeYQ5jTmMOfX6NPq7Owl77bxyvRh+F78uwCeBSYLOxFtFysdESIOJk0p9CsBLlUv6i/qL6cvai9ZL28vjy+WL2cv8y45Lj0tAyyDKrkoryaGJGMiUSBCHhUcyRl5F1gVfxPeEVEQyQ5bDUIMswvDC20Mig3hDhcQtBA4EEYO2AppBukBqv4B/t0AdgcVEUscWyemMPw2wDnxOCc1fy9VKeYj6h9qHcwbEhpGF74SYwyzBIb8vvQB7ozoQuTF4Ijd5NlL1XjPoMh8wQy7TLbmswe0YrZSuiO/RMR5yeHO2tTE29Dj2exh9rf/LAhRDxgV1RkjHrsiNijqLsQ2Sz+2RyFP0VRlWNdZelnWV51Vj1NaUltSdFMJVUFWX1YRVXtSJk/CS+RI00Z0RVtE+ULOQHw91zjdMrwr4CPiG1EUig2RBywCCv3v98byoe2h6Pvj69+h3DLagdhS12PWltUL1RXVHNZ22EDcUuFH557t6fPo+Yr/3QT2CeEOmBMNGDAc+R9nI3gmCyntKuor9Ss1K/EpbijRJhwlTSNqIXwfih2FG1UZ5RYpFCYR6Q2GChcHxAOzAAH+pft3+Tz3uvTL8WXumeqC5kLi892q2XLVVtFkza/JRsY/w63Ap75HvaW83LwCvgrAx8LnxSDJXczNz8jTodh53jfln+xj9EH8/gN4C5oSWRm4H64lNStAMMQ0szgFPLo+2UB2Qq5Dm0RWRexFYUarRrJGUEZZRahDOkE2PuA6jDeDNPwxDjCyLrgtziyRK50pryarIrgdNxipEoMN/QgBBUwBof3t+VD2BPM78BPujOyP6wvrAOuE66jsWu5a8E3y+vNd9bT2ZvjY+j/+kwKNB7cMlBHHFSYZwBvJHXkf6yAVItsiNCM5IxQj4iKgIi4iZyE/IMseSh38Gw4bchrcGecYShf8FDASNA9MDJ4JQQc4BX0D8AFsANH+I/2Q+1f6pfmB+dX5hfpt+0n8ofzX+2L5KfWt7wbqp+Xo47LlL+u08/z9eAi6EbcY8BxuHqAdMhvZFzwU3hAKDroLdgl6BgICuPvY8xrrR+Ly2WfSwMv/xRTByrzTuN60wbCMrI2oRKU0o7+i+qOmplqqsK56s7W4e77SxK3L49JB2ojhbeit7iL0yPjQ/I0AawS/CK8N/hIiGHccfh8ZIX0hBiEQIO0e8B1nHYsdYh6yHxkhKSKUIjUiIiGRH8odAhxJGoYYjBYiFBERLw1YCIsC6fu+9GjtPeZ13yTZTtPuzf3IcMQ4wFG80bjftaKzHrI4scyw2LCJsSyzBrYxuoO/ksXZy+HRcdeZ3KDhx+Yo7KnxAvfj+wsAUgOtBTAH+AcwCPoHcwewBsQFugShA3gCNgHF/xf+N/xQ+o34Avea9Sz0n/II8ZDvX+5+7czsHuxF6xPqV+jo5azist4x2nLVvdA9zAPICcREwKq8Obn/tRGzjLCUrk+t7KyXrWavSrIHtlG63r6Dw0TIQc2n0pnYF98H5jbtd/Si+5oCMAkiDykUDhjHGoccrh21Hg0g6yFGJNwmVCldK88snS3WLZotES1cLJUrwyrZKcQodCfnJSckPyIwIAIewhuFGUkX5hQQEogOSAqfBQsB/vyv+Qb3sfRF8n7vcuyP6WLnReY05vLmSOg96uzsSfAB9Jr3vPpo/eX/mALTBaYJ8w1pErQWmBoAHgIhsSMUJh8oyikYKxgs1ixKLWctJy2VLMsr6ioHKjYpgyjxJ3Yn7iYkJuMkGSPcIGMe7BulGaAX2hU3FJsS6hAcDzQNTwuXCT4IbQc6B5QHSggECUgJjQhoBrcC4v3P+LH0rPJ380r35f2sBroQ6hoHJAgrai86MfgwLy9PLJ0oZiT8H5gbDhfOETYLAQOJ+ZDv1OXK3JzUbs15x/XC2L/DvTG8rLoOuYO3bLYxthu3OLlcvEnA2MQYyjLQOdcF3y3nLO9/9tr8KAKYBoUKUw5VErsWghuGIIIlGSroLaEwLjKvMnky6jFWMQQxKDHrMVkzRTVaNyU5TDqeOiM6BTmBN8Q17jMHMvYvjy2SKs0mMSLYHOYWahBXCZ0BX/kB8QLpyOFy2/jVVtGuzSjLxMk9yS7JT8mdyUTKectNzbjPstJA1mXaCN/p477oXe3Q8Tr2sfop/3IDZQfpCvMNaBAbEuESrBKiEQ8QSA6UDB0L7wn7CC8IcAe3BgEGSAWEBKwDvwLPAd4A4v+u/hf9Aft8+LP1yfLL76vsVOm+5ejh2t2d2T3Vz9BvzDjIQsSfwFu9eboCuP61fLSUs2Kz/LNwtb631bqbvunClMduzFrRTtZV24vgAua+663xu/fR/c8DfQmKDrgS7hVZGEca/BuSHQkfZyDOIWIjHCXLJjIoPykjKjQroSxULvkvMjHAMYsxmTD5Ls0sQCqOJ+okayIGIIkdrRouF+wS/A2wCHYDt/6q+lf3lvQm8tvvpu2r6yXqUOlN6STqyesy7kTxz/SP+Dz8rP/fAv0FKQl8DPoPnBNUFwUbbh49ISojICRRJBkk2CPEI+sjOySWJOIkACXiJIMk+SNuIxEj/yI7I6MjBiQkJM0j4iJpIXsfRx3+Gr8YnhaOFH4SXhApDugLnglUBygFXgNWAloCZgMIBX0G+AbrBTYDOP/B+uL2uPQv9bv4Sf82CHsS4Bw/JqgtmjL9NBI1TjM5MFEs+Sd1I9Ae0hkaFEUNMQUX/HDyzeil31HXINBkyljGB8RCw6rD2cR8xk/IHMquy+bMzs2fzsTPvNHx1J3Ztd/W5k/uOvW4+kn+CwC/AIgBaAPzBjEMuxL0GS4hvScVLeMwIzMhNGQ0fzTuNAQ2yjcPOog87D4XQfdCe0SARdZFYkUiRClCjj9WPIU4KzRkL1UqFiWiH9wZnBO8DDoFPv0i9V/tbOak4DbcLtl119LW8tZs1+rXPth82NbYk9nl2uTcld/u4tbmIuuX7/fzE/ja+03/fQJxBS8Iowq6DFcOZQ/eD8wPQQ9cDkINFgz9Cg0KVAnICFgI9geXBzcHzwZPBqQFtwR9A+8BEADq/YX78/hB9nbzlvCX7WzqCedo44vfgdtn11zTgc/0y8PI+cWZw6TBGMD3vkq+J76uvvy/EsLYxCPI3cv8z3rUMdnO3Qjix+U56bPsc/B09H74Q/yb/3MC0wS9BkIIhQm+CiEMwg2ND1sREROuFEcW4xdtGcIauxtFHGccORzbG2Yb4hpFGngZaRgQF24VhhNREcMO3guxCFMF2gFV/sn6Q/fe863wwe0a67fonebd5Jbj5+Ln4p3j9uTS5g/pnet+7rDxD/VW+DT7e/06/7AALwLoA/AFPQizCiMNUw8DEQkSXBIqErgRVBE3EXwRGxLwEtATkxQcFWcVexVlFTgVBxXmFNoU0RSmFC0UQxPmESkQMQ4hDBMKFwg0BmgErQINAZr/Zf6C/f784/wl/ZH9wf0m/Ur7HPgM9PDvu+wz697rAu+o9Hr8tgU7D9QXkh4OI1IlqyVxJPIhcB4gGjcV2g8dCvgDQv229SjttuPX2T/QiscgwDi6BrbKs6mzabVmuMq7575uwWrDCsV4xtbHXMlbyzTOL9JY12vd2ePp6evudvKP9Lb1t/Zz+Kb7rQB4B4IP9BfYH2ImGSv2LVIvxC/tL1UwSzHhMvo0Wje9OeQ7kz2dPus+iz61PaM8fTtAOr44vjYONJIwRyw9J5ghfxsbFYoO5Ac7AZ76G/TM7efnx+Lh3pncDtwF3freUOGB4zrlZOYb56nnbOjI6QXsRu9380r4Pv20ASkFVwdRCHoIXQh/CEkJ8Qp6DaMQ7hO3Fm4Y0Bj7F2UWoRQ1E3QScxIREwYU7RRmFSYVERQ1EsUPCA0/CpcHFgWiAg8ANf0G+oP2v/LQ7sbqtuaz4s7eDttv1/HTodCczQjLBsmcx8TGdMagxkfHX8jbybjLCM740KTU/ti93X7i8Ob06pfu7fH99Lf3GPow/BP+xv8+AXoCmAPlBLEGKAktDHgPsxKfFScYURotHM0dOB9rIGMhGyKZIuci+CKtIuMhlyDnHgUdBRvVGFoWlBO6EBEOygvWCfoH8QWUA94A5/3Y+t73H/W/8uLwv++T74bwj/JY9Xf4kPuF/l8BMgTxBoMJ1AvpDd8PxhGlE20VHBe1GEIauxsNHRUeuB7qHrseSh7LHWkdPB1DHW0doB3XHQceKx41HhIexh1jHQUdtRxmHPcbRRs4Gs4YDhcKFdMShhBBDh4MOAqmCHcHpQYfBtQFvQXYBQsG/gUoBfsCR/9X+vP0HvDW7N/rs+1l8pr5ewLmC54UphtyIOkiSyMQIrEflxz8GPQUdxBtC7oFNf+z9yzv2eU83PjSlcpnw569c7k6tzW3VbkSvaTBRMZqys7NUtDj0ZPSrtK/0nnTg9U92YveyOTk6rvvhvIh8xvyiPCk74jw6fPw+R8CcAuHFCIcaSEyJPYknyQuJHQk1SU5KCEr6y0AMBExHTFqMF0vVS59LcYs3StdKu4nciQZIFUbxRb0EigQNA6DDFMKBAdmArz8n/bM8PrrwOh35x7oRuov7ffv9PHd8szyLPKB8VTxFPIC9Bb39foB/4EC7wQTBhEGTQVLBIgDcANBBPMFNwiJClYMLA3jDKML0wn3B4EGqQVeBU0F/QT/AxMCO//B+xb4s/Tp8dbvWO4m7d7rIOqw54/kCOGd3dbaBNkg2MvXfdeu1gjVctIYz2HL0sfwxBTDUsJ8wjLDCsS0xBvFYMXYxebG38jry/nPudS12Xrer+Iw5hfpnesL7pPwRPP79Xz4hfrj+5/8+/xt/XH+UgATA3MGGwq7DQYRoxM7FZwV7hTCE9MStxKeE0oVOhfZGKkZWBnNFzQV9RGYDqULegk4CLMHdAfpBokFCwOB/037BvdK85jwO+9I75TwyPJq9RT4gfqi/Jz+qAD9ArEFvwj8CyIP2BHTE+kUMxX8FLQUuxRAFTsWbBd+GCMZMBmfGKAXfhaKFQUVDRWXFXcWZhciGHkYZhgGGJQXPhcbFx8XLBcbF8MW9BWHFHoSARCGDYYLUQrvCSIKlgr9CioLEQu9CkgK3QmXCW8JIglICHcGhgO4/7/7qfif94j5v/7rBgoRuxuJJUEtIDLhM9Myvy+tK4cnwyNEII0cIxjREqoM4QWf/gL3O++d54zgXtpR1ZPRZ88Sz8rQfNS12aTfSOWm6QzsNuxr6n7nouQe4+vjZOcb7frzhvpb/5oBRQE4//P8EPzO/bcCgQowFFwehyd/LqsyMTTcM9MyMjK6Mpo0dTeLOg89dj6oPu49vDyAO3Y6rjkIOUs4JDdLNaAyQy+bKygoXSVqIyYiGSGgHyYdYxl7FPUOlAkUBQYCugAkAeYCUwWaBwQJMQk6CJsGDAU3BJYETwY0CcwMbRBnEzQVoBXaFF8T2xHuEAkRRRJiFN4WEBlnGpAahxmiF2YVZhMMEnURahFsEekQcQ/hDGkJfQWrAW7+DPyB+oP5nPhM9zj1TPLG7h3r2+ds5fXjTOMF45PibOFD3xrcWdiq1LbR2c8Bz83Ox86rzmTO8s1dzcPMaMy8zCPOv9BO1FHYRdzd3/7iqOXa55bp6+r269rsrO1v7hvvtu9X8CjxSfLQ87r1+Pd0+v78Vf8pAT0CcwLrAfcACwCU/9D/rQDUAcUCFAOPAksBiv+e/dP7Vfo4+XD44fdm99f2A/a79N/yf/DX7UjrMune53nnC+iG6cLrcu438bDzjPWl9g/3F/ct97r37Pip+pz8Zv6//5QA/QAmAUsBngFCAjgDXwR/BVsGxQatBiwGcwXEBFcEQQRzBL0E7ATbBH8E5AMhA1oCrAEpAdMAjQAyAIz/bf6+/I36Efim9anzXvLf8Qzyn/JC87Dz0fO0823z7/L38TDwXe2Q6UHlNeFW3ondcN9B5Knrz/SB/mkHXg6XEtsTkBKFD7ELzAciBJsA8PzY+Cb0xu6s6OjhqtpE0x3MksXyv3y7Zrjnti63Ubk0vXDCPMiKzUrRwdLR0QHPWcsbyHTGR8fmyuDQ/teM3u/iPuSo4lnf/ttH2m7bBODU5/jx8/waBwMP6hPaFZ4VcBSRE+kTuhWjGNsbjh40IKcgESDDHhsdeBseGiMZURhAF40VHBM6EHoNdwuQCr4KjAtBDBcMhQpmBxcDUf77+ej2nvU39lr4Tfs1/j0A2QDh/5/9zPpM+Pr2WPdv+cb8nQAdBJ4GyQexB8gGsQUYBXcF9gZfCTEMyQ6KEBoRdBDpDgINSAsYCogJVwkPCTAIbQbJA4gAF/3f+TP3SfU39OLz/vMY9L/zpvLI8GzuF+xZ6pLp0unF6s/rROym69Lp/uay44ngBd5j3Jnbb9ud2+HbBNzh24TbMttg24Pc1t4+4lvmsOrT7n/yl/UW+An6iPuw/Kj9l/6n//sAqwKzBPsGVgmXC6gNmg+eEeUTfBYzGa4bjR2VHskebR7wHc0dXx7DH9chPSSJJkQoFSnEKGcnYyVcI/whrSFwItwjSiUNJqYl8iMwIfEd8BriGEAYNxmRG9EeUCJiJYsnqCjrKMgoxChIKYYqcizLLiwxHTMyNDg0TjPhMYMwri+cLzgwMTEZMpYyfTLZMeEw2C/zLlguIS5oLi0vSjBzMVEypzJzMuMxKzFvMLIv5i7vLbEsDivxKGQmmCPbIIIewxypGxgb4hrjGg4bdRsmHA0d0R3eHZUcqRlKFS8QXgvqB7MGNgh4DPsSyRquInwpSi6mMKMwyi7dK50ofyWZIqsfWRxXGIYT8Q3CByUBUPpt85ns4eVW3znZHNTO0A/QMdLL1trcB+MA6MDqreq954/iddwn10fUytSa2KPeIOU36oHseuut54/iEN4P3Nnd1eNw7UL5XQXRDzcXBRuuG2MalxiFF9kXmBk0HNEenSAUISQgKR68G4kZIhjNF3EYjBleGkAa+BjXFpMU6RJNErwS0BPeFCUV9xPoEAEM5QWz/6P6m/fa9gX4aPo1/Zz/zwAmAGn9A/kR9Prv6e1i7iLxTfW++WL9gf/l/+L+Mf2u+xT70Pvh/dMA5AMsBvsGGAbWA+sAI/4U/Oz6avoD+hj5OPdK9I/whOy36Kjlr+Ps4jnjGuTk5OvkzOOW4cPeBNwH2jzZudkq2+HcAN6v3XPbaNdD0gjNr8jOxXzEbsQqxSTG4sYUx7LGEcbAxWfGfMgbzPXQXdZ324TfGuJC42TjD+O94sXiVeN65CnmMuhQ6kXs7e1a77/waPKP9E/3lPoe/o0BfQShBuUHdAi3CCYJHwrCC+gNNxBDEqkTGxR8E/UR7w8DDskMlwxiDb8OEBC3EEwQsw4sDEoJ0QZ/BcsFugfTClMOYxFpEy4U8BM6E60SxRKlEx4V0RZeGG4ZyRlRGR4YhhYTFUkUbBReFbcW+BfHGPkYmRjTF+cWKhbmFVAWdxdCGWkbfx0UH9AfoB+5Hn4dShxSG40azhnjGJsX1RWME9gQCA59C5EJdggeCFoI9gjWCe0KMAx3DXEOqg6iDRELGwdlAu79xfq7+T77V/+rBXMNeBVQHMMgUCJEIZsechuqGJsWJRXVExUSXw9mCysG8P8a+RPyK+uX5Gzer9hz0//O6MvvypbMudBg1v3bAOBX4anfVdtK1eDOsskvxzLIkswc0+vZDN8c4bbfk9tT1gbSkdAh0+jZDuT678L7mAVCDFwPcA+4DbgLrAoxCzAN/A+tEnEUzRTGE8wRkA/CDdoM9wzeDRAP7w/1D/MOKQ04C98JnQl2CuoLMA1sDfwLpAidA5X9j/ek8rDvEu+B8DfzMPZ3+FD5VPiG9V3x0Owg6WXnL+g7653vH/S297r5Cvr++E333vWF9bT2Q/l0/Dz/rABIACX+zfoP98HzhPGm8AHxAvLY8r/ySPGB7uvqRedM5ILiEOK+4gHkJeV95Zvkd+J230fcstlS2FbYdtn62vbbl9tv2ZXVrdCty5THCcUyxLXE68Unx+7HDsikxxjH9sbPx+7JMc0K0azUZdfO2OTY/teg1lnVrtT51GDWwdjD2/be8OF35ITmQugC6hrsyO4a8uX1yvlU/RIAwQFYAh4CmgFoAQICfwOMBYUHxgjpCOUHDAbsAyQCNwFtAb4C2gRGB3cJ6ApCC38K/QhkB2UGbAZqB+0IWwoxCzMLcAo4Cf4HPQdPB08IDwoeDPcNLw+XD0gPkA7XDX4NyA3FDkwQ9RFCE8wTexOXEqIRHxFXEU4S1xOpFXUX9BjqGT8aFBqxGWoZdBnMGUUaqRrVGrgaVBqtGc4YzBe/FsIV4RQaFGUTvhIxEuMRAxK1EvQTeBW3FgwX+BVYE3cPDwsTB4gEOASGBkoL0xEKGb8f4CTHJ1woGSffJJki7SD5H2Yfmx4DHT8aOhYcEUYLLwVK/9H5vfTX7/rqU+Z24jXgPeDL4nTnLe2P8iz2A/fN9BHwAuor5Avgst594Ofkm+rX7/ryF/NY8PDrvue+5WXnMO2F9ugBgQ2iFzEf0iPdJTIm7iUYJksniilALJguzi+GL+YtfysZKWsn4yaEJ+8ojSq/KxYsbyv0KSMouCZqJqcnSCqILUQwZDE8MMMsgCdtIaMbKResFFQUuhUJGDUaTRu3Gl4YsBR7ELwMXgr3CZsLzA6cEgkWShgcGbUYnBdiFnsVLRWCFUYWDBdMF5gW0RQ4ElAPqQysCn8JBAnlCL0IJAjYBtQESwKi/0n9mvu1+nr6lPqX+hr62vjQ9jT0bfHz7ijtQewp7Ins1+x+7BPreuj75CHhk93X2i7ZjNio2BHZV9k62bHY/deO18jX3Nil2rrckt623+zfQN/83ZDcc9v52kvbXNz+3fLf8+HM42jl2eZU6BbqPuzJ7pTxe/Rm90P68fw+//cAEgKyAh8DmwNFBBQF3QVvBpsGRQZrBTcE/wIzAjcCQQM6BcgHZgqRDOUNOw6wDZwMfgvJCsgKfwuqDNgNmA6eDuoNyAyxCyELVAs4DHENhQ4TD/cOTQ5lDaIMVAyYDFYNPw76DjoP1A7XDYMMRguTCrsKyAt2DU0P2hDNERoS4hFpEfcQxhDwEG0RDRKNErASWBKOEX4QXA9aDooN8Ax0DPgLXguYCrQJ5QhxCJoIcQnNCkUMUQ1vDUUMugkMBssBxf3c+tX5Ivu8/hYEMArXD/ET2xWNFZgT2xA8DlwMbws4CyYLjwreCM0FaQEJ/Cz2T/DS6trlXOEu3UfZ2tVf01rSJNOf1SvZwNwu34DfS93g2DrTvM3DyU3IscmIzbLSmtek2sPa69cu02HOhMsUzJ/Qr9j14qztHvcK/voBRQPlAhIC5QEBA3AFpgi/C9gNXA5BDQELdgiGBu0F9wZ+CeoMbRA0E7EUxRS/E0MSCBGREBARUBLKE9gU4RSJE+UQcQ33CUYH5AXfBdEGDAjYCKIIIgdiBMsAFP0c+qj4JfmK+1r/ywMJCFgLRQ2tDcwMIgtXCfoHYgePBzQI1wj7CEoIrwZSBJIB5/63/D/7gfpG+jr6CfqB+ZH4SvfW9Wb0P/Od8pvyIvPh82n0W/SI8/rx8O/G7dPrSeoz6WjoqOe25mLlmeNh4e/endzk2ijamdoX3EfesuDz4sTk+uWH5nfmAeZv5RDlDuVh5eHlXua55ufm5+bB5o3md+bB5qnnTOmb62HuWvFK9CL38fnp/DIAzAOBB+oKng1QD+wPlQ+bDmMNUAywC54LAQyWDAwNLA3tDH8MOgyBDKgN1Q/1ErcWjhrjHTEgNCH5INkfUh7jHOkbihu1GzEcuxwcHTsdEB2mHB4coBtlG5QbNxwwHU4eZB9ZICkh1SFYIqYitSKLIjgi0CFmIQshxCCVIHsgdSCHILggECGOIS0i1yJtI9Qj9iPVI3kj9SJYIrQhIiG5IJAgmyC4ILQgXCCZH3keLh0CHD8bFxuJG2UcRR2yHTwdnxviGFsVqBGPDs0M7wwbDwYT+Rf/HBwhnyNAJDYjGyGnHoUcBxsnGokZrRggF5cU+xBlDAIHEwHa+pT0iO4F6WXkAuEp3/LeNeB64hLlM+cp6IfnReXP4ejdddo92LHXxdju2j3do94+3sDbmtf/0oDPi8720L3WD9+P6LHxIvkQ/mYAwgA0AOf/pgC3ArsF6AhRCz8MbAsUCfAF9AIIAcUARAIfBZQIwQvqDbUOPg4DDbwLEQteC5oMWA73D8UQRRBPDiMLbQcCBJ0BlgC6AG0B3wFhAZj/mPzh+DT1ZPIX8Z7x5fN495r7av8bAjADmAK+AFv+MPzM+mX62Pq/+438uvzm+/v5OPci9FHxRu8z7v/tT+6y7r3uLe767FLrjekU6DTnC+d25yjowOjm6GjoN+d05VLjBeG63ofcdtqE2K7W7tRD06/RQ9ASzzXOuM2Zzc7NTc4SzxnQT9GT0sHTwNSL1SXWgdZ+1v/V+NST0xrS3dAc0PrPfNCE0ezSh9Qv1tHXa9kO2+DcEN/O4Sfl9OjX7FHw9/KR9Cr1BfWC9AT00fMK9Kn0jPWJ9nv3Svjs+Gr53/l3+lr7pvxi/noA0wJGBawH2gmpC/wMyQ0bDg0OwQ1RDdgMdAxDDGEMzAxwDTMOBQ/xDxERcRIFFKcVLhd7GHsZLRqSGrsawhrAGtQaBxtYG7QbBRw3HEIcMhwmHDscihwZHd4dxB65H6kghCE8IskiIyNNI04jMSMDI84ilCJJIukhfSEgIeYgyyC1IHwgFSCkH2Mfjh85IE4hkiK5I3IkdiSZI9shcB/AHEoahRjCFyUYphkZHDEfhiKmJSso1imZKpIqASorKUQoWyddJiIleyNKIYMeIxsuF7ASxg2kCJcD/P4v+3j4+/aq9kb3bfix+Zv6wfrY+c/34/Sa8Z7uiOym6+zr7OwB7n3u2+396zPpQuYp5NXj0uUX6g/wvPYM/R0CggVWBxcIcwgKCT8KKQyaDi4RaRPUFC0ViRRNExwSnhFOElMUahcAG1we2yAgIjAiWyEjIBIfmR7pHuMfGyH5IechgyDHHRIaDhZ+EvwPyQ61DjUPoQ9tD1UOaQwCCqwH/QVwBTgGNAjtCrgN4w/mEIUQ7w6oDFsKmwi4B60HOAj0CHQJTQk2CBcGJAPT/7r8YvoX+dD4M/mw+bH5zfjt9lD0cfHm7ibtcuy57Kbts+5P7wnvsO1f623oUOV+4kTgud7A3RDdWdxW2+fZFtga1kDU2dIn0kTSIdOE1BnWiNeL2AHZ89iR2BHYpddg1zrXGtfr1qDWRNby1cXVz9UH1mDW0tZo1zbYSNmV2gfcjt0p3+HgueKg5HvmKeiQ6aTqbOsC7InsK+0G7i/vovBN8gn0pfXs9rz3Fvge+BT4Qvje+P/5ovui/cn/1gGSA9MEkQXhBesF3QXiBRMGdwYGB7MHbwgsCeUJkwowC7sLMAyQDOUMPA2lDSkOww5eD+UPThCiEO4QOBFuEXUROxHFEDAQog8/Dx4PRg+0D1UQExHQEXMS8RJKE4UTrRPHE9wT7hP/EwkU8ROYE+ESyBFzEBoP7Q0IDW8MIQwhDHEMDQ3XDagOVQ/DD9gPgw+0DmwNygsJCnMIQQePBmIGuAaQB+gIpQqWDHsOFRA7EdgR5hFuEYgQUA/xDY8MSAsfCvQIbwcYBYsBqvzF9nrwjOqh5TPiiOCr4FDiy+Qh51PorecJ5dngAdyS13nUQdPj08vVE9i62f7Zh9iH1bnRPc5EzK/MxM8I1XLbx+H35m/qKOyd7I3syOzd7f/v/vJX9mL5hfte/Or7jPrw+N73+/eR+Xz8MADmA90GlAj6CGkIfgfrBjoHsQg2C1MOTBFRE8ITYhJzD5oLtgeQBKwCHwKdApADZgSxBFAEaANSAn4BVwElAvIDgQZYCeULpQ1JDs0Ndwy+CigJGAi3B/AHfwgUCVYJAgnxBygG3wN/AXf/Hv6Q/ar9Dv5J/uz9v/zM+lr43vXP84TyHfJ48j/z/fM69KnzOvIb8J/tIuvk6ATnjuWB5NDjW+Pv4l3ijuGT4JLfsN4H3pXdV91J3WjdsN0V3oTe7N5A32/fc99H3+zebt7g3WHdFd0k3ZzdZN5A3+nfPuBS4F7gpOBI4VXixeOQ5aXn2env66zt9O7d753we/Gs8kj0PfZh+Hv6W/zi/Qn/0/9EAHMAggCtADcBUwIXBHcGRAk7DBgPmBGHE9UUjhXaFfEVBhY6FpgWFxegFyYYohgbGaUZURopGyAcHh35HZ8eER94Hwkg7iAwIrEjPCWUJocn/Sf7J50nHye5Jp8m4iZxJyoo4ih8KespKio8KiQq8im5KY8phCmcKc8pESpRKn0qgSpKKsYp7ijIJ2om8iSEI0MiRyGcIDggAyDVH5QfRB8GH/UeCh8JH5weix3fG9gZ0BcbFvoUpxRQFfQWUBniGxgehB8LINcfOB+CHuoddx0OHYUcuBuZGiIZPxe/FGgRFA3XBwQCIfzJ9qLyO/Dr75TxkfTG9/X5LPob+CH0Iu9B6n7mfuRh5LPlmucZ6Vfp7+cE5Ujh093O2xzcB98k5IDq6/BY9iP6LPzK/Kr8kPwf/az+JAEfBP4GHwkWCskJggjbBpQFTwVoBtYINAzfDyYTdxWHFm4WnhW+FHwUTBU7F/QZzhwKH/8fVB8UHa0Z0RVFEqYPQw4GDowOSQ++D54P3w67DZ8MDAxsDOUNQRDtEikVPBa8FaMTXxCmDEwJ+wYPBnQGuwc+CUwKZgpYCUgHpQQFAvH/vP5x/sf+Pv9D/2X+ePym+Vf2EPNI8ETuFO2S7HDsWuz/6y/r1+kH6O7l0+MJ4svgIeDi38Tfi98d34je5d1M3cXcUNzw26DbUNv22oPa/dl+2SfZF9lh2ffZtdpe273btdtS28PaRdoT2k/a/NoA3CzdRN4T34Tfpd+p39rfduCh4VbjbuWt59PprOsf7TbuGO8B8CnxuvK39AX3avmh+2z9pf5K/3v/Z/9N/23/CABTAV8DDQYBCcoLBg58DzEQWBA7ECYQUBDREJ4RjBJmEwkUYhSCFJMUxxRMFS0WVxeUGKwZchriGhkbUBu8G4Mcph0HH2ogkSFJInwiOSKrIREhoyCQIOMglCF7ImcjKySiJLkkfCQNJJEjLiP5Iv0iPyPCI30kWSUnJq8mvSY4JiMlnyPkITAgux6rHQodyRzCHM0czRyyHHscKxzHG0oboxrHGakYTRfKFUkUBRM+EiUS0RI1FB8WNBgVGnAbHhwpHMMbLBuNGv8ZgxkRGZQY9RcYF9AV7RM6EZQN/wi6Azv+Ffno9DHyQfEP8i30yvbX+Fr5zPdI9H/vfepQ5rvjAePW44HlFue95wDn2+TM4a7eftwd3Prd5eEX53Ts7/Dd8yb1MfW39IL0NPUW9wH6bf2bAN4C0AN3A0gC8wAzAI8AOQL6BE8IkAsjDqwPFxCfD8gOLA5hDrMPBhLaFGcX8BjzGFcXcRToEHQNtwoBCVYIewgXCcwJTApoChoKjwkWCQYJown7Ct4M2g5cEOUQNBBlDuILMQnMBv8E6QN9A4QDrAObAw0D7wFkALT+Kv37+y/7o/oh+mL5PPie9pv0XfIW8PftKezE6sXpDOlk6I3nVuap5JniYeBS3qvcgNur2ujZ+tjP13zWJ9X60wbTStK50T3RvdAt0ITPy84Szm/NCM0DzXTNTc5az0/Q49Dq0GfQhs+Szt3No831zcHO4c8j0VPSONOf02/TwNLj0UTRQNEI0pbTudUn2I/apdwz3iXflt/M3x7g3eA14iTkdObL6MbqHuy57Lnsb+xI7KXsze3P737yffVR+Iz66vtq/Er86fuu++j7rvzn/VD/lwB6Ad4B0wGSAWUBkAE3AlYDwQQ4Bn0HZAjoCCkJYQnMCZcK0AteDQgPgRB/EdsRnBH6EEMQwQ+UD7wPHBCREP4QTRF0EXMRUxEpEQwREBFDEaoRRRIJE+ETtRRlFdAV2hVuFZEUVxPoEXoQPw9cDuINxQ3lDRoOQg5RDkEOEQ6+DT8NlgzFC9YKxQmKCCUHrAVXBG8DNgPWA0UFRQd0CWoL2AyjDdoNnw0YDWoMwQtMCywLXgulC54L0wrpCKsFIgGf+7P1JvDP613pHeng6vPtVvHt89D0hPMa8DLrxOXh4Gvdz9v120Pd0t6632PfvN1L2/rYy9d62ETby9865YLqsu478RjyxPEL8cbwn/HX8zb3HvvD/mIBjQJCAvQAaf9z/sL+qQAQBG8I/wzzEKoT5RTKFOYT9RKsEn8TdBUgGMkaqhwtHRkcnhk8Fq4Stw/qDZQNkw5sEG4S+BOiFFgUWBMVEiER/hAIEjsULRcgGkUcBh1CHEkatRc0FU4TURI+EtsSxxOfFBEV9RRNFD8TAxLaEOoPOg+jDu0N4QxfC2gJFgeWBCQCDQCX/ur9/v2O/i7/Zf/T/lT9CPtG+Ib1KvNs8U/wq+9L7/buf+7N7d3sxOum6qnp4ehM6NrndOcP56XmN+bJ5V7l/eSo5GXkNOQT5Pnj3uPA46Hjj+Oh4+jjZeQF5azlQOa05g/nXuev5xPomuhS6Unqgevz7IjuIvCh8eHyyvNW9I30kPSJ9K30L/Uv9rT3pvnM++394/+mAVIDDAX0BhAJSAtpDTUPfxAsEU0RDBGiEE4QRhCsEIERnhLFE7sUYhXNFS0WuhaOF6MY1xnxGsobURyUHL8cBx2VHX4esh8RIWcifyMtJGAkJySyIzgj5yLSIvEiJiNUI2MjSiMKI7gibiJLIl8imyLcIvgi0iJyIvwhmyFwIYIhuyHtIeAhbiGHIDsfuB03HPAaDRqfGZgZ2RktGmIaURrjGR4ZExjiFqkVdRRJExwS8RDaD/cOcw5zDggPIxCcETQTqhTMFXoWqRZmFswVBRVHFLsTdBNbEy0TfxLaENQNPQk3A0b8SPVE7yvrlOmE6mjtM/Gh9Ir2NPZ98+HuWekL5Pbfrt023QveTN8S4LnfHt6s2znZvdf910/adt6w4/voWu0i8C/x2vDi7ynva+8E8eHzfvcY++r9av93/2L+1Pyh+4b78/zp//0Dcwh6DGUP3hD6EDAQNQ/CDlMPAxGCEyoWOBgKGUwYEBbHEikP/AvqCU0JEQrDC7gNTQ8eEA0QQg8QDuIMLwxYDIINdA+bET8TyRP3EvwQbA4CDGoK/gmsCv8LWg0pDg0O7wz9Cp0ITwaPBKwDrQNQBBcFcAXeBBoDLQBz/HH4wvTX8e/vCO/o7jPvfe9r78Huc+2k65fppOcT5gflYOTH49riZ+GB34Pd1tvQ2pbaGtsq3HLdkt4n3/Le8t1d3JfaBdn214zXwNds2FbZOtrk2i/bHNvK2mzaQNpy2hPbD9ww3TLe2d4J39bect4v3lneId+S4Ivi0+Qt52bpZusr7b7uNPCU8d3yBPT/9M/1ffYl9+P30fj6+WP7GP0l/4wBNgTlBlAJOguJDEUNig14DSwNvwxKDO8L1wstDBMNiA5iEGISRRTVFfgWmRe1F04XfhZ0FXMUwhObEyUUXBUgFzAZRhsgHZEefh/jH9EfaR/UHjwewh1uHT4dHx0DHeMcwhyyHMkcDh1+Hf8daR6LHksepx3GHOUbPBv0GhAbfBsNHIUcmBwHHKoamBgbFqYTqRF1ECIQlRCGEaUSrhOCFBcVahVxFRsVYhRaExcSphABDyoNVgvoCVEJ3QmDC/cNyhCUE/wVvhelGJkYrhcgFkkUiBIfERoQMQ/oDaYLCQgMAyr9P/dd8nPvBu8F8br0//iM/EP+g/1P+kH1ae/26evl2+PI4x7l3ebr53rnYOUo4uve2dzQ3BzfWuOn6N7t6/Ed9Fv0OPO28fjw3vG79Df5Zf4LAxEG3waEBbMCf//+/Ab8Af3X/wQEuggaDWgQQRKnEgMS+xA8EEkQQhHiEpgUuhW/FXwULBJjD94MMAuiCh4LVAzXDT8PMxB8EBAQHA/zDfoMhgy/DJQNvA7ND2EQPxBsDxcOggziClMJ5gelBpcFxQQwBM8DhQMvA68C+gEkAUYAdP+c/p/9W/zB+tj4yPbC9O3yX/EJ8NLumu1h7DDrG+os6WTouuco55rm6+Xw5IfjveHO3wnes9zd22vbKtvh2m/ayNn+2DXYmddW14DXC9jM2I7ZHNpX2jza2dlK2ajYFdil12fXU9dg133XqNfx12jYE9nh2bLaZ9vy213cxNxE3fnd89414KThEuNC5AHlPeUJ5aTkUORQ5NLk6+Wb58zpSezP7hrx//J39JD1bPYm99H3dvgQ+aX5QvoF+wr8Yv3//r8AgQIlBJQFuAZ9B9gH4QfGB8oHJgjwCB8Kigv2DDEOIw/PD1MQ0BBeEf8RpRI7E6wT4xPVE4kTGBO1Eo0SuBIzE+ITohRcFQYWmhYYF34XxhftF/EX2BenF2YXHxfaFpgWUxYAFpoVHhWcFCEUsBNBE78SIxJsEaYQ1w/+DhMOFA0PDBsLUwrPCZcJpgnjCTYKhgrJCvsKEAvxCoYKyAnJCKkHiAZ4BYYExgNbA2gDAgQlBakGUwjaCf4KigtsC6oKcQn/B54GhgXWBH0EPQS2A3ICEABl/Jz3UfJp7dvpV+gJ6Yjr6+4Y8hH0P/SY8pPv7Oth6IXlouO34nfiYOLe4ZPgft4M3PXZ99iT2eHbhN/C48Hnxupr7LbsEOwh65vqE+vS7MjvhfNc95P6l/wp/Xr8FPvC+UL5DPom/D7/xQIzBhgJMwtwDPcMHA1YDRQOhQ+TEd4T0xXmFr8WWxUVE4oQaA4vDRQN7w1ND6IQdBGIEewQ8w8PD6oOBg8bEKgRQhN3FO0UeBQpE0ERLw9qDVAMCAxxDDsN+A1PDgkOKQ3fC3QKOglmCAkIAggPCN0HKgfbBf4D1AG3//X9wfwX/MP7gfsM+zr6A/mC9+P1Y/Q2823y+vGp8TrxgvB27y/u1+yU64LqrOkS6aToU+gL6MDncOco5/Lm2+bi5gDnJedE51PnSeci59rmeuYO5qTlSeUA5cvkt+Tb5EXl7OWo5kznwOcX6H7oG+n76RTrWuzF7VLv5fBY8n3zOPST9Lj05fRR9SP2W/fX+Gn67ftX/bH+FACQASwD5AStBnYIGgpwC1cMwgzCDIoMXgyGDDQNeA44ED4SQRQCFlkXNRiYGJ4YdRhTGGYYwxheGRka2BqJGyYcqhwFHS0dJR0AHdkcwBytHIUcKRyJG7AavhnnGF8YQxiRGC0Z8Bm3GmYb7Bs4HEAcChynGzQbyRp3GkMaJRoJGt4Zmxk/GdQYbBgOGMMXhRdKFwYXqhYpFnoVnxShE40SehF4EJgP4g5UDuUNkA1NDRsN/AzwDPMMAg0TDRQN8QyYDPwLJQslChsJJQhTB60GLAa/BWsFQQVsBQ8GKQeQCPYJFwvQCyIMLwwXDPALtAs+C1MKuAhEBvQC//7J+tT2n/OP8dDwWvHs8hb1T/cN+fD5zfnF+C33cfXw88/y9PEN8bjvtO0L6xboZ+Wb4ynjLORn5kjpJuxt7snvPfAR8Mnv6e/Y8L3yaPVv+EX7Zf14/nT+pf2T/ND7zfuq/Ez+awDEAh8FVwdWCR4LzQyYDq0QHhPQFXcYsholHJAc6htsGnUYghb7FBsU3xMHFDoULBS8E/sSGhJOEcwQphDeEFsR9RF+EswSwhJTEogRghB1D5AO7A2BDS8N2AxqDNwLLAtPCjsJ9geLBhsFyQO2AuwBawEUAcIATwCe/6X+af3/+3/6DfnD97T22vUb9VH0W/Mm8r/wRe/k7cbsCeyr65DrhOtN68Dqz+mS6DTn5+XC5M7j+uI14mzhoODW3yXfo95k3m/evd4938/fV+C54N7gweBp4OvfXt/o3qfevd4+3zDggeEH44vk2eXQ5mznu+fl5xboe+gv6TnqiesB7Xfuye/k8MXxgvI78xP0H/Vo9tz3XvnG+vf77fy//ZP+jf/GAEIC+APYBcwHswlqC9AM0Q1wDsgOBQ9bD/cP6hAsEpoTBxVMFk4XBRhzGKoYyRjxGD8Zwxl5Gk4bJxzpHHwd0B3bHaodWR0SHQAdOR23HVUe2R4JH8AeCh4XHSschhs8G0AbcBueG6wbihs8G9gadRoxGh8aQxqVGv4aVRt1G0AbrRrUGdwY8xc4F7cWYxYsFvEVlxUHFUEUVRNqEp8R+hBoEMEP5Q7TDZsMYQtICmMJughGCPsHzAexB6IHigdQB9AG8AWmBP8CHQEq/1f91/vY+nT6tfqG+8H8Lv6a/8wAqwEpAlcCUAI2AhsCAQLJATkB///X/aj6ovZI8k/ub+sl6pTqaez97n7xMfOp897yJvET7zTt9Ott61vrPety6ofoYuVc4S7dudnI18jXq9nl3KHg9uM25iHn7eY05rPlB+Z059vpwuyI75bxivJd8lfxE/A771rvmvC38in1UffB+F/5aPlT+ar5zPrO/H7/aAITBRAHFAgICBAHgQXMA1gCWwHMAHMADwB0/5z+sP3t/JH8wfx4/Yz+vP/CAHIBsAGCAQEBVgCt/yP/xv6J/lT+E/60/Tv9rvwh/J77Kfu++lP63/lm+fH4hfgf+ML3dvdG9zf3JvfX9v/1dPRC8qnvDO3X6lLpkuhz6LLoBuk96T7pAOl96LDnpOZs5Svk+uLp4ffgFuA531bedd2u3Bncz9vW2xrcedzL3PPc8Nzc3ODcHt2l3WfeR98g4NngYeG84fXhJOJe4rbiNuPh47TkouWd5pbnieh96X3qlOvG7BDuX++d8LbxofJf8wX0o/RT9R/2EPci+FH5jfrM+wH9Kf5G/2EAgQGrAt0DEAVBBmQHdwh2CWMKSAsoDAgN4w21DnoPLRDeEJ4RihK4EzEV4xanGEwanxuDHPUcCR3lHLUcoBy8HA0dgx0GHn8e2x4RHyofNR9GH2ofph/uHysgRyArINQfRx+cHu4dWx31HMMcvBzSHPAc/hztHLkcahwQHL4bdRsyG+kalxpMGh4aHxpNGo4awhrDGnca1BniGLwXhxZpFXsUwxM3E7sSOhKoEQoRdBACEMIPsQ+zD5sPSg+xDtsN5QztCw0LWArYCX8JKAmbCKUHLQZJBDICNwCx/ub9Cf4p/ywBzwOvBlgJZguWDOEMfgzNCzEL6grvCvQKigpKCQ0HCQTPABr+jfx+/M79BgB0AmYEWgUmBfYDMwJfAOn+EP7R/eX9zf3+/BP7A/gv9EXwDe0h68HqxOuk7bfvZfFX8o/yV/Ia8kHyBvNl9CL23/c7+fD56Pk7+Tv4UPfv9mL3uPix+uL81P4yAOsALQFeAeUBCQPXBBsHdgmFC/gMqQ2eDQMNGgwhC0gKpQk4CegIiAjxBwoH2AWGBFMDfQIrAmICAgPXA58EJAVCBfcEXgSbA9cCKAKJAeYAIQAe/9z9evwx+0H61Pnx+Xf6KvvJ+yH8DfyK+7D6r/nK+DH48ffo99P3bPeI9hf1LPPs8I/uV+yF6kTpmuhl6GLoPeiz56jmOeWy42jijuET4brgNeBO3/fdSNxv2qfYMtdS1irWttbK1x7ZbNp+2zrcltyV3Efcx9s327zabtpZ2oTa7tqc25Pc2t1z30jhKePT5AjmpOa25nPmJ+YU5mfmJ+dE6JvpCOts7Lvt8u4W8C3xP/JR82L0avVf9jP36PeI+C358fnl+hD8bP3j/lkApAGkAksDrQP+A38EYgWzBlcIGArBCx8NIQ7JDjEPew++DwwQaBDQEEMRuBEmEooS5hJFE7ETLBSjFAkVWBWbFekVUxbcFnMX9xdNGGIYMBjFFzoXsBZDFv8V3hXKFa0VehU3Ff4U8BQmFZ8VNBabFocW0BV3FLQS0BARD68NzwyDDMoMhg18DmoPChAsEL8P1A6bDU8MHQsaCkUJlggJCJ0HSAf2BpoGNwbrBdEF+AVGBoIGXwaoBU8EiQK/AG7/7f5T/28A4gE/Ay0EdAQGBP0CkAEMALT+s/0Y/eH8Af1w/Sf+Iv9IAH0BmAJwA+YD6AN4A7MCwgHXAB4ArP+C/5X/3P9TAAEB8gEiA3oEvQWaBsYGGwasBMICzQA7/17+V/4Q/0YApQHWApsDzANhA3cCTwE7AIH/LP8T/9j+Jf7G/Mz6hvhs9vH0VvST9GX1afZJ99b3DPgP+BD4NviR+BT5n/kX+lz6WvoD+l/5l/jx97T3EfgM+Xf6CPxt/Wn+7f4R/wr/A/8O/y3/Y//D/2kAWgF6ApsDmwRrBQsGaAZbBr4FgQTLAusAO/8J/on90/3i/o8AkgKEBP8FtAaEBoEF7wMpAowAWv+p/mz+f/6+/gr/VP+X/9H/BAArAD8ANAABAJ//Ef9h/qL99Px1/D78WPy6/EH9x/0m/j7+Bf5//cP88Psf+2/68fm0+bz5Avp1+vr6dfvO+/P73PuN+xT7g/rx+XT5Hvn4+An5SPmj+Qz6cfrP+h77VPti+0L7/vq7+qb65fp++1/8Xv1O/g3/hv+3/7D/jP9j/0r/Q/9F/0b/Tv9u/8f/cwB6AcsCMwR0BVoG0AbtBuUG7wYvB6gHRgjqCHcJ2AkPCiMKKgozCkgKcwq9Ch8LigvbC/wL7wvTC+ELRgwQDSkOVw9aEPQQBhGTEL8PxQ7fDTgN3wzCDMkM4gwRDWYN7w2hDmUPGhCfEOEQzRBYEI8PkQ6iDQIN4gxKDRsOFA/sD2UQYRDpDyUPSA5/DeMMfgxGDCoMGgwBDNoLpQtpCy8L/grUCqYKaAoKCoYJ3QgYCFAHmgYGBp4FXwVBBS8FGAXtBKQENgSrAwgDVwKeAeYAPQC1/1r/Kv8U/wL/5/7N/sf+7P48/6n/EgBWAFcAEACN/+z+UP7Y/ZT9iP2s/fD9Qf6K/rv+zf7G/rP+nv6K/nj+cf6B/qz+5f4D/9/+bP6//QX9XvzI+zT7mvoK+p75Ufn/+Gz4avf+9U30n/I48U/w/+9T8C3xWPKM84P0FPU39f/0iPTp8zfzjPII8sTxwvHt8R/yO/I08hfy+PHt8f7xJfJT8nbyfvJk8i/y8/HG8bbxtPGi8Vvx1PAh8Gnv2O6B7l7uWO5T7j/uIu4S7iHuU+6M7qXudO7y7TPtb+zk677rBOyM7Brtbe1m7Qzti+wf7PvrK+yX7Bbtie3y7WbuBu/a783wuvFz8tvy7fK+8nvyVPJs8tDyd/NN9DT1CPaq9gn3JvcX9/72+vYh93T35fdf+M/4Jfli+ZH5u/np+Rj6Sfpz+pf6uvre+hD7W/vN+1/8+Pxq/Yr9SP23/Az8hftQ+3/7A/y6/HP9DP5u/pz+ov6R/nv+av5q/n/+qv7n/jH/g//Y/y8AhQDZACkBcwGzAekBFgI+AmECfgKTApoCkgKBAnMCdAKMAroC+gJBA4EDsAPJA8sDuAOWA2wDRAMlAxgDIgM/A2wDnwPSA/0DIQQ+BFoEdgSUBLEExAS/BJsEZAQvBCQEZAQGBQUGQQeICJ0JSQp0CiIKfQnECEQIPgjYCA0KrQtiDdQOuw/7D6MP5Q7/DS8NoQxmDHcMrwzYDMMMTwx2C14KTAmWCH4IEwkqCmgLYQzFDHgMmgt6Cm8JtwhhCFgIgQjRCE8JAQrdCsYLnAw/DZgNoQ1fDewMcAwcDBsMfgw7DSUO/A6BD4YPDA86DlANkQwmDBMMNAxRDDsM3wtRC7gKLAqpCREJSAhGByYGFAVBBNIDzQMlBK0ELwV9BXsFOgXdBIwEWgQ2BPcDgQPPAv8BOwGsAG8AlAAbAfIB9AL7A9METwVIBb8E5QMUA6sC1AJ6A1YEIgW+BTEGlgb/Bm8H2gcqCEgIHQiYB8EGrQWMBIkDxgJMAgQCvgFEAWwALv+j/Q38vvr7+eH5TPri+jT79foT+r/4UPch9nD1UfWw9Vr2Efeo9/73G/gU+Ab4/vf49/T39/cf+I/4VPlb+nH7WPzi/Pf8ovwJ/Fr7xfpp+lX6fvrP+ir7dfuh+5/7cfsa+6n6Ovrs+dT56fkC+uz5gvnJ+Or3H/eX9nH2qvYq98r3X/jP+Az5G/kK+fD46PgD+U35s/kN+ij61Pn7+K33Jva99Mnzf/Pe87T0r/V69tz2wvZF9pf18PR/9Ff0dPTD9Cz1kfXj9Rv2SPZ/9tf2VPfe90z4afgN+DT3//W09KTzCvP78mHzAvSh9Az1MPUe9fP0yfSp9I30ePR09I/0w/T49An12vRs9N/zZvM082zzCfTm9Mz1g/bw9hH39va39m32MPYU9ib2Yva69hf3ZfeX97D3vvfT9/z3O/iD+MH45vjv+On46Pj++DP5hvns+VD6nPq8+q36hvpq+nz6wvoe+177V/v6+lz6qvka+dD44fhB+c/5YvrV+hT7G/v1+rz6gvpc+lH6YvqF+rP66fop+3r72/tC/J/86PwY/TT9Rf1R/WL9ev2e/dD9Cv5B/mb+df53/nP+d/6H/qH+vv7U/uH+5v7u/gL/Kf9l/6r/8/8wAGIAhgCdAKwAvwDmACgBfQHQAQ0CLQI7AkwCZgJ9AnACJQKSAcwA/P9V///+EP98/x0AwQA0AVoBLwHGAEYA2v+b/5P/tf/m/wkAEAD//+P/1//p/xoAXwCkAM0AzwCmAF8AEgDR/67/tP/e/x4AYgCTAJ4AgQBEAPr/vP+h/67/4f8fAFcAcABmAEEAFAD7//7/HwBPAHcAhgB9AGUATwBFAEkAVgBlAHMAfgCGAJIApADBAOkAFwE9AVIBTQEwAQQB2gDIANkADQFTAZIBswGtAYkBVwEwASYBQgF+AckBEAJCAlcCSQIWAsYBbwEwAR4BOgFmAYQBhgGEAagBHQLrAvoDDwXmBUsGNgbNBU0F7AS/BMkEAgV0BSwGKgdWCHsJYgraCs8KXQrBCT0J9wjqCPoICQkeCVEJvQlhCh8LxgsjDBQMnwvqCjEKrAl4CZoJ9AleCrYK3grTCpcKNwrBCUkJ7wjbCCwJ6AnoCvELyQxFDV4NIg2tDCUMswt9C54LIwwDDSkOeA/NEAwSGBPfE1cUfBRVFPcTexMDE60ShRKCEpQSoxKiEo4SaBIsEtsRehETEbEQUxDxD4IPCg+bDkYODA7QDW0NwwzWC8IKvwkICb8I7AhwCRcKpgr4Cv8KwwpeCuoJggk7CR0JGAkaCQgJ1wiQCEII/gfJB6IHjAeRB74HFwiMCP8IUwlvCUgJ3wg/CIEHxAYwBtcFrwWJBS0FdARdAwwCwgDB/y7/Ef9G/5H/t/+N/w3/Sv5t/Z78/PuV+2L7U/tT+1P7UftX+237mvvU+xD8OvxG/DP8Cvzf+8P7wvve+wj8NPxT/F/8V/w8/BX86Pu1+3/7Q/sC+7j6bfom+vD51fnc+QL6N/po+nv6aPow+uX5pfmM+az5/vlq+tD6Ffs0+zf7MPsx+0X7aPuV+8n7+vsp/Fr8jfzG/Ab9Rv2B/bD9x/28/Yr9Q/0C/eH84vzo/Mn8Zfy8++z6Ifp/+SP5HPlq+fP5hvri+sr6IvoB+aL3XfZ+9TH1dPUY9tb2bfe798L3n/d/94P3uvcR+G34sPjC+JT4EPgR94n1iPNT8T3vfu0e7ADr/ukS6Ujot+dp52Hnneca6M3omulQ6sTq4Oqw6lvqAeq26XPpKOnI6Ezovuct57LmZeZZ5ojmz+bz5szmZOYA5vnliean5wzpbOqP62Hs4ewW7QTtu+xU7Ojrgusm683qcuoS6r3phumE6cLpPera6n3rCOxw7MTsIu2y7Ybulu+w8JvxJfI98v3xk/E48RPxNPGR8RTynfIW83TztvPd8+zz7PPp8/DzDPRC9I/05vQ39XT1nvXB9fH1RvbM9n/3SfgK+az5KvqY+g37jvsG/E38Q/zh+zz7gfrc+Wz5Nfkl+R/5G/kl+Vv52Pml+rD71/z1/fH+yf+IAEIB9AGFAtsC7QLYAssC5gIvA4QDsgOSAxMDRgJeAZcAJAAZAHQAJQEaAkgDlwTxBTcHVwhNCSIK1ApeC7MLzAupC1YL2wo+CoIJsQjeByQHogZwBp0GIQfmB9EIwQmiCm0LLAzsDLoNkw5lDxcQkxDJELcQXBC3D8YOkQ0pDK0KSQkoCGkHGAcsB34H4gcpCEEINwg+CIYIIgn2CcIKUAuDC2oLLQv4CuoKGAt7C/QLUwxbDOYL+grBCYUIfwfMBmYGOwY6BlcGjwbYBi8Hjwf6B3AI9AiGCSIKtgosC34LwQsqDOkM+g0eD/sPSBD7DzsPOA4YDfEL4godCs0JBQqmCnoLRQziDE0Nmg3hDT4OuA5JD+YPiBAzEfERvxKCEw4UOxTzEzsTNRIQEfsPGg9/DiUO8w3PDaoNjA2QDdsNgg5/D64Q6BH+EtMTTBRaFAEUZRPCEk4SGhIDEswRQRFTECEP4g3QDBEMtwu7C/8LVAyKDIgMUwwRDPQLIQyaDEMN7w1oDo0OTw6zDc0Mwwu6CskJ+Ag6CHoHswbzBVAF1wSFBEsEIQQTBDgEpgRhBVoGfgewCNQJxQpUC2kLAwtMCnMJogjiBygHaAaiBeUEOwSlAxYDhALrAVABywByAFQAcACtAOgA/wDpALIAbwBCAD4AawC9AB8BfQG7AcsBqQFbAesAVgCX/6n+qv3O/Eb8G/wf/Br89PvU+/z7mPyQ/aH+gv8WAGQAgQB9AF4AKQDn/5z/Rv/b/k3+nv3X/Ar8RfuJ+s/5Cvk0+FH3b/ai9Qr1v/TW9FD1H/Yf9yL4/PiP+cn5qfk6+ZT44vdU9w/3CfcN9972aPbM9Un1BfXt9Nj0sfSb9Nb0hfWT9r/3wvh0+dD53vmi+Sr5mvgi+PP3DPhD+F/4Qfj797z3sPfW9wz4G/je90r3dPaK9cX0TfQ29HH03vRW9bv1/vUh9jD2QfZj9pr22PYF9wH3sPYK9hv1/vPb8trxF/Gd8GTwWvBo8H3wmvDI8BjxkfEq8sryWvPJ8xH0KvQN9L7zVvP98tfy6PIK8wHzm/LM8bPwf+9m7pDtD+3k7P/sSe2m7QLuS+507oTui+6s7gXvm+9W8ATxffGp8ZTxYfE38TPxU/F38XHxGvFi8GLvRu4+7XTsAezo6xrseezZ7B/tRu1h7YXtvu347R3uGO767eLt8O0y7pju+u4f7+TuQe5f7Xrsyetk603rgusI7OTsAu4y7zTw2/Ae8RvxCfEd8X/xRPJi87f0/fXm9jv39vZJ9oP15fSJ9Gj0aPR79J/00/QY9Wb1sPXo9Qn2I/ZP9qL2E/d696n3lPde90r3lPdM+Ff5gfqQ+1H8ovxz/NP79foj+q/50PmU+tP7N/1N/rf+Sf4i/Zr7HPoG+Yr4wfib+fr6nPw+/qX/wgCzAZ4CnQObBHMF+AUfBvsFtAVxBUwFSQVeBWwFVgUCBWwEpAPEAu8BSwHzAPYASQHXAYQCSwM+BGYFqwbGB2gIYgjIB+IGCQZ+BWIFugV2BnYHiQh3CRAKOwoBCoYJAQmoCJ8I7Qh4CRMKiAq6Cp4KPgqxCSEJwQjMCGMJdgq7C9MMcw2FDSMNegyxC+kKQQrdCdMJHgqUCvoKHwv0CoYK6AksCWgIugdGBy8HcQfwB3YI2AgGCQ0JCAkNCSwJaAm9CRoKcwq2Cs8KqgozCmkJaAhqB7YGgQbaBqEHjQhKCZcJZgnhCFcIFwhQCAEJAwobCwMMfgxjDKoLbAraCEIHBgZ/BdEF1AYKCOYICQl6CJEHxgZ0Br0GkAe7CPEJ3wo6C+IKAgr7CD8IGAiJCFgJOwr0CmYLfgswC3gKYgkNCKUGTAUbBCEDbwIWAh4CdwL4AncD1wMYBFoEvwRiBT4GNgcUCKkI2wi4CGUIBAibBx8HfwaxBb0ErQOTAokBswA9AD0AngAlAYEBhAEwAb4AdgCQACIBFwI4A0IE+gQ+BREFmwQNBJsDVAMtAwQDuAI/AqQB+QBaAOH/pf+8/y8A3wCWAQ0CEwKZAb4Ax/8C/7H+7f6b/4QAcAE9AtgCLwMiA50CpgF5AF//l/4+/kb+mP4b/8f/lgCCAYIChgN/BE0FyAXCBSkFEwTJAqUB8ADCAAsBnwFWAggDiQOsA0wDcAJFARMAGP91/i7+P/6i/kr/GgDfAGsBqAGkAYIBZgFZAUwBJAHLADoAjv/1/pX+bP5H/uf9Lf00/Dz7hfoi+v759Pnm+cr5pfl7+VX5OPkm+Rr5Cvn0+Nj4w/jI+PD4N/mC+a35nPlD+bD4+/dK98L2hva39lr3Vvh0+Wr69/r4+nf6qvnf+GL4XvjN+Hv5Dfoz+sX55vj693f3pfd6+KL5qvoz+xj7c/qI+bf4W/it+K/5F/tz/FP9hf0j/YH87PuQ+3D7ePue+9z7LfyC/L78yPyN/Ar8SPtb+mj5ofg6+En4uvhN+bT5rPkh+Tr4Rfeh9or2BvfY95r43/hl+Cr3ffXT86byPvKU8m3zffSM9X72Svfl90H4WPg0+Oz3n/dv9233pfcJ+IL48fhB+W/5hvmc+cL5/vlD+nf6ePov+qL5//iQ+JT4Gvnw+cj6W/uV+5D7c/tf+1r7VPs0+/H6nPpi+m36yPpN+8L7AvwX/B/8NfxR/Er8+PtQ+2r6gfne+Lb4D/m6+Wr65fof+y37KfsU++j6sfqf+t76Y/vm+w38sPv/+lP69fnt+Qz6Ivof+hH6DfoU+hX6/vm++WP5Cvni+An5g/kl+rH68/ri+p/6X/pU+p/6VPt0/Nz9PP8mAEEAgf8t/sH8n/vq+nv6F/qQ+dz4EPhN97r2f/az9lP3QfhI+Sz6u/re+p/6LfrN+cL5Jvrp+tX7tPxc/cH92v2h/RX9UPx8+8X6Qfrh+Yz5N/nz+OP4Hvme+T/6yvoP+/X6kfof+t/58flI+rT6DPtF+237lfvB++37Hvxp/PT85/1b/0EBYQNkBfYG/gebCBoJtwl9CjgLlAs7CwEK9AdmBcUCcgCb/kb9XPzJ+3T7Ovvx+nv65flq+Vv56fkN+4j8//0n/9X//v+8/1D/FP9s/4IALwLtAysFlAVGBbMEZAStBJYF2gYWCOgIHQm6CP4HSAfvBhsHvQeRCEIJkAlqCe8IXgj+B/4HaQgmCQkK7Qq7C28MAg1mDYgNaQ0lDdwMoQxbDPELYgvUCnsKZgpxCmYKMQr9CRoKyAoRDMUNnA9TEbsStxM/FFgUGBScEwITaBLaEVgRyRAFEOgOaA2jC9cJTwhIB94GCgeoB4IIcQliClgLaQymDREPgxDBEYMSphIzElARKBDPDlcN4wuzCv4J1AkDCkYKbQqFCrsKLwvXC4gMHA2TDf8NfA4PD7APUBDjEFoRphGzEW0RvhCXDwgOUAzWCuoJoQmxCbMJXgm+CBgIuge4B/4HXgi0COwI8wi7CEEImAfpBmYGOAZxBvoGkAfYB5MHvgarBc0EfwTXBKYFpQadB2oI+gg7CSUJyghdCAgI0weUBx0HXwaFBc8EXgQYBL4DKQNmArABOgEbAUQBlwH+AWkCxQL4Au0CmwIQAlsBjACp/6n+hv1D/PP6s/mt+AX4yvf392b47fhe+Zr5lflf+RH5xviT+Hj4dviI+Kb4w/jN+Lf4ivhf+E/4U/hC+On3NvdK9mX1vvRl9E/0b/TJ9F/1EfaW9qH2F/Yh9RH0KfN48uTxU/HG8E3w6++F7wHvUu6W7f/su+zb7E/t5u1z7tjuHu9v7/jvxfCr8WLypvJi8q/xyPDs703vBu8e74TvFvCt8C3xlPHx8Ubyd/JC8nDx/u8z7oTsZOsP63DrIuyh7ILssOt26lDpqeiZ6PPocune6S3qbeqz6g/rhOsL7JTsDe1p7aLtt+2p7XrtJu207D/sBuxZ7GjtEu/a8CryovJK8oXx1vCU8N3wjfFo8ibzivN38/3yV/Lb8cvxNvLt8qHzBvT283/z3fJX8inyafL78qzzSvTF9CL1avWe9bf1yvUF9o32VvcW+Hj4Wvjj93D3Sfd+9+r3Xvi6+Pz4Nflw+ab5yPm7+XD58/hq+BD4FPiC+D75FfrU+k37aPsf+4367fmM+Z/5KPrl+n/7tfuG+yH7t/pl+jD6H/pF+qn6LfuK+3r74frv+QX5j/jK+LT5/voz/Ob86fxi/K77KvsD+zT7mPsO/IL83/wV/SX9Iv07/ZP9Kv7Q/kf/Z/87//H+w/7U/ir/tP9WAP0AmQElAqICCANJA1MDIgPFAlgC+QGzAYkBdAFpAV4BSAEXAcUAWgDq/5f/gf+8/0wAHwEWAgsD3QNzBM0EDwVmBfMFnQYfBygHkwaGBV8EggMrA08DtgMJBAkEqQMUA50CkgIaAx0EVAVhBv4GFgfGBlsGHgY/Br4GbAf+BzoIEwizB1oHLAcXB+wGiAb0BVsF3QR6BCIE2gPBAwIEogR4BTgGnwaTBi0GsAVsBZcFNAYPB90HcAjNCBoJewnsCUwKdgplCiwK8QnWCfEJVwoNC/8L+wy2De0NiQ2eDHELXwq7CaUJ9glGCjcKuAkaCc8IEwm3CUUKZQoQCoIJ9wh4COwHQgeRBg0G4gUdBqEGNgeYB5cHJQdlBogFsQTkAxsDfQJUAuUCJgStBdcGKgeNBkwF5gPNAkECPQKLAtoC5QKQAvQBUgHwAAIBjAFhAjoDzAPpA4kDwQK9AbIA1/9N/x7/Lv9K/zD/pv6Q/QX8U/rv+DH4MPil+Cn5dPmI+Z75+Pms+or7N/xG/Iz7N/rW+A/4Qfhb+ej6Xvxl/ez9Dv74/cr9kP1K/ff8nPxU/D/8fPwN/dr9qv5F/37/U//j/mH+2/1C/Xj8gfuY+hr6Sfop+4n8Kf7U/18BnQJTA2QD6AIwAqIBgQHMAUYClAJvAswB5gApAPv/egB2AXYC/wLNAvMB2wAUABQA7wBSAqwDggSmBD8EmwP7AoYCTwJkAsQCWAP2A3MEwQTtBAUF6QRaBBQDEwGj/kz8lfrV+Qn63/rc+5H80Py7/Kr86vyX/Y7+l/9+ACIBZAEpAXYAfv+f/jv+dP4h/9v/PgAUAGb/af5w/cP8jfzK/E793P0//lT+Ff6T/fr8mPzJ/LX9Lv+sAIwBaAFEAI7+1/yT+/X65voe+0r7O/v++sn63Ppb+0b8iP0D/48A5AGpAqgC/gEmAbcAEwE5AskDSwVfBuEG4gaXBjMG3wWsBY8FewVkBVQFYgWmBR8GpAbsBrgG9gXWBK0D1AJ2An8CtALIAoYC8AE9Ab0ApQD2AIEBGwKtAjcDsAP6A/YDpAMwA9cCtgLBAswCtAJ+AkICGgIGAvsB7AHWAcsB3QESAmICtALkAtcCiwIWAqwBiwHhAbcC2wPtBI8FkwUTBVsEugNWAyYDDAPrAq8CTAK7AQgBXgAFADcA/gAfAkYDOwT9BK0FXwb6BlAHSQf7BpEGJgavBQQFEwTtAskB6AB0AHMAtwD+AAkBzABzAFAApAB+AbMC9APxBHcFdAX9BEUElwM3Az0DfwOpA10DcAIFAYn/eP44/t7+IgCCAXQCoQIJAgQBEACf/9D/YQDJAH4AWv+m/QP8+vq8+hz7vPtI/Jj8wfzz/F79Ff77/tH/VwBsABsAm/8q//v+E/9N/3P/Wv8B/4r+J/78/Rj+ev4T/8r/fgATAW8BiQFpAS0BBAEeAZQBPQK3AqIC0gFzAOr+k/2T/Nv7RvvB+kn68fnF+cz5CPp3+hP70Pul/IP9Y/46//X/ewCzAI0AEwBt/8n+TP77/cb9jf01/bj8Jfya+zv7HPtB+5P79ftQ/Jf8zfz8/Dj9lf0i/tf+jP/+//f/cP+e/tD9Qv0C/fH85fy7/G78BfyO+xj7n/oa+or5GPkJ+ZH5nvrI+4z8m/wK/D77pvqN+vX6tPuI/C79if2a/XT9KP2t/A78hft++1f8Cv4aAM8BqQKfAg8CaAHpAI8AKQCF/3v+Gv2R+yP6//gq+J/3ePfz9zj5IfsU/WP+rv4j/lD9xvzC/Cn9qv36/fP9of0z/d/8xvzc/P/8Df0F/QP9M/2p/Vz+J//e/1kAkwCfALAA/QCrAasCqAMlBLsDaQKWAOL+w/1U/Uz9Q/3s/Df8XPu1+oj61fpc+7P7nPso+5z6Qvot+jj6JvrI+Q/5Efj/9hP2ePVC9W/17/W09q33vvi1+Wb6vvrJ+qr6hfpp+lX6Qvop+hf6Ivpi+tz6cPvc++H7U/tG+v744/dU94L3Vvh0+Xf6FPtN+1T7X/uG+7f70fu7+2778PpI+on51/hl+FT4nvgN+WH5fPl4+YP5uPkD+j76XvqK+gn7DvyU/Vr/7ADeAeUBDQGw/0X+HP1B/I776fpo+jj6bPrc+jr7PPvU+ij6gfkm+U35//ki+3f8qv1x/qf+X/7R/UL92vyT/EL8rvu7+nT5Ivgt9+j2Zvdp+IH5VPrD+un66vrX+rX6mPqw+iz7Dvwp/S7+7P5X/43/sP/N/9X/qf8t/2z+n/0p/V79Sv6j//IA4gFrAsUCMAPGA3AEAgVTBVQFFgW7BGwEOgQUBOIDmgNQAysDKQMpA/QCfQLoAX0BbAGvARkCcAKWAo8CfQKQAuICZAPaAwwE8gPJA+IDXQQEBXMFaQXsBEUEuwNvA1IDQQMoAwgD8wIBA0UDwgNmBA8FlAXaBdcFmwVCBegEpgSJBIIEdgQ+BMUDEwNNAq8BaAGUASEC2gJ3A8QDtANzA0IDTAOQA+UDHQQXBNQDXQO6Av8BSQHEAJoA5ACZAZsCwgPoBPAFzQZ7B/0HVAiFCJQIhAhWCBMIzwedB4IHbQcwB60G7AUmBa0EswQ2BfoFqwb7BtAGSQa3BW8FlAUCBmgGggZCBsIFGgVFBDoDBgLrAC0A9f8iAHsA0gAkAZMBOgIbAw0E2ARGBUgFAQXGBOkEhgVpBjMHmAeJBy0HtwY/BsUFPQWrBBgElwMsA9sCrwKyAu0CXgPtA3gE2wT+BNoEdwTlA0EDrwJPAiUCCwKyAd0Ah/8B/rv8FPwi/Lf8gv1D/tz+U//C/0YA9wDNAawCZgPWA+YDmwMPA2gC0gFtAUsBXQGIAawBvgHIAeEBGwJ2AuQCXwPsA5oEbQVdBlAHLwjwCIkJ8QkbCv0JmwkNCW8I0QcwB3YGiwVkBBgD6QEtATAB/QFaA+EEMwYeB6QH4gf7B/0H2gd7B9MG8QUJBVIE5AOrA3MDEwOFAvABjQGIAe8BrAKMA1cE4gQhBSQFCAXoBM0EqQRpBPsDZgPEAjcC3QG5AbQBqwF3ARIBlAA5ADcApgBpAUIC7AJBA0ED/wKaAiwC2QG/AfYBcwIUA7ADKwSJBOEETAXRBW0GFwfNB40ITwn9CX0KwwrUCrgKcArzCTEJJQjhBpMFegTaA9oDeASEBawGpAc+CHMIWwgkCPMH4QfzBxQILAghCOIHage/BvEFGAVQBLQDTQMXA/8C7wLSAqQCbwJNAlcClgIBA30D5gMfBBsE3wOFAykD3QKbAloCGQLiAcUBtwGXAT0BngDi/0f/Dv9V/w8ACwEJAtMCTwOGA5cDogO0A80D5gMBBB4ELwQXBLYD+gL2AdIAvv/f/kf++v3n/fr9B/7u/ZX9//xK/KP7NfsT+zj7iPvb+xH8G/z/+9T7tPut+8P77vsh/FP8fvyh/MP87fwp/Xz95f1c/tT+R/+u/wQAOgA/AAUAhf/N/vr9Lv2M/CX89Pvl++L74vv1+y78ivzq/B/9E/3N/HD8Efyt+y/7g/q3+d74DfhG9332qfXR9An0aPMC8+jyIvOt8330afVG9ub2L/ce99H2ePY99j32ePbX9jT3dPeM94r3hveU98P3Efh2+OX4V/nM+Uj6xvo7+5r74vsi/Gn8qfy+/Hr8yPu7+oX5XPhe95D24vU/9Z70/vN08xrz//Ip84jzBvSR9Bv1ofUl9qb2Kfep9yH4hvjQ+Pr4BvkC+fj45vi/+HH4+vdm99j2cfZD9lT2k/bv9lT3sff/90L4jfj6+JD5PPrM+gz74fpb+qr5+/hh+Nf3T/fD9jf2rPUm9Z/0GvSb8zHz7fLd8gzzgfM29Bb1+/W79jP3TPcR96P2MPbf9cj14/UX9jb2FPae9dj04vPw8jPyy/G+8f/xbfLs8mjz3vNd9PD0l/VC9tD2Ivcm99f2N/ZR9Tb0+/LE8a/w3e9e7zfvV++o7w/wffD28ILxL/L78t7zxfSh9WP2BveF9+L3HPg4+Db4Gvjq97D3b/cv9/H2vPaX9on2n/bj9lr38PeM+BP5ePnJ+Sj6t/qT+7j8Df5i/4QATQGyAbkBfQEZAaQAKwC4/0z/5/6H/iz+1/2T/WL9Rf0z/SP9Hv0t/Wn93P2F/k3/FgDCADkBcAFvAT8B9ACXADIAw/9O/9T+XP7t/Y79Qf0C/dH8uvzT/DP94/3T/uL/5gDEAWUCyALwAu0C2gLQAuUCIQN3A9IDFwQtBBAEwgNYA+0ClAJWAjACFgL2AckBjQFNARQB8wDvAAYBLwFaAXoBiQGLAYQBfQF5AXkBfwGXAcwBMwLbAsgD5QQQBh0H5AdTCHAITAgGCLYHagcqB+wGqQZXBvMFfQX2BGEEyQM7A8QCbQI5AiECHgIoAjkCTwJpAokCrQLUAvgCEAMUAwID4QK+AqgCpQKsArcCyQL4AmYDLARWBdQGgQgsCqkL3wzNDX8O/w5KD1wPMQ/YDmoOCA7GDaMNig1PDdEMFgxDC50KWAqKChsL2guQDBgNYQ1zDV4NOg0KDdEMggwWDIkL3wofClEJegieB8gGEAaaBXYFmgXTBd4FhQW+BLoD1gKIAjcDEQUGCMUL6A8KFOMXQxsbHnUgfSJkJFUmXChYKvsr2SyKLNYq2ycJJPEfBRxqGP4UfBG6DbgJqQXaAaP+Rfze+lj6dPrY+iz7Kfup+rP5bfga9//1UPUi9WL11PUz9kX2AvaY9Vj1ivVX9rv3lPm6+wf+YQC4AgQFQgdzCY8Lig1XD98QDRLQEhsT5hI7EjMRAxDzDjsO9w0UDlwOlQ6TDk8O3g1mDQwN4QzeDOUMzQxwDLcLogo/CagH+gVMBLICNAHc/6f+kf2V/LD75fpD+tz5w/kB+oz6UPsq/Pz8t/1e/v/+nP8lAHkAcADx/+f+Uf0w+5r4t/XG8gHwj+16663pDeiI5h3l4OP14oHimuI+41bkuuVB58boMup065Lsm+2r7tDvC/E98jvz2PP385jz5fId8onxW/Go8V7yX/OJ9Lf1w/aN9/T35vdp95b2k/WJ9JfzwvL+8THxRPAr7/jt0+zr62jrV+up6zvs6+ym7XTuXe9r8J3x8PJY9Mz1NPd8+Iz5U/rP+gz7Jfs6+2r70Ptt/DH97f1s/o3+XP4a/iP+xf4ZAAgCTwSeBrMIWwqGC0EMsAwBDVQNqA3bDcUNTQ2BDI0Ltwo3CjMKqQp6C28MTw3tDTQOGw6zDRcNgQwvDFYMDA04DpoP6BDeEWESeBJNEhcS+hEBEhQSCRK0EfoQ2g9sDtMMNwuxCUwIAQfFBY8EWwMtAhQBHwBh/9/+p/66/g7/jf8WAIQAvwDGAKQAawApAPP/2//6/00ArQC9AAwAP/4z+x/3ifIv7t7qSOnU6YzsIfED9439JgRpCikQehWNGoMfQiRjKGErzSx0LGoq7yZSItwc3haeEFAKCAS3/UX3sfAi6vXjoN6c2jzYitdB2N7ZztuO3dner99J4PLg5+Ey47TkMuZw50XooOiQ6EnoJ+iU6PTpguwx8L/0sfmH/t8ClgbFCa0MfA83ErUUuxYYGL4YuBgqGD4XFBa/FEkTtxEREGoOzwxJC90JjwhiB2gGvwWGBb4FMwZ6BiIG5ATFAgkA//zc+bT2gfM+8Pvs2ekI577kIuNB4hPiguJ64+jktObC6O3qF+0p7xrx8fK49HT2Efhj+Sb6FfoG+fP2+PNa8HPsuuid5WLjAOIk4Wvgot/e3mXebt7w3qvfSOCH4Fzg89+W35bfIuBA4b7iUOSo5ZTmFOdS53nnl+eS5z3njOao5dbkUuQp5DrkTOQw5N3jcOMo4z3jwOOH5FTlAOaU5lLnd+gm6lns7O6t8W/0/vY3+Qb7bPx7/VP+E//Q/4sAMwGkAcUBlgFCARMBWwFhAj8E3QbtCRcNBhCKEpcULRZXFyUYrhgbGY0ZHBq8GkMbchsJG/EZUxiTFjAVjhTRFMkVFBdCGAIZQBkqGRsZahlMGsIbph20H58hFiPZI80jEiP9IfwgcCCHIC4hFSLNIvQiZiJEIekfux4GHuMdNx7CHjcfUh/wHgIelxzHGrwYrRbaFHcTkRIJEpsREBFMEFcPUQ5oDcUMkwz3DPgNfA9GEQUTaRRFFY0VVxXQFB8UWxOBEngRJRB7DoUMbApqCLEGXgVrBMYDaANXA60DeAS3BUUH8wiNCvgLMA1BDjsPGBCoEJEQbw/tDAIJBQSu/uj5lPZQ9Un2TPnR/TsD+witDioUeRmuHtUj3CiILXgxLjQvNSE05jCrK+AkIx0YFTsNxAWi/qH3nvCw6SnjgN0l2WjWaNUI1uzXh9ow3VPfkODW4FrggN+53mTeud633zrhAuPT5IzmM+j06R3sBu//8iP4Tv4XBfQLXxL+F7EchiCcIxsmFCiAKUcqQCpIKVgniiQZIVUdjRn+FdUSOhBJDh4NvwwbDQUONQ9fEDQRdRH8EMEP2g1xC60InQU6AnH+Q/rR9VjxKe2N6bTms+SC4wjjKOPI49vkXuZQ6KvqXu1U8GTzX/YV+Vf7+vzm/Qb+VP3U+5j5w/aP8zrwEO1Q6iXomuaa5QHlq+R95GXkTuQT5Jfjx+Kv4XbgSd9T3q/dYN1V3XXdod3F3dbd193V3eXdHN6O3lDffuAv4mXk/uaz6TfsU+767z3xNPLk8jbz+vIF8lHwGu7N6+npvehC6DroUOhU6ELoMuhC6JDoK+kT6kTrr+xI7vjvpPEp82j0W/UY9s32rPfY+Fr6HvwD/ub/rAFXA/QElwZNCBcK7wvDDZQPahFcE3wVvBf3GfQblx3jHvwf/yDyIcIiViOgI5AjGCMnIrkg5h7gHOcaJRmcFy4WoxTHEokQEQ66C+UJ0wiGCNAIdglRClgLmwwlDvoPAhIYFA0WxRc0GVwaORuyG6obIxs/GjMZJRgYF/UVphQmE4YR5Q9fDg0N8wsMC1gK4wnKCSMK5QraC8EMbQ3fDTAOaA5vDhcOSg0cDLoKVAn+B7MGWwXpA2QC5gCi/77+TP44/lf+hf63/vj+XP/s/5sAYgEyAgUD2AOpBHcFPgb/BrMHTQjCCAoJLAkzCSEJ2wgoCL8GbwQsATP98fgD9frxRfAY8GLx5vNT91X7tf9LBP0Iqg0mEjgWrBlVHBEeqh7lHZUbwBetEsMMZQbM/wr5LPJE637kEt492DzTU8+2zHjLdstbzL3NRM+/0CrSmdMn1ePWxNix2pPcbN5V4GvixORU5w/q9+w68Br0yvhX/pQENgveETsYCR4bI2onCCsYLp8wfDJnMxUzbDGhLiArZyfbI7QgBh7RG/8ZcRgFF5wVKhSxEj4R2w+RDlQNBgx6CogIJgZwA4QAbf0R+kz2EfKI7f7ozOQ34WPeXdwq28DaDtv522HdL99L4Zfj6eUP6ODpRutU7C3t9u3E7pLvPfCX8Hvw3+/e7qLtTezv6oTpGejT5uLlaOVk5b7lVOYL58vnc+jd6N7oWuhU5+flQOSX4hzh59/83lXe99353XPedd/y4MfivuSs5m3o8uk260HsFu267S/udu6X7p3ujO5m7hjuhe2S7DnrqOk36Fvnfufb6Gvr6e7v8gX30/oj/uwAOgMYBYgGgQf3B+QHRAchBpsE8AJsAVIAvv+b/7v/8/8wAIYAEAHtASUDrARdBhcI0QmYC3wNcw9JEcESsRMsFGMUmBT1FIUVOhb+Fr8XeRg8GRcaFxs1HFsdah5GH9gfBiCwH8MeQh1JGwYZoxY/FOYRpg+QDbYLKgr3CA8IVAefBtEF8QQvBMkD7wOiBL0FCgdfCJsJowpbC7cLwgumC40LgQtqCyMLlwrdCTEJ4QghCQgKegs7DQYPrBAhEm4ToxS4FZgWKhdnF1sXFxewFjAWlRXVFN4TpRIpEXUPmA2bC5EJnwf2BbgE5QNMA60C3wHhAOH/Ef+e/oz+uv7z/gf/6v66/qn+2v5Q//D/qQCCAY0CzQMfBUQG7QbmBhcGkASGAk0AQv6w/NX7yfuG/On9rv+JAT4DtwQPBmwH6gh7CuUL2AwRDWMMygpfCE8FuQG0/T/5W/QT74HpyeMS3orYXNO4ztHK1MfkxRLFP8UnxofHNck5y7bNudAr1OPXx9vk313kOulh7przuvix/ZoCpQf6DKUSgxhHHqIjYiiILDYweDMyNjI4RTlgOaE4RzeONaAzdjHjLr8rCCgDJBIgjRyRGRAX5hQBE18R/w/XDtQN6QwTDE0LlArRCe8I1weBBuUEBgPiAHj+w/vG+JT1VvJF75nsc+rT6KHnxOYv5uXl9uVr5jrnR+he6VbqGuu962jsP+1W7pvv7fAs8jvzBvSG9ML0z/TJ9MP0tPR49Orz+/LC8XTwSO9h7sbtZu0l7ebsmewz7LbrJOuB6s3pDOlF6Inn7eaJ5mvmkObl5lnn4eeL6GDpWepT6xvsjOye7GjsD+yz62nrROtJ63rryese7GbsnezW7C/ty+277gTwlPFU8yn1Avfb+Lj6l/xs/h8AnQHWAsgDcgTXBBMFWAXzBS8HLQnhCwUPQRI6FbMXkxnjGsMbRxx/HGocDhyAG9gaMBqXGQwZfBjXFxQXRxaeFTUVEBX+FLgUExQQE+YR4xBNEEMQuBBxESwSuhIVE1ETgxOqE7ETfxMKE1sSjBG3EO8PMA9qDo8NpgzeC2oLagvTC3QMFw2UDdsN8Q3hDboNig1eDTsNJg0fDR4NDw3TDFwMuAsTC6oKrwosCwwMIQ08DkEPHBDTEHARAxKYEi4TtxMaFEYUQxQqFCIUQRSFFNcUIBVYFXoVfBVUFfEUVRSYE+MSXBIfEi0SbBKqEroSexLuESURKRD3DoUN3gsoCo0IIQfQBXIE5QIpAWH/w/2O/On7zfsU/IP88PxO/ar9Cf5Y/n7+c/5U/j7+I/7Q/fv8kPvG+Qn4yvZN9qH2qPcv+fz62PyT/gIABQGBAWkBzwDX/6r+Xv3i+w36wvf29LvxK+5a6mfme+LV3rLbOtlz10fWjNUj1QHVNtXj1SjXD9mD20/eN+EI5KzmNunS66nuyPEP9Uz4Yvtc/l4BggS9B/QKIw5sEfgU1xjZHKkg7SNrJhIo4ijuKFEoMifDJTQkriJKIQkg1B6KHRAcXhqRGNEWRRX4E+MS6hH1EPEP3w7NDc0M4Qv9CgkK/wjoB8IGdgXFA2sBRf5q+jH2BvJM7kLr/ehp52DmtuVU5TPlSeWO5e/lYubp5pDnXehN6VnqbOt57Hbtae5l73HwgvFw8hHzXfNv83/ztPMN9HP01/RC9cn1cPYW94H3c/fD9nH1n/OT8Y/vu+0d7KbqVOlA6IjnMucZ5/vmrOYl5ofl9+ST5GfkaeSW5N3kK+Vp5YLlZOUC5WTkoOPb4jniyeGF4VzhSOFg4cnhq+IZ5AzmaegE66/tSPC38vb09/ao+Pv5/vra+8P81P3+/igAYQHbAsIE8AbmCBgKTwrUCVYJeAmRCoYM9Q5mEYETLhWOFswX4BiFGVMZBRi0FcIStQ/xDKIKtAjxBiEFKQMaASH/Zf3z+7D6Zfni9yX2ZvQQ85PyJfOv9M/2Bvnt+k38Lf23/Rf+V/5h/h/+rv1q/cr9Jf9+AX0EiAf/CYMLJgxcDLAMWA0TDl4O3w2qDDEL7QkhCbsIewgTCGEHhgbdBbcFGwawBu8GeAZUBeYDsAILAgUCbALrAjIDHwPMAnICPwI6AkICNgIJAtIBrAGsAdQBHwJ9AtsCHwMwAwYDugJ4AmwCpAIJA2gDkANrA/4CbALiAXQBEwGPALX/hf40/RP8W/sM+wP7Jft6+yb8Rv3K/msAugE+Ap4Byf/3/J75RfZW8xrxt+9B77vvGvE389H1ivj6+sr84f1c/of+o/7F/tT+qf4f/iX9t/vf+ab3I/Vs8ojva+z76CnlB+HX3PrYytWA0zbS5tF60tPTwNUE2Gza0tws35DhKOQg55TqjO7o8nP3+PtSAHQEbwheDGoQwhSDGbkeTST5KWovQTQyOA87zDx8PUg9azwgO445ujeSNfoy5i9nLLEoBCWkIb4eWxxpGsYYWRcXFvUU2BOMEtwQvg5UDOUJqAesBdID3gGc/+r80Pl+9i3zEPA97a/qaeh95v3k6+Mw467iWuJS4sTi1uOF5a3nF+qP7Obu9/Co8vbz+/Tv9Qz3gfhc+oX8yf7rALMCAgTWBD4FVwU/BQUFrwQ6BJ4D4QIGAhMB+/+i/vD85vqp+Gr2WPSG8unwaO/v7X3sK+sh6oTpXemN6eLpJuo76hfqwulB6Zro1Of+5i7mgeUU5QDlPeW55U/m6OZ95xnoz+iv6cHqDeyd7X/vv/Fl9Gz3wfpD/sUBFAUBCHMKdAwoDr4PVRHuEoEUBxaUF0wZQxt/HeIfOyJUJAcmSScoKMAoGCkkKc0oCCjrJpklLiStIgohPh9VHWkbmBnxF3QWExW3E04S2xBoDwwO1AzBC8oK6gktCaIIUQg2CDgIRQhJCEUIPwhKCHMIvgghCZEJBgqDChMLvwuKDGgNTA4oD/APoxBGEdcRUxKnEskStRJ8EjcS6RGMERERfxD6D7APww83EOoQsxFqEvcSVBOHE5oThhNBE7wSBhJIEawQShAUEOYPrw+BD4MP2w+QEIIRghJeE/MTOxRMFD8UKRQFFMYTZxP8Ep8SaBJREkESFRK0ERERQRBhD5MO2g0fDUgMVwt6CvAJ5glTCg0L6gvXDMYNpQ4/D1cPuA5PDTYLqAj6BXgDWwGz/3v+sP1a/YH9G/4C//7/6QDFAZ0CcAMlBJIEnQRIBKkDxgKTAe3/tf3q+qX3F/R98Azt7Okw593k9uKC4Y7gGuAe4IngQuE64m7j5OSp5sboN+vp7cHwpfOF9mP5TfxT/34CzAUlCXQMuw8XE6YWdRpmHkQi3SUVKeArNC7vL/IwHTFrMPIu3CxfKq0n6yQtInUf0RxOGgAY7RUKFEUSkBDtDmkNCgzTCrQJlwhkBwwGnwQzA9QBZgCh/jP8+vgY9ebwy+wN6c7lC+Oz4MDeM90j3KPbvttk3HDdwN484NvhpeOZ5bLn5eki7FruhPCd8qb0m/Zq+AX6Xvt8/HH9TP4X/9H/cwD3AFYBiQGMAVoB7AA7ADv/0f3o+3P5gfZG8//v5OwM6n7nQOVg4+jh3OAh4JPfCN9k3qfd5NxE3OTbzNvo2xXcRdyL3P3coN1T3uDeHd8D37bebN5g3rXec9+I4NfhUOP35NvmBelh69LtOvCM8tH0EfdR+ZH7zf0CADACTwRRBi8I3wlsC98MRg6qDwgRURJ7E3wUVRUQFrMWPhejF7wXRhcAFtQTAREMDpEL6gkMCZoIKAh3B4gGhQWeBPcDkANTAxYDswIaAlABbACB/5H+m/2N/Fv7//mI+Az3s/Wh9Orzl/Od8+rzevRJ9WH2vPdJ+eb6bvzK/fH+7P/MAKQBdwJCA/QDggToBDAFdAXQBVQG8waIB/AHMwiBCBgJCAohCwwMhQx7DA8MagumCsEJsQh2BxYGqwRTAyECDQH6/8f+hf1s/Mz71Pt4/H/9pf6+/8QAzwH6AkwEpgXMBnMHcwfQBr4FfwRQA0UCVwFiAEn/Bf61/I37tPo4+gn6DPox+mn6mPqY+jj6XPkJ+Fr2gvSv8hDxzO8B77ju5O5b7+3vc/DW8BTxP/Fp8Z/x3/Ed8kHyNPLm8UbxQfDB7rDsCOrS5injPN812zrXZ9PGz2PMVMm5xr3EfcMGw03DP8THxdnHaMptzdjQltST2LXc3eDz5OXouex+8EX0AfiQ+9f+6AENBZ8I1gyfEaoWhRvLH0Aj1SWdJ7YoLyn5KAQoVCYOJHghzh4uHJsZBhdxFOMRcQ8tDSILUAmxBzgG3gSeA3sCcgF0AHH/Tf71/GL7k/mU92/1H/Oe8OHt9Or75yXlqOKh4B7fGt6H3Vfdhd0T3gDfSODa4aDjheWC55bpu+vm7QjwEfIE9Nr1ivcD+Tj6M/sU/A79Qf6w/0IBzAIiBCYFzwUiBi0G7AVMBTcEogKbAEf+0PtV+e32nvRq8lrweO7W7H/rd+qz6RnpkugN6IvnIufz5hrnoOdw6GbpWuo06+vrgez/7Gztye0T7k3uf+677hDvf+/673Hw7/CY8Z7yH/QU9lf4uvoc/Wz/ogG9A7oFmgdfCR4L7AzpDioRsRNgFg0ZfhuJHSIfWCBVIUIiMCMRJL8kFCUAJY0kwyOnIj0hlx/OHf4bLBpNGE0WMxQlEmMQNA/CDg8P6A/8EPwRvhJOE9gTfxRDFf4VfhafFlcWsxXHFKwTfBJRES0Q/w6jDQMMMApkCOYG6wV2BWsFqAUeBtcG5AdMCQEL1wyTDv4PCBHDEVwS7RJ0E9gTChQVFCIUYhT6FOcV9xbXFz8YJxjRF5sXwhc7GL8YAhneGFkYmxfAFt4V7RTcE5sSNxHVD6kOzw03DbsMRQzWC4YLYgtaC0oLIgvqCsEKxQoCC2wL4wtGDHoMdAw6DNsLagv2Cn8K+glUCYkIqQfbBkgGAgb7BQgGCAbtBb8FfgUfBZYE7ANLA94CvgLfAh0DYgOzAysE3QTMBdcGzQd7CLgIdwjFB7sGcwXyAyYC+P9M/RX6YfZG8vLtkOlQ5VrhyN212jXYUdYO1WfUXNTr1A7Wp9eR2ajb792L4KfjTOdT63vvlPOi98j7JgDEBH0JHw58En8WLhqwHSYhlSTWJ7UqDy3rLm4wsTGrMjozNTODMi8xWi82LegqfCjnJRUjFSAZHWkaLhhsFvcUnxNJEuwQlw9aDjgNJgwJC8UJWwjiBngFJATFAjABQ/8D/Z/6V/hi9tj0sfPI8u/xEfE/8JjvP+8+74bvBPCm8GnxTfJT83f0tvUG91/4uPkF+0H8bP2F/pH/kgCGAWsCOgPrA3gE3gQdBTcFMAUFBbEELQRzA30COgGe/579T/vb+HT2N/Qm8i/wPe5T7ITq8+jA5/7mp+ak5tfmPefe583oAupQ63vsUu3I7fvtE+427nTuzO4s74bv2+838LbwZvFJ8lDzbPSY9df2KPiC+dX6Hvxh/bH+LQDtAfsDUQbXCGgL2w0MEOoRfBPhFDMWfxe4GMUZkholG5Ib8RtGHIkcnhxpHNsb9RrJGXgYHhfQFY0URhPoEWEQsA7mDBsLagnlB5EGbAVzBKUDCAOeAm0CbAKEAp4CrQKtAqYCnwKaApAChAJ+ApIC2wJzA1oEcQV+BkEHmAeQB1QHFAfrBtYGxga0BpsGfwZpBl8GZgZ/BqIGvga9Bo0GLwapBREFewT4A5IDRQMPA+kC0wLMAtYC7wISAzQDTwNeA2YDcAN/A5oDugPWA90DwQN2A/cCSQJ6AZcAvv8B/3X+Hv7q/cr9tf20/c39Af4z/j7+B/6K/dT89/sC+/75+vgP+F73BfcT94j3T/hC+TT67/pD+xH7TfoI+WP3hvWW877xKfAL74bupO5E7zPwPfE/8irz9/Oe9BT1P/UM9Wb0SfO98dbvtO1z6x7psuYa5EfhLt7j2oTXOtQh0VTO5MvkyWjIe8cjx1nHC8gcyXXKCMzYzfHPYNIo1UPYpdtB3wvj7ObG6oLuDfJt9bj4Ffys/5YD1gdTDN4QPxVFGckcrR/bIUkj+CMAJHgjbSLgIM4eOxxCGQoWwxKXD6EM9gmlB7MFHgTbAtYB9AAbADT/LP7//Lr7aPob+dr3o/Zq9Rv0ofLx8Avv+uzU6rbou+b+5I7jdeK14U7hN+Fy4fbhwOLM4xblkuY56P7p0uup7XTvK/HC8jT0f/Wi9p73dvgx+dr5d/oQ+6b7Nfyx/A39Pv07/QX9m/z7+yb7HPrf+HH31/Ua9EHyW/B67qzs+ups6QHoveal5cTkIuTL48HjAeR75CHl4uW35pnngOhe6Sjq0+pi69/rVuzN7Ezt0+1e7vDui+828P3w5vHv8hP0SvWR9ub3Sfm4+jT8vv1V/wIByAKkBJAGhAh2ClgMGg6qD/8QHBIVE/8T8BTtFe0W3heqGEAZmRm0GZcZQxm5GPkXBxfsFbUUcBMfEsIQVw/lDXoMHgvaCbQIsQfUBh8GkAUaBbYEYgQrBB4ERgSpBDsF7wWwBnMHMQjtCKUJUQrjCkwLiQutC9cLIgyYDDEN1w1qDtsOKg9tD8IPOxDTEHMRAxJuEq0SxRK3EoYSLhKpEfcQLxB0D/QOyQ7xDlUP1A9NEKwQ6BADEQER3xCaEC0QpQ8TD48OIg6/DVEN0QxNDOELoQuKC5ELqQvUCxoMfgz2DG8N2g0zDn8OzA4lD4oP7w81EEkQJRDbD5MPbA9xD5sPzw/pD88PcA/GDtgNsAxYC9sJRAifBv8EdAMPAtcA0//8/lf+5v23/dT9Pv7m/q3/bQAIAWQBdgFEAc8AFwAX/8H9HPw8+jj4G/bT80bxZO4y68/nZ+Qg4R3eg9tx2QXYVddd1w7YStnr2sjcw97B4L7ix+Tv5k/p8OvN7tjxBfVP+L/7Xv8sAyUHNwtKD0YTGxe4GhIeGCG0I80lUidDKK0ooig1KHUnayYdJZEjyyHYH78dihs7GdcWZRTuEYgPQg0xC14JyQdpBjAFFwQeA0ECcgGTAIX/J/5w/Gn6KPjI9WbzF/Hr7uzsKeuz6Zno5OeW56fnB+il6HPpaeqB67Ps7+0b7yHw7/CI8fvxYvLT8l/zCfTP9KX1g/Zm90n4H/nb+Wn6wfrp+ur6zfqI+gz6T/lP+Bj3u/VK9NbyafEL8Lrucu0k7MbqT+m+5x3mfuT74q7hpODp33zfYN+c3y/gDOES4hbj9uOe5A7lUOV05YnlmuWw5dflFOZp5uDmgeda6Hrp6+qm7KXuzfAG8zP1Qfcj+dj6ZfzO/R//XwChAe8CUATIBU8H2whhCtcLMw1pDnQPURACEYkR6REeEikSExLsEcoRuxHCEdoR7hH0Ed4RohE/EbEQ9w8MD/ANqQxJC+UJlAhlB2UGmAUIBbYEpATMBCUFpQU4BtEGZQfqB18IxAgWCVoJkwnGCf0JPwqTCvsKdwsFDJoMMQ3FDU0Owg4VD0IPUQ9eD4UP1A9IEM4QYRECEr8SmxOCFFUV8xVCFkIW/xWQFQ4VgxTwE0oTlxLoEVER3hCGEDcQ6Q+mD4UPlw/eD0gQuBAUEUwRXxFbEVERSRFDETwROhFQEZwRLRL/EvUT7hTNFXwW9BYxFzgXEBfFFl4W5RVjFeIUZxT1E4YTDhN7ErcRsRBfD8kNBQw2CoEIBAfLBdQEEwR/AxQD1gLQAg8DkgNLBCEF8AWWBvMG9AaJBqkFWASbAnoA+P0V+9v3YvTP8E/tBuoJ51rk9+He3xbestzI22jbiNsK3MfcqN233gvgvuHa41fmIOkd7ELvivL29YH5Gv2lAAUELwc0CjENOBBHE0UWERmbG+Ad8R/cIa0jXSXWJvgnoyjIKG0omCdcJsMk1SKdICsenxsgGdsW6hRXExQSDBEjEEgPaA50DV8MIQu0CRcIRgZBBAYCnv8T/Xv68feX9YTzzPF28H/v4e6W7pDuv+4M72Tvwe8x8M3wpfG78gT0bPXf9lH4vPke+3D8rP3D/qb/UADFABIBPwFTAUkBIQHbAIEAFwCl/yf/mv73/Tj9Yvx4+3/6c/k/+M/2EPUE873wXu4W7AbqROjL5ovldOSB47XiF+Kv4XfhaOF54aDh1uEb4m/i0uI+47PjMuTA5GflMOYh5zfobOm36hPsfu397o/wKfK08xH1MfYQ98H3YfgK+c/5uPrD++j8G/5b/58A5QEiA0wEWgVGBhMHwgdWCM0IKAloCY8Jpgm3CcoJ4gn6CQgKCQr9CeUJuglpCdsI/gfRBmkF4QNWAuYAqf+t/vr9jf1i/XD9rf0T/pP+Hv+f/wEAMgAkAN//dP8J/8P+wv4V/7X/jQCEAXcCSwPoAz4ESQQPBJsD+gIyAk0BXwCM/+3+l/6G/qf+5f4u/4H/1f8iAF0AcwBUAPT/Uf90/nD9Yvxl+5H6/Pmz+bj5/vlo+tj6PPuR+9f7DPwe/Pr7k/vs+hv6QvmB+PH3pfeb98/3N/jI+Hj5PPoD+7z7VfzF/AH9Av3C/EL8nPv6+on6cfq4+lD7E/zV/Hf95f0c/hz+3/1U/WH8/Po1+S/3H/U/87rxqPAJ8NPv+u928ELxU/KN88z03/We9uz2uvYK9ur0c/O48c/vve2B6xvpkuby41Lhyd5s3ETaS9h61sfUMdPD0ZHQsc8xzxnPc89P0LbRsdM21j3Zr9x64IjkwOgE7TPxMPXh+D/8Wv9QAlAFcAi2Cw8PXhKJFYAYQxvOHSAgJiK/I8MkFSWqJIkjwyFpH5ccdxlJFkwTsRCTDuoMowujCtEJFAlUCH4HfwZLBdsDMgJZAGP+aPyD+sn4PPfd9Zr0bPNR8lHxdPC97yTvl+4C7lntn+zw63frX+vE66zsDe7L78Lx1/P29RD4Jfo0/Dj+HgDTAT0DTwQNBY0F7AVEBqsGJQewBz8IvggaCUUJPgkFCZsI9Af4BpEFtwN5Af/+dfwF+sz30/Uf9KjyXvE48C/vSO6Q7Rbt2ezP7OHs9+wI7RftM+1w7d/tjO5275DwyPEJ80X0d/Wl9tT3/vgN+u36ifvm+xj8Qfx+/PD8tP3h/n8AhQLRBD4HpQnxCxwOIhD+EaYTEBU0FhAXsRcqGJcYExmsGW0aThtCHDcdHx7wHpwfECAyIOofIx/gHTccThpXGHoW0BRhEyUSFRE3EJEPLA8IDxQPOA9aD18PRg8YD+0O3A70DjgPog8vENgQnxF/EnoTihStFdgW9xftGJ8Z9BniGWwZphi0F7gWzRX/FFMU1BOQE5oT+hOjFHoVURb/FmIXahccF40W0xUDFTAUYxOqEgwSkRE7EQwRCBEzEYYR7hFBElMSAhJFESoQ0w5oDQkM0QrNCf8IZAj4B7sHtgf0B30IRQkvChYL0wtRDIoMigxmDDQMCAzwC/QLGgxfDMoMWw0NDtoOsQ96EBgRZhFGEZ4QZQ+pDX8LDAlwBssDRAH7/hD9jvtz+qr5HPmw+FH49veT9yH3l/bz9Sr1PfQq8/fxqPBC78ztSOy56hfpXud75Vrj5+AL3s7aSte/03LQo815y/3JK8n5yFzJS8q5y5bNz89T0g/V8tfo2und6+Do4+Tm4uny7B3wZvPM9kj61P1sAQwFnwgBDAgPkRGNE/wU5RVMFjQWpxW0FHUTCBKJEBAPqQ1UDAoLwwl6CCoH0wVyBP8CewHp/0z+sfwl+7P5ZfhI9132qfUo9cz0gvQx9Lrz+/Lh8WLwhu5l7Cjq+ucL5n7kYuO34nXileIg4x7kjOVQ5z7pL+sE7avuE/Ap8d/xOvJK8jfyKPI+8pDyIvPp89T00PXM9rb3b/jP+LD4+vew9u303vKt8ILudOyT6uboc+dA5k/lnuQk5MjjduMX453i9+Eg4Rrg9t7P3cvcCtyj26PbCtzQ3OvdQ9+64Dbim+PW5Nflk+b75hPn8ObC5sDmE+fP5+/oYuoa7AjuH/BP8n/0m/aK+Dr6nvuw/Hf9//1b/qP+/P6M/2gAjwHkAkIEnwUJB6IIfQqGDI8OWxC4EZAS7BLmEq4SbBI7EikSMBJFEmESeBKKEpUSmBKTEnsSShL0EXUR0xAfEHMP6A6XDogOtQ4MD3oP/w+wEKMR4xJeFOoVWxeMGGoZ8RklGhwa+BnmGQ4agxpAGy0cLh0qHhgf+x/cILwhhyIWI0Mj9iI7IjUhCyDgHsYd0hwbHLgbtRsOHK0cdx1KHg0fpB/8HwAgpx/tHuIdrhyGG6UaMRo1GqAaThscHPUc0R21HqIfgyAyIXkhMCFEINQeGx1mG/4ZCRmKGGYYexizGAMZZhnMGSIaWBplGkcaBRqfGSoZxxinGPgY0BkgG8YclR5mICQivSMcJSYmvCbEJism+yRSI2YhcR+iHR8c/hpNGg0aKhqFGvQaYhu/GwkcNxw1HNgb6hoxGZMWIxMqDwML/gZCA8r/cfwQ+Z31KfLr7hrs3ek06ADnE+ZL5Z7kGeTS4+njeuST5TfnWenb66TuofHF9An4Yvu8/v0BBgXBByoKZgysDjERERQ3F3IalB1/IC4jriUEKCEq4ysRLX0tEi3cKwEqvCc1JZEi4h84HaoaVBhTFsIUphPmElsS4xFmEdAQAxDUDhoNzAoQCCgFVwLN/5j9tPsP+pf4SPci9ir1YvS+8ynzjPLU8f/wGPA774vuJe4f7oTuUu+G8Bjy7/Pt9en3v/lT+4z8Xv3B/bf9Tv2i/Nf7FfuC+jT6KvpV+pr60/ro+sb6cPrp+TH5N/jc9gb1s/IL8EntqOpJ6DbmbOTr4rfhzOAd4JffKd/J3mve/N1h3YXcYdsL2qvYcdeD1vrV4dUx1tnWvte+2MHZvdq628Dcw92k3jzfcN9H3+TegN5P3nneCd/13yfhjuIl5O7l5ef76Q3s8u2B76TwXfHJ8RHyVvKi8vbyUfO/8030/vS/9Xr2Hvev9zf4u/gv+Xf5fvk8+b74Gvhv98/2O/am9QP1W/TP84jzpvMl9Nv0j/UF9hr2wfUK9Rf0EPMU8jfxhPD/763vkO+k7+3vd/BP8XPyxvMR9Qz2g/Zs9uH1H/Vm9O3z0fMY9K/0bPUj9rz2Q/fo99P4E/p++8n8rv0D/sz9If0j/Pf6uvmG+Hb3l/b09Zf1jPXb9YP2dveJ+Ib5L/pN+s35zPiJ91T2XvWm9Ab0VPN78ozxqfD375bvk+/t74TwGPFb8QjxC/CB7rrsCeuz6dbocOhn6Jno7+he6e/pqOqL64bsfu1G7r/u1u6L7vbtNu1t7L3rPesF6yvry+v+7NLuN/H/8+b2qfkR/PX9Nf+t/1H/M/6Q/L76DPm39+H2lvba9qb36viK+lX8Df5u/zsATQCa/yz+Kvy7+QH3DPTo8JvtNOrS5pnjsOAu3hDcR9qs2CHXj9X202zSGdEu0M7PBtDG0PbRgdNg1Z7XStpe3cjgWuTa5xLr4u1Q8HryivSt9v74iftQ/ksBbwSsB/oKUQ6tEQAVMxgXG4YdXB+NIBwhFyGOII4fIx5cHFQaNBgtFm0UERMiEowRMRHwELAQZRAFEIEPrw5UDT0LYQj2BF8BEf5h+3v5aPgM+DT4l/jp+Pf4t/hN+PD3yvfi9yH4YfiN+Kj4xvgP+aH5j/rR+0z90/4/AH0BjwKMA5YEzQU/B9cIXQp9C/QLsAvRCqoJjQiwBygH6wblBgwHZQcBCOEI6AnMCioLsAoxCcEGoQMyAOj8Nfp++PH3gvjp+bj7fP3f/rr/EgATAN//dP+t/lz9gfte+Xb3U/Zf9r73RvqU/RcBPgSLBsEH7AdRB1QGRgVaBKIDGgPLAtYCeAP2BGwHtwppDukRqRRaFgUXAhfUFuYWYhcfGM4YMxlTGXwZIxqnGyAeUSGwJIknQCl8KU4oKia7I6ohYCDpH/4fMSAfIJkfvx7gHVcdUB24HTseax70Hbkc7RrzGEAXNRb3FWUWLRfuF2MYfxhpGGcYvBh/GY4amxtNHGocBRxtGxIbRRsLHB8dER51HhkeFB2+G5Aa/hk/GkAbpxz1Hbwewh4VHgMd7hspG9Ea0BriGsYaYBrGGTwZDBlgGTIaOxsXHGocChwSG9cZvxgjGCMYqhh4GTwarhqpGiwaVxlUGEwXXhacFREVwxS6FP8UlBVwFnMXahgZGUoZ3xjjF4kWJRUQFIkToRMqFNEUNBUJFTcU3BJJEdUPyQ46DhcOLQ5NDlEOLA7eDXMN/Ax/DPELLQsFCl8IVAYwBFoCKQHEABAB0gG6AoYDCQQzBA8ExAOBA2gDdgOLA3sDJQOIArsB7AA/AMP/bv8s/9v+cP7z/Yn9Zf20/Yf+x/8yAWUC+AKWAiEBw/7l+xD5wvZJ9bj08PS29cz2A/g/+XP6ivtu/Pz8EP2b/K37evpK+W34H/hx+Er5dfqt+778hf38/Tf+WP6D/sL+7v7G/g3+s/zv+h75m/eR9vf1l/U09aj09PM/877yl/LK8iTzT/P38uTxEfC27TDr7+hS54HmZ+az5hPnU+eA583ngeiz6UzrBO147lvvhe8N70Xuoe2Q7Vfu++9F8s30I/fs+Pv5YfpX+h/66fm1+Wz58Pg7+Gr3uPZh9on2Jff095f4s/gX+Mn2AfUN80Hx1O/d7j/uve0C7dPrIuoZ6ALmNOTu4kfiL+KF4iTj/uMb5Xvm/udb6S3qG+oF6Q/npORW4rPgJ+DQ4IXi4eRn56HpSetM7Mbs9uwd7Wzt7+2U7jrvxe8s8H7wy/Ae8Xjx0fEe8lbyePKM8pryqvLC8try4fLC8mryxvHQ8JrvVO5E7anspews7QzuCe/277HwK/FN8QTxNvDb7vfsoOoE6HDlSOP24cnhzuLL5EnnwunB6//sbO0f7U/sOusX6g/pN+id503nXufn5/bohepv7HPuSfCz8Y/y3fLF8n3yN/IT8hfyNPJa8nbyhfKM8qHy2/Ja8yn0P/V/9rv3yviQ+QL6KvoU+sr5Ufmo+M330/bX9Qj1kPSP9AX12vXb9tH3ivjo+OP4j/gF+GL3uvYR9mz1yvQ39MXzjPOd8/vzkfQ+9dH1KvY39gH2pvVK9Q31/fQX9Ub1aPVX9Qn1l/RB9Ej00fTK9QP3Rvh++aj6xfvG/JH9Cf4i/t79SP1z/IP7tfpT+p76sft1/Z7/yQGeA90EbAVWBcEE4QPlAu0BAQEaADf/bP7s/ez9jf7K/3MBTAMbBbQGAgj4CJoJ5gnhCYoJ6QgNCBAHDwYwBZsEdwToBPgFlgeICYILOw18DjAPXg8iD54O3w3oDLwLdwpXCagIrwh/CQEL5gzRDmgQaRG8EXURvxDQD9cO9w1JDd4MxQwNDcUN8A6IEGMSRhTgFe0WRxf6FjcWRhVtFNgTlBOQE7gTBxSTFHcVwhZgGBwatxv/HNsdSR5YHice2x2UHWUdQh0UHcMcThzSG4obuxuYHC4eVSCyItgkayY5J0Inrya/JakkjSN1ImIhVCBiH7Iebh6tHm0fmyAJIoMjyiSiJeAlfSWSJFEj7iGZIHIfix7uHZgdfx2RHbsd9B0+HpweCR93H8sf8B/VH3Ifxx7SHZQcFRtpGa4XGhbhFDcUOBTiFAoWahetGIcZ0hmNGdwY7hfxFgoWXBUKFSoVvhWtFsoX2xiuGSAaJhrJGSIZRxhMFzsWJxUnFFMTtBJGEvQRrBFiERgR6RDsEDMRtBFIErUSxhJfEoERRhDbDmYN/AujClQJEQjzBhMGfgUtBf4E0ASPBB8EXgMfAj4Axf3t+hb4m/W0823yqfE68fjw1/Dl8D3x7fHl8vHz1/Rh9Xj1KvWl9CX07PMs9PP0Lfam9yL5bPpp+xz8nPwI/XH93v0+/nv+hf5a/gf+pf1D/ez8k/wj/I772/ot+q35cPlq+XT5afk4+d/4V/iP93b2EfWB8/TxlvB675vu6O1L7cLsbOx57AXt++0B75rvU+//7brr4ejz5XLjwOEX4XXhqOJi5EzmGuiX6bTqf+si7LTsJe0+7b/slOvp6SfowuYd5l3mb+cT6fPqxuxh7rDvsPBb8Z/xYfGN8CbvUO1P63fpG+hp52fn5+eh6D7pcukJ6QfooOYs5QHkS+P54svic+K64Z3gTN8W3k7dI92Q3WHeOt/L3+jfnd8k38few94d36nfE+AE4FLfIN7T3PPb8Nvz3M/eF+FH4/Tk8+Vi5ovmveYp58/njOg06a3p+uk56qbqguv77BfvqPFU9LP2bfhT+W359/g8+Ij39/aF9g/2e/XM9Cz03vMi9BH1fvYD+Cj5jfkj+R/43va79e/0f/RK9Bv0uvMT8zrydPEQ8UjxGPJC81j08/TY9Br0DfMz8vjxl/Lv86L1OPdN+L74pfhP+A34FPhf+Lj43vie+P73Nveo9rT2pfeD+RH8zv4hAZIC8wJ3ApABvwBkAJMAJQHNAUQCcwJ6Ap0CGwMIBDgFUwb3BuIGDQa4BFMDTQL2AVgCQQNYBD8FrwWNBfgENASTA0UDRgNaAy8DlAKZAYQAxv/D/6kAXwKGBKQGTAhMCa0JoQliCR0J4gipCFsI3wcoBz8GUQWdBFgEpAR4Ba0GCQhUCW0KSgvxC2oMrQyfDBgMAQtfCWwHjwVEBPMDxgSRBvAIaAuTDTwPVBDlEAURyhBGEH8Pcw4jDaYLLwoGCXYIrwi3CV8LTQ0cD3gQPBF7EWURKBHVEGUQug/MDqUNagxJC3cKJQpvCkkLdwyWDUYOVA7IDdsM2AvwCi8KdwmfCI8HUAYmBWkEcARfBR8HXwmmC38NjQ6pDuYNhQzjClMJCggWB3AGEQYLBngGegcTCSILYQ1wD+wQiREmEeMPGg5IDOwKWAqdCowL0QwTDhUPzQ9VENsQfxE/EvMSYRNcE9gS9BHsEAMQbQ8wDy8PPg83Dw8PzA6JDmUOew7XDmUP8w81EPUPIg/oDZYMhQvsCtcKIwuXC/QLGAz8C8ELjwuMC8ILEwxKDCoMjAtvCgUJrAfJBqsGaAfWCJQKOwxxDRAOIw7cDXgNIg3pDL4MiQw+DN4LegspC/sK9AoMCzALUAtjC20Lcwt4C34LdwtWCwgLewqsCaIIgQdzBqQFLwUUBTsFeAWmBbQFsAW/BQYGkQY/B80H8wd/B3AG9wRvAzICggFtAcYBOQJsAikCZQFTAEb/nP6X/kf/hQD7AUsDKQR2BD0ErAP4AkkCrAEaAX4A0P8X/3T+GP4w/tD+5f85AYECegP+AwYEpgP/AikCOQE3AC3/I/4t/Wn89Pvm+0L88/zG/YX++/4J/7T+Ff5c/bP8Mfzb+5z7V/v4+n76Afqq+ab5CfrJ+rr7l/wh/S79w/wI/Dv7nvpV+mX6r/oC+z/7YvuK++r7qfzH/Rr/SAD0ANMA0f8T/vf77/lh+In3b/ft98344fkK+0j8l/3p/g8AzQDkACUAkf5b/OL5ovcK9l31kfVp9n73d/gm+ZD55flX+v76w/to/Jv8I/z/+mz50fef9iP2bfZK91z4RvnM+eP5uPmJ+Yn50/lR+tj6KPsU+5f61/ka+an4t/hF+S36LPv/+3z8m/xw/B78v/tc++j6SPpt+Wz4e/ft9g33//em+a37nP0J/67/g/+0/o79Yvxl+6X6Cvpt+bP46PdB9wn3g/fJ+LX67fz3/mQA9ACoALv/jP5w/Z/8G/y6+0j7nPq++df4LPj792n4ZvnD+jP8Yv0b/kP+5/0u/UH8Pvs6+jT5L/g091/23fXW9V/2XveN+JH5G/oD+mP5gvi791v3gfcU+NH4ZvmY+Vv53Pht+Fr4xvia+Yb6MPtM+8r60Pmt+MP3X/ee92j4ePl3+iL7X/tG+w/79foh+4n7/Ps0/Pr7RftJ+lr5wvis+Az5tPls+gn7hfvx+3H8Ff3T/Xr+0P6j/uX9sPw/++b5+vi0+B/5D/ot+x/8rvzY/Mj8wfz1/Hv9N/7z/nT/kP9C/6z+Bv6T/Xv9x/1j/iP/5f+PACYBwQFzAkQDGgTJBB8FAQVzBJ8DwgIQAq0BoQHiAV0C/wK/A50ElgWhBp8HYQipCEUIFwcsBbsCJgDc/T78ifvF+8b8Qf7f/1sBkAJvA/cDJQTmAx4DuwHH/3H9D/sI+br3YfcC+G35SPss/cL+1P9UAFoABQB//9z+J/5i/ZX80fs6+/P6HvvC+838Dv5D/zQAxQD5APQA7QAUAYIBLwL0AqQDFgQ3BBMExgNzAzMDDQP7AvAC3wLMAsEC0gINA3AD6wNeBKYEqQRdBMsDGgN2AgICyQG5AaUBawHwAEIAhf/n/pT+n/73/nX/5/8mACYA8f+l/2H/Ov8x/zX/J//x/on+Av57/R79CP06/aP9If6R/tv++v73/u3++P4u/5X/IQC6AEUBqQHfAfAB7wHrAfAB8gHbAZQBDwFUAIr/3P53/nP+zv5n/xMArQAkAXMBpAG0AZ0BSQGrALv/jP5D/Rj8P/vf+gP7m/t4/Gn9N/6//vj+8P7G/pP+Xv4V/qH95fzl+8X6vvkT+fT4bPlc+oj7qPyB/fv9GP73/br9ev1C/Qr9w/xh/Oj7bfsU+/z6OvvG+4P8Rf3b/Sn+Kf7w/aX9af1R/Vz9eP2O/Y79ev1j/WX9k/33/YH+DP9z/5X/bf8H/4r+HP7e/dT98f0X/ib+Ef7e/aP9fP17/aH93/0l/lf+Zf4+/t/9VP2s/Pv7VPvB+kr69/nM+dX5GPqU+j77/Pux/Df9df1l/Q39hfzs+1z77Pqj+oP6iPqp+ub6Pvut+zP8wfxF/a396f3z/dD9kP1G/Qn95fzh/Pf8If1R/YH9qv3Q/fT9G/5H/nT+l/6m/pj+c/4//g7+5/3F/Zj9TP3X/D78nPsY+9r68/pa++n7bvy6/Kz8SPyo+/r6ZvoM+u/5Avoq+lH6aPpw+nX6ifqz+vH6MPtX+1D7E/up+ir6vPl++YH5vPkV+nD6u/oB+1j72/uN/F/9MP7a/kP/Z/9U/yX/9/7X/sr+yv7V/ur+Df9C/43/9f9/AC0B7wGrAj4DiwOBAyQDkALyAWwBFAHlAMIAiAAeAIb/3v5Y/if+Zv4K/+7/2gCiAS0CdwKNAn4CVgIWArQBJgFrAI3/rP7z/Yr9jf38/cP+s/+WAEQBpAG9AaUBdAFCAQ8B1ACBABIAkP8T/8H+uP4K/63/eQA5AbsB6AHGAX8BQQEyAVsBrQEGAj4CPQIEAqkBWgE3AVQBrAEfAoUCugKwAnMCHwLdAcgB5gEoAmkCiQJyAiYCvgFfASkBLQFkAbQB/gEmAiQC/gHIAZYBdgFlAVkBPwEQAc0AiQBeAGQApAASAZAB9wEmAg8CuQE/AcUAaQA5ADAAOwBCADMACwDX/63/n/+6//D/LwBbAGEAOQDz/6P/Y/9B/zr/Qf9D/zX/E//h/rH+mP6l/tj+Iv9m/4r/jP98/37/rf8SAJ4AOQHLAUUCpQL2AkIDlwP7A2kE0wQoBVsFawVhBVAFUAV0BcQFNwbEBlMH1gdECJ0I8AhJCa0JFAplCoEKVArjCUUJmwgICKYHfgeIB7QH7wcmCFYIfQieCL0I2gjvCPMI3QihCD8Iwgc9B8QGYQYUBtEFkAVTBSIFEAUpBXEF3QVWBr0G+Ab9BssGbQb+BY8FLQXkBKkEdAQ0BOgDlwNfA18DqQM9BP0ExAVlBsQG1AaeBjoGwgVPBesElgRMBAkEywOWA3MDbAOFA7gD/gNGBIIEqQS7BLsEtgSwBK0EqwSdBHsERAT/A70DiANsA2kDeAOPA6QDrwOrA50DjwOWA78DEgSGBAkFhAXfBREGHQYLBu0F0AW4BaQFjAVtBU0FMwUrBT4FcQXBBR4Gdga0BtAG0QbLBtcGCgdlB9oHTQihCMUIuAiMCFoINgglCCUIKggzCEYIbAixCBgJoQk6Cs8KSgubC7gLqQt+C1ALPwtqC+ELlwxvDUEO8Q5/D/UPbhD4EJMRKhKmEvMSBhPqErsSlBKKEqMS2hIcE14TjROnE64TsBO+E+UTHxRUFGYUOhTFExETPBJpEbQQLRDRD5MPWw8cD9cOjQ5MDhgO8w3UDaoNYg3wDE8MjwvNCigKtgl9CW8JcAlhCSoJzQhaCOgHiAczB9cGVwakBb4EvQPBAu8BXgEWAQYBFAEiARYB5QCSACYAtf9F/9j+Z/7m/U39m/zf+zD7pfpJ+hv6DfoG+vD5vvlz+R751Pij+I/4jPiM+Hz4Vvgb+Nj3n/d792/3dPd793j3ZvdP9z/3Qvda94P3uPf290H4ofga+az5T/r1+o77CPxY/IH8iPyB/Hv8iPy0/AL9cP3z/YL+Ff+m/zMAuwA+AbkBJgKBAsYC9gIUAygDOwNXA4IDtgPrAx4EUASSBPYEhgVEBhgH7AekCCwJdwmDCVMJ8AhmCL8HAQczBlcFewSwAwwDnQJsAngCtAIMA2gDswPbA9sDsANdA+wCXwK9AQUBOgBm/5P+zf0j/Zr8NPzu+8H7nvt8+1H7H/vs+r/6l/pm+hv6ofnt+P733PaW9T304vKd8XvwjO/a7mjuL+4i7jDuSe5k7nfudu5Q7vTtU+1y7F3rMOoL6QjoPue55nPmYOZp5nnmeuZg5izm6+Wy5ZLljuWT5YTlTOXk5FnkweMy47fiU+L+4azhV+EC4brgiOB14HzgnuDd4DPhleHn4Qvi9+Gw4Unh0uBP4LrfE99j3sDdQ9363O/cId2F3Qzeo94z367fEOBh4Kfg4eAC4fngvuBc4Ozfi99M3z3fXt+w3yvgvuBQ4cvhIOJS4m7ihOKi4s7iBONA433jueP740nkpOQI5WzlxeUO5kXmduar5vLmWefk55DoV+kv6gnr2+uZ7Drtu+0k7nvuyO4N71Lvnu8G8JjwVPEm8vfysfNQ9Nr0V/XF9SL2dvbQ9kr3+Pfc+Oz5Efs0/EL9Lf70/pf/GgCGAN4AJQFlAasBAQJ2AhID0gOsBJEFcwZFBwYIsQhCCbcJGApzCtEKNwuUC9gL+Av7C/QL9wsPDDsMdwy4DPsMQQ2MDd8NQw61DjQPtA8pEIUQwRDcENsQyhC0EKEQlBCOEJAQlxCoEMgQ+hA8EYgR1REeElwSjRKsErQSqRKREnUSWhI/EiUSCBLiEbcRjhFxEWYRaRFtEWgRVBE/ETwRWhGXEeYRMxJoEnoSZRIsEtgRcxH/EIUQCRCUDy8P2w6XDmEONw4jDjEObA7QDlUP6g97EPMQPhFTES4R3hBxEAYQuA+aD7UPChCMECURwRFJErES/BI4E3UTvhMOFFoUmxTTFAoVQxV1FZUVohWsFcYV+hU8FnsWqhbUFg4Xbhf4F54YRhnZGUMafxqQGoIaXxouGvEZqhlcGRQZ2xi3GK0YuxjfGBEZRxl3GZMZkxl4GUMZ/BimGEkY5heGFycXzhZ6FikW3xWfFXMVZRV8Fb8VJRaeFhgXgBfKF/AX9RfbF6YXWRf7FpMWKRbCFWYVGxXfFLQUlRSFFH8UfxSCFHwUZxQ/FP4TpxNBE9ASWhLhEWYR7RB1EAUQmA8zD88OaQ7+DZANHw2vDEEM3guKC0gLDQvRCoUKJQq4CU0J8wizCIkIZggxCNQHRgeLBrYF4QQeBHsD+wKYAkwCEgLkAb8BoQGEAVsBHwHEAEUAp//x/jD+df3R/Er85vuf+2r7Qvsj+wr78PrJ+or6N/rb+Yr5V/lB+UL5SvlP+Uz5P/kx+SL5DPni+Jz4P/je95j3hfeo9/b3W/jJ+DP5k/nh+RX6LPom+gj61PmR+Uj5AfnP+Lf4vPjU+On47/jb+LH4evg++Aj42/e796j3n/eh96b3sPe397r3s/ei94b3X/cv9/T2tPZ09jj2Cvb29f71IvZb9p322PYJ9y33SPdW91z3W/dW91H3UfdW92P3d/eT97j35vcb+Ff4k/jM+Pz4I/lB+VX5aPl7+ZH5rPnJ+eX5//kX+i/6QvpR+lz6Yfpi+mj6d/qR+rf65foU+0H7aPuN+7H71fv3+xH8Ifwo/Cn8KPwh/BX8\" type=\"audio/wav\" />\n",
       "                    Your browser does not support the audio element.\n",
       "                </audio>\n",
       "              "
      ],
      "text/plain": [
       "<IPython.lib.display.Audio object>"
      ]
     },
     "execution_count": 378,
     "metadata": {},
     "output_type": "execute_result"
    }
   ],
   "source": [
    "ipd.Audio(trimed_signal,rate=sr)"
   ]
  },
  {
   "attachments": {},
   "cell_type": "markdown",
   "metadata": {},
   "source": [
    "PRUEBA DE LA APLICACIÓN DEL CORTE"
   ]
  },
  {
   "cell_type": "code",
   "execution_count": 294,
   "metadata": {},
   "outputs": [
    {
     "name": "stderr",
     "output_type": "stream",
     "text": [
      "C:\\Users\\Juan\\AppData\\Local\\Temp\\ipykernel_916\\1587896153.py:3: FutureWarning: get_duration() keyword argument 'filename' has been renamed to 'path' in version 0.10.0.\n",
      "\tThis alias will be removed in version 1.0.\n",
      "  duration = librosa.get_duration(filename=audiofile, sr=sr)\n"
     ]
    }
   ],
   "source": [
    "#procesamiento del audio\n",
    "for fruit, group in audios.items():\n",
    "    for i, _ in enumerate(group):\n",
    "        trim(audios[fruit][i], processed[fruit][i],0.295)"
   ]
  },
  {
   "cell_type": "code",
   "execution_count": null,
   "metadata": {},
   "outputs": [],
   "source": [
    "audio = processed['naranja'][6]\n",
    "plot_audio(audio)\n",
    "audio = audios['naranja'][6]\n",
    "plot_audio(audio)"
   ]
  },
  {
   "attachments": {},
   "cell_type": "markdown",
   "metadata": {},
   "source": [
    "VAMOS A PROBAR ENTONCES AHORA, CON LOS AUDIOS PROCESADOS EL TEMA DE LAS MEDIDAS AGREGADAS."
   ]
  },
  {
   "attachments": {},
   "cell_type": "markdown",
   "metadata": {},
   "source": [
    "RMS: Aparentemente no se diferencian demasiado entre sí los grupos respecto de la razón entre el valor rms y la máxima amplitud de la señal. Aunque sí hay valores parecidos en un mismo grupo de audios, entre grupos los valores también son parecidos, sobre todo con las bananas, las naranjas y las manzanas. En cambio sí se nota un poco mas de diferenciación de las peras respecto de los grupos mencionados, teniendo los valores de RMS mayores. Otro problema que se puede notar que es que dentro de un mismo grupo hay fluctuaciones del RMS dependiendo de la intensidad de la persona al decir la fruta y del tipo de voz."
   ]
  },
  {
   "cell_type": "code",
   "execution_count": 416,
   "metadata": {},
   "outputs": [
    {
     "name": "stderr",
     "output_type": "stream",
     "text": [
      "C:\\Users\\Juan\\AppData\\Local\\Temp\\ipykernel_916\\1587896153.py:3: FutureWarning: get_duration() keyword argument 'filename' has been renamed to 'path' in version 0.10.0.\n",
      "\tThis alias will be removed in version 1.0.\n",
      "  duration = librosa.get_duration(filename=audiofile, sr=sr)\n"
     ]
    },
    {
     "name": "stdout",
     "output_type": "stream",
     "text": [
      "+---------+--------------+---------------+--------------+--------------+--------------+--------------+--------------+--------------+--------------+--------------+\n",
      "| Field 1 |   Field 2    |    Field 3    |   Field 4    |   Field 5    |   Field 6    |   Field 7    |   Field 8    |   Field 9    |   Field 10   |   Field 11   |\n",
      "+---------+--------------+---------------+--------------+--------------+--------------+--------------+--------------+--------------+--------------+--------------+\n",
      "|   pera  |     0.23     |      0.21     |     0.22     |     0.28     |     0.20     |     0.23     |     0.29     |     0.32     |     0.25     |     0.21     |\n",
      "|   pera  |  pera1.wav   |   pera10.wav  |  pera2.wav   |  pera3.wav   |  pera4.wav   |  pera5.wav   |  pera6.wav   |  pera7.wav   |  pera8.wav   |  pera9.wav   |\n",
      "|  banana |     0.14     |      0.29     |     0.17     |     0.16     |     0.15     |     0.16     |     0.26     |     0.17     |     0.26     |     0.15     |\n",
      "|  banana | banana1.wav  |  banana10.wav | banana2.wav  | banana3.wav  | banana4.wav  | banana5.wav  | banana6.wav  | banana7.wav  | banana8.wav  | banana9.wav  |\n",
      "| manzana |     0.13     |      0.26     |     0.15     |     0.15     |     0.14     |     0.15     |     0.24     |     0.20     |     0.16     |     0.13     |\n",
      "| manzana | manzana1.wav | manzana10.wav | manzana2.wav | manzana3.wav | manzana4.wav | manzana5.wav | manzana6.wav | manzana7.wav | manzana8.wav | manzana9.wav |\n",
      "| naranja |     0.15     |      0.25     |     0.12     |     0.15     |     0.15     |     0.15     |     0.21     |     0.17     |     0.15     |     0.11     |\n",
      "| naranja | naranja1.wav | naranja10.wav | naranja2.wav | naranja3.wav | naranja4.wav | naranja5.wav | naranja6.wav | naranja7.wav | naranja8.wav | naranja9.wav |\n",
      "+---------+--------------+---------------+--------------+--------------+--------------+--------------+--------------+--------------+--------------+--------------+\n"
     ]
    }
   ],
   "source": [
    "rmss = dict.fromkeys(fruit_types)\n",
    "for fruit, audios in processed.items():\n",
    "    rmss[fruit] = []\n",
    "    for audio in audios:\n",
    "        signal,_,_ = load_audio(audio)\n",
    "        audio_rms = np.sqrt(np.mean(signal**2))/np.max(signal)\n",
    "        rmss[fruit].append(float(audio_rms))\n",
    "print_dict(rmss)"
   ]
  },
  {
   "attachments": {},
   "cell_type": "markdown",
   "metadata": {},
   "source": [
    "COMPAREMOS AHORA RESPECTO DEL VALOR MEDIO DE LAS SEÑALES.\n",
    "Como ya lo podiamos anticipar, el valor medio de todas las señales es cero."
   ]
  },
  {
   "cell_type": "code",
   "execution_count": 417,
   "metadata": {},
   "outputs": [
    {
     "name": "stderr",
     "output_type": "stream",
     "text": [
      "C:\\Users\\Juan\\AppData\\Local\\Temp\\ipykernel_916\\1587896153.py:3: FutureWarning: get_duration() keyword argument 'filename' has been renamed to 'path' in version 0.10.0.\n",
      "\tThis alias will be removed in version 1.0.\n",
      "  duration = librosa.get_duration(filename=audiofile, sr=sr)\n"
     ]
    },
    {
     "name": "stdout",
     "output_type": "stream",
     "text": [
      "+---------+--------------+---------------+--------------+--------------+--------------+--------------+--------------+--------------+--------------+--------------+\n",
      "| Field 1 |   Field 2    |    Field 3    |   Field 4    |   Field 5    |   Field 6    |   Field 7    |   Field 8    |   Field 9    |   Field 10   |   Field 11   |\n",
      "+---------+--------------+---------------+--------------+--------------+--------------+--------------+--------------+--------------+--------------+--------------+\n",
      "|   pera  |     0.00     |     -0.00     |    -0.00     |    -0.00     |    -0.00     |    -0.00     |     0.00     |    -0.00     |     0.00     |     0.00     |\n",
      "|   pera  |  pera1.wav   |   pera10.wav  |  pera2.wav   |  pera3.wav   |  pera4.wav   |  pera5.wav   |  pera6.wav   |  pera7.wav   |  pera8.wav   |  pera9.wav   |\n",
      "|  banana |    -0.00     |     -0.00     |    -0.00     |    -0.00     |    -0.00     |     0.00     |    -0.00     |     0.00     |     0.00     |     0.00     |\n",
      "|  banana | banana1.wav  |  banana10.wav | banana2.wav  | banana3.wav  | banana4.wav  | banana5.wav  | banana6.wav  | banana7.wav  | banana8.wav  | banana9.wav  |\n",
      "| manzana |    -0.00     |     -0.00     |    -0.00     |    -0.00     |    -0.00     |    -0.00     |    -0.00     |     0.00     |     0.00     |     0.00     |\n",
      "| manzana | manzana1.wav | manzana10.wav | manzana2.wav | manzana3.wav | manzana4.wav | manzana5.wav | manzana6.wav | manzana7.wav | manzana8.wav | manzana9.wav |\n",
      "| naranja |    -0.00     |     -0.00     |     0.00     |    -0.00     |    -0.00     |    -0.00     |     0.00     |     0.00     |     0.00     |     0.00     |\n",
      "| naranja | naranja1.wav | naranja10.wav | naranja2.wav | naranja3.wav | naranja4.wav | naranja5.wav | naranja6.wav | naranja7.wav | naranja8.wav | naranja9.wav |\n",
      "+---------+--------------+---------------+--------------+--------------+--------------+--------------+--------------+--------------+--------------+--------------+\n"
     ]
    }
   ],
   "source": [
    "means = dict.fromkeys(fruit_types)\n",
    "for fruit, audios in processed.items():\n",
    "    means[fruit] = []\n",
    "    for audio in audios:\n",
    "        signal,_,_ = load_audio(audio)\n",
    "        audio_mean = np.mean(signal)/np.max(signal)\n",
    "        means[fruit].append(float(audio_mean))\n",
    "print_dict(means)"
   ]
  }
 ],
 "metadata": {
  "kernelspec": {
   "display_name": "Python 3",
   "language": "python",
   "name": "python3"
  },
  "language_info": {
   "codemirror_mode": {
    "name": "ipython",
    "version": 3
   },
   "file_extension": ".py",
   "mimetype": "text/x-python",
   "name": "python",
   "nbconvert_exporter": "python",
   "pygments_lexer": "ipython3",
   "version": "3.11.5"
  },
  "orig_nbformat": 4
 },
 "nbformat": 4,
 "nbformat_minor": 2
}
